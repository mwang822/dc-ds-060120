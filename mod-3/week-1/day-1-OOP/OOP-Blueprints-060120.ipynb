{
 "cells": [
  {
   "cell_type": "markdown",
   "metadata": {
    "cell_style": "center",
    "colab_type": "text",
    "id": "tevYHP-_8og5",
    "slideshow": {
     "slide_type": "slide"
    }
   },
   "source": [
    "# Intro to Object Oriented Programming"
   ]
  },
  {
   "cell_type": "markdown",
   "metadata": {
    "slideshow": {
     "slide_type": "slide"
    }
   },
   "source": [
    "__What is programming__?\n",
    "\n",
    "<img src='img/programming.png' width= 400>"
   ]
  },
  {
   "cell_type": "markdown",
   "metadata": {
    "slideshow": {
     "slide_type": "notes"
    }
   },
   "source": [
    "[Images Source: p174](https://www.py4e.com/book)\n",
    "__If this program doesn't run in your notebook don't try to fix it__\n"
   ]
  },
  {
   "cell_type": "markdown",
   "metadata": {
    "slideshow": {
     "slide_type": "slide"
    }
   },
   "source": [
    "## How is/was programming structured?"
   ]
  },
  {
   "cell_type": "markdown",
   "metadata": {
    "slideshow": {
     "slide_type": "fragment"
    }
   },
   "source": [
    "[Programming Paradigms](https://en.wikipedia.org/wiki/Programming_paradigm)"
   ]
  },
  {
   "cell_type": "markdown",
   "metadata": {
    "slideshow": {
     "slide_type": "skip"
    }
   },
   "source": [
    "[Imperative vs Declarative Programming](https://ui.dev/imperative-vs-declarative-programming/)"
   ]
  },
  {
   "cell_type": "markdown",
   "metadata": {
    "slideshow": {
     "slide_type": "slide"
    }
   },
   "source": [
    "## Some popular Languages and Their Programming Paradigm\n",
    "\n",
    "* Procedural: Just a bunch of code (runs downward) \n",
    "  - C, Lisp, Fortran \n",
    "  - GOTO\n",
    "* Functional: more mathematical\n",
    "  - Haskell, OCaml, [scala](https://en.wikipedia.org/wiki/Scala_(programming_language))\n",
    "* OOP\n",
    "  - Java, [Python](https://en.wikipedia.org/wiki/Python_(programming_language)), JavaScript"
   ]
  },
  {
   "cell_type": "markdown",
   "metadata": {
    "slideshow": {
     "slide_type": "slide"
    }
   },
   "source": [
    "## What is object oriented programming\n",
    "\n",
    "Object-oriented programming (OOP) is a programming paradigm based on the concept of \"objects\", which can contain data, in the form of fields (often known as attributes or properties), and code, in the form of procedures (often known as methods)."
   ]
  },
  {
   "cell_type": "markdown",
   "metadata": {
    "slideshow": {
     "slide_type": "fragment"
    }
   },
   "source": [
    "- Uses the concept of \"objects\" & \"classes\""
   ]
  },
  {
   "cell_type": "markdown",
   "metadata": {
    "slideshow": {
     "slide_type": "fragment"
    }
   },
   "source": [
    "- Ides: Class =  a mold or blueprint"
   ]
  },
  {
   "cell_type": "markdown",
   "metadata": {
    "cell_style": "split",
    "slideshow": {
     "slide_type": "slide"
    }
   },
   "source": [
    "<img src='http://www.expertphp.in/images/articles/ArtImgC67UTd_classes_and_objects.jpg' width= 450/>"
   ]
  },
  {
   "cell_type": "markdown",
   "metadata": {
    "cell_style": "split",
    "slideshow": {
     "slide_type": "fragment"
    }
   },
   "source": [
    "- Attributes of Cars:\n",
    "\n",
    "    - Weight, Color, Make, Year, Num_Wheels, Engine\n",
    "\n",
    "\n",
    "- Methods of Cars:\n",
    "\n",
    "    - Move_left, Move_Right, Speed_Up, Break, "
   ]
  },
  {
   "cell_type": "markdown",
   "metadata": {
    "slideshow": {
     "slide_type": "slide"
    }
   },
   "source": [
    "## Creating A Class"
   ]
  },
  {
   "cell_type": "markdown",
   "metadata": {
    "slideshow": {
     "slide_type": "fragment"
    }
   },
   "source": [
    "\n",
    "- A class is an abstraction that helps programmers reuse code. \n",
    "- Code reuse is important because it frees us to solve interesting problems while allowing us to forget the details of the classes we use to solve a problem.\n"
   ]
  },
  {
   "cell_type": "markdown",
   "metadata": {
    "slideshow": {
     "slide_type": "slide"
    }
   },
   "source": [
    "### An Example"
   ]
  },
  {
   "cell_type": "code",
   "execution_count": 16,
   "metadata": {
    "slideshow": {
     "slide_type": "fragment"
    }
   },
   "outputs": [
    {
     "data": {
      "text/plain": [
       "7"
      ]
     },
     "execution_count": 16,
     "metadata": {},
     "output_type": "execute_result"
    }
   ],
   "source": [
    "class Student():\n",
    "    ## let's define an init method\n",
    "    ## init method allows us to construct objects in an efficient way\n",
    "    def __init__(self, name, last_name, week):\n",
    "        self.name = name\n",
    "        self.last_name = last_name\n",
    "        self.week = week\n",
    "student1 = Student(\"Clair Marie\", \"Wholean\", 7)\n",
    "student2 = Student(\"Dan\", \"Hales\", 7)\n",
    "\n"
   ]
  },
  {
   "cell_type": "markdown",
   "metadata": {
    "slideshow": {
     "slide_type": "slide"
    }
   },
   "source": [
    "### Creating an Student Object (Instantiation)"
   ]
  },
  {
   "cell_type": "code",
   "execution_count": 17,
   "metadata": {
    "slideshow": {
     "slide_type": "subslide"
    }
   },
   "outputs": [],
   "source": [
    "student1 = Student(\"Clair Marie\", \"Wholean\", 7)\n",
    "student2 = Student(\"Dan\", \"Hales\", 7)\n",
    "\n"
   ]
  },
  {
   "cell_type": "markdown",
   "metadata": {
    "slideshow": {
     "slide_type": "slide"
    }
   },
   "source": [
    "### Create Another Student Object"
   ]
  },
  {
   "cell_type": "code",
   "execution_count": 21,
   "metadata": {
    "slideshow": {
     "slide_type": "fragment"
    }
   },
   "outputs": [
    {
     "data": {
      "text/plain": [
       "50"
      ]
     },
     "execution_count": 21,
     "metadata": {},
     "output_type": "execute_result"
    }
   ],
   "source": [
    "class Student():\n",
    "    ## let's define an init method\n",
    "    ## init method allows us to construct objects in an efficient way\n",
    "    def __init__(self, name, last_name, week):\n",
    "        self.name = name\n",
    "        self.last_name = last_name\n",
    "        self.week = week\n",
    "student1 = Student(\"Clair Marie\", \"Wholean\", 7)\n",
    "student2 = Student(\"Dan\", \"Hales\", 7)\n",
    "\n",
    "\n",
    "\n",
    "## Create student2 object\n",
    "student3 = Student(\"Murat\", \"Guner\", 50)\n",
    "\n",
    "student3.week\n",
    "\n",
    "## let's check some of the attributes"
   ]
  },
  {
   "cell_type": "markdown",
   "metadata": {
    "slideshow": {
     "slide_type": "slide"
    }
   },
   "source": [
    "### Adding `take_test` Method"
   ]
  },
  {
   "cell_type": "code",
   "execution_count": 28,
   "metadata": {
    "slideshow": {
     "slide_type": "subslide"
    }
   },
   "outputs": [
    {
     "data": {
      "text/plain": [
       "92.6097130180281"
      ]
     },
     "execution_count": 28,
     "metadata": {},
     "output_type": "execute_result"
    }
   ],
   "source": [
    "import numpy as np\n",
    "class Student():\n",
    "    ## let's define an init method\n",
    "    ## init method allows us to construct objects in an efficient way\n",
    "    def __init__(self, name, last_name, week):\n",
    "        self.name = name\n",
    "        self.last_name = last_name\n",
    "        self.week = week\n",
    "    def take_test(self):\n",
    "        self.score = np.random.normal(loc = 90, scale = 3)\n",
    "        return self.score\n",
    "student1 = Student(\"Clair Marie\", \"Wholean\", 7)\n",
    "student2 = Student(\"Dan\", \"Hales\", 7)\n",
    "\n",
    "student1.take_test()\n",
    "student2.take_test()\n",
    "\n",
    "# print(\"Clair Maries test score\", student1.score)\n",
    "# print(\"Dan's test score\", student2.score)"
   ]
  },
  {
   "cell_type": "markdown",
   "metadata": {
    "slideshow": {
     "slide_type": "slide"
    }
   },
   "source": [
    "### Create `email` method"
   ]
  },
  {
   "cell_type": "code",
   "execution_count": 29,
   "metadata": {
    "slideshow": {
     "slide_type": "fragment"
    }
   },
   "outputs": [],
   "source": [
    "class Student():\n",
    "   \n",
    "    def __init__(self, name, last_name, week):\n",
    "        self.name = name\n",
    "        self.last_name = last_name\n",
    "        self.week = week\n",
    "    def take_test(self):\n",
    "        self.score = np.random.normal(loc = 90, scale = 3)\n",
    "        return self.score"
   ]
  },
  {
   "cell_type": "code",
   "execution_count": 35,
   "metadata": {
    "slideshow": {
     "slide_type": "slide"
    }
   },
   "outputs": [],
   "source": [
    "class Student:\n",
    "   \n",
    "    def __init__(self, name, last_name, week):\n",
    "        self.name = name\n",
    "        self.last_name = last_name\n",
    "        self.week = week\n",
    "    def take_test(self):\n",
    "        self.score = np.random.normal(loc = 90, scale = 3)\n",
    "        return self.score\n",
    "    def email(self):\n",
    "        self.email_ = self.name.lower() + \".\" + self.last_name.lower() +\"@flatironschool.com\""
   ]
  },
  {
   "cell_type": "code",
   "execution_count": 36,
   "metadata": {
    "slideshow": {
     "slide_type": "fragment"
    }
   },
   "outputs": [
    {
     "data": {
      "text/plain": [
       "'murat.guner@flatironschool.com'"
      ]
     },
     "execution_count": 36,
     "metadata": {},
     "output_type": "execute_result"
    }
   ],
   "source": [
    "## let's see the effect of the method\n",
    "student1 = Student(\"Murat\", \"Guner\", 50)\n",
    "student1.email()\n",
    "student1.email_"
   ]
  },
  {
   "cell_type": "markdown",
   "metadata": {
    "slideshow": {
     "slide_type": "slide"
    }
   },
   "source": [
    "## Variables"
   ]
  },
  {
   "cell_type": "markdown",
   "metadata": {
    "slideshow": {
     "slide_type": "fragment"
    }
   },
   "source": [
    "### Global Variables"
   ]
  },
  {
   "cell_type": "code",
   "execution_count": 38,
   "metadata": {
    "slideshow": {
     "slide_type": "slide"
    }
   },
   "outputs": [],
   "source": [
    "class Student:\n",
    "    total_weeks = 15\n",
    "    def __init__(self, name, last_name, week):\n",
    "        self.name = name\n",
    "        self.last_name = last_name\n",
    "        self.week = week\n",
    "    def take_test(self):\n",
    "        self.score = np.random.normal(loc = 90, scale = 3)\n",
    "        return self.score\n",
    "    def email(self):\n",
    "        self.email_ = self.name.lower() + \".\" + self.last_name.lower() +\"@flatironschool.com\""
   ]
  },
  {
   "cell_type": "code",
   "execution_count": 47,
   "metadata": {
    "slideshow": {
     "slide_type": "subslide"
    }
   },
   "outputs": [
    {
     "name": "stdout",
     "output_type": "stream",
     "text": [
      "21 25\n"
     ]
    }
   ],
   "source": [
    "student1 = Student(\"Murat\", \"Guner\", 50)\n",
    "student2 = Student(\"Dan\", \"Hales\", 7)\n",
    "student2.total_weeks = 25\n",
    "Student.total_weeks = 21\n",
    "\n",
    "print(student1.total_weeks, student2.total_weeks)"
   ]
  },
  {
   "cell_type": "markdown",
   "metadata": {
    "slideshow": {
     "slide_type": "slide"
    }
   },
   "source": [
    "## Inheritance"
   ]
  },
  {
   "cell_type": "code",
   "execution_count": 61,
   "metadata": {
    "slideshow": {
     "slide_type": "slide"
    }
   },
   "outputs": [],
   "source": [
    "class Student:\n",
    "    total_weeks = 15\n",
    "    def __init__(self, name, last_name, week):\n",
    "        self.name = name\n",
    "        self.last_name = last_name\n",
    "        self.week = week\n",
    "    def take_test(self):\n",
    "        self.score = np.random.normal(loc = 90, scale = 3)\n",
    "        return self.score\n",
    "    def email(self):\n",
    "        self.email_ = self.name.lower() + \".\" + self.last_name.lower() +\"@flatironschool.com\"\n",
    "\n",
    "class CohortMembers(Student):\n",
    "    start_date = \"06/01/2020\"\n",
    "    cohort_name = \"Marisa's Rainbow Chart\"\n",
    "    def gradute_time_left(self):\n",
    "        pass\n",
    "    pass"
   ]
  },
  {
   "cell_type": "code",
   "execution_count": 57,
   "metadata": {
    "slideshow": {
     "slide_type": "subslide"
    }
   },
   "outputs": [
    {
     "data": {
      "text/plain": [
       "15"
      ]
     },
     "execution_count": 57,
     "metadata": {},
     "output_type": "execute_result"
    }
   ],
   "source": [
    "cohort1 =CohortMembers(\"Murat\", \"Guner\", 50)\n",
    "cohort1.total_weeks"
   ]
  },
  {
   "cell_type": "code",
   "execution_count": 60,
   "metadata": {
    "slideshow": {
     "slide_type": "fragment"
    }
   },
   "outputs": [
    {
     "data": {
      "text/plain": [
       "'murat.guner@flatironschool.com'"
      ]
     },
     "execution_count": 60,
     "metadata": {},
     "output_type": "execute_result"
    }
   ],
   "source": [
    "cohort1.email()\n",
    "cohort1.email_"
   ]
  },
  {
   "cell_type": "code",
   "execution_count": 58,
   "metadata": {
    "slideshow": {
     "slide_type": "fragment"
    }
   },
   "outputs": [
    {
     "data": {
      "text/plain": [
       "{'name': 'Murat', 'last_name': 'Guner', 'week': 50}"
      ]
     },
     "execution_count": 58,
     "metadata": {},
     "output_type": "execute_result"
    }
   ],
   "source": [
    "cohort1.__dict__"
   ]
  },
  {
   "cell_type": "markdown",
   "metadata": {
    "slideshow": {
     "slide_type": "slide"
    }
   },
   "source": [
    "## Sklearn Classes and Objects"
   ]
  },
  {
   "cell_type": "markdown",
   "metadata": {
    "slideshow": {
     "slide_type": "subslide"
    }
   },
   "source": [
    "[Linear Regression - Documentation](https://scikit-learn.org/stable/modules/generated/sklearn.linear_model.LinearRegression.html#sklearn.linear_model.LinearRegression)\n",
    "\n",
    "[Sklearn - Source Code](https://github.com/scikit-learn/scikit-learn/blob/fd237278e/sklearn/linear_model/_base.py#L389)\n",
    "\n",
    "[Modules vs Classes](https://www.tutorialspoint.com/python/python_modules.htm)\n",
    "\n",
    "[Ch-7 of Pyhton Programming Fundamentals](https://link.springer.com/book/10.1007%2F978-1-4471-6642-9)"
   ]
  },
  {
   "cell_type": "code",
   "execution_count": 62,
   "metadata": {},
   "outputs": [],
   "source": [
    "import numpy as np\n",
    "from sklearn.linear_model import LinearRegression\n",
    "X = np.array([[1, 1], [1, 2], [2, 2], [2, 3]])\n",
    "# y = 1 * x_0 + 2 * x_1 + 3\n",
    "y = np.dot(X, np.array([1, 2])) + 3\n"
   ]
  },
  {
   "cell_type": "code",
   "execution_count": 69,
   "metadata": {},
   "outputs": [
    {
     "data": {
      "text/plain": [
       "LinearRegression(copy_X=True, fit_intercept=True, n_jobs=None, normalize=False)"
      ]
     },
     "execution_count": 69,
     "metadata": {},
     "output_type": "execute_result"
    }
   ],
   "source": [
    "## instantiation -- Creating the lr object from LinearRegression Class\n",
    "lr = LinearRegression()\n",
    "\n",
    "lr.fit(X,y)"
   ]
  },
  {
   "cell_type": "code",
   "execution_count": 71,
   "metadata": {},
   "outputs": [
    {
     "data": {
      "text/plain": [
       "array([1., 2.])"
      ]
     },
     "execution_count": 71,
     "metadata": {},
     "output_type": "execute_result"
    }
   ],
   "source": [
    "## coef_ is an attribute of lr object\n",
    "lr.coef_"
   ]
  },
  {
   "cell_type": "code",
   "execution_count": 76,
   "metadata": {},
   "outputs": [
    {
     "data": {
      "text/plain": [
       "array([ 6.,  8.,  9., 11.])"
      ]
     },
     "execution_count": 76,
     "metadata": {},
     "output_type": "execute_result"
    }
   ],
   "source": [
    "lr.predict(X)"
   ]
  },
  {
   "cell_type": "code",
   "execution_count": 72,
   "metadata": {},
   "outputs": [],
   "source": [
    "from sklearn.model_selection import train_test_split"
   ]
  },
  {
   "cell_type": "code",
   "execution_count": 74,
   "metadata": {},
   "outputs": [
    {
     "data": {
      "text/plain": [
       "function"
      ]
     },
     "execution_count": 74,
     "metadata": {},
     "output_type": "execute_result"
    }
   ],
   "source": [
    "type(train_test_split)"
   ]
  },
  {
   "cell_type": "markdown",
   "metadata": {
    "slideshow": {
     "slide_type": "slide"
    }
   },
   "source": [
    "## Extra Resources"
   ]
  },
  {
   "cell_type": "markdown",
   "metadata": {
    "slideshow": {
     "slide_type": "fragment"
    }
   },
   "source": [
    "[A youtube playlist for OOP with Python](https://www.youtube.com/playlist?list=PL-osiE80TeTsqhIuOqKhwlXsIBIdSeYtc)\n",
    "\n",
    "[Imperative versus Declarative Programming](https://ui.dev/imperative-vs-declarative-programming/)\n",
    "\n",
    "[Wiki - Different Programming Paradigms](https://en.wikipedia.org/wiki/Programming_paradigm)"
   ]
  },
  {
   "cell_type": "markdown",
   "metadata": {
    "slideshow": {
     "slide_type": "slide"
    }
   },
   "source": [
    "## If Time Allows"
   ]
  },
  {
   "cell_type": "markdown",
   "metadata": {
    "slideshow": {
     "slide_type": "fragment"
    }
   },
   "source": [
    "[Introduction to ML-Thanks to Marisa](https://docs.google.com/presentation/d/1T13FnqceiuO-4cENaVZz_X5neVRGoj_Of8bQpy2d5Tg/edit?usp=sharing)"
   ]
  }
 ],
 "metadata": {
  "celltoolbar": "Slideshow",
  "colab": {
   "collapsed_sections": [
    "_OUAUdF5-p-x",
    "xgb4UxV__jQT",
    "oREms3u3-Q6L",
    "LOSB70AC_F55",
    "TXLmvlT__K9y",
    "I6d-VcuulhDy",
    "Ee-dPiBt_UzL",
    "odgi8E10AGuG",
    "Q-fmUUzu9sY8",
    "h-Fs0iZ0A-KW",
    "2rfQ_v1B9zWi",
    "3F4hBda4BLvO",
    "Z96XWroW-Cz-",
    "5s6MKqg8-jSz",
    "CyRRUQXr-oyY",
    "nCiOGnK8BaBK",
    "1x7jUYEF82N6",
    "Y-3m3MHuBUCn",
    "G39MRWq7QTkG"
   ],
   "name": "intro_object_oriented_programming.ipynb",
   "provenance": [],
   "version": "0.3.2"
  },
  "kernelspec": {
   "display_name": "Python 3",
   "language": "python",
   "name": "python3"
  },
  "language_info": {
   "codemirror_mode": {
    "name": "ipython",
    "version": 3
   },
   "file_extension": ".py",
   "mimetype": "text/x-python",
   "name": "python",
   "nbconvert_exporter": "python",
   "pygments_lexer": "ipython3",
   "version": "3.7.3"
  },
  "toc": {
   "base_numbering": 1,
   "nav_menu": {},
   "number_sections": true,
   "sideBar": true,
   "skip_h1_title": false,
   "title_cell": "Table of Contents",
   "title_sidebar": "Contents",
   "toc_cell": false,
   "toc_position": {},
   "toc_section_display": true,
   "toc_window_display": false
  },
  "varInspector": {
   "cols": {
    "lenName": 16,
    "lenType": 16,
    "lenVar": 40
   },
   "kernels_config": {
    "python": {
     "delete_cmd_postfix": "",
     "delete_cmd_prefix": "del ",
     "library": "var_list.py",
     "varRefreshCmd": "print(var_dic_list())"
    },
    "r": {
     "delete_cmd_postfix": ") ",
     "delete_cmd_prefix": "rm(",
     "library": "var_list.r",
     "varRefreshCmd": "cat(var_dic_list()) "
    }
   },
   "types_to_exclude": [
    "module",
    "function",
    "builtin_function_or_method",
    "instance",
    "_Feature"
   ],
   "window_display": false
  }
 },
 "nbformat": 4,
 "nbformat_minor": 2
}
