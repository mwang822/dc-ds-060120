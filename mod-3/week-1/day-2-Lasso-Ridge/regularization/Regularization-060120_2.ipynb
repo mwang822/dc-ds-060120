{
 "cells": [
  {
   "cell_type": "markdown",
   "metadata": {
    "slideshow": {
     "slide_type": "slide"
    }
   },
   "source": [
    "__Content__\n",
    "\n",
    "- [Objectives](#objectives)\n",
    "\n",
    "- [Review](#review)\n",
    "\n",
    "- [Regularization Techniques](#regularization_techniques)\n",
    "\n",
    "- [Questions](#questions)\n",
    "\n",
    "- [Appendix](#appendix)"
   ]
  },
  {
   "cell_type": "markdown",
   "metadata": {
    "slideshow": {
     "slide_type": "slide"
    }
   },
   "source": [
    "## Objectives \n",
    "<a name=\"objectives\"></a>\n",
    "\n",
    "- Understand what is regularization\n",
    "\n",
    "- Understand the effect of hyper-parameter $\\alpha$ in Ridge and Lasso.\n",
    "\n",
    "- Understand the similarities and differences between Lasso-Ridge-Linear models.\n",
    "\n",
    "- Apply Lasso and Ridge with sklearn\n"
   ]
  },
  {
   "cell_type": "markdown",
   "metadata": {
    "slideshow": {
     "slide_type": "slide"
    }
   },
   "source": [
    "### Review\n",
    "<a name=\"review\"></a>\n",
    "\n",
    "\n",
    "\n",
    "[__Overfitting - Underfitting__](https://github.com/gokererdogan/JaverianaMLCourse/blob/master/Lectures/05.pdf)\n",
    "\n",
    "<img src=\"underfitting_overfitting.png\" alt=\"Bias-Variance\" style=\"width: 500px;\"/>"
   ]
  },
  {
   "cell_type": "markdown",
   "metadata": {
    "slideshow": {
     "slide_type": "subslide"
    }
   },
   "source": [
    "\n",
    "\n",
    "[__Bias - Variance Trade-Off__](http://scott.fortmann-roe.com/docs/BiasVariance.html)\n",
    "\n",
    "<img src=\"bias_variance_trade_off.png\" alt=\"Bias-Variance\" style=\"width: 400px;\"/>\n",
    "\n"
   ]
  },
  {
   "cell_type": "markdown",
   "metadata": {
    "slideshow": {
     "slide_type": "slide"
    }
   },
   "source": [
    "## Preliminaries - L1 and L2 Norms"
   ]
  },
  {
   "cell_type": "markdown",
   "metadata": {
    "cell_style": "center",
    "slideshow": {
     "slide_type": "slide"
    }
   },
   "source": [
    "Suppose we have a vector:  \n",
    "\n",
    "$$\n",
    "  \\begin{align}\n",
    "    X &= \\begin{bmatrix}\n",
    "           x_{1} \\\\\n",
    "           x_{2} \\\\\n",
    "           x_{3} \\\\\n",
    "           x_{4}\n",
    "         \\end{bmatrix}\n",
    "  \\end{align}\n",
    "$$"
   ]
  },
  {
   "cell_type": "markdown",
   "metadata": {
    "slideshow": {
     "slide_type": "subslide"
    }
   },
   "source": [
    "Then the square of the \"__L2-norm__\" of this vector is given by:\n",
    "\n",
    "$$ \\| X \\|^{2}_{2} = x_{1}^{2} + x_{2}^{2} + x_{3}^{2} +x_{4}^{2} = \\sum_{i=1}^{4} x_{i}^{2}$$\n"
   ]
  },
  {
   "cell_type": "code",
   "execution_count": 7,
   "metadata": {
    "slideshow": {
     "slide_type": "fragment"
    }
   },
   "outputs": [
    {
     "data": {
      "text/plain": [
       "31.12876483254676"
      ]
     },
     "execution_count": 7,
     "metadata": {},
     "output_type": "execute_result"
    }
   ],
   "source": [
    "## using numpy:\n",
    "import numpy as np\n",
    "X = np.array([12, -25, 10, -10])\n",
    "\n",
    "##L2 norm of X\n",
    "np.sqrt(sum(X*X))"
   ]
  },
  {
   "cell_type": "markdown",
   "metadata": {
    "slideshow": {
     "slide_type": "subslide"
    }
   },
   "source": [
    "Similarly the \"__L1-norm__\" of the X is given as:\n",
    "\n",
    "$$ \\| X \\|_{1} = \\lvert x_{1}\\rvert + \\lvert x_{2}\\rvert + \\lvert x_{3}\\rvert + \\lvert x_{4}\\rvert = \\sum_{i=1}^{4} \\lvert x_{i}\\rvert $$"
   ]
  },
  {
   "cell_type": "code",
   "execution_count": 10,
   "metadata": {
    "slideshow": {
     "slide_type": "fragment"
    }
   },
   "outputs": [
    {
     "name": "stdout",
     "output_type": "stream",
     "text": [
      "2.449489742783178 4\n"
     ]
    }
   ],
   "source": [
    "X = np.array([2, 0, 1, -1])\n",
    "l1_norm = sum(np.abs(X))\n",
    "l1_norm\n",
    "l2_norm = np.sqrt(sum(X*X))\n",
    "\n",
    "print(l2_norm, l1_norm)"
   ]
  },
  {
   "cell_type": "markdown",
   "metadata": {
    "cell_style": "center",
    "slideshow": {
     "slide_type": "slide"
    }
   },
   "source": [
    "In two dimensions: If $$\n",
    "  \\begin{align}\n",
    "    X &= \\begin{bmatrix}\n",
    "           x_{1} \\\\\n",
    "           x_{2} \\\\\n",
    "         \\end{bmatrix}\n",
    "  \\end{align}\n",
    "$$"
   ]
  },
  {
   "cell_type": "markdown",
   "metadata": {
    "cell_style": "center",
    "slideshow": {
     "slide_type": "subslide"
    }
   },
   "source": [
    "$$\\text{(Lasso) ---->} \\| X \\|_{1} = \\lvert x_{1}\\rvert + \\lvert x_{2}\\rvert = \\sum_{i=1}^{2} \\lvert x_{i}\\rvert $$\n",
    "\n",
    "$$\\text{(Ridge) ---->} \\| X \\|_{2}^{2} = \\lvert x_{1}\\rvert^{2} + \\lvert x_{2}\\rvert^{2} = \\sum_{i=1}^{2} \\lvert x_{i}\\rvert^{2} $$"
   ]
  },
  {
   "cell_type": "markdown",
   "metadata": {
    "cell_style": "center",
    "slideshow": {
     "slide_type": "slide"
    }
   },
   "source": [
    "<img src=\"norms.png\" alt=\"Lasso-Lambda\" style=\"width: 400px;\" class = \"center\"/>"
   ]
  },
  {
   "cell_type": "markdown",
   "metadata": {
    "slideshow": {
     "slide_type": "slide"
    }
   },
   "source": [
    "Examples: Note that if we have two vectors $ \\begin{align}\n",
    "    X &= \\begin{bmatrix}\n",
    "           x_{1} \\\\\n",
    "           x_{2} \\\\\n",
    "           x_{3} \\\\\n",
    "           x_{4}\n",
    "         \\end{bmatrix}\n",
    "  \\end{align}$   and $ \\begin{align}\n",
    "    Y &= \\begin{bmatrix}\n",
    "           y_{1} \\\\\n",
    "           y_{2} \\\\\n",
    "           y_{3} \\\\\n",
    "           y_{4}\n",
    "         \\end{bmatrix}\n",
    "  \\end{align}$ we can subtract them and get a new vector: $ \\begin{align}\n",
    "    X - Y &= \\begin{bmatrix}\n",
    "           x_{1} - y_{1} \\\\\n",
    "           x_{2} - y_{2}\\\\\n",
    "           x_{3} - y_{3}\\\\\n",
    "           x_{4} - y_{4}\n",
    "         \\end{bmatrix}\n",
    "  \\end{align}$. Then now we can calculate the __L1-norm__ of the new vector $X-Y$ as:\n",
    "  \n",
    "  $$ \\| X-Y \\|_{1} = \\lvert x_{1} - y_{1} \\rvert + \\lvert x_{2} - y_{2} \\rvert + \\lvert x_{3} - y_{3} \\rvert + \\lvert x_{4} - y_{4} \\rvert = \\sum\\limits_{i=1}^{4} \\lvert x_{i} - y_{i} \\rvert$$\n",
    "  \n",
    "  Similarly the __L2-norm__ of this vector is given by:\n",
    "  \n",
    "  $$ \\| X-Y \\|_{2}^{2} =  (x_{1} - y_{1})^{2} + (x_{2} - y_{2} )^{2} + ( x_{3} - y_{3} )^{2} + ( x_{4} - y_{4} )^{2} =\\sum\\limits_{i=1}^{4} ( x_{i} - y_{i} )^{2} $$\n",
    "  \n",
    "  "
   ]
  },
  {
   "cell_type": "markdown",
   "metadata": {
    "slideshow": {
     "slide_type": "slide"
    }
   },
   "source": [
    "### Linear Regression Recap"
   ]
  },
  {
   "cell_type": "markdown",
   "metadata": {
    "slideshow": {
     "slide_type": "fragment"
    }
   },
   "source": [
    "#### Linear Model\n",
    "\n",
    "$$ Y = w_{0} + w_{1}X_1 + w_{2}X_{2} + \\cdots + w_{p}X_{p} + \\varepsilon $$\n",
    "\n",
    " - We train model to understand the paramaters $w_{i}$ (Coefficients) \n",
    "\n",
    " - $X_{i}$ 's are columns of the datasets (Features)"
   ]
  },
  {
   "cell_type": "markdown",
   "metadata": {
    "slideshow": {
     "slide_type": "slide"
    }
   },
   "source": [
    "#### Predictions"
   ]
  },
  {
   "cell_type": "markdown",
   "metadata": {
    "slideshow": {
     "slide_type": "fragment"
    }
   },
   "source": [
    "- Once the coefficients are estimated (learned): We can make predictions for an observation (row) in our dataset:\n",
    "\n",
    " $$ \\hat{y}_{i} =  \\hat{w}_{0} + \\hat{w}_{1}X_{i1} + \\hat{w}_{2}X_{i2} + \\cdots + \\hat{w}_{p}X_{ip}$$\n",
    " \n",
    " - $\\hat{w}_{i}$'s are estimated coefficients\n",
    " - $X_{i1}, X_{i2}, \\cdots, X_{ip}$ - i'th row in the dataset (with p-columns)"
   ]
  },
  {
   "cell_type": "markdown",
   "metadata": {
    "slideshow": {
     "slide_type": "slide"
    }
   },
   "source": [
    " \n",
    " Therefore for each observations (rows) errors are given by:\n",
    " \n",
    " $$ e_{i} = y_{i} - \\hat{y}_{i} $$\n",
    " \n",
    " As a result, the Residual Sum of Squares can be expressed as:\n",
    " \n",
    " $$ RSS(\\hat{w}_{0}, \\cdots, \\hat{w}_{p}) = \\sum\\limits_{i=0}^{N} e_{i}^{2}$$"
   ]
  },
  {
   "cell_type": "markdown",
   "metadata": {
    "slideshow": {
     "slide_type": "subslide"
    }
   },
   "source": [
    "\n",
    "Usually the cost functions are denoted with the capital letter $J$\n",
    " \n",
    " \n",
    " $$ J(\\hat{w}_{0}, \\cdots, \\hat{w}_{p}) = \\sum\\limits_{i=0}^{N} (y_{i} - \\hat{w}_{0} - \\hat{w}_{1}X_{i1} - \\hat{w}_{2}X_{i2} - \\cdots - \\hat{w}_{p}X_{i_p})^{2} $$\n",
    " \n",
    " And this equation can be written in short hand as:\n",
    " \n",
    " $$ J(\\boldsymbol{w}) = \\| \\boldsymbol{Y} - X \\hat{w} \\|_{2}^{2} $$"
   ]
  },
  {
   "cell_type": "markdown",
   "metadata": {
    "slideshow": {
     "slide_type": "slide"
    }
   },
   "source": [
    "## Regularization"
   ]
  },
  {
   "cell_type": "markdown",
   "metadata": {
    "slideshow": {
     "slide_type": "subslide"
    }
   },
   "source": [
    "### Ridge regularization\n",
    "\n",
    "Instead of minimizing $J(w)$ (least squares method), we will minimize:\n",
    "\n",
    "$$ J_{\\alpha}(\\boldsymbol{w}) = J(\\boldsymbol{w}) + \\alpha\\sum_{i=1}^{p} w_{i}^{2} $$\n",
    "\n"
   ]
  },
  {
   "cell_type": "markdown",
   "metadata": {
    "slideshow": {
     "slide_type": "fragment"
    }
   },
   "source": [
    "### Lasso regularization\n",
    "\n",
    "Instead of minimizing $J(\\boldsymbol{w})$, we will minimize:\n",
    "\n",
    "$$ J_{\\alpha}(\\boldsymbol{w}) = J(\\boldsymbol{w}) + \\alpha\\sum_{i=1}^{p}| w_{i} | $$\n"
   ]
  },
  {
   "cell_type": "markdown",
   "metadata": {
    "slideshow": {
     "slide_type": "slide"
    }
   },
   "source": [
    "### Regularization Techniques\n",
    "\n",
    "<a name=\"regularization_techniques\"></a>\n",
    "\n",
    "\n",
    "- Why?\n",
    "\n",
    "    - Reduces complexity\n",
    "    \n",
    "    - Reduce the chance of overfitting.\n",
    "    \n",
    "    - Reduces model's variance at the expense of introducing small bias\n",
    "    \n",
    "    - Increases model's interprettability.\n",
    "    \n",
    "\n",
    "\n",
    "\n"
   ]
  },
  {
   "cell_type": "markdown",
   "metadata": {},
   "source": [
    "## An Example with Sklearn"
   ]
  },
  {
   "cell_type": "code",
   "execution_count": 1,
   "metadata": {
    "init_cell": true
   },
   "outputs": [
    {
     "ename": "ModuleNotFoundError",
     "evalue": "No module named 'matplotlib'",
     "output_type": "error",
     "traceback": [
      "\u001b[0;31m---------------------------------------------------------------------------\u001b[0m",
      "\u001b[0;31mModuleNotFoundError\u001b[0m                       Traceback (most recent call last)",
      "\u001b[0;32m<ipython-input-1-9f3299c5ab59>\u001b[0m in \u001b[0;36m<module>\u001b[0;34m\u001b[0m\n\u001b[1;32m      1\u001b[0m \u001b[0;31m## import libraries\u001b[0m\u001b[0;34m\u001b[0m\u001b[0;34m\u001b[0m\u001b[0;34m\u001b[0m\u001b[0m\n\u001b[0;32m----> 2\u001b[0;31m \u001b[0;32mimport\u001b[0m \u001b[0mmatplotlib\u001b[0m\u001b[0;34m.\u001b[0m\u001b[0mpyplot\u001b[0m \u001b[0;32mas\u001b[0m \u001b[0mplt\u001b[0m\u001b[0;34m\u001b[0m\u001b[0;34m\u001b[0m\u001b[0m\n\u001b[0m\u001b[1;32m      3\u001b[0m \u001b[0mget_ipython\u001b[0m\u001b[0;34m(\u001b[0m\u001b[0;34m)\u001b[0m\u001b[0;34m.\u001b[0m\u001b[0mrun_line_magic\u001b[0m\u001b[0;34m(\u001b[0m\u001b[0;34m'matplotlib'\u001b[0m\u001b[0;34m,\u001b[0m \u001b[0;34m'inline'\u001b[0m\u001b[0;34m)\u001b[0m\u001b[0;34m\u001b[0m\u001b[0;34m\u001b[0m\u001b[0m\n\u001b[1;32m      4\u001b[0m \u001b[0;34m\u001b[0m\u001b[0m\n\u001b[1;32m      5\u001b[0m \u001b[0;32mfrom\u001b[0m \u001b[0mpandas\u001b[0m\u001b[0;34m.\u001b[0m\u001b[0mplotting\u001b[0m \u001b[0;32mimport\u001b[0m \u001b[0mscatter_matrix\u001b[0m\u001b[0;34m\u001b[0m\u001b[0;34m\u001b[0m\u001b[0m\n",
      "\u001b[0;31mModuleNotFoundError\u001b[0m: No module named 'matplotlib'"
     ]
    }
   ],
   "source": [
    "## import libraries\n",
    "import matplotlib.pyplot as plt\n",
    "%matplotlib inline\n",
    "\n",
    "from pandas.plotting import scatter_matrix\n",
    "\n",
    "from sklearn.linear_model import LinearRegression\n",
    "from sklearn.preprocessing import PolynomialFeatures\n",
    "from sklearn.linear_model import Lasso\n",
    "from sklearn.linear_model import Ridge\n",
    "\n",
    "from sklearn.model_selection import train_test_split\n",
    "\n",
    "from sklearn.preprocessing import StandardScaler"
   ]
  },
  {
   "cell_type": "markdown",
   "metadata": {},
   "source": [
    "### Loading data"
   ]
  },
  {
   "cell_type": "code",
   "execution_count": null,
   "metadata": {
    "init_cell": true
   },
   "outputs": [],
   "source": [
    "# load data \n",
    "import pandas as pd\n",
    "df = pd.read_csv('../data/Credit.csv', index_col = 0)"
   ]
  },
  {
   "cell_type": "code",
   "execution_count": null,
   "metadata": {
    "init_cell": true
   },
   "outputs": [],
   "source": [
    "# let's see the head of the dataset\n",
    "print(df.shape)\n",
    "df.head()\n"
   ]
  },
  {
   "cell_type": "markdown",
   "metadata": {},
   "source": [
    "### A Brief Investigation of the Dataset"
   ]
  },
  {
   "cell_type": "code",
   "execution_count": null,
   "metadata": {
    "init_cell": true
   },
   "outputs": [],
   "source": [
    "## checking for missing values\n",
    "df.info()"
   ]
  },
  {
   "cell_type": "code",
   "execution_count": null,
   "metadata": {
    "init_cell": true
   },
   "outputs": [],
   "source": [
    "## let's see the number of categories in ethnicity\n",
    "df.Ethnicity.value_counts()"
   ]
  },
  {
   "cell_type": "code",
   "execution_count": null,
   "metadata": {
    "init_cell": true
   },
   "outputs": [],
   "source": [
    "df.Gender.value_counts()"
   ]
  },
  {
   "cell_type": "code",
   "execution_count": null,
   "metadata": {
    "init_cell": true
   },
   "outputs": [],
   "source": [
    "df.Student.value_counts()"
   ]
  },
  {
   "cell_type": "code",
   "execution_count": null,
   "metadata": {
    "init_cell": true
   },
   "outputs": [],
   "source": [
    "df.Married.value_counts()"
   ]
  },
  {
   "cell_type": "markdown",
   "metadata": {},
   "source": [
    "### Train-Test Split"
   ]
  },
  {
   "cell_type": "code",
   "execution_count": 16,
   "metadata": {},
   "outputs": [],
   "source": [
    "from sklearn.model_selection import train_test_split\n",
    "\n",
    "X_train, X_test, y_train, y_test = train_test_split(df.drop(columns = \"Balance\"),\n",
    "                                                df.Balance, \n",
    "                                                stratify = df.Married,\n",
    "                                                random_state =42, test_size = 0.2)"
   ]
  },
  {
   "cell_type": "markdown",
   "metadata": {},
   "source": [
    "### One Hot Encoding the Categorical Variables"
   ]
  },
  {
   "cell_type": "code",
   "execution_count": 17,
   "metadata": {},
   "outputs": [],
   "source": [
    "## instantiate ohe\n",
    "## note that in this case we know the categories very well.\n",
    "## import\n",
    "from sklearn.preprocessing import OneHotEncoder\n",
    "\n",
    "## instantiate\n",
    "ohe = OneHotEncoder(categories= [[\"Caucasian\", \"Asian\", \"African American\"], [\"Female\", \" Male\"], [\"No\", \"Yes\"], [\"Yes\", \"No\"]],\n",
    "                    drop = [\"Caucasian\", \"Female\", \"No\", \"No\"], sparse = False,)\n",
    "\n",
    "## fit model (learn categories in train and plan how to convert them one hot encoded columns)\n",
    "ohe.fit(X_train[['Ethnicity', \"Gender\", \"Student\", \"Married\"]])\n",
    "## transform X_train data. Result is a numpy array.\n",
    "categorical_train = ohe.transform(X_train[['Ethnicity', \"Gender\", \"Student\", \"Married\"]])\n",
    "## concact the categorical variables with the rest of the data\n",
    "train = np.hstack((X_train.select_dtypes(exclude = \"object\" ), categorical_train))"
   ]
  },
  {
   "cell_type": "code",
   "execution_count": 26,
   "metadata": {},
   "outputs": [
    {
     "data": {
      "text/plain": [
       "(320, 11)"
      ]
     },
     "execution_count": 26,
     "metadata": {},
     "output_type": "execute_result"
    }
   ],
   "source": [
    "train.shape"
   ]
  },
  {
   "cell_type": "code",
   "execution_count": 18,
   "metadata": {},
   "outputs": [],
   "source": [
    "## note that we should make the similar transformation to the test data too.\n",
    "## Remark: Never fit a transformer to your test data. Only transform!!\n",
    "categorical_test = ohe.transform(X_test[['Ethnicity', \"Gender\", \"Student\", \"Married\"]])\n",
    "test = np.hstack((X_test.select_dtypes(exclude = \"object\"), categorical_test))"
   ]
  },
  {
   "cell_type": "code",
   "execution_count": 19,
   "metadata": {},
   "outputs": [
    {
     "data": {
      "text/plain": [
       "(80, 11)"
      ]
     },
     "execution_count": 19,
     "metadata": {},
     "output_type": "execute_result"
    }
   ],
   "source": [
    "test.shape"
   ]
  },
  {
   "cell_type": "code",
   "execution_count": 20,
   "metadata": {},
   "outputs": [
    {
     "data": {
      "text/plain": [
       "array(['x0_Asian', 'x0_African American', 'x1_ Male', 'x2_Yes', 'x3_Yes'],\n",
       "      dtype=object)"
      ]
     },
     "execution_count": 20,
     "metadata": {},
     "output_type": "execute_result"
    }
   ],
   "source": [
    "ohe.get_feature_names()"
   ]
  },
  {
   "cell_type": "markdown",
   "metadata": {},
   "source": [
    "### Fitting a Linear Regression (Baseline)"
   ]
  },
  {
   "cell_type": "code",
   "execution_count": 21,
   "metadata": {},
   "outputs": [],
   "source": [
    "## import \n",
    "from sklearn.linear_model import LinearRegression\n",
    "## instantiate\n",
    "lr = LinearRegression()\n",
    "## fit \n",
    "lr.fit(train, y_train)\n",
    "## predict\n",
    "y_train_pred = lr.predict(train)"
   ]
  },
  {
   "cell_type": "code",
   "execution_count": 22,
   "metadata": {},
   "outputs": [
    {
     "data": {
      "text/plain": [
       "array([ -7.691,   0.181,   1.227,  15.466,  -0.671,  -1.419,   7.498,\n",
       "        -2.283,   8.193, 433.656,  -5.428])"
      ]
     },
     "execution_count": 22,
     "metadata": {},
     "output_type": "execute_result"
    }
   ],
   "source": [
    "np.set_printoptions(suppress=True, precision=3)\n",
    "lr.coef_"
   ]
  },
  {
   "cell_type": "code",
   "execution_count": 23,
   "metadata": {},
   "outputs": [
    {
     "data": {
      "text/plain": [
       "0.9532149163845625"
      ]
     },
     "execution_count": 23,
     "metadata": {},
     "output_type": "execute_result"
    }
   ],
   "source": [
    "## R_squared score\n",
    "lr.score(train,y_train)"
   ]
  },
  {
   "cell_type": "markdown",
   "metadata": {},
   "source": [
    "## Ridge Regression"
   ]
  },
  {
   "cell_type": "code",
   "execution_count": 38,
   "metadata": {},
   "outputs": [],
   "source": [
    "## import\n",
    "from sklearn.linear_model import Ridge\n",
    "## instantiate\n",
    "ridge = Ridge(alpha = 20, normalize = True) ## note that we should normalize/standardize data if you are using regularization\n",
    "## fit\n",
    "ridge.fit(train, y_train)\n",
    "## predict\n",
    "ridge_train_pred = ridge.predict(train)"
   ]
  },
  {
   "cell_type": "code",
   "execution_count": 39,
   "metadata": {},
   "outputs": [
    {
     "data": {
      "text/plain": [
       "array([ 0.252,  0.008,  0.114,  1.475, -0.021,  0.069,  0.767,  3.418,\n",
       "       -2.207, 21.428,  0.252])"
      ]
     },
     "execution_count": 39,
     "metadata": {},
     "output_type": "execute_result"
    }
   ],
   "source": [
    "## coefficients\n",
    "ridge.coef_"
   ]
  },
  {
   "cell_type": "code",
   "execution_count": 40,
   "metadata": {},
   "outputs": [
    {
     "data": {
      "text/plain": [
       "0.1512520485978246"
      ]
     },
     "execution_count": 40,
     "metadata": {},
     "output_type": "execute_result"
    }
   ],
   "source": [
    "## score\n",
    "ridge.score(train, y_train)"
   ]
  },
  {
   "cell_type": "markdown",
   "metadata": {},
   "source": [
    "## Lasso"
   ]
  },
  {
   "cell_type": "code",
   "execution_count": 53,
   "metadata": {},
   "outputs": [
    {
     "data": {
      "text/plain": [
       "array([ -0.318,   0.024,   1.904,   0.   ,  -0.   ,   0.   ,   0.   ,\n",
       "         0.   ,  -0.   , 242.081,  -0.   ])"
      ]
     },
     "execution_count": 53,
     "metadata": {},
     "output_type": "execute_result"
    }
   ],
   "source": [
    "## import\n",
    "from sklearn.linear_model import Lasso\n",
    "## instantiate\n",
    "lasso = Lasso(alpha= 3, normalize= True)\n",
    "## fit\n",
    "lasso.fit(train, y_train)\n",
    "## predict\n",
    "lasso_train_pred = lasso.predict(train)\n",
    "## coefficients\n",
    "lasso.coef_"
   ]
  },
  {
   "cell_type": "code",
   "execution_count": 54,
   "metadata": {},
   "outputs": [
    {
     "data": {
      "text/plain": [
       "0.8014911464840078"
      ]
     },
     "execution_count": 54,
     "metadata": {},
     "output_type": "execute_result"
    }
   ],
   "source": [
    "## score\n",
    "\n",
    "lasso.score(train,y_train)"
   ]
  },
  {
   "cell_type": "markdown",
   "metadata": {},
   "source": [
    "## Some Important Questions"
   ]
  },
  {
   "cell_type": "markdown",
   "metadata": {},
   "source": [
    "### Questions\n",
    "\n",
    "\n",
    "\n",
    "__Q.__ Should I do normalization for Lasso or Ridge?\n",
    "\n",
    "A. Yes? Why?\n",
    "\n",
    "__Q.__ When we know that Ridge and Lasso is better than vanilla linear regression?\n",
    "\n",
    "A. High variation in your model --> Colinearity and too many variables.\n",
    "\n",
    "__Q.__ How do we know whether we should choose Lasso or Ridge?\n",
    "\n",
    "A. Most of the time they perform very similar but Lasso has the feature selection property, ridge doesn't have this.\n",
    "\n",
    "__Q:__ How do we choose $\\lambda$?\n",
    "\n",
    "A. [sklearn gridsearch](https://scikit-learn.org/stable/modules/grid_search.html#grid-search) for small models or random grid search for bigger models.\n",
    "\n",
    "Or check-out: \n",
    "\n",
    "[Sklearn - LassoLarsIC](https://scikit-learn.org/stable/modules/generated/sklearn.linear_model.LassoLarsIC.html)\n",
    "\n",
    "[Sklearn - LassoCV](https://scikit-learn.org/stable/modules/generated/sklearn.linear_model.LassoCV.html)"
   ]
  },
  {
   "cell_type": "markdown",
   "metadata": {},
   "source": [
    "## Miscellaneous"
   ]
  },
  {
   "cell_type": "markdown",
   "metadata": {},
   "source": []
  },
  {
   "cell_type": "markdown",
   "metadata": {},
   "source": [
    "### Scaling data"
   ]
  },
  {
   "cell_type": "code",
   "execution_count": 29,
   "metadata": {},
   "outputs": [],
   "source": [
    "## import\n",
    "from sklearn.preprocessing import StandardScaler\n",
    "## instantiate\n",
    "scaler = StandardScaler()\n",
    "## fit\n",
    "scaler.fit(train)\n",
    "## transform\n",
    "scaled_train = scaler.transform(train) \n",
    "## Apply to test: !! Don't fit only transform\n",
    "scaled_test = scaler.transform(test)"
   ]
  },
  {
   "cell_type": "markdown",
   "metadata": {},
   "source": [
    "### Observing the effect of Regularization in Polynomial Regression"
   ]
  },
  {
   "cell_type": "code",
   "execution_count": 30,
   "metadata": {},
   "outputs": [
    {
     "name": "stdout",
     "output_type": "stream",
     "text": [
      "After adding higher order terms:  (320, 4368) (80, 4368)\n"
     ]
    }
   ],
   "source": [
    "## import\n",
    "from sklearn.preprocessing import PolynomialFeatures\n",
    "## instantiate -- with desired degree. \n",
    "poly = PolynomialFeatures(degree=5)\n",
    "## fit\n",
    "poly.fit(scaled_train)\n",
    "## transform\n",
    "Xp_train = poly.transform(scaled_train)\n",
    "## apply to test: !! Don't fit only transform\n",
    "Xp_test = poly.transform(scaled_test)\n",
    "print('After adding higher order terms: ', Xp_train.shape, Xp_test.shape)"
   ]
  },
  {
   "cell_type": "markdown",
   "metadata": {},
   "source": [
    "### Model Selection with Cross-Validation"
   ]
  },
  {
   "cell_type": "code",
   "execution_count": 31,
   "metadata": {},
   "outputs": [
    {
     "name": "stderr",
     "output_type": "stream",
     "text": [
      "/usr/local/anaconda3/lib/python3.7/site-packages/sklearn/linear_model/_coordinate_descent.py:476: ConvergenceWarning: Objective did not converge. You might want to increase the number of iterations. Duality gap: 793460.484187546, tolerance: 5257.7543359375\n",
      "  positive)\n",
      "/usr/local/anaconda3/lib/python3.7/site-packages/sklearn/linear_model/_coordinate_descent.py:476: ConvergenceWarning: Objective did not converge. You might want to increase the number of iterations. Duality gap: 1722184.8873493765, tolerance: 5440.306824609375\n",
      "  positive)\n",
      "/usr/local/anaconda3/lib/python3.7/site-packages/sklearn/linear_model/_coordinate_descent.py:476: ConvergenceWarning: Objective did not converge. You might want to increase the number of iterations. Duality gap: 1774828.4260413772, tolerance: 5469.784321484375\n",
      "  positive)\n",
      "/usr/local/anaconda3/lib/python3.7/site-packages/sklearn/linear_model/_coordinate_descent.py:476: ConvergenceWarning: Objective did not converge. You might want to increase the number of iterations. Duality gap: 1324537.1780131762, tolerance: 5191.286458984375\n",
      "  positive)\n",
      "/usr/local/anaconda3/lib/python3.7/site-packages/sklearn/linear_model/_coordinate_descent.py:476: ConvergenceWarning: Objective did not converge. You might want to increase the number of iterations. Duality gap: 1228092.101837951, tolerance: 5195.538730859375\n",
      "  positive)\n"
     ]
    }
   ],
   "source": [
    "\n",
    "## import\n",
    "from sklearn.model_selection import cross_validate\n",
    "## note that cross-validate is a function so we don't need to instantiate it\n",
    "\n",
    "\n",
    "## chose a model for validate\n",
    "lasso = Lasso(alpha = 10)\n",
    "\n",
    "cv = cross_validate(estimator=lasso, X=Xp_train, y=y_train, cv = 5, return_estimator= True, return_train_score=True)"
   ]
  },
  {
   "cell_type": "code",
   "execution_count": 32,
   "metadata": {},
   "outputs": [
    {
     "name": "stdout",
     "output_type": "stream",
     "text": [
      "Type of cv object is <class 'dict'>\n",
      "Keys of cv object is dict_keys(['fit_time', 'score_time', 'estimator', 'test_score', 'train_score'])\n"
     ]
    }
   ],
   "source": [
    "## cv is an dict object\n",
    "print(\"Type of cv object is\", type(cv))\n",
    "print(\"Keys of cv object is\", cv.keys())"
   ]
  },
  {
   "cell_type": "code",
   "execution_count": 33,
   "metadata": {},
   "outputs": [
    {
     "name": "stdout",
     "output_type": "stream",
     "text": [
      "[0.973 0.976 0.974 0.974 0.972]\n",
      "[0.719 0.689 0.874 0.961 0.946]\n"
     ]
    }
   ],
   "source": [
    "print(cv['train_score'])\n",
    "\n",
    "## note that even though the name is test_score this is in fact validation score\n",
    "print(cv['test_score'])"
   ]
  },
  {
   "cell_type": "code",
   "execution_count": 34,
   "metadata": {},
   "outputs": [],
   "source": [
    "def model_experiment(X, y, num_iter = 5, \n",
    "                     models = ['ols', 'ridge', 'lasso'], alpha= 10, \n",
    "                     complexity = 'simple', degree = 3):\n",
    "    \"\"\"\n",
    "    parameters:\n",
    "    _________________________\n",
    "    num_iter: int, number of times fit the models to test data each time with different splitting. \n",
    "    note that for each iteration we split the data random train and test parts.\n",
    "    models: list, list of models that we want to use. Options are 'ols' for simple linear regression\n",
    "    'ridge' for ridge regression and 'lasso' for lasso regression.\n",
    "    alpha: float, alpha parameter for ridge and lasso algorithms. Recall that higher values of alpha \n",
    "    leads to more regularization.\n",
    "    complexity: str, either 'simple' or 'polynomial'. We either use the original dataset or \n",
    "    a dataset with polynomial powers generated. \n",
    "    degree: int, if complexity is polynomial then degree is the degrees of polynomials to be generated.\n",
    "    return: dict, it returns a dictionary with trained models as values and the 'complexity' parameters as keys.\n",
    "    \"\"\"\n",
    "    \n",
    "    x_axis = np.arange(num_iter)\n",
    "    y_ols_test = []\n",
    "    y_lasso_test = []\n",
    "    y_ridge_test = []\n",
    "    sample_models = {}\n",
    "    for i in range(num_iter):\n",
    "        \n",
    "        if complexity == 'simple':\n",
    "            ## split train_test \n",
    "            X_train, X_test, y_train, y_test = train_test_split(X, y, test_size = 0.2)\n",
    "        elif complexity == 'polynomial':\n",
    "            ## Create higher order terms\n",
    "            poly = PolynomialFeatures(degree=degree)\n",
    "            Xp = poly.fit_transform(X)\n",
    "            ## test-train split\n",
    "            X_train, X_test, y_train, y_test = train_test_split(Xp, y, test_size = 0.2)\n",
    "\n",
    "\n",
    "        ## Standard scale mean = 0, variance = 1\n",
    "        sd = StandardScaler()\n",
    "\n",
    "        sd.fit(X_train)\n",
    "\n",
    "        X_train = sd.transform(X_train)\n",
    "\n",
    "        X_test = sd.transform(X_test)\n",
    "\n",
    "        ## Be careful about the leakage\n",
    "\n",
    "        ## Vanilla model\n",
    "        if 'ols' in models:\n",
    "            lr = LinearRegression()\n",
    "\n",
    "            lr.fit(X_train, y_train)\n",
    "            \n",
    "            sample_models['ols'] = lr\n",
    "\n",
    "            test_score = lr.score(X_test, y_test)\n",
    "            train_score = lr.score(X_train, y_train)\n",
    "\n",
    "            y_ols_test.append(test_score)\n",
    "\n",
    "    #       print('test score OLS is %.2f and train score is %.2f'%(test_score, train_score))\n",
    "\n",
    "        if 'ridge' in models:\n",
    "            ## Ridge in the simple setting\n",
    "            ridge = Ridge(alpha = alpha, max_iter= 10000)\n",
    "            ridge.fit(X_train, y_train)\n",
    "            sample_models['ridge'] = ridge\n",
    "            y_ridge_test.append(ridge.score(X_test, y_test))\n",
    "    #         print('test score Ridge is %.2f and train score is %.2f'%(ridge.score(X_test, y_test),\n",
    "    #                                                             ridge.score(X_train, y_train)))\n",
    "\n",
    "        if 'lasso' in models:\n",
    "            ## Lasso in the simple setting\n",
    "            lasso = Lasso(alpha = alpha, max_iter= 10000)\n",
    "\n",
    "            lasso.fit(X_train, y_train)\n",
    "            \n",
    "            sample_models['lasso'] = lasso\n",
    "            \n",
    "            y_lasso_test.append(lasso.score(X_test, y_test))\n",
    "    #       print('test score Lasso is %.2f and train score is %.2f'%(lasso.score(X_test, y_test),\n",
    "    #                                                             lasso.score(X_train, y_train)))\n",
    "\n",
    "        i+=1\n",
    "    if 'ols' in models:\n",
    "        plt.plot(y_ols_test, label = 'ols')\n",
    "    if 'ridge' in models:\n",
    "        plt.plot(y_ridge_test, label = 'ridge')\n",
    "    if 'lasso' in models:\n",
    "        plt.plot(y_lasso_test, label = 'lasso')\n",
    "    plt.ylabel('R2 test score')\n",
    "    plt.xlabel('number of iterations')\n",
    "    plt.ylim((0.50, 0.99))\n",
    "    \n",
    "    plt.legend()\n",
    "    return sample_models\n"
   ]
  },
  {
   "cell_type": "code",
   "execution_count": 35,
   "metadata": {},
   "outputs": [
    {
     "data": {
      "image/png": "[encoded data removed]",
      "text/plain": [
       "<Figure size 432x288 with 1 Axes>"
      ]
     },
     "metadata": {
      "needs_background": "light"
     },
     "output_type": "display_data"
    }
   ],
   "source": [
    "trained_models = model_experiment(scaled_train, y_train, num_iter=10, alpha = 100,\n",
    "                                   models = ['ols', 'ridge', 'lasso'], \n",
    "                                   complexity= 'polynomial', degree = 3)"
   ]
  },
  {
   "cell_type": "markdown",
   "metadata": {},
   "source": [
    "__Your Turn__\n",
    "\n",
    "- Try different values for alpha --> report your observations\n",
    "\n",
    "- Change complexity = 'polynomial' and observe the change in the variance of the models. \n",
    "\n",
    "- Report your observations.\n"
   ]
  },
  {
   "cell_type": "code",
   "execution_count": 122,
   "metadata": {},
   "outputs": [
    {
     "data": {
      "text/plain": [
       "array([  0.   ,  -0.   ,   3.264, 274.34 ,   0.   ,  -0.   ,   0.   ,\n",
       "         0.   ,   0.   ,  -0.   ,   0.   ,  -0.   ,  -0.   ,   0.   ,\n",
       "         0.   ,   0.   ,  -0.   ,   0.   ,   0.   ,   0.   ,  -0.   ,\n",
       "        -0.   ,   0.   ,   0.   ,   0.   ,   0.   ,  -0.   ,   0.   ,\n",
       "         0.   ,   0.   ,  -0.   ,  -0.   ,   0.   ,   0.   ,   0.   ,\n",
       "        -0.   ,   0.   ,   0.   ,   0.   ,  -0.   ,  -0.   ,   0.   ,\n",
       "         0.   ,  -0.   ,  -0.   ,  -0.   ,   0.   ,  -0.   ,  -0.   ,\n",
       "         0.   ,  -0.   ,  -0.   ,   0.   ,  -0.   ,   0.   ,  -0.   ,\n",
       "        -0.   ,  -0.   ,   0.   ,  -0.   ,  -0.   ,   0.   ,   0.   ,\n",
       "         0.   ,  -0.   ,   0.   ,   0.   ,  -0.   ,   0.   ,   0.   ,\n",
       "         0.   ,   0.   ,  -0.   ,   0.   ,  -0.   ,   0.   ,  -0.   ,\n",
       "         0.   ,  -0.   ,   0.   ,   0.   ,   0.   ,  -0.   ,   0.   ,\n",
       "         0.   ,   0.   ,  -0.   ,   0.   ,   0.   ,   0.   ,   0.   ,\n",
       "         0.   ,  -0.   ,   0.   ,   0.   ,   0.   ,  -0.   ,   0.   ,\n",
       "         0.   ,   0.   ,   0.   ,  -0.   ,   0.   ,   0.   ,   0.   ,\n",
       "        -0.   ,   0.   ,   0.   ,   0.   ,   0.   ,  -0.   ,  -0.   ,\n",
       "         0.   ,  -0.   ,  -0.   ,   0.   ,  -0.   ,   0.   ,   0.   ,\n",
       "        -0.   ,   0.   ,   0.   ,  -0.   ,  -0.   ,  -0.   ,  -0.   ,\n",
       "        -0.   ,   0.   ,   0.   ,  -0.   ,  -0.   ,  -0.   ,  -0.   ,\n",
       "         0.   ,   0.   ,   0.   ,   0.   ,  -0.   ,  -0.   ,  -0.   ,\n",
       "        -0.   ,  -0.   ,   0.   ,  -0.   ,   0.   ,   0.   ,   0.   ,\n",
       "        -0.   ,   0.   ,   0.   ,   0.   ,  -0.   ,   0.   ,   0.   ,\n",
       "         0.   ,   0.   ,  -0.   ,   0.   ,   0.   ,   0.   ,  -0.   ,\n",
       "         0.   ,   0.   ,   0.   ,   0.   ,   0.   ,  -0.   ,   0.   ,\n",
       "         0.   ,  -0.   ,   0.   ,   0.   ,  -0.   ,  -0.   ,  -0.   ,\n",
       "         0.   ,  -0.   ,  -0.   ,   0.   ,  -0.   ,   0.   ,  -0.   ,\n",
       "         0.   ,   0.   ,   0.   ,  -0.   ,  -0.   ,  -0.   ,   0.   ,\n",
       "         0.   ,  -0.   ,   0.   ,  -0.   ,   0.   ,   0.   ,  -0.   ,\n",
       "         0.   ,  -0.   ,   0.   ,   0.   ,   0.   ,  -0.   ,   0.   ,\n",
       "         0.   ,   0.   ,  -0.   ,   0.   ,   0.   ,   0.   ,   0.   ,\n",
       "         0.   ,  -0.   ,   0.   ,   0.   ,  -0.   ,  -0.   ,   0.   ,\n",
       "        -0.   ,  -0.   ,  -0.   ,   0.   ,  -0.   ,  -0.   ,   0.   ,\n",
       "        -0.   ,   0.   ,  -0.   ,   0.   ,   0.   ,   0.   ,  -0.   ,\n",
       "        -0.   ,  -0.   ,   0.   ,   0.   ,  -0.   ,   0.   ,  -0.   ,\n",
       "         0.   ,  -0.   ,  -0.   ,   0.   ,  -0.   ,   0.   ,   0.   ,\n",
       "        -0.   ,  -0.   ,  -0.   ,   0.   ,   0.   ,   0.   ,  -0.   ,\n",
       "         0.   ,  -0.   ,  -0.   ,  -0.   ,   0.   ,  -0.   ,  -0.   ,\n",
       "         0.   ,  -0.   ,  -0.   ,   0.   ,  -0.   ,  -0.   ,  -0.   ,\n",
       "        -0.   ,   0.   ,   0.   ,  -0.   ,   0.   ,  -0.   ,   0.   ,\n",
       "        -0.   ,   0.   ,  -0.   ,   0.   ,   0.   ,   0.   ,   0.   ,\n",
       "        -0.   ,  -0.   ,   0.   ,  -0.   ,  -0.   ,   0.   ,  -0.   ,\n",
       "        -0.   ,   0.   ,  -0.   ,   0.   ,   0.   ,   0.   ,  -0.   ,\n",
       "        -0.   ,   0.   ,   0.   ,   0.   ,  -0.   ,   0.   ,  -0.   ,\n",
       "        -0.   ,  -0.   ,   0.   ,   0.   ,  -0.   ,   0.   ,  -0.   ,\n",
       "         0.   ,   0.   ,   0.   ,   0.   ,   0.   ,  -0.   ,   0.   ,\n",
       "         0.   ,  -0.   ,   0.   ,  -0.   ,  -0.   ,   0.   ,   0.   ,\n",
       "        -0.   ,   0.   ,   0.   ,   0.   ,   0.   ,  -0.   ,   0.   ,\n",
       "         0.   ,   0.   ,   0.   ,   0.   ,  -0.   ,  -0.   ,  -0.   ,\n",
       "        -0.   ,   0.   ,   0.   ,   0.   ,   0.   ,   0.   ,  -0.   ,\n",
       "         0.   ,   0.   ,  -0.   ,   0.   ,  -0.   ,   0.   ,  -0.   ,\n",
       "         0.   ,   0.   ,   0.   ,   0.   ,  -0.   ,  31.651,  -0.   ,\n",
       "         0.   ,  -0.   ,   0.   ,   0.   ,  -0.   ,   0.   ,  -0.   ])"
      ]
     },
     "execution_count": 122,
     "metadata": {},
     "output_type": "execute_result"
    }
   ],
   "source": [
    "# After run model_experiment with complexity == 'polynomial'\n",
    "\n",
    "lr_ols = trained_models['ols']\n",
    "lr_lasso = trained_models['lasso']\n",
    "lr_ridge =trained_models['ridge']\n",
    "\n",
    "# check the coefficients from Lasso\n",
    "lr_lasso.coef_\n",
    "\n",
    "# compare them with OLS/Ridge models.\n"
   ]
  },
  {
   "cell_type": "code",
   "execution_count": 125,
   "metadata": {
    "scrolled": true
   },
   "outputs": [
    {
     "data": {
      "text/plain": [
       "array([  0.   , -28.739,  51.753,  52.133,   8.164,  -6.361,  -1.424,\n",
       "        -1.363,  -0.337,  -0.208,  16.527,   0.674, -13.022, -11.117,\n",
       "       -12.102,  -2.273,  -0.704,   9.254,   1.588,   1.59 ,   3.44 ,\n",
       "         3.984,  -5.031,   7.346,   6.8  ,   0.902,  -4.395,   1.347,\n",
       "        -9.183, -10.292,  -0.422,  -8.509,   9.012,   6.256,   0.871,\n",
       "        -3.995,   1.767,  -9.807,  -8.971,  -0.617,  -8.179,   9.757,\n",
       "         1.581,  -2.146,   0.595, -10.934,   2.73 ,  -4.953,  -5.902,\n",
       "         6.777,  -3.856,  -0.302,   5.336,   3.162,  -4.136,  -4.814,\n",
       "         0.042,   0.878,  -3.807,  -0.634,   0.089,   4.065,  -1.077,\n",
       "        -1.363,   1.465,  -1.156,  -0.036,  -4.077,  -0.337,   2.516,\n",
       "         2.642,   3.66 ,  -0.208,  -0.542,   0.656,  16.527,  -2.949,\n",
       "        -0.674, -12.591,  -2.494,  -2.944,   1.808,  -6.109,   3.953,\n",
       "         4.886,   6.839,  -3.68 ,   5.851,  -0.557,   1.762,   1.461,\n",
       "        -4.082,  -1.949,   2.525,   5.208,   2.951,  -0.011,   3.307,\n",
       "         2.241,   1.132,  -3.932,  -1.774,   3.086,   5.406,   3.299,\n",
       "         0.131,   3.508,   1.241,  -8.177,   5.222,  -1.633,   3.028,\n",
       "        -1.762,  -3.386,  -3.683,   6.026, -18.752,   2.535,   1.981,\n",
       "        -0.29 ,   4.93 ,   4.298,   3.91 , -18.1  ,  -1.593,  -9.023,\n",
       "        -1.377,  -1.001,   1.899, -18.35 ,  10.021,  -1.185,  -2.585,\n",
       "         1.784, -15.649,  -3.354,   1.092,   2.279, -28.74 ,  -0.081,\n",
       "        -1.381,  -5.353,   6.761, -27.602,   8.211,   8.058,  -4.645,\n",
       "         2.153,  -2.59 ,   4.822,  -0.066,   2.236,  -6.266,   5.108,\n",
       "         7.955,  -3.494,   2.217,  -2.471,   4.73 ,   0.167,   2.814,\n",
       "        -6.061,   4.396,  19.083,   3.382,   2.191,  -3.339,   1.901,\n",
       "         9.856,  -6.187,  -5.538,  22.695,  -6.575,  -7.275,   1.457,\n",
       "        -0.904,  -2.357,   1.285,  20.094,   2.937,   1.676,  -0.814,\n",
       "        -1.143,   0.311,  27.454,  -7.687,  -5.303,   0.329,  -2.243,\n",
       "        24.223,  -1.736,   1.567,  -8.633,  51.802,  -3.416,  -1.381,\n",
       "        12.565,  -1.88 ,  48.146,   7.904,  -2.35 ,   2.349,  -2.362,\n",
       "         4.664,   0.383,   3.203,  -5.694,   3.656,  19.436,   3.905,\n",
       "         1.915,  -2.19 ,   1.361,   7.493,  -4.71 ,  -5.636,  22.976,\n",
       "        -5.285,  -5.978,   1.175,  -2.217,  -3.34 ,   1.018,  19.685,\n",
       "         2.423,   2.349,  -1.158,  -2.347,   0.898,  27.433,  -8.491,\n",
       "        -3.919,  -0.157,  -2.142,  25.468,  -3.013,   1.33 ,  -8.181,\n",
       "        52.178,  -4.653,  -0.768,  12.785,  -1.637,  47.87 ,   4.237,\n",
       "         0.721,  -3.534,  -2.715,  -4.295,  -2.39 ,   9.663,   4.216,\n",
       "         8.195,   4.825,   2.645,   0.559,  10.462,  -0.346,   0.184,\n",
       "        -5.022,  -5.316,   9.194,   6.082,  -7.37 ,  -4.459,  -2.443,\n",
       "         2.832,   5.58 ,   6.482,   2.967,   8.468,  -7.495,   1.055,\n",
       "        -5.177,   8.085,  -0.206,  -3.22 ,  -2.669,   4.5  ,   4.796,\n",
       "        -3.425,   0.76 ,   1.403,  -2.805,  -3.064,  10.041,  -6.844,\n",
       "         3.815,   1.291,   0.626,   2.874,   8.511,   6.939,  -0.399,\n",
       "        -3.68 ,   4.052,  -1.835,   3.124,  -1.73 ,   7.9  ,  -3.116,\n",
       "         0.918,  -6.419,  -1.384,   9.058,  -7.147,   4.402,  -5.842,\n",
       "         0.982,  -0.046,   5.263,   0.719,   9.744,  -2.734,  -3.723,\n",
       "         4.186,  -4.741,   1.899,  -0.289,  -1.51 ,   1.641,  -0.967,\n",
       "        -2.41 ,  -1.423,  -1.92 ,   7.27 ,   3.295,  -4.372,  -0.842,\n",
       "        -1.363,   0.902,  -0.99 ,  12.009,  -2.544,  -0.265,  -0.99 ,\n",
       "        -9.467,  -0.169,  -1.379,   4.158,   3.025,  -0.524, -10.627,\n",
       "         0.445,  -0.337,   1.775,  11.512,   3.204,  -0.306,  -2.447,\n",
       "         3.24 ,   2.335,   3.046,  -1.809,  -0.208,  16.552,   0.683,\n",
       "        -0.577,  -2.363,  -0.464,  16.527,  -2.516,  14.561,   0.674])"
      ]
     },
     "execution_count": 125,
     "metadata": {},
     "output_type": "execute_result"
    }
   ],
   "source": [
    "# check the coefficients from Lasso\n",
    "lr_ridge.coef_\n",
    "\n",
    "# compare them with OLS/Ridge models."
   ]
  },
  {
   "cell_type": "markdown",
   "metadata": {},
   "source": [
    "__Effect of Scaling Data__"
   ]
  },
  {
   "cell_type": "code",
   "execution_count": 126,
   "metadata": {},
   "outputs": [
    {
     "data": {
      "text/plain": [
       "(array([37., 19., 18.,  8.,  9.,  2.,  2.,  2.,  1.,  2.]),\n",
       " array([-1.055, -0.585, -0.114,  0.357,  0.827,  1.298,  1.769,  2.24 ,\n",
       "         2.71 ,  3.181,  3.652]),\n",
       " <a list of 10 Patch objects>)"
      ]
     },
     "execution_count": 126,
     "metadata": {},
     "output_type": "execute_result"
    },
    {
     "data": {
      "image/png": "[encoded data removed]",
      "text/plain": [
       "<Figure size 432x288 with 1 Axes>"
      ]
     },
     "metadata": {
      "needs_background": "light"
     },
     "output_type": "display_data"
    }
   ],
   "source": [
    "x = np.random.exponential(scale = 3, size = 100)\n",
    "\n",
    "plt.hist(x)\n",
    "\n",
    "\n",
    "x_scaled = (x - x.mean())/x.std(ddof = 1)\n",
    "\n",
    "\n",
    "plt.hist(x_scaled)"
   ]
  },
  {
   "cell_type": "markdown",
   "metadata": {},
   "source": [
    "__Normalization__"
   ]
  },
  {
   "cell_type": "code",
   "execution_count": 131,
   "metadata": {},
   "outputs": [
    {
     "data": {
      "text/plain": [
       "(array([37., 19., 18.,  8.,  9.,  2.,  2.,  2.,  1.,  2.]),\n",
       " array([-0.073, -0.04 , -0.008,  0.025,  0.057,  0.089,  0.122,  0.154,\n",
       "         0.186,  0.219,  0.251]),\n",
       " <a list of 10 Patch objects>)"
      ]
     },
     "execution_count": 131,
     "metadata": {},
     "output_type": "execute_result"
    },
    {
     "data": {
      "image/png": "[encoded data removed]",
      "text/plain": [
       "<Figure size 432x288 with 1 Axes>"
      ]
     },
     "metadata": {
      "needs_background": "light"
     },
     "output_type": "display_data"
    }
   ],
   "source": [
    "plt.subplot(1)\n",
    "x_normalized = (x - x.mean())/np.sqrt(x.dot(x))\n",
    "plt.hist(x)\n"
   ]
  },
  {
   "cell_type": "markdown",
   "metadata": {},
   "source": [
    "\n",
    "\n",
    "#### Effect of $\\alpha$ in Lasso and Ridge\n",
    "\n",
    "<img src=\"lasso_effect_of_lambda.png\" alt=\"Lasso-Lambda\" style=\"width: 500px;\"/>\n",
    "\n",
    "<img src=\"ridge_effect_of_lambda.png\" alt=\"Lasso-Lambda\" style=\"width: 500px;\"/>\n",
    "\n",
    "<a name='questions'></a>\n",
    "\n",
    "\n",
    "#### Appendix\n",
    "<a name='appendix'></a>\n",
    "\n",
    "Here I would like to add some reading material that I found useful while working with the code.\n",
    "\n",
    "\n",
    "- [pd.get_dummies or OneHotEncoder? - Read second answer](https://stackoverflow.com/questions/36631163/pandas-get-dummies-vs-sklearns-onehotencoder-what-are-the-pros-and-cons)\n",
    "\n",
    "- [On dummy variable trap](https://www.algosome.com/articles/dummy-variable-trap-regression.html)\n",
    "\n",
    "- [sklearn.preprocessing.PolynomialFeatures documentation](https://scikit-learn.org/stable/modules/generated/sklearn.preprocessing.PolynomialFeatures.html)\n",
    "\n",
    "- [A great notebook on Lasso and Ridge](https://github.com/gokererdogan/JaverianaMLCourse/blob/master/Lectures/05.pdf)\n",
    "\n",
    "- [Another good blog post on Lasso and Ridge](https://www.analyticsvidhya.com/blog/2016/01/complete-tutorial-ridge-lasso-regression-python/)\n",
    "\n",
    "- Learn.co -- Section-28 Lasso-Ridge\n",
    "\n",
    "- [Toward Datascience Article](https://towardsdatascience.com/understanding-the-bias-variance-tradeoff-165e6942b229)\n",
    "\n",
    "- [ISLR](http://faculty.marshall.usc.edu/gareth-james/ISL/) 2.2.2 The Bias-Variance Trade-off and 6.2 Shrinkage Methods\n",
    "\n",
    "\n",
    "\n",
    "\n",
    "Image Sources in order of appearance: \n",
    "- https://docs.aws.amazon.com/machine-learning/latest/dg/model-fit-underfitting-vs-overfitting.html\n",
    "\n",
    "- https://towardsdatascience.com/ensemble-methods-bagging-boosting-and-stacking-c9214a10a205\n",
    "\n",
    "\n"
   ]
  }
 ],
 "metadata": {
  "celltoolbar": "Initialization Cell",
  "kernelspec": {
   "display_name": "Python 3",
   "language": "python",
   "name": "python3"
  },
  "language_info": {
   "codemirror_mode": {
    "name": "ipython",
    "version": 3
   },
   "file_extension": ".py",
   "mimetype": "text/x-python",
   "name": "python",
   "nbconvert_exporter": "python",
   "pygments_lexer": "ipython3",
   "version": "3.7.3"
  },
  "latex_envs": {
   "LaTeX_envs_menu_present": true,
   "autoclose": false,
   "autocomplete": true,
   "bibliofile": "biblio.bib",
   "cite_by": "apalike",
   "current_citInitial": 1,
   "eqLabelWithNumbers": true,
   "eqNumInitial": 1,
   "hotkeys": {
    "equation": "Ctrl-E",
    "itemize": "Ctrl-I"
   },
   "labels_anchors": false,
   "latex_user_defs": false,
   "report_style_numbering": false,
   "user_envs_cfg": false
  },
  "toc": {
   "base_numbering": 1,
   "nav_menu": {},
   "number_sections": true,
   "sideBar": true,
   "skip_h1_title": false,
   "title_cell": "Table of Contents",
   "title_sidebar": "Contents",
   "toc_cell": false,
   "toc_position": {},
   "toc_section_display": true,
   "toc_window_display": false
  },
  "varInspector": {
   "cols": {
    "lenName": 16,
    "lenType": 16,
    "lenVar": 40
   },
   "kernels_config": {
    "python": {
     "delete_cmd_postfix": "",
     "delete_cmd_prefix": "del ",
     "library": "var_list.py",
     "varRefreshCmd": "print(var_dic_list())"
    },
    "r": {
     "delete_cmd_postfix": ") ",
     "delete_cmd_prefix": "rm(",
     "library": "var_list.r",
     "varRefreshCmd": "cat(var_dic_list()) "
    }
   },
   "oldHeight": 122,
   "position": {
    "height": "40px",
    "left": "1778px",
    "right": "20px",
    "top": "120px",
    "width": "250px"
   },
   "types_to_exclude": [
    "module",
    "function",
    "builtin_function_or_method",
    "instance",
    "_Feature"
   ],
   "varInspector_section_display": "none",
   "window_display": false
  }
 },
 "nbformat": 4,
 "nbformat_minor": 4
}
