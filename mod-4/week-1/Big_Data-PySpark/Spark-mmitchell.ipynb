{
 "cells": [
  {
   "cell_type": "markdown",
   "metadata": {
    "slideshow": {
     "slide_type": "slide"
    }
   },
   "source": [
    "# Spark Machine learning \n",
    "\n",
    "### Learning goals:\n",
    "- align the relationships between Hadoop, Spark, and Databricks\n",
    "- differentiate between Spark RDDs and Spark Dataframes and when each is appropriate\n",
    "- locate and explore the Spark.ML documentation\n",
    "- code along a text classification problem using four different ml algorithms, a data prep pipeline, and gridsearch to fine tune a model"
   ]
  },
  {
   "cell_type": "markdown",
   "metadata": {
    "slideshow": {
     "slide_type": "slide"
    }
   },
   "source": [
    "# Spark context and concepts review\n",
    "![sparkler](https://images.pexels.com/photos/285173/pexels-photo-285173.jpeg?auto=compress&cs=tinysrgb&dpr=2&h=750&w=1260)"
   ]
  },
  {
   "cell_type": "markdown",
   "metadata": {
    "slideshow": {
     "slide_type": "slide"
    }
   },
   "source": [
    "# The story of Spark (in diagrams)"
   ]
  },
  {
   "cell_type": "markdown",
   "metadata": {
    "slideshow": {
     "slide_type": "slide"
    }
   },
   "source": [
    "## Start with Hadoop\n",
    "![diagram of hadoop v1 compared to hadoop v2](http://hortonworks.com/wp-content/uploads/2013/05/yarn.png)\n",
    "[diagram source](https://sites.google.com/site/codingbughunter/hadoop/yarn-general-discribe)"
   ]
  },
  {
   "cell_type": "markdown",
   "metadata": {
    "slideshow": {
     "slide_type": "slide"
    }
   },
   "source": [
    "## Yarn facilitates the resource allocation between Spark and the HDFS\n",
    "### YARN = Yet Another Resource Negotiator\n",
    "#### YARN is a subproduct of Hadoop\n",
    "![yarn diagram with spark](http://hortonworks.com/wp-content/uploads/2013/06/YARN.png)\n",
    "\n",
    "[diagram source](https://sites.google.com/site/codingbughunter/hadoop/yarn-general-discribe)"
   ]
  },
  {
   "cell_type": "markdown",
   "metadata": {
    "slideshow": {
     "slide_type": "slide"
    }
   },
   "source": [
    "## Then visualize the Spark ecosystem built on top of that\n",
    "\n",
    "![diagram of spark eco system components](https://www.kdnuggets.com/wp-content/uploads/spark-ecosystem.jpg)\n"
   ]
  },
  {
   "cell_type": "markdown",
   "metadata": {
    "slideshow": {
     "slide_type": "slide"
    }
   },
   "source": [
    "## Databricks provides wrap around services around _that_\n",
    "![databricks architecture diagram](https://verify-img-thumb.s3.amazonaws.com/Databricks_product.png/400px-Databricks_product.png)\n",
    "[diagram source](https://verify.wiki/wiki/Databricks)"
   ]
  },
  {
   "cell_type": "markdown",
   "metadata": {
    "slideshow": {
     "slide_type": "slide"
    }
   },
   "source": [
    "# The story of Spark (a timeline)\n",
    "\n",
    "|<p align=\"left justify\">Date</p>|<p align=\"left justify\">Product</p>|<p align=\"left justify\">Update</p>|\n",
    "|:----|:-----|:-----|\n",
    "| 2002 | Hadoop | <p align=\"left justify\">Doug Cutting starts `Apache Nutch` researching sort/merge processing</p> |\n",
    "| 2006 | Hadoop |  <p align=\"left justify\">Leaves `Nutch` and joins `Yahoo`, renaming the project `Hadoop` </p>|\n",
    "| 2008 | Hadoop |  <p align=\"left justify\">`Hadoop` was made `Apache’s` top level project </p> |\n",
    "| Jan 2008 | Hadoop |  <p align=\"left justify\">v 0.10.1 released </p>|\n",
    "| 2009 | Spark | <p align=\"left justify\">started as a research project at the UC Berkeley AMPLab  </p>|\n",
    "| 2010 | Spark |  <p align=\"left justify\">open sourced </p>|\n",
    "| Sept 2012 | Spark |  <p align=\"left justify\">0.6.0 released </p>|\n",
    "| 2013 | Spark |  <p align=\"left justify\">moved to the `Apache` Software Foundation </p>|\n",
    "| Feb 2013| Spark |  <p align=\"left justify\">Spark 0.7 adds a Python API called `PySpark` </p>|\n",
    "| Sept 2013 | Spark | <p align=\"left justify\">0.8.0 introduces `MLlib` </p>|\n",
    "| 2013 | Databricks |  <p align=\"left justify\">Original Spark research team at UC Berkeley found Databricks</p> |\n",
    "| May 2014 |Spark |  <p align=\"left justify\">v 1.0 introduces Spark SQL, for loading and manipulating structured data in Spark</p>|\n",
    "| Sept 2014 | Spark|  <p align=\"left justify\">v 1.1.0 provided support for registering Python lambda funtions as UDFs</p>|\n",
    "|Mar 2015 | Spark | <p align=\"left justify\"> v 1.3.0 brings a new DataFrame API</p> |\n",
    "| Jun 2015 | Spark | <p align=\"left justify\"> v 1.4.0 brings an R API to Spark</p> |\n",
    "| 2015 | Databricks | <p align=\"left justify\"> The Databricks Apache Spark cloud platform goes public</p> |\n",
    "| Jan 2016|  Spark | <p align=\"left justify\"> v 1.6.0 brings a new Dataset API <br> - A new Spark API, similar to RDDs, that allows users to work with custom objects and lambda functions while still gaining the benefits of the Spark SQL execution engine.</p> |\n",
    "| Jul 2016 | Spark | <p align=\"left justify\"> v 2.0.0 **big update**! <Br> - Unifying DataFrame and Dataset: In Scala and Java, DataFrame and Dataset have been unified, i.e. DataFrame is just a type alias for Dataset of Row. In Python and R, given the lack of type safety, DataFrame is the main programming interface. <br> - SparkSession: new entry point that replaces the old SQLContext<br>- Native CSV data source, based on Databricks’ spark-csv module<br>- MLlib - The DataFrame-based API is now the primary API. The RDD-based API is entering maintenance mode </p> |\n",
    "| 2016 | Databricks | <p align=\"left justify\"> Databricks Launches Free Community Edition As Companion To Free Online Spark Courses </p>|\n",
    "| Jul 2017| Spark | <p align=\"left justify\"> v 2.2.0 drops support for Python 2.6 |\n",
    "| Nov 2018 | Spark | <p align=\"left justify\"> v 2.4.0<br> - This release adds Barrier Execution Mode for better integration with deep learning frameworks<br> - more integration between pandas UDF and spark DataFrames </p>|\n"
   ]
  },
  {
   "cell_type": "markdown",
   "metadata": {
    "slideshow": {
     "slide_type": "slide"
    }
   },
   "source": [
    "# Spark data objects\n",
    "\n",
    "![diagram of definitions of Spark objects from databricks](https://databricks.com/wp-content/uploads/2018/05/rdd-1024x595.png)\n",
    "\n",
    "RDD = Resilient Distributed Dataset"
   ]
  },
  {
   "cell_type": "markdown",
   "metadata": {
    "slideshow": {
     "slide_type": "slide"
    }
   },
   "source": [
    "## In Pyspark there are only RDD and DataFrames\n",
    "\n",
    "In other languages where \"compiling\" is done, there is the distinction between DataFrames and DataSet. \n",
    "\n",
    "![dataframe image](https://databricks.com/wp-content/uploads/2018/05/DataFrames.png)"
   ]
  },
  {
   "cell_type": "markdown",
   "metadata": {
    "slideshow": {
     "slide_type": "slide"
    }
   },
   "source": [
    "## Differences between objects:\n",
    "![memory usage](https://databricks.com/wp-content/uploads/2016/07/memory-usage-when-caching-datasets-vs-rdds.png)"
   ]
  },
  {
   "cell_type": "markdown",
   "metadata": {
    "slideshow": {
     "slide_type": "slide"
    }
   },
   "source": [
    "### Use an RDD when:\n",
    "[quoted from databricks](https://databricks.com/blog/2016/07/14/a-tale-of-three-apache-spark-apis-rdds-dataframes-and-datasets.html)\n",
    "\n",
    "> - you want low-level transformation and actions and control on your dataset;\n",
    "> - your data is unstructured, such as media streams or streams of text;\n",
    "> - you want to manipulate your data with functional programming constructs than domain specific expressions;\n",
    "> - you don’t care about imposing a schema, such as columnar format, while processing or accessing data attributes by name or column"
   ]
  },
  {
   "cell_type": "markdown",
   "metadata": {
    "slideshow": {
     "slide_type": "slide"
    }
   },
   "source": [
    "### Use a dataframe when:\n",
    "[also quoted from databricks](https://databricks.com/blog/2016/07/14/a-tale-of-three-apache-spark-apis-rdds-dataframes-and-datasets.html)\n",
    "\n",
    "\n",
    "> - you want rich semantics, high-level abstractions, and domain specific APIs, use DataFrame\n",
    "> - your processing demands high-level expressions, filters, maps, aggregation, averages, sum, SQL queries, columnar access and use of lambda functions on semi-structured data, use DataFrame\n",
    "> - you want higher degree of type-safety at compile time, want typed JVM objects, take advantage of Catalyst optimization, and benefit from Tungsten’s efficient code generation, use Dataset.\n",
    "> - you want unification and simplification of APIs across Spark Libraries, use DataFrame or Dataset.\n",
    "> - If you are a R user, use DataFrames.\n",
    "> - If you are a Python user, use DataFrames and resort back to RDDs if you need more control.\n",
    "\n",
    "**Note**: Machine learning algorithms are run on _DataFrames_"
   ]
  },
  {
   "cell_type": "markdown",
   "metadata": {
    "slideshow": {
     "slide_type": "slide"
    }
   },
   "source": [
    "## Review:\n",
    "\n",
    "- You are grabbing live tweets about the CW show 'Jane the Virgin' for later analysis. In the Spark ecosystem, where should you store them? an RDD or a DataFrame?\n",
    "\n",
    "- You have an RDD of data that you wish to use to build a predictive model. Should you leave it as an RDD or transform it to a DataFrame?\n"
   ]
  },
  {
   "cell_type": "markdown",
   "metadata": {},
   "source": [
    "SOLUTION:\n",
    "\n",
    "- RDD\n",
    "\n",
    "- Dataframe"
   ]
  },
  {
   "cell_type": "markdown",
   "metadata": {
    "slideshow": {
     "slide_type": "slide"
    }
   },
   "source": [
    "# Machine learning in Spark\n",
    "![bbc logo](https://www.nwcu.police.uk/wp-content/uploads/2013/05/BBC-News.png)\n",
    "\n",
    "Section influenced by [this analysis of twitter data](https://wesslen.github.io/twitter/predicting_twitter_profile_location_with_pyspark/)"
   ]
  },
  {
   "cell_type": "markdown",
   "metadata": {
    "slideshow": {
     "slide_type": "slide"
    }
   },
   "source": [
    "## The return of Greg\n",
    "\n",
    "![greg](https://canada.national.edu/wp-content/uploads/2018/05/iStock-504858574.jpg)"
   ]
  },
  {
   "cell_type": "markdown",
   "metadata": {
    "slideshow": {
     "slide_type": "slide"
    }
   },
   "source": [
    "## Greg's life is full of pain\n",
    "\n",
    "Greg has become really tired of his boss asking him to do all these random things.<br>\n",
    "**First** she had him learn Object Oriented Programming and it's been down hill ever since.<br>\n",
    "**Now** she's wanting him to send her a summary of political news from the BBC each day.<br>\n",
    "The problem is it takes him hours just to sort through the BBC website to get *just* the political articles that interest her."
   ]
  },
  {
   "cell_type": "markdown",
   "metadata": {
    "slideshow": {
     "slide_type": "slide"
    }
   },
   "source": [
    "## But wait!\n",
    "What if rather than sorting through them himself he could build a classification model that will sort only the ones he needs?"
   ]
  },
  {
   "cell_type": "markdown",
   "metadata": {
    "slideshow": {
     "slide_type": "slide"
    }
   },
   "source": [
    "### Create spark context"
   ]
  },
  {
   "cell_type": "code",
   "execution_count": 1,
   "metadata": {
    "scrolled": true,
    "slideshow": {
     "slide_type": "slide"
    }
   },
   "outputs": [],
   "source": [
    "import pyspark\n",
    "spark = pyspark.sql.SparkSession.builder.getOrCreate()\n",
    "sc = spark.sparkContext"
   ]
  },
  {
   "cell_type": "code",
   "execution_count": 2,
   "metadata": {
    "scrolled": true,
    "slideshow": {
     "slide_type": "slide"
    }
   },
   "outputs": [
    {
     "data": {
      "text/html": [
       "\n",
       "            <div>\n",
       "                <p><b>SparkSession - in-memory</b></p>\n",
       "                \n",
       "        <div>\n",
       "            <p><b>SparkContext</b></p>\n",
       "\n",
       "            <p><a href=\"http://b077b87590bc:4040\">Spark UI</a></p>\n",
       "\n",
       "            <dl>\n",
       "              <dt>Version</dt>\n",
       "                <dd><code>v3.0.0</code></dd>\n",
       "              <dt>Master</dt>\n",
       "                <dd><code>local[*]</code></dd>\n",
       "              <dt>AppName</dt>\n",
       "                <dd><code>pyspark-shell</code></dd>\n",
       "            </dl>\n",
       "        </div>\n",
       "        \n",
       "            </div>\n",
       "        "
      ],
      "text/plain": [
       "<pyspark.sql.session.SparkSession at 0x7f68505280a0>"
      ]
     },
     "execution_count": 2,
     "metadata": {},
     "output_type": "execute_result"
    }
   ],
   "source": [
    "spark"
   ]
  },
  {
   "cell_type": "code",
   "execution_count": 3,
   "metadata": {
    "slideshow": {
     "slide_type": "slide"
    }
   },
   "outputs": [
    {
     "data": {
      "text/html": [
       "\n",
       "        <div>\n",
       "            <p><b>SparkContext</b></p>\n",
       "\n",
       "            <p><a href=\"http://b077b87590bc:4040\">Spark UI</a></p>\n",
       "\n",
       "            <dl>\n",
       "              <dt>Version</dt>\n",
       "                <dd><code>v3.0.0</code></dd>\n",
       "              <dt>Master</dt>\n",
       "                <dd><code>local[*]</code></dd>\n",
       "              <dt>AppName</dt>\n",
       "                <dd><code>pyspark-shell</code></dd>\n",
       "            </dl>\n",
       "        </div>\n",
       "        "
      ],
      "text/plain": [
       "<SparkContext master=local[*] appName=pyspark-shell>"
      ]
     },
     "execution_count": 3,
     "metadata": {},
     "output_type": "execute_result"
    }
   ],
   "source": [
    "sc"
   ]
  },
  {
   "cell_type": "markdown",
   "metadata": {
    "slideshow": {
     "slide_type": "slide"
    }
   },
   "source": [
    "### Read in our dataset of articles"
   ]
  },
  {
   "cell_type": "code",
   "execution_count": 4,
   "metadata": {
    "scrolled": true,
    "slideshow": {
     "slide_type": "slide"
    }
   },
   "outputs": [],
   "source": [
    "bbc = spark.read.csv(path='bbc-text.csv',sep=',',encoding='UTF-8', header=True,inferSchema=True)"
   ]
  },
  {
   "cell_type": "code",
   "execution_count": 5,
   "metadata": {
    "scrolled": true,
    "slideshow": {
     "slide_type": "slide"
    }
   },
   "outputs": [],
   "source": [
    "def show(df, n=5):\n",
    "    return df.limit(n).toPandas()"
   ]
  },
  {
   "cell_type": "markdown",
   "metadata": {
    "slideshow": {
     "slide_type": "slide"
    }
   },
   "source": [
    "### Do some basic data exploration"
   ]
  },
  {
   "cell_type": "code",
   "execution_count": 6,
   "metadata": {},
   "outputs": [
    {
     "data": {
      "text/plain": [
       "pyspark.sql.dataframe.DataFrame"
      ]
     },
     "execution_count": 6,
     "metadata": {},
     "output_type": "execute_result"
    }
   ],
   "source": [
    "type(bbc)"
   ]
  },
  {
   "cell_type": "code",
   "execution_count": 7,
   "metadata": {
    "scrolled": true,
    "slideshow": {
     "slide_type": "slide"
    }
   },
   "outputs": [
    {
     "data": {
      "text/plain": [
       "['category', 'text']"
      ]
     },
     "execution_count": 7,
     "metadata": {},
     "output_type": "execute_result"
    }
   ],
   "source": [
    "bbc.columns"
   ]
  },
  {
   "cell_type": "code",
   "execution_count": 8,
   "metadata": {
    "scrolled": true,
    "slideshow": {
     "slide_type": "slide"
    }
   },
   "outputs": [
    {
     "data": {
      "text/plain": [
       "[('category', 'string'), ('text', 'string')]"
      ]
     },
     "execution_count": 8,
     "metadata": {},
     "output_type": "execute_result"
    }
   ],
   "source": [
    "bbc.dtypes"
   ]
  },
  {
   "cell_type": "code",
   "execution_count": 9,
   "metadata": {
    "scrolled": true,
    "slideshow": {
     "slide_type": "slide"
    }
   },
   "outputs": [
    {
     "name": "stdout",
     "output_type": "stream",
     "text": [
      "root\n",
      " |-- category: string (nullable = true)\n",
      " |-- text: string (nullable = true)\n",
      "\n"
     ]
    }
   ],
   "source": [
    "bbc.printSchema()"
   ]
  },
  {
   "cell_type": "code",
   "execution_count": 10,
   "metadata": {
    "scrolled": true,
    "slideshow": {
     "slide_type": "slide"
    }
   },
   "outputs": [
    {
     "data": {
      "text/html": [
       "<div>\n",
       "<style scoped>\n",
       "    .dataframe tbody tr th:only-of-type {\n",
       "        vertical-align: middle;\n",
       "    }\n",
       "\n",
       "    .dataframe tbody tr th {\n",
       "        vertical-align: top;\n",
       "    }\n",
       "\n",
       "    .dataframe thead th {\n",
       "        text-align: right;\n",
       "    }\n",
       "</style>\n",
       "<table border=\"1\" class=\"dataframe\">\n",
       "  <thead>\n",
       "    <tr style=\"text-align: right;\">\n",
       "      <th></th>\n",
       "      <th>category</th>\n",
       "      <th>text</th>\n",
       "    </tr>\n",
       "  </thead>\n",
       "  <tbody>\n",
       "    <tr>\n",
       "      <th>0</th>\n",
       "      <td>tech</td>\n",
       "      <td>tv future in the hands of viewers with home th...</td>\n",
       "    </tr>\n",
       "    <tr>\n",
       "      <th>1</th>\n",
       "      <td>business</td>\n",
       "      <td>worldcom boss  left books alone  former worldc...</td>\n",
       "    </tr>\n",
       "    <tr>\n",
       "      <th>2</th>\n",
       "      <td>sport</td>\n",
       "      <td>tigers wary of farrell  gamble  leicester say ...</td>\n",
       "    </tr>\n",
       "    <tr>\n",
       "      <th>3</th>\n",
       "      <td>sport</td>\n",
       "      <td>yeading face newcastle in fa cup premiership s...</td>\n",
       "    </tr>\n",
       "    <tr>\n",
       "      <th>4</th>\n",
       "      <td>entertainment</td>\n",
       "      <td>ocean s twelve raids box office ocean s twelve...</td>\n",
       "    </tr>\n",
       "    <tr>\n",
       "      <th>5</th>\n",
       "      <td>politics</td>\n",
       "      <td>howard hits back at mongrel jibe michael howar...</td>\n",
       "    </tr>\n",
       "    <tr>\n",
       "      <th>6</th>\n",
       "      <td>politics</td>\n",
       "      <td>blair prepares to name poll date tony blair is...</td>\n",
       "    </tr>\n",
       "    <tr>\n",
       "      <th>7</th>\n",
       "      <td>sport</td>\n",
       "      <td>henman hopes ended in dubai third seed tim hen...</td>\n",
       "    </tr>\n",
       "    <tr>\n",
       "      <th>8</th>\n",
       "      <td>sport</td>\n",
       "      <td>wilkinson fit to face edinburgh england captai...</td>\n",
       "    </tr>\n",
       "    <tr>\n",
       "      <th>9</th>\n",
       "      <td>entertainment</td>\n",
       "      <td>last star wars  not for children  the sixth an...</td>\n",
       "    </tr>\n",
       "  </tbody>\n",
       "</table>\n",
       "</div>"
      ],
      "text/plain": [
       "        category                                               text\n",
       "0           tech  tv future in the hands of viewers with home th...\n",
       "1       business  worldcom boss  left books alone  former worldc...\n",
       "2          sport  tigers wary of farrell  gamble  leicester say ...\n",
       "3          sport  yeading face newcastle in fa cup premiership s...\n",
       "4  entertainment  ocean s twelve raids box office ocean s twelve...\n",
       "5       politics  howard hits back at mongrel jibe michael howar...\n",
       "6       politics  blair prepares to name poll date tony blair is...\n",
       "7          sport  henman hopes ended in dubai third seed tim hen...\n",
       "8          sport  wilkinson fit to face edinburgh england captai...\n",
       "9  entertainment  last star wars  not for children  the sixth an..."
      ]
     },
     "execution_count": 10,
     "metadata": {},
     "output_type": "execute_result"
    }
   ],
   "source": [
    "bbc.limit(10).toPandas()"
   ]
  },
  {
   "cell_type": "code",
   "execution_count": 11,
   "metadata": {
    "scrolled": true,
    "slideshow": {
     "slide_type": "slide"
    }
   },
   "outputs": [
    {
     "data": {
      "text/plain": [
       "2225"
      ]
     },
     "execution_count": 11,
     "metadata": {},
     "output_type": "execute_result"
    }
   ],
   "source": [
    "bbc.count()"
   ]
  },
  {
   "cell_type": "code",
   "execution_count": 12,
   "metadata": {
    "scrolled": true,
    "slideshow": {
     "slide_type": "slide"
    }
   },
   "outputs": [
    {
     "name": "stdout",
     "output_type": "stream",
     "text": [
      "+-------------+-----+\n",
      "|     category|count|\n",
      "+-------------+-----+\n",
      "|        sport|  511|\n",
      "|     politics|  417|\n",
      "|entertainment|  386|\n",
      "|     business|  510|\n",
      "|         tech|  401|\n",
      "+-------------+-----+\n",
      "\n"
     ]
    }
   ],
   "source": [
    "bbc.groupBy('category').count().show()"
   ]
  },
  {
   "cell_type": "code",
   "execution_count": 13,
   "metadata": {
    "scrolled": true,
    "slideshow": {
     "slide_type": "slide"
    }
   },
   "outputs": [],
   "source": [
    "# Create a new column of target \"politics\"\n",
    "from pyspark.sql.functions import when, col\n",
    "bbc = bbc.withColumn(\"label\", \\\n",
    "                           (when(col(\"category\").like(\"%politics%\"), 1) \\\n",
    "                           .otherwise(0)))"
   ]
  },
  {
   "cell_type": "code",
   "execution_count": 14,
   "metadata": {
    "scrolled": true,
    "slideshow": {
     "slide_type": "slide"
    }
   },
   "outputs": [],
   "source": [
    "# drop original target column\n",
    "bbc = bbc.drop(bbc.category)"
   ]
  },
  {
   "cell_type": "code",
   "execution_count": 15,
   "metadata": {
    "scrolled": true,
    "slideshow": {
     "slide_type": "slide"
    }
   },
   "outputs": [
    {
     "data": {
      "text/html": [
       "<div>\n",
       "<style scoped>\n",
       "    .dataframe tbody tr th:only-of-type {\n",
       "        vertical-align: middle;\n",
       "    }\n",
       "\n",
       "    .dataframe tbody tr th {\n",
       "        vertical-align: top;\n",
       "    }\n",
       "\n",
       "    .dataframe thead th {\n",
       "        text-align: right;\n",
       "    }\n",
       "</style>\n",
       "<table border=\"1\" class=\"dataframe\">\n",
       "  <thead>\n",
       "    <tr style=\"text-align: right;\">\n",
       "      <th></th>\n",
       "      <th>text</th>\n",
       "      <th>label</th>\n",
       "    </tr>\n",
       "  </thead>\n",
       "  <tbody>\n",
       "    <tr>\n",
       "      <th>0</th>\n",
       "      <td>tv future in the hands of viewers with home th...</td>\n",
       "      <td>0</td>\n",
       "    </tr>\n",
       "    <tr>\n",
       "      <th>1</th>\n",
       "      <td>worldcom boss  left books alone  former worldc...</td>\n",
       "      <td>0</td>\n",
       "    </tr>\n",
       "    <tr>\n",
       "      <th>2</th>\n",
       "      <td>tigers wary of farrell  gamble  leicester say ...</td>\n",
       "      <td>0</td>\n",
       "    </tr>\n",
       "    <tr>\n",
       "      <th>3</th>\n",
       "      <td>yeading face newcastle in fa cup premiership s...</td>\n",
       "      <td>0</td>\n",
       "    </tr>\n",
       "    <tr>\n",
       "      <th>4</th>\n",
       "      <td>ocean s twelve raids box office ocean s twelve...</td>\n",
       "      <td>0</td>\n",
       "    </tr>\n",
       "    <tr>\n",
       "      <th>5</th>\n",
       "      <td>howard hits back at mongrel jibe michael howar...</td>\n",
       "      <td>1</td>\n",
       "    </tr>\n",
       "    <tr>\n",
       "      <th>6</th>\n",
       "      <td>blair prepares to name poll date tony blair is...</td>\n",
       "      <td>1</td>\n",
       "    </tr>\n",
       "    <tr>\n",
       "      <th>7</th>\n",
       "      <td>henman hopes ended in dubai third seed tim hen...</td>\n",
       "      <td>0</td>\n",
       "    </tr>\n",
       "    <tr>\n",
       "      <th>8</th>\n",
       "      <td>wilkinson fit to face edinburgh england captai...</td>\n",
       "      <td>0</td>\n",
       "    </tr>\n",
       "    <tr>\n",
       "      <th>9</th>\n",
       "      <td>last star wars  not for children  the sixth an...</td>\n",
       "      <td>0</td>\n",
       "    </tr>\n",
       "  </tbody>\n",
       "</table>\n",
       "</div>"
      ],
      "text/plain": [
       "                                                text  label\n",
       "0  tv future in the hands of viewers with home th...      0\n",
       "1  worldcom boss  left books alone  former worldc...      0\n",
       "2  tigers wary of farrell  gamble  leicester say ...      0\n",
       "3  yeading face newcastle in fa cup premiership s...      0\n",
       "4  ocean s twelve raids box office ocean s twelve...      0\n",
       "5  howard hits back at mongrel jibe michael howar...      1\n",
       "6  blair prepares to name poll date tony blair is...      1\n",
       "7  henman hopes ended in dubai third seed tim hen...      0\n",
       "8  wilkinson fit to face edinburgh england captai...      0\n",
       "9  last star wars  not for children  the sixth an...      0"
      ]
     },
     "execution_count": 15,
     "metadata": {},
     "output_type": "execute_result"
    }
   ],
   "source": [
    "show(bbc,10)"
   ]
  },
  {
   "cell_type": "code",
   "execution_count": 18,
   "metadata": {},
   "outputs": [
    {
     "data": {
      "text/html": [
       "<div>\n",
       "<style scoped>\n",
       "    .dataframe tbody tr th:only-of-type {\n",
       "        vertical-align: middle;\n",
       "    }\n",
       "\n",
       "    .dataframe tbody tr th {\n",
       "        vertical-align: top;\n",
       "    }\n",
       "\n",
       "    .dataframe thead th {\n",
       "        text-align: right;\n",
       "    }\n",
       "</style>\n",
       "<table border=\"1\" class=\"dataframe\">\n",
       "  <thead>\n",
       "    <tr style=\"text-align: right;\">\n",
       "      <th></th>\n",
       "      <th>text</th>\n",
       "      <th>label</th>\n",
       "    </tr>\n",
       "  </thead>\n",
       "  <tbody>\n",
       "    <tr>\n",
       "      <th>0</th>\n",
       "      <td>tv future in the hands of viewers with home th...</td>\n",
       "      <td>0</td>\n",
       "    </tr>\n",
       "    <tr>\n",
       "      <th>1</th>\n",
       "      <td>worldcom boss  left books alone  former worldc...</td>\n",
       "      <td>0</td>\n",
       "    </tr>\n",
       "    <tr>\n",
       "      <th>2</th>\n",
       "      <td>tigers wary of farrell  gamble  leicester say ...</td>\n",
       "      <td>0</td>\n",
       "    </tr>\n",
       "    <tr>\n",
       "      <th>3</th>\n",
       "      <td>yeading face newcastle in fa cup premiership s...</td>\n",
       "      <td>0</td>\n",
       "    </tr>\n",
       "    <tr>\n",
       "      <th>4</th>\n",
       "      <td>ocean s twelve raids box office ocean s twelve...</td>\n",
       "      <td>0</td>\n",
       "    </tr>\n",
       "    <tr>\n",
       "      <th>5</th>\n",
       "      <td>howard hits back at mongrel jibe michael howar...</td>\n",
       "      <td>1</td>\n",
       "    </tr>\n",
       "    <tr>\n",
       "      <th>6</th>\n",
       "      <td>blair prepares to name poll date tony blair is...</td>\n",
       "      <td>1</td>\n",
       "    </tr>\n",
       "    <tr>\n",
       "      <th>7</th>\n",
       "      <td>henman hopes ended in dubai third seed tim hen...</td>\n",
       "      <td>0</td>\n",
       "    </tr>\n",
       "    <tr>\n",
       "      <th>8</th>\n",
       "      <td>wilkinson fit to face edinburgh england captai...</td>\n",
       "      <td>0</td>\n",
       "    </tr>\n",
       "    <tr>\n",
       "      <th>9</th>\n",
       "      <td>last star wars  not for children  the sixth an...</td>\n",
       "      <td>0</td>\n",
       "    </tr>\n",
       "    <tr>\n",
       "      <th>10</th>\n",
       "      <td>berlin cheers for anti-nazi film a german movi...</td>\n",
       "      <td>0</td>\n",
       "    </tr>\n",
       "    <tr>\n",
       "      <th>11</th>\n",
       "      <td>virgin blue shares plummet 20% shares in austr...</td>\n",
       "      <td>0</td>\n",
       "    </tr>\n",
       "    <tr>\n",
       "      <th>12</th>\n",
       "      <td>crude oil prices back above $50 cold weather a...</td>\n",
       "      <td>0</td>\n",
       "    </tr>\n",
       "    <tr>\n",
       "      <th>13</th>\n",
       "      <td>hague  given up  his pm ambition former conser...</td>\n",
       "      <td>1</td>\n",
       "    </tr>\n",
       "    <tr>\n",
       "      <th>14</th>\n",
       "      <td>moya emotional after davis cup win carlos moya...</td>\n",
       "      <td>0</td>\n",
       "    </tr>\n",
       "    <tr>\n",
       "      <th>15</th>\n",
       "      <td>s korean credit card firm rescued south korea ...</td>\n",
       "      <td>0</td>\n",
       "    </tr>\n",
       "    <tr>\n",
       "      <th>16</th>\n",
       "      <td>howard backs stem cell research michael howard...</td>\n",
       "      <td>1</td>\n",
       "    </tr>\n",
       "    <tr>\n",
       "      <th>17</th>\n",
       "      <td>connors boost for british tennis former world ...</td>\n",
       "      <td>0</td>\n",
       "    </tr>\n",
       "    <tr>\n",
       "      <th>18</th>\n",
       "      <td>japanese banking battle at an end japan s sumi...</td>\n",
       "      <td>0</td>\n",
       "    </tr>\n",
       "    <tr>\n",
       "      <th>19</th>\n",
       "      <td>games maker fights for survival one of britain...</td>\n",
       "      <td>0</td>\n",
       "    </tr>\n",
       "  </tbody>\n",
       "</table>\n",
       "</div>"
      ],
      "text/plain": [
       "                                                 text  label\n",
       "0   tv future in the hands of viewers with home th...      0\n",
       "1   worldcom boss  left books alone  former worldc...      0\n",
       "2   tigers wary of farrell  gamble  leicester say ...      0\n",
       "3   yeading face newcastle in fa cup premiership s...      0\n",
       "4   ocean s twelve raids box office ocean s twelve...      0\n",
       "5   howard hits back at mongrel jibe michael howar...      1\n",
       "6   blair prepares to name poll date tony blair is...      1\n",
       "7   henman hopes ended in dubai third seed tim hen...      0\n",
       "8   wilkinson fit to face edinburgh england captai...      0\n",
       "9   last star wars  not for children  the sixth an...      0\n",
       "10  berlin cheers for anti-nazi film a german movi...      0\n",
       "11  virgin blue shares plummet 20% shares in austr...      0\n",
       "12  crude oil prices back above $50 cold weather a...      0\n",
       "13  hague  given up  his pm ambition former conser...      1\n",
       "14  moya emotional after davis cup win carlos moya...      0\n",
       "15  s korean credit card firm rescued south korea ...      0\n",
       "16  howard backs stem cell research michael howard...      1\n",
       "17  connors boost for british tennis former world ...      0\n",
       "18  japanese banking battle at an end japan s sumi...      0\n",
       "19  games maker fights for survival one of britain...      0"
      ]
     },
     "execution_count": 18,
     "metadata": {},
     "output_type": "execute_result"
    }
   ],
   "source": [
    "bbc.limit(20).toPandas()"
   ]
  },
  {
   "cell_type": "markdown",
   "metadata": {
    "slideshow": {
     "slide_type": "slide"
    }
   },
   "source": [
    "## Machine Learning in Spark\n",
    "\n",
    "Spark's [documentation](https://spark.apache.org/docs/latest/api/python/pyspark.ml.html) is fairly straight forward!  Let's take a look. It shouldn't look *too* different than `sklearn`"
   ]
  },
  {
   "cell_type": "markdown",
   "metadata": {
    "slideshow": {
     "slide_type": "slide"
    }
   },
   "source": [
    "### Data prep pipeline"
   ]
  },
  {
   "cell_type": "code",
   "execution_count": 19,
   "metadata": {
    "scrolled": true,
    "slideshow": {
     "slide_type": "slide"
    }
   },
   "outputs": [],
   "source": [
    "from pyspark.ml.feature import RegexTokenizer, StopWordsRemover, CountVectorizer\n",
    "\n",
    "\n",
    "# regular expression tokenizer\n",
    "regexTokenizer = RegexTokenizer(inputCol=\"text\", outputCol=\"words\", pattern=\"\\\\W\")\n",
    "\n",
    "# stop words\n",
    "add_stopwords = [\"http\",\"https\",\"amp\",\"rt\",\"t\",\"c\",\"can\"] # standard stop words\n",
    "stopwordsRemover = StopWordsRemover(inputCol=\"words\", outputCol=\"filtered\").setStopWords(add_stopwords)\n",
    "\n",
    "# bag of words count\n",
    "countVectors = CountVectorizer(inputCol=\"filtered\", outputCol=\"features\", vocabSize=10000, minDF=5)\n"
   ]
  },
  {
   "cell_type": "code",
   "execution_count": 20,
   "metadata": {
    "scrolled": true,
    "slideshow": {
     "slide_type": "slide"
    }
   },
   "outputs": [],
   "source": [
    "from pyspark.ml import Pipeline\n",
    "\n",
    "pipeline = Pipeline(stages=[regexTokenizer, stopwordsRemover, countVectors])\n",
    "\n",
    "# Fit the pipeline to training documents.\n",
    "pipelineFit = pipeline.fit(bbc)\n",
    "dataset = pipelineFit.transform(bbc)"
   ]
  },
  {
   "cell_type": "code",
   "execution_count": 21,
   "metadata": {
    "scrolled": true,
    "slideshow": {
     "slide_type": "slide"
    }
   },
   "outputs": [
    {
     "name": "stdout",
     "output_type": "stream",
     "text": [
      "Training Dataset Count: 1554\n",
      "Test Dataset Count: 671\n"
     ]
    }
   ],
   "source": [
    "(trainingData, testData) = dataset.randomSplit([0.7, 0.3], seed = 100)\n",
    "print(\"Training Dataset Count: \" + str(trainingData.count()))\n",
    "print(\"Test Dataset Count: \" + str(testData.count()))"
   ]
  },
  {
   "cell_type": "markdown",
   "metadata": {
    "slideshow": {
     "slide_type": "slide"
    }
   },
   "source": [
    "### Logistic Regression"
   ]
  },
  {
   "cell_type": "code",
   "execution_count": 22,
   "metadata": {
    "scrolled": true,
    "slideshow": {
     "slide_type": "slide"
    }
   },
   "outputs": [],
   "source": [
    "from pyspark.ml.classification import LogisticRegression\n",
    "# Build the model\n",
    "lr = LogisticRegression(maxIter=20, regParam=0.3, elasticNetParam=0, family = \"binomial\")\n",
    "\n",
    "# Train model with Training Data\n",
    "lrModel = lr.fit(trainingData)"
   ]
  },
  {
   "cell_type": "code",
   "execution_count": 24,
   "metadata": {},
   "outputs": [
    {
     "data": {
      "text/plain": [
       "DenseVector([0.0003, 0.0004, 0.0002, 0.0001, -0.0003, -0.0008, -0.0026, 0.0008, -0.0005, -0.0001, -0.0013, 0.0018, 0.0087, 0.0038, 0.0072, 0.0035, -0.0024, -0.0, -0.0024, -0.0021, -0.0036, 0.0004, 0.0002, 0.0005, -0.0005, -0.0006, 0.0015, 0.0035, 0.0022, 0.0024, -0.0003, 0.0141, -0.0034, 0.0029, -0.0034, 0.0147, 0.0107, 0.0047, 0.0009, -0.0018, -0.0085, -0.0029, -0.0075, 0.0077, 0.0002, 0.0006, 0.0057, -0.0011, -0.0124, -0.0066, 0.0063, -0.0009, 0.0004, -0.0021, -0.0014, -0.0073, 0.0016, -0.001, 0.0006, -0.0001, 0.0076, -0.0097, -0.0089, -0.0024, -0.0039, -0.002, -0.0083, 0.0175, -0.0019, -0.0088, -0.003, 0.0046, -0.0012, -0.0003, 0.0118, -0.0003, -0.0016, 0.0061, -0.003, 0.0022, -0.008, 0.0055, 0.0031, -0.0027, 0.0033, 0.0132, 0.0196, -0.0141, -0.0032, -0.0087, -0.0058, -0.0077, -0.0094, 0.001, 0.0013, -0.0071, -0.0053, -0.0177, -0.0061, 0.0155, 0.001, 0.0119, 0.0045, 0.0322, -0.0023, -0.0074, 0.0096, 0.0061, -0.0092, -0.0037, -0.0169, -0.0095, 0.0061, 0.0, -0.0066, 0.0008, 0.0035, -0.0143, 0.0088, -0.007, -0.005, -0.0266, 0.0007, 0.0079, 0.041, -0.0121, -0.0097, 0.0011, -0.0061, 0.0021, -0.0187, -0.0086, -0.001, -0.0004, 0.0413, -0.004, -0.0091, 0.0086, -0.0057, -0.0026, -0.0079, -0.0042, 0.0096, -0.0033, -0.0239, -0.0202, 0.0337, -0.0093, -0.01, -0.0127, -0.0016, 0.0116, -0.0168, -0.0041, 0.034, -0.0103, 0.007, -0.0176, -0.0101, 0.0525, -0.0029, -0.0154, 0.029, 0.0076, 0.0224, 0.0155, -0.0045, -0.0043, -0.0069, 0.017, -0.0068, -0.0005, -0.0096, 0.0072, -0.0082, -0.0068, -0.0037, -0.0161, -0.0037, 0.0002, -0.0055, -0.0218, 0.0057, 0.0084, 0.013, 0.0118, -0.0059, -0.0135, -0.0067, -0.0077, 0.0431, 0.0003, -0.0141, -0.0081, 0.0043, -0.0019, 0.0198, -0.0131, 0.014, 0.0038, -0.0004, -0.0084, 0.0056, -0.0101, -0.0013, -0.0141, -0.0016, 0.0084, -0.0099, -0.0057, 0.0389, 0.0006, 0.0012, 0.0065, 0.003, -0.013, -0.0056, -0.0119, 0.0093, -0.0032, 0.0027, -0.023, -0.0025, -0.0144, -0.0088, -0.0266, -0.0036, -0.0215, -0.0219, 0.008, 0.0029, -0.0145, -0.009, -0.0141, 0.0013, -0.016, -0.0044, -0.0092, -0.0264, -0.006, -0.0128, -0.0125, -0.0178, -0.014, 0.0146, -0.0103, -0.0089, 0.0047, -0.0154, -0.0099, 0.0071, -0.0056, -0.0051, -0.0064, -0.0133, -0.0051, -0.0093, -0.0074, -0.0146, -0.0122, -0.0062, 0.0079, -0.0031, -0.022, -0.0143, 0.0028, 0.0497, -0.0121, 0.0292, -0.009, -0.0172, -0.0094, -0.0065, -0.0025, 0.0536, -0.0028, 0.0017, -0.0095, 0.0199, 0.0107, -0.0123, -0.0022, 0.0001, -0.0195, 0.0024, -0.007, -0.0042, -0.0061, -0.017, -0.0129, 0.0, -0.0083, -0.0146, 0.0312, -0.014, -0.0067, -0.0067, 0.0444, -0.004, -0.0123, -0.0007, 0.0054, 0.0009, -0.0033, 0.009, -0.0095, 0.0289, 0.0066, -0.0172, -0.0286, 0.0222, 0.0216, -0.0113, -0.0098, -0.0028, 0.0152, 0.0132, -0.0141, -0.0065, 0.0145, 0.0032, 0.0077, -0.0216, -0.0226, -0.0143, -0.0265, -0.0089, -0.0052, -0.0002, -0.0037, -0.0141, -0.022, -0.0041, -0.0302, -0.0217, -0.016, -0.0068, -0.0163, -0.0069, 0.0011, 0.0053, -0.0105, -0.0045, 0.099, -0.0104, 0.0192, 0.018, 0.0145, 0.0149, -0.0114, -0.0094, -0.0118, 0.0043, 0.0053, 0.0036, -0.016, -0.0045, -0.0041, -0.0147, 0.0009, -0.0099, -0.0221, 0.0024, 0.0904, -0.0046, 0.063, -0.0141, 0.0048, -0.0182, 0.0104, -0.0205, 0.0042, 0.0106, -0.0334, 0.0186, 0.0048, 0.0152, 0.003, -0.0239, 0.0063, 0.019, 0.0203, -0.0234, 0.0096, -0.0094, -0.0183, -0.0233, 0.0071, 0.002, -0.0145, 0.0533, 0.0083, 0.0332, 0.035, -0.0047, -0.0232, 0.0049, 0.0531, -0.0023, 0.03, -0.0098, -0.0132, 0.011, 0.0486, -0.0109, 0.0088, 0.0057, 0.0038, -0.0234, -0.024, -0.0216, 0.0296, -0.007, 0.0021, 0.042, 0.0406, 0.0494, -0.0256, -0.0101, 0.0524, -0.0041, -0.0118, 0.0215, -0.0191, -0.0056, 0.0422, -0.0056, -0.0004, 0.027, -0.0041, -0.008, -0.0178, -0.0078, -0.0141, -0.0141, 0.015, -0.0089, -0.017, -0.0016, 0.0264, -0.0075, 0.0003, -0.0044, 0.0109, 0.0047, -0.0116, 0.0002, -0.0167, -0.0137, -0.0087, -0.0032, 0.0335, 0.0053, -0.0225, 0.066, -0.0094, 0.0138, -0.0317, -0.0011, 0.0113, 0.0004, 0.0491, -0.0026, -0.0263, -0.0056, -0.0042, -0.0003, -0.0194, 0.0096, -0.018, -0.0238, -0.0299, 0.0028, -0.0121, -0.0257, 0.0243, 0.0076, -0.0086, 0.0115, -0.0289, -0.0219, 0.0075, 0.0452, 0.0434, 0.0251, -0.0273, -0.0139, -0.0043, -0.0158, 0.0344, -0.0166, -0.0032, 0.0125, 0.0104, 0.0123, -0.0133, 0.0148, -0.0159, 0.1282, -0.0039, 0.0001, -0.0002, 0.0191, -0.0055, -0.0029, 0.0053, 0.0002, -0.0107, -0.0113, -0.0176, -0.0346, 0.0176, -0.0105, -0.0093, -0.0004, -0.0166, -0.01, 0.0148, -0.0159, 0.0067, 0.0347, -0.0032, -0.0139, -0.0038, -0.0004, -0.0046, 0.0097, -0.0197, -0.018, -0.0017, 0.0012, -0.0124, 0.0249, 0.0033, -0.0127, 0.0122, -0.0127, -0.0046, -0.0067, -0.0198, 0.0107, 0.0074, -0.0172, -0.018, -0.0057, 0.0155, 0.0466, 0.0118, -0.0327, 0.0367, -0.0124, -0.004, 0.0423, 0.0162, 0.0257, 0.0314, -0.0174, -0.0268, 0.0137, -0.0108, -0.0144, -0.0065, -0.0226, 0.0301, 0.0646, 0.0317, -0.0, -0.0051, -0.0145, -0.003, 0.05, 0.0489, -0.0084, -0.004, -0.0149, -0.0014, -0.0191, -0.0181, -0.015, -0.0221, -0.0294, 0.0242, -0.0024, -0.0086, -0.0133, -0.0245, 0.0033, -0.0108, -0.0073, -0.0098, -0.0155, -0.0044, 0.0024, -0.0115, 0.0042, 0.0143, -0.0115, -0.0197, 0.0182, -0.0299, -0.0341, -0.0107, 0.0299, -0.009, -0.0056, -0.0087, -0.0138, -0.0125, -0.0064, 0.0381, -0.0164, -0.0111, -0.0159, 0.0326, 0.0652, -0.0021, 0.0115, 0.0172, 0.0011, -0.0054, 0.0164, 0.0126, -0.0101, -0.0152, -0.0123, -0.0009, -0.0242, -0.0208, 0.0036, -0.0237, 0.0265, 0.0029, 0.0576, -0.0034, -0.0139, -0.0134, 0.0534, 0.0247, -0.0211, 0.024, 0.0023, -0.0079, 0.0094, -0.0061, -0.0157, 0.0121, -0.019, 0.0056, 0.0839, -0.0268, -0.014, -0.0157, -0.0034, -0.0278, 0.0049, -0.0041, -0.0251, 0.0121, 0.0034, 0.0042, -0.0066, -0.0335, -0.0169, -0.0109, -0.0233, -0.0227, -0.0084, -0.0079, 0.0098, 0.0123, -0.0018, 0.0358, 0.0255, -0.003, 0.0468, -0.0155, -0.0083, -0.012, 0.0031, -0.008, 0.006, -0.004, -0.0192, -0.0152, -0.0044, -0.0161, -0.0248, -0.013, 0.0088, -0.0167, 0.0185, 0.0167, 0.0, 0.0075, -0.0287, -0.0078, -0.0024, -0.015, -0.0071, 0.0131, -0.0039, -0.014, 0.0025, -0.0218, 0.0175, -0.0074, 0.0143, -0.0448, 0.006, -0.025, 0.0067, -0.012, 0.0001, 0.0001, 0.0583, -0.0191, -0.0498, -0.0256, -0.0102, 0.0066, -0.0058, 0.0292, -0.0147, 0.0459, -0.029, 0.0027, -0.0086, 0.0, 0.0473, -0.031, 0.0367, -0.0143, -0.0297, -0.0139, -0.0199, -0.0149, 0.0498, -0.0171, 0.0325, -0.013, -0.0229, 0.0227, 0.0002, 0.0151, 0.017, 0.0006, -0.0074, -0.0052, -0.0132, -0.0082, -0.031, -0.0276, 0.0139, -0.0026, -0.0335, 0.0261, -0.0096, -0.007, -0.0183, -0.017, -0.0293, -0.0246, 0.0255, 0.0075, -0.0117, 0.0438, -0.0051, 0.0227, 0.0294, 0.0039, 0.0819, -0.0051, -0.0149, 0.0015, -0.0191, -0.0038, -0.0248, 0.0033, -0.0128, 0.0073, 0.0014, 0.0247, 0.0184, 0.0003, 0.0149, 0.0007, 0.0013, 0.0002, -0.0122, -0.0027, -0.016, -0.0342, 0.0656, -0.0161, -0.0042, 0.0391, -0.0325, -0.0214, 0.0593, 0.0207, -0.0144, -0.0132, -0.0308, 0.0062, 0.0904, -0.0025, 0.0474, 0.0048, -0.0126, -0.0023, -0.0131, 0.0021, -0.0362, 0.004, -0.0096, -0.0095, -0.0197, -0.0022, 0.0046, 0.0389, 0.0065, 0.0226, -0.0089, 0.0137, 0.014, 0.016, -0.0129, -0.0071, 0.0287, -0.0077, 0.0474, -0.0185, 0.0193, -0.018, 0.026, 0.0232, -0.024, 0.0485, -0.0101, -0.0142, 0.0624, 0.003, 0.0385, 0.0024, 0.0103, 0.0112, -0.0083, 0.0082, -0.027, 0.0068, -0.0117, 0.0048, 0.0074, -0.0248, -0.0128, 0.0055, -0.0454, 0.0161, 0.0464, 0.0072, -0.0023, 0.025, 0.0241, 0.002, -0.011, 0.0008, 0.0244, -0.0076, -0.0072, -0.0214, -0.026, 0.0171, 0.0935, -0.0304, -0.0156, 0.0172, -0.0405, 0.0193, 0.0035, 0.0043, -0.019, 0.0211, -0.0168, 0.0093, -0.0115, -0.0025, 0.0323, 0.0193, 0.0045, -0.0235, 0.012, 0.0155, -0.0063, 0.0309, 0.0035, -0.0129, -0.0378, -0.0087, 0.0066, 0.0249, -0.0177, -0.0034, -0.0346, 0.0166, -0.0103, -0.0389, -0.0145, -0.0151, -0.0159, 0.033, -0.0199, 0.0088, -0.0182, -0.0145, -0.0147, -0.0149, 0.0348, 0.0103, -0.0087, -0.0134, 0.0002, -0.0104, -0.0069, -0.0297, 0.0258, -0.006, -0.0168, -0.0024, -0.0062, -0.0315, 0.0218, -0.0073, -0.0353, -0.0073, 0.0272, 0.0163, 0.0325, 0.0075, 0.0896, 0.0017, 0.052, 0.0084, -0.0131, 0.0146, -0.0206, -0.0127, -0.0038, -0.003, 0.0155, 0.0055, -0.0055, 0.0232, -0.0233, -0.0397, -0.0357, -0.0007, 0.0144, 0.0386, -0.0291, -0.0118, 0.0006, 0.055, 0.0652, 0.0182, 0.0098, -0.0291, -0.0044, 0.0191, -0.0076, -0.0173, -0.0107, -0.0108, -0.0103, -0.0087, 0.0342, 0.0047, -0.0102, -0.0214, 0.0146, 0.0156, -0.0, 0.0169, -0.0312, 0.0277, -0.0167, -0.0306, 0.0042, -0.0234, -0.013, -0.0225, -0.0007, 0.0216, -0.0049, -0.0161, 0.0517, 0.1133, -0.0002, -0.0115, 0.009, -0.0082, -0.0026, -0.01, -0.0277, -0.0043, 0.0005, 0.0134, 0.0452, 0.0122, -0.0085, -0.0416, -0.0195, -0.0298, 0.065, 0.0171, 0.0163, -0.0234, -0.0357, 0.008, 0.0263, -0.0044, -0.0189, -0.0046, -0.0154, -0.0213, -0.0212, -0.0043, -0.0186, -0.0263, 0.025, -0.0219, 0.0156, 0.1008, 0.0315, 0.0138, 0.0039, -0.0165, -0.0345, 0.0231, -0.0159, -0.0095, -0.0169, -0.0042, -0.006, 0.0036, -0.0233, 0.0097, 0.0005, 0.0862, 0.0201, 0.0093, -0.0155, 0.0097, 0.0105, -0.0149, -0.0166, -0.0153, 0.0254, 0.0159, -0.0359, 0.0759, 0.0096, -0.0192, -0.0219, 0.0225, -0.0153, -0.0062, -0.0179, -0.0146, 0.0651, -0.0142, 0.0128, 0.0008, 0.0234, 0.0069, -0.0059, -0.0125, -0.0237, 0.057, 0.0496, -0.0017, -0.0082, -0.036, 0.0129, 0.0034, -0.0155, -0.0022, 0.0135, 0.019, 0.002, -0.0139, -0.0031, -0.0145, 0.0488, 0.0305, 0.0032, 0.1031, -0.0196, -0.0066, -0.006, -0.009, -0.0079, 0.008, 0.0183, -0.036, 0.058, -0.0088, -0.0239, -0.0129, 0.0016, -0.015, 0.0412, 0.0614, -0.0335, -0.0128, 0.0273, -0.0065, -0.0075, -0.0218, 0.0255, -0.009, -0.0206, 0.0099, -0.0165, -0.0328, 0.0063, -0.0283, -0.0123, 0.0376, -0.0102, -0.006, -0.0142, 0.0064, -0.0034, 0.08, -0.0095, -0.0121, -0.0186, -0.0271, -0.026, 0.0213, -0.0277, -0.0058, -0.0118, 0.0929, -0.0132, 0.0086, -0.015, -0.0055, 0.0071, -0.0048, 0.0002, 0.0642, -0.0, 0.0015, 0.0091, -0.0232, 0.0362, -0.024, -0.0196, 0.0336, -0.0007, 0.037, 0.0147, -0.0141, -0.0029, -0.0392, -0.0071, -0.0028, -0.005, -0.0044, -0.0021, 0.0137, 0.0013, 0.0493, -0.0117, 0.0201, 0.0199, 0.0945, 0.0086, -0.0045, -0.0169, -0.0247, -0.0075, 0.0088, 0.0271, 0.0351, -0.0399, 0.0154, 0.0312, 0.0329, 0.0113, -0.0085, 0.007, 0.0095, -0.0146, -0.0244, 0.0069, -0.0046, 0.0015, -0.0254, 0.0002, 0.003, 0.0296, -0.0513, -0.022, -0.0308, -0.0059, 0.1457, -0.0105, 0.0017, -0.0217, -0.0242, 0.0046, -0.0211, -0.0183, -0.0097, 0.0156, -0.0274, 0.1184, -0.0103, -0.0143, 0.0417, -0.0175, 0.0008, -0.0114, -0.0232, 0.0421, 0.0054, -0.0372, -0.0098, -0.0073, 0.0024, 0.0818, 0.0134, 0.0494, -0.0143, -0.0279, 0.0317, -0.0367, 0.0083, 0.0373, -0.009, -0.0304, -0.0052, -0.0357, 0.0196, -0.0133, -0.013, -0.0125, 0.0369, -0.0064, -0.0393, 0.0245, 0.0199, -0.0137, 0.0181, -0.0135, -0.0166, 0.0241, 0.0073, -0.0002, -0.0172, -0.0123, -0.0261, -0.025, 0.0067, -0.0171, -0.0136, -0.0025, -0.0053, 0.0046, -0.0275, -0.0052, 0.0214, 0.0376, -0.0174, 0.0322, -0.008, 0.0243, -0.0056, 0.0045, -0.0399, 0.0147, -0.0022, -0.0153, -0.004, 0.0225, -0.005, -0.027, -0.0112, 0.0042, -0.0378, 0.0092, -0.0114, -0.0143, -0.0156, -0.0429, 0.0098, -0.0036, -0.001, 0.05, -0.0193, -0.014, -0.0186, -0.0255, -0.0244, 0.0158, -0.019, 0.0041, -0.0058, 0.0026, -0.0086, 0.0082, -0.0088, 0.0329, -0.0035, -0.003, 0.0148, 0.0121, 0.0129, 0.0451, 0.0007, -0.0143, 0.0128, 0.0403, 0.0425, -0.002, 0.027, -0.0254, -0.0257, -0.008, -0.0122, 0.023, -0.0003, 0.0265, -0.0264, -0.0014, 0.0458, -0.0213, -0.0133, -0.0235, -0.0346, -0.0011, -0.0189, 0.0384, -0.0462, -0.0071, 0.0289, -0.017, 0.0508, -0.0198, 0.0151, 0.0673, -0.0212, 0.0525, -0.0179, 0.0076, -0.0106, 0.0229, -0.0329, 0.1201, -0.0032, 0.0094, -0.0169, -0.0165, -0.022, 0.0249, -0.0136, -0.0308, -0.0251, -0.006, -0.0303, -0.0106, -0.0136, 0.0042, -0.003, -0.0092, 0.0344, 0.0253, -0.0185, 0.0076, -0.0155, 0.0268, -0.0003, 0.0068, -0.0498, -0.0201, -0.0154, -0.0003, -0.0158, 0.0108, -0.0048, 0.0015, -0.0114, 0.028, -0.0069, 0.0205, -0.0193, 0.0508, 0.0776, 0.0235, -0.0139, -0.002, -0.0376, -0.0146, 0.0827, -0.0245, -0.0105, -0.0278, -0.0148, 0.0245, -0.0188, -0.007, 0.0659, -0.0192, -0.0153, -0.0454, 0.0036, -0.0305, -0.0287, 0.0217, 0.0148, -0.0241, 0.0152, -0.0076, -0.0139, 0.0122, 0.0017, -0.0092, -0.0182, 0.0399, 0.0784, -0.0192, 0.0337, -0.0054, -0.0099, 0.0405, -0.0131, -0.0075, -0.0084, 0.006, -0.0236, -0.0073, -0.0002, 0.0711, -0.03, -0.0037, -0.0178, 0.0027, -0.0293, 0.0363, -0.0048, -0.0205, -0.0285, 0.0298, -0.0131, 0.0064, 0.0244, -0.01, -0.0171, 0.0072, -0.0108, -0.0405, -0.0006, -0.0107, -0.0151, 0.0183, 0.0786, -0.017, -0.0391, 0.0021, -0.0264, -0.0071, -0.0037, 0.0034, 0.0081, 0.0019, -0.0172, 0.0595, 0.0061, -0.0265, -0.0642, 0.0051, 0.0013, -0.03, -0.036, 0.0081, -0.0119, 0.0034, -0.033, -0.0136, -0.0091, -0.0071, -0.0094, 0.0015, -0.0143, 0.012, -0.0214, -0.0231, 0.0843, -0.0124, -0.0175, -0.0175, -0.0414, 0.0156, -0.0406, 0.0545, 0.0127, -0.0183, -0.0091, 0.0718, -0.0395, 0.0056, 0.0105, -0.0418, -0.0255, -0.011, -0.0227, -0.021, -0.0089, -0.0314, -0.01, 0.0389, -0.0119, -0.0168, 0.0643, 0.0645, -0.0121, 0.0244, -0.0409, -0.0213, 0.0101, -0.03, -0.0056, -0.0266, -0.0146, -0.0143, -0.0119, -0.008, 0.0128, 0.0619, -0.0311, -0.0096, -0.0192, 0.0146, -0.0445, -0.0176, 0.0395, -0.0004, 0.0512, -0.0447, 0.0148, -0.0188, -0.0221, -0.0104, -0.0141, -0.0021, -0.001, -0.0196, -0.0261, 0.0841, -0.0506, 0.018, -0.0022, -0.0071, -0.0046, -0.0152, -0.0048, -0.0061, -0.046, -0.011, -0.0189, -0.0111, -0.0113, -0.0148, 0.0293, -0.0154, -0.0125, -0.0185, -0.0253, 0.031, 0.0199, -0.0081, 0.0242, 0.1031, -0.0258, -0.0189, -0.008, 0.0014, 0.0033, -0.0003, 0.0099, -0.0346, -0.0438, -0.0326, 0.0071, -0.0129, -0.0293, -0.0137, 0.0149, 0.0229, -0.0329, -0.0287, -0.0408, 0.0142, -0.0243, -0.0256, -0.01, -0.0209, 0.0042, 0.0018, -0.0214, 0.0102, 0.0054, -0.0166, -0.041, 0.0025, -0.0012, -0.0239, -0.0357, 0.0313, -0.0117, -0.0021, -0.0187, -0.0145, 0.0409, -0.0052, -0.0265, 0.0295, 0.003, 0.0321, -0.0336, -0.0128, -0.0093, -0.0112, 0.0014, 0.0071, -0.0135, -0.019, 0.0476, 0.043, -0.0209, 0.0662, -0.026, -0.0254, -0.0281, -0.0085, -0.0113, 0.0006, 0.032, 0.027, -0.0301, -0.0111, 0.0499, 0.0, 0.0898, 0.0006, 0.0314, 0.0257, -0.0141, 0.0459, 0.0114, -0.0097, 0.0208, -0.0186, -0.0261, 0.0266, -0.0189, -0.0214, 0.0173, -0.008, 0.0185, -0.0076, 0.0213, -0.0024, -0.0239, -0.0109, -0.0398, -0.0265, -0.0123, -0.0123, 0.0529, -0.0217, -0.0108, 0.0701, 0.0323, 0.0101, -0.0327, 0.0269, 0.053, 0.0906, -0.0119, -0.0194, -0.0461, 0.0156, -0.0427, -0.006, -0.0118, 0.0059, 0.0302, 0.0262, -0.053, 0.0244, -0.0297, -0.029, -0.0249, -0.0042, -0.0015, 0.0194, -0.0046, 0.0373, -0.0006, -0.0456, 0.0749, -0.0456, -0.0124, 0.0336, 0.0303, 0.0338, -0.0341, -0.0081, -0.0103, 0.0351, 0.0689, -0.0134, 0.03, -0.0122, -0.0193, -0.0003, -0.0108, 0.0653, -0.0132, 0.0162, -0.0062, -0.0272, 0.0277, -0.0165, -0.0401, 0.0165, 0.0073, -0.0174, 0.0232, -0.0424, 0.0141, -0.0334, -0.0105, -0.0585, -0.0274, 0.0056, -0.0037, 0.0309, -0.0132, -0.0082, -0.0165, -0.0115, 0.0526, -0.032, 0.0582, -0.0013, -0.0211, 0.0156, 0.0057, -0.0143, -0.0094, 0.005, -0.0056, -0.0285, -0.0165, -0.04, 0.0082, -0.0027, -0.0303, -0.0271, 0.0545, -0.018, -0.0179, -0.0143, 0.0299, 0.0032, -0.012, 0.0131, 0.0088, 0.0255, -0.0114, 0.0332, 0.038, -0.0102, 0.0527, 0.0135, -0.0011, -0.0077, 0.0477, -0.0324, -0.0319, -0.0028, 0.0534, -0.036, -0.0026, 0.0185, 0.0044, 0.0367, -0.0061, -0.0003, -0.0205, 0.0283, -0.0135, -0.0326, -0.0063, 0.0475, 0.0198, -0.0517, 0.0224, 0.0093, 0.0014, 0.0016, -0.0172, 0.0363, -0.0051, -0.0249, 0.0487, -0.0311, 0.0064, -0.0171, 0.001, -0.0326, -0.0061, -0.0134, -0.026, 0.0026, -0.0323, -0.007, 0.0739, -0.0224, -0.0294, -0.0237, -0.0305, -0.0105, -0.0134, -0.024, -0.0181, -0.0072, 0.0212, -0.0319, 0.0345, 0.0026, -0.0219, -0.01, -0.0358, -0.0438, -0.0247, -0.0358, 0.0152, -0.008, -0.0238, 0.0119, -0.0156, 0.0772, 0.2017, -0.0283, -0.0277, -0.006, -0.0308, -0.0052, 0.0042, 0.1028, -0.0118, -0.0359, -0.0067, 0.0536, 0.0496, -0.0022, -0.0303, -0.0342, -0.0214, -0.0011, 0.0318, -0.0028, -0.0202, 0.0253, 0.0336, -0.0011, 0.0076, -0.0142, 0.0866, -0.0048, 0.0012, -0.0143, 0.0111, -0.0181, 0.0389, -0.0244, -0.0539, -0.0082, 0.042, -0.0341, -0.0228, 0.0021, -0.0076, -0.0209, -0.0098, -0.0205, 0.0143, -0.0219, 0.0217, -0.0319, 0.0031, 0.0016, -0.0277, -0.0129, -0.0298, 0.0078, 0.0159, -0.0396, 0.0337, 0.0137, -0.0188, -0.0112, -0.0143, -0.0088, -0.0382, -0.0124, 0.0034, -0.0189, -0.0027, 0.001, 0.005, -0.0106, -0.0047, -0.0086, 0.0321, -0.0234, -0.0076, 0.003, 0.0366, -0.0142, -0.0281, 0.0092, -0.0413, -0.0161, 0.0356, -0.0066, -0.0145, -0.0431, -0.0167, 0.0144, 0.0681, -0.0091, -0.0304, 0.0195, -0.0026, -0.0299, 0.0192, -0.0118, 0.0321, -0.0114, -0.0195, -0.0387, -0.0107, 0.0197, -0.0081, -0.024, -0.0418, -0.0289, -0.0083, 0.0442, -0.0089, 0.0063, 0.021, -0.0107, -0.0153, -0.0154, -0.0167, -0.0226, -0.0349, -0.0319, 0.0527, -0.0055, -0.0078, -0.0156, -0.0016, 0.0177, -0.0178, -0.0324, -0.0185, 0.0094, -0.0096, -0.0076, -0.0176, 0.0253, -0.0463, 0.0157, -0.0178, -0.0368, -0.0508, 0.0313, -0.0149, -0.0039, -0.025, -0.0134, 0.0316, -0.0047, 0.0057, -0.0214, -0.0244, -0.03, -0.0057, -0.0108, 0.0465, -0.029, 0.0271, 0.0247, -0.0163, 0.0051, 0.023, 0.1057, -0.018, -0.0457, -0.0251, -0.0021, -0.0106, -0.0196, 0.0007, 0.0125, 0.0293, -0.0056, 0.0255, -0.0063, -0.0267, -0.0098, -0.0273, 0.004, -0.021, -0.026, -0.0364, -0.0058, -0.0058, 0.0441, -0.0218, -0.038, -0.0033, -0.0452, -0.013, -0.0011, 0.062, -0.0167, 0.1121, -0.0317, -0.0013, -0.0113, -0.0275, 0.0171, -0.0187, -0.0218, -0.0116, 0.0105, -0.0277, -0.0203, -0.0295, -0.0216, -0.0248, -0.0219, -0.0274, 0.0113, 0.0063, -0.013, -0.0066, 0.0301, -0.0245, 0.0098, -0.0333, 0.0004, 0.0279, -0.0224, -0.0221, -0.0236, 0.0055, 0.0431, -0.0434, -0.0427, 0.0024, -0.0144, -0.0375, 0.0416, -0.0176, -0.0078, 0.0189, 0.0083, -0.0107, 0.0624, -0.0078, 0.0377, 0.0199, -0.0301, 0.0285, -0.0359, 0.0261, -0.0182, -0.0102, -0.0111, -0.0107, -0.0096, -0.0335, 0.0285, -0.0379, -0.0374, -0.0097, 0.0379, -0.0076, -0.0298, 0.0204, -0.0129, 0.0581, -0.0149, 0.0065, -0.046, 0.0056, 0.0373, -0.0083, -0.0139, 0.0611, 0.0017, -0.0265, 0.0425, 0.0143, 0.0278, 0.0045, -0.0099, 0.027, 0.0109, 0.0041, -0.005, 0.0007, -0.0099, 0.0246, -0.0556, -0.0122, 0.0128, -0.0155, 0.0049, -0.0096, 0.1068, 0.062, -0.0204, -0.0303, 0.0181, 0.0185, -0.0504, 0.0718, -0.0082, -0.0415, -0.0312, 0.0095, 0.0382, 0.0383, -0.0156, -0.0243, -0.0249, 0.0417, -0.0078, -0.0314, -0.0241, -0.0226, -0.0054, -0.0262, -0.0239, -0.0135, 0.0471, 0.0299, -0.0173, -0.0184, -0.0288, -0.0114, -0.005, 0.0071, -0.0071, 0.1011, 0.0275, -0.0124, -0.007, -0.0164, -0.0197, 0.036, -0.0157, -0.0035, -0.0036, -0.0357, -0.0455, 0.0318, -0.0231, -0.0153, -0.027, 0.0131, -0.0299, -0.033, 0.0169, -0.013, 0.0571, -0.0019, -0.0335, -0.0079, -0.0091, 0.0381, 0.0068, -0.0194, 0.0244, -0.0241, -0.0007, -0.0336, -0.0224, -0.0223, -0.0142, -0.0054, -0.0143, -0.0367, 0.0088, 0.0164, -0.0327, -0.011, -0.0182, -0.0026, -0.0062, 0.0411, -0.0148, 0.0687, 0.0123, -0.0181, -0.0134, -0.0083, 0.0227, -0.0362, 0.0297, -0.0269, 0.004, -0.0136, -0.0095, 0.0001, 0.017, -0.0189, 0.0423, 0.0318, -0.0113, -0.0205, 0.1091, -0.0296, 0.0049, -0.0056, -0.019, 0.0592, -0.0161, -0.0042, -0.0367, -0.0078, -0.0094, 0.0265, -0.0254, -0.0244, -0.0171, -0.0083, -0.0036, 0.0178, -0.0409, -0.04, 0.0186, -0.0216, 0.0635, -0.0078, 0.0079, -0.0462, -0.0176, -0.0208, 0.0005, -0.0131, -0.0129, 0.1804, -0.0175, -0.004, 0.0096, -0.0497, -0.0023, -0.0111, -0.0144, 0.039, -0.0315, -0.0098, -0.01, -0.0477, -0.0344, -0.0146, -0.0445, -0.0167, -0.0083, -0.0358, -0.0147, 0.0327, -0.0206, -0.0215, 0.0427, -0.0224, -0.0046, 0.0928, 0.0284, 0.026, 0.0144, 0.0589, 0.0126, 0.021, 0.0886, 0.0243, 0.0483, -0.0244, -0.0313, -0.0341, -0.024, -0.0165, -0.0158, -0.0164, -0.0114, -0.0074, -0.0262, -0.0468, 0.0313, -0.0339, -0.0212, -0.0041, -0.0086, -0.0275, -0.0202, -0.0362, 0.0007, -0.0342, -0.0616, -0.0001, 0.0258, -0.0195, 0.0622, 0.0296, -0.0402, -0.0249, -0.0338, -0.0288, -0.0452, -0.0216, -0.0132, -0.0173, 0.0096, -0.0214, -0.0072, -0.0347, 0.0587, -0.0206, -0.0173, -0.0186, -0.0338, -0.0126, -0.0457, 0.0411, 0.0129, 0.0304, -0.0294, 0.0088, -0.0053, -0.0143, -0.0508, 0.0362, -0.0027, -0.0117, -0.0227, 0.0977, -0.0413, -0.0472, 0.0242, -0.0108, -0.0015, 0.0043, 0.0454, -0.0241, -0.0199, 0.0158, 0.0245, -0.0115, 0.0019, -0.0268, 0.068, -0.0451, 0.0047, -0.0033, -0.024, -0.0456, -0.0148, -0.0099, -0.0333, -0.0138, -0.0228, 0.0306, 0.0036, -0.0564, 0.0122, -0.0278, -0.0695, -0.0247, -0.0233, -0.0127, 0.0389, -0.0049, 0.0119, -0.0051, -0.0098, -0.0396, -0.0556, 0.006, 0.0813, -0.0258, 0.0467, -0.007, 0.0861, -0.0218, -0.0238, -0.0213, 0.0113, -0.009, 0.0475, -0.0199, 0.0487, 0.0258, 0.012, 0.0422, -0.0457, 0.0035, 0.0754, 0.0154, -0.0458, -0.0091, -0.0433, -0.055, -0.0057, 0.04, -0.0217, -0.0327, -0.0135, 0.0697, 0.0065, -0.0325, -0.0024, 0.0231, -0.0062, -0.0457, -0.0202, 0.0771, -0.033, -0.0243, -0.0054, -0.0211, -0.0079, -0.0176, -0.022, 0.1491, 0.0193, -0.0075, -0.0304, 0.0133, -0.0357, 0.0551, -0.0081, 0.1092, 0.0194, 0.0016, -0.0469, -0.0084, 0.0036, -0.0221, -0.0125, 0.0111, 0.0312, -0.0105, 0.0301, -0.0189, -0.008, 0.0633, -0.0211, 0.021, 0.03, 0.0027, -0.0039, 0.0363, -0.0064, 0.002, -0.0169, -0.0385, -0.0106, 0.0227, -0.0431, 0.064, -0.0217, -0.0046, 0.0158, 0.0501, -0.0157, -0.0016, 0.0383, -0.0211, 0.0184, -0.0392, -0.0297, 0.0416, 0.1408, 0.0168, 0.0407, -0.0203, 0.0385, -0.0101, -0.0209, -0.0482, -0.0181, -0.0307, -0.0221, 0.0194, -0.0105, 0.0236, 0.0048, -0.0114, -0.0227, 0.0059, -0.026, -0.0117, 0.0033, 0.0224, -0.0044, -0.0064, -0.0248, 0.0385, -0.0467, -0.0276, 0.0435, -0.0017, 0.0069, -0.0288, -0.0183, 0.0278, -0.0299, 0.0301, 0.0179, 0.0018, 0.0066, -0.0076, -0.0119, 0.0194, -0.0131, -0.0244, 0.0095, 0.0556, -0.0181, -0.037, -0.0234, -0.0152, 0.0019, -0.0111, 0.0529, -0.008, 0.0193, -0.0322, -0.0015, -0.0297, 0.0033, -0.0307, 0.0423, 0.0291, -0.0231, -0.0074, -0.03, -0.0085, -0.0123, -0.0035, 0.0221, -0.0327, -0.0229, 0.0071, 0.0585, -0.0075, -0.0122, 0.0206, -0.0248, 0.0314, -0.0114, 0.0759, -0.0072, -0.0022, -0.028, -0.0055, 0.0603, -0.019, 0.0673, -0.0203, -0.0196, -0.0452, -0.0155, 0.0607, -0.032, 0.0041, -0.0207, -0.0191, 0.0194, -0.0198, -0.0224, -0.0388, -0.0256, -0.0288, 0.0112, -0.014, -0.0024, -0.0288, 0.0404, -0.0092, -0.0357, -0.0572, 0.0207, -0.0203, 0.0722, 0.0305, -0.0482, -0.0036, -0.006, 0.0424, 0.0059, -0.0377, -0.0005, 0.0606, -0.0128, 0.0256, -0.0186, -0.019, -0.0135, 0.1094, -0.0343, 0.0315, -0.007, 0.0169, -0.0389, 0.0791, 0.0078, -0.0252, -0.0595, -0.0303, -0.0082, 0.0276, -0.0361, 0.0133, 0.0739, 0.0114, -0.0184, 0.0245, -0.017, -0.0108, 0.0011, 0.0457, -0.0096, 0.0474, -0.0369, -0.0197, 0.0319, 0.0029, -0.044, -0.0023, 0.0862, 0.0067, -0.0305, 0.0099, -0.0072, 0.0877, 0.0238, -0.012, 0.0054, -0.0329, -0.0331, -0.0145, 0.0192, -0.0193, 0.1072, -0.044, 0.029, 0.0566, -0.0086, 0.0217, 0.0105, -0.0199, -0.0186, -0.0473, 0.0163, -0.0093, -0.0379, 0.0052, 0.0144, 0.0175, 0.0129, -0.0417, -0.0115, -0.029, 0.0205, 0.091, -0.0258, -0.0241, -0.04, -0.035, -0.0302, -0.0217, -0.0058, 0.0169, 0.0905, 0.0534, -0.0211, -0.0279, 0.0524, -0.0231, 0.0922, -0.0184, -0.0382, -0.0236, 0.0541, -0.026, -0.006, -0.0153, 0.062, -0.0253, -0.018, 0.0337, 0.1082, -0.0235, -0.0006, -0.0055, 0.0594, 0.0099, -0.0006, -0.0348, -0.0336, -0.0005, 0.0649, 0.0025, -0.0265, -0.024, -0.0228, -0.0463, -0.0182, -0.0115, -0.0185, -0.0226, -0.0218, -0.0041, 0.073, 0.036, -0.0134, 0.0012, -0.0011, -0.0137, 0.032, -0.0087, -0.0223, -0.0003, -0.02, -0.0319, 0.0238, -0.0156, -0.0367, -0.0054, -0.009, 0.0063, -0.0104, -0.0261, -0.0449, 0.0413, 0.0211, 0.0019, 0.0192, -0.0083, 0.179, 0.0081, -0.0143, -0.0339, -0.0192, -0.01, -0.0505, 0.0147, 0.0585, 0.0151, 0.059, -0.0386, -0.0534, -0.0261, -0.0127, -0.0598, 0.0095, -0.026, -0.0297, -0.0132, -0.0052, -0.0083, -0.0417, -0.0169, -0.06, -0.01, -0.008, -0.0358, -0.0155, -0.0241, 0.1102, 0.0657, -0.0319, 0.0056, 0.0169, -0.0295, 0.0867, -0.0278, 0.0122, -0.0372, -0.0414, 0.0124, -0.0068, 0.0447, -0.0075, -0.0084, 0.0287, -0.0299, 0.0378, -0.0482, -0.0002, -0.0141, 0.0254, 0.0556, -0.0163, -0.0035, -0.0312, -0.0358, 0.0309, 0.0335, -0.0204, -0.0072, 0.0245, -0.0403, 0.0022, -0.0212, 0.0327, -0.0373, -0.0018, -0.028, -0.0892, 0.0143, 0.0603, -0.0231, 0.0537, -0.0046, 0.0038, 0.0272, -0.021, 0.112, -0.0141, 0.0154, 0.0145, 0.0816, 0.0174, -0.0335, -0.02, -0.0071, 0.0386, -0.0281, -0.0046, 0.0203, -0.0445, -0.0101, 0.0358, -0.0167, -0.0176, 0.0455, 0.0267, -0.0183, -0.0173, -0.0454, -0.0448, 0.0391, -0.0646, -0.0199, 0.0133, -0.0309, -0.0009, 0.0567, 0.035, 0.0355, -0.0235, -0.0322, -0.0281, 0.0097, -0.0195, 0.0158, -0.0481, -0.012, -0.0281, -0.0183, 0.0109, -0.0087, 0.033, -0.0135, -0.0169, 0.1575, 0.0295, -0.0116, 0.0038, -0.0391, 0.0143, -0.0457, 0.0109, -0.0096, -0.0314, 0.0254, 0.0506, -0.0431, 0.0546, -0.016, -0.017, 0.0099, -0.0091, -0.0057, -0.0363, -0.0219, -0.0317, -0.0124, 0.0343, -0.0103, 0.0095, -0.0161, 0.0052, -0.0365, -0.0378, -0.0351, 0.0539, -0.0347, -0.0162, -0.0506, 0.0593, 0.108, -0.0314, 0.0535, 0.0023, 0.0344, 0.0053, 0.0333, 0.0003, -0.0034, -0.0398, 0.0051, -0.0064, -0.003, 0.0129, -0.0142, -0.0328, -0.0395, -0.0008, -0.0148, -0.0097, -0.0259, -0.0063, -0.0185, 0.0032, 0.0137, 0.001, -0.0374, 0.1235, 0.0987, -0.0233, -0.0016, -0.0413, -0.0037, 0.076, 0.0456, -0.0405, 0.0824, -0.027, -0.0351, 0.046, -0.0263, 0.0381, -0.0174, 0.0655, 0.1304, -0.0171, 0.0143, -0.0225, -0.0358, -0.0267, 0.085, -0.0302, -0.0195, 0.0147, -0.0169, 0.0259, 0.0232, 0.0292, -0.0153, 0.0005, 0.0415, 0.0168, -0.0298, -0.0118, -0.0263, -0.0321, 0.0106, 0.0674, -0.0162, -0.0019, -0.0127, -0.0285, -0.0394, 0.0036, 0.014, -0.0265, -0.0086, -0.0562, 0.0093, 0.157, -0.0304, -0.0575, -0.012, -0.0078, 0.0203, -0.008, -0.0142, -0.0225, -0.0276, -0.0173, -0.0149, -0.0243, -0.0113, -0.0275, -0.0327, -0.0148, 0.1407, 0.014, -0.0069, -0.0191, -0.0109, -0.0308, -0.009, -0.0224, -0.0126, 0.026, 0.0663, -0.0097, 0.0149, -0.0003, -0.0308, -0.0306, -0.0599, -0.0241, -0.0054, -0.0024, -0.039, -0.0079, 0.0404, 0.0671, 0.072, -0.0443, 0.042, 0.0454, -0.0202, -0.0677, -0.0283, -0.0214, -0.0369, -0.0502, -0.0412, 0.0655, 0.1245, -0.0299, -0.0386, 0.1338, 0.08, -0.0092, -0.0242, -0.0391, -0.0104, 0.0381, 0.0751, -0.0064, 0.0002, 0.0392, -0.0363, 0.0537, -0.0304, -0.0444, -0.0174, -0.0069, -0.0132, -0.0208, -0.0042, -0.0252, -0.0134, -0.0165, 0.0145, -0.0017, -0.0224, -0.0048, -0.028, 0.1317, -0.0429, -0.0065, -0.0352, -0.0175, -0.02, -0.0057, -0.0286, 0.0098, -0.0193, -0.0091, -0.0129, 0.0305, -0.0126, 0.0077, 0.0383, 0.0148, -0.0255, -0.0302, -0.0463, -0.0474, 0.007, 0.083, -0.0024, -0.0524, -0.0393, -0.0335, -0.0383, 0.0581, 0.0021, 0.0828, -0.0047, -0.0078, 0.0129, -0.0424, -0.0299, -0.0069, 0.0912, -0.0108, -0.0094, -0.0468, 0.0397, -0.0083, -0.0147, -0.0173, -0.0229, -0.0305, -0.0075, 0.0061, -0.0496, -0.0137, -0.0204, 0.1093, 0.0118, -0.0328, 0.0044, 0.1206, -0.0286, 0.0046, 0.0696, -0.0243, -0.0152, 0.0746, -0.0086, 0.007, 0.0234, 0.0192, -0.004, -0.0323, 0.097, 0.085, -0.0505, 0.0258, -0.0059, -0.0488, -0.0205, -0.0045, 0.0308, -0.0067, -0.0467, -0.0193, -0.0214, -0.0109, 0.0398, 0.031, 0.0147, -0.0201, 0.2177, -0.035, -0.0133, 0.0217, -0.0416, 0.0294, -0.0098, -0.0376, -0.0099, 0.0034, 0.0059, -0.0282, 0.0626, -0.0296, -0.0417, -0.0466, 0.0543, 0.0548, -0.0137, 0.0154, 0.0333, -0.0199, -0.0093, 0.0407, -0.0099, 0.0753, -0.0118, 0.0152, -0.0425, 0.046, 0.0253, -0.0228, 0.0466, -0.0154, -0.0063, -0.0331, -0.0166, -0.0034, -0.0003, 0.0069, 0.0255, 0.0021, -0.0236, -0.0423, -0.0291, -0.0195, -0.0221, -0.0094, 0.0004, -0.0457, -0.0101, -0.02, 0.1138, -0.0145, -0.0452, -0.0117, 0.0378, 0.0393, -0.0048, -0.0103, -0.0395, 0.125, -0.0287, 0.0036, -0.0532, 0.0044, 0.0564, 0.0597, 0.0015, 0.005, -0.0065, -0.0309, 0.0229, -0.0333, 0.0823, -0.0144, 0.0933, -0.0332, -0.0116, 0.0851, -0.0644, 0.0403, -0.0091, 0.0418, 0.0738, -0.0365, -0.0098, 0.0038, -0.0312, 0.0104, -0.019, -0.0177, -0.0091, 0.0279, -0.047, 0.0253, -0.0159, 0.014, 0.0233, -0.0226, -0.0241, -0.0176, -0.0052, -0.0234, -0.0355, -0.0194, -0.0125, -0.0148, -0.0189, 0.0674, 0.0127, -0.0359, -0.0198, -0.0768, 0.0017, 0.033, -0.0261, -0.0076, 0.0443, 0.0253, -0.0066, 0.04, 0.0068, -0.0528, -0.0284, 0.0142, 0.031, -0.034, 0.0176, -0.0701, 0.0243, -0.0131, -0.0043, 0.0699, 0.0033, -0.0053, -0.0433, -0.0514, 0.0446, -0.0178, -0.0533, 0.0959, -0.0002, 0.0451, -0.0462, -0.0626, -0.0192, -0.0148, 0.0712, -0.0091, -0.0155, -0.0265, -0.0347, 0.0263, -0.018, 0.0233, 0.0145, 0.0599, -0.0093, 0.0027, 0.1174, 0.0622, -0.0355, -0.0432, -0.0091, -0.0293, -0.0201, -0.0092, -0.0449, 0.0183, -0.0325, -0.0023, -0.0323, -0.0189, -0.0331, -0.038, -0.0576, -0.0449, 0.0075, 0.0089, -0.0257, -0.0242, -0.0316, 0.0033, -0.017, -0.0147, -0.008, -0.032, 0.0143, -0.0142, 0.0292, -0.0064, 0.1483, -0.0031, -0.0279, -0.0177, 0.0347, 0.0117, 0.0053, -0.0549, 0.0415, 0.0684, 0.0709, -0.0234, 0.0035, -0.0409, -0.0399, -0.0131, -0.0027, 0.0643, 0.0053, -0.0629, -0.0247, 0.0205, 0.0241, -0.0089, 0.124, -0.0138, -0.0202, 0.0221, 0.0633, -0.0354, 0.01, 0.0242, -0.0333, -0.04, -0.0284, 0.0116, -0.0424, -0.0091, -0.0332, 0.0051, -0.0032, 0.06, 0.0572, -0.0267, -0.0359, 0.0223, -0.0532, -0.0515, 0.0407, 0.0426, -0.0079, 0.0375, 0.0631, 0.0931, -0.0589, -0.0427, 0.0169, 0.0224, -0.0149, -0.0186, -0.0053, -0.0108, -0.0127, 0.0883, -0.0263, -0.0319, -0.0229, 0.0072, 0.0409, -0.0094, -0.0381, -0.0063, 0.0016, -0.0149, -0.0026, -0.0506, 0.0365, -0.0483, 0.0719, -0.0068, 0.0646, -0.033, -0.0004, -0.0664, -0.0157, 0.0797, -0.0048, -0.0405, -0.0394, 0.0836, -0.0241, -0.0111, -0.0968, -0.0308, -0.0629, -0.0135, 0.0013, 0.0049, -0.0115, 0.0231, 0.0263, -0.0123, -0.0138, -0.0485, -0.0378, -0.0364, -0.0245, -0.0014, -0.0458, -0.0122, -0.0145, 0.0102, -0.0057, 0.0359, 0.0123, 0.0034, -0.0275, 0.0436, 0.077, 0.0252, -0.0364, -0.0006, -0.0497, -0.0454, -0.0573, -0.0155, 0.0859, 0.07, 0.0308, -0.0245, -0.015, -0.0337, -0.0063, -0.0318, -0.0392, -0.0111, -0.0489, -0.0502, -0.0108, 0.0518, -0.0244, -0.0693, -0.01, -0.0329, -0.0058, -0.0198, 0.0019, 0.0665, -0.0248, 0.0764, 0.0111, -0.0145, -0.0009, -0.0077, -0.0036, -0.0559, -0.0073, 0.0167, 0.0449, 0.0439, -0.0488, 0.1126, 0.0351, -0.0199, 0.1034, -0.0256, 0.0155, 0.0211, 0.0428, 0.0577, -0.0316, -0.0368, 0.0267, -0.0291, 0.0667, 0.0484, -0.0423, -0.0292, -0.0161, 0.0855, 0.0132, -0.0205, -0.0231, 0.1671, 0.0752, 0.0257, 0.0578, -0.0134, 0.0232, -0.0285, -0.0033, -0.0038, 0.0037, 0.047, -0.0138, -0.0142, -0.0417, -0.0151, 0.1177, -0.0223, 0.0259, -0.0602, -0.0265, 0.0048, 0.057, -0.0213, -0.0443, 0.0799, -0.0656, -0.0293, 0.0005, -0.0182, -0.0724, -0.0247, -0.0494, -0.0389, -0.0634, -0.0313, 0.0018, 0.0043, 0.0248, -0.0203, -0.0044, -0.0314, -0.0332, -0.0223, -0.0379, 0.0225, 0.0628, 0.034, -0.0468, -0.0219, -0.0069, -0.0358, -0.0659, 0.0059, 0.0065, -0.0391, -0.0085, -0.0402, 0.0429, 0.0568, -0.0253, -0.0206, -0.035, -0.0396, -0.0131, -0.0173, -0.0262, -0.012, 0.0199, -0.0293, -0.0558, -0.0067, -0.0187, 0.0515, -0.025, 0.1032, -0.0703, 0.0613, 0.0821, -0.0248, 0.0614, -0.0196, 0.0426, 0.0576, -0.0161, -0.0354, 0.0186, -0.0228, -0.0273, 0.0207, 0.0064, -0.039, -0.043, 0.0359, 0.0182, 0.046, -0.0369, -0.0168, 0.0123, -0.0145, -0.0715, 0.0088, -0.0279, -0.0389, 0.025, -0.0554, -0.0072, -0.018, -0.041, -0.0443, -0.0239, 0.0283, -0.0232, -0.0103, -0.0011, 0.0346, -0.0514, -0.0005, -0.0077, -0.0151, -0.0442, 0.0519, -0.0312, -0.0461, -0.02, 0.011, 0.0392, 0.017, -0.0049, -0.011, -0.0611, -0.0449, -0.0379, -0.0628, 0.0247, -0.0201, 0.0454, -0.0344, -0.0013, 0.0163, 0.068, -0.0518, -0.0087, 0.0619, -0.0352, 0.0643, -0.0576, 0.0299, -0.0535, 0.0757, -0.0356, -0.043, -0.044, 0.0288, 0.0516, 0.0794, 0.0275, 0.017, 0.0035, -0.0575, -0.0167, -0.0008, 0.0009, 0.008, -0.0184, -0.005, -0.0207, 0.0495, -0.0207, -0.0063, -0.0126, 0.0322, 0.0251, -0.01, -0.0301, 0.0135, 0.0678, 0.1813, 0.0078, -0.0152, -0.0462, -0.0313, 0.0001, -0.0179, -0.0189, 0.0057, 0.0118, -0.008, -0.0224, 0.0276, -0.0388, -0.0112, 0.0269, 0.0639, -0.0464, -0.0075, -0.0455, 0.009, 0.0614, -0.0093, 0.1009, -0.0051, 0.0136, 0.0255, -0.0022, -0.0625, -0.0548, -0.0349, -0.0268, -0.0258, -0.0403, 0.0904, -0.0705, -0.012, -0.021, -0.0718, 0.0152, 0.0976, -0.0091, -0.0083, -0.0061, 0.0617, -0.0176, -0.0373, -0.0227, -0.0116, -0.0431, -0.0772, -0.0457, 0.004, -0.0269, -0.0288, 0.0447, -0.016, -0.0124, -0.0458, 0.0035, -0.0435, 0.1047, -0.0385, -0.0098, -0.0458, -0.0103, 0.0261, 0.0531, -0.03, 0.0308, 0.0168, 0.0463, -0.0224, -0.0136, -0.007, 0.005, -0.019, 0.1064, 0.0127, -0.0031, 0.0011, -0.0513, 0.0518, -0.0211, 0.0336, -0.0147, -0.0471, -0.0302, 0.0333, 0.006, -0.0217, -0.0315, -0.0117, 0.0219, 0.0781, -0.0051, -0.0341, 0.0079, -0.0322, 0.0109, 0.0307, 0.0004, -0.0104, -0.0337, 0.0472, 0.0179, 0.014, -0.0268, -0.0067, 0.2143, -0.0368, 0.024, -0.0282, 0.0997, -0.0262, -0.0278, -0.0237, -0.0345, -0.0769, 0.0158, 0.0025, -0.0504, -0.0378, -0.0087, -0.0307, -0.0516, -0.0171, -0.03, -0.0211, -0.0119, -0.0388, -0.0106, -0.0041, -0.0455, 0.0355, 0.0073, -0.0108, -0.0145, 0.0503, -0.0582, -0.025, -0.0046, -0.0579, -0.0163, -0.0004, 0.0262, -0.0263, 0.0111, -0.0336, 0.0298, 0.0265, 0.0589, -0.0604, -0.0051, -0.0695, 0.0197, 0.0236, -0.0024, 0.0871, -0.0434, 0.1031, -0.0093, -0.015, 0.1321, 0.0373, -0.0007, -0.0451, -0.0348, 0.008, -0.0195, -0.0196, 0.0791, -0.0058, -0.0445, -0.0252, -0.0247, 0.0151, 0.0135, -0.0155, -0.0439, 0.0554, 0.0307, 0.0574, -0.044, -0.0223, -0.0109, -0.0314, -0.0267, -0.0257, 0.0816, -0.0311, -0.0506, -0.0296, 0.0492, -0.0113, -0.0111, 0.0001, -0.0015, -0.0247, -0.0044, -0.0101, -0.0083, -0.0366, 0.0112, -0.0854, 0.0338, -0.0077, -0.0329, -0.0463, -0.0219, 0.0351, -0.0014, -0.0459, -0.0549, -0.0096, -0.0186, 0.0464, -0.024, -0.0156, 0.0017, -0.0318, -0.0163, -0.0196, -0.0155, -0.0009, -0.0139, 0.0864, -0.0327, -0.0112, -0.0068, -0.0295, -0.0259, 0.1085, -0.0303, -0.0301, 0.0109, -0.0529, -0.0485, 0.0246, -0.0388, 0.0737, 0.0049, -0.0178, 0.0569, -0.0532, -0.0281, 0.0066, -0.0068, -0.0539, -0.0041, -0.0391, -0.0176, -0.0072, 0.0404, 0.0449, 0.0014, -0.0112, 0.0244, -0.0374, 0.0203, -0.0481, -0.0198, -0.0271, -0.0609, -0.0183, -0.0137, 0.0708, -0.0159, -0.0168, 0.0216, 0.1199, -0.0098, -0.0348, -0.0329, -0.0274, -0.0415, -0.0477, -0.0562, -0.004, -0.0158, 0.0505, -0.0103, 0.0116, 0.0594, 0.0264, -0.037, -0.019, 0.0042, 0.0746, 0.0244, -0.0135, -0.0298, -0.0325, -0.01, -0.0071, -0.04, 0.0137, -0.0673, -0.0334, -0.0438, -0.0154, 0.064, 0.0547, -0.0225, -0.0426, -0.0169, -0.0047, 0.0314, -0.009, 0.0852, 0.0236, -0.0607, -0.0175, -0.0266, -0.0738, 0.0069, -0.0496, -0.0042, -0.0205, -0.0389, 0.0231, -0.0268, 0.0058, -0.04, -0.03, -0.0226, 0.0333, -0.0098, -0.0025, 0.0154, 0.057, 0.1066, -0.0407, -0.0104, 0.057, 0.0397, -0.0399, -0.0081, -0.0177, -0.0466, 0.026, -0.038, -0.0058, 0.0429, -0.0415, -0.0189, -0.0192, -0.0169, -0.0217, -0.0041, -0.0223, -0.016, -0.0233, 0.0041, -0.0016, 0.0022, 0.0772, -0.0124, -0.0403, -0.0041, -0.012, -0.019, 0.0138, -0.0109, -0.0129, 0.007, -0.0388, -0.0225, -0.0362, 0.0044, -0.0131, -0.0392, 0.0719, 0.0628, 0.014, -0.0054, 0.0007, 0.0239, -0.0277, -0.0552, -0.0192, -0.0285, -0.0418, -0.0088, -0.0124, -0.0295, -0.0339, -0.0188, 0.1098, 0.1168, 0.0337, 0.0697, -0.0127, 0.0097, -0.0315, -0.0128, 0.0231, 0.0181, 0.0268, 0.0151, -0.0089, -0.0119, 0.0626, -0.0377, -0.0052, -0.0116, 0.0488, -0.0039, -0.0367, 0.0994, -0.014, -0.0195, -0.0351, -0.0199, -0.0401, -0.0168, 0.0156, -0.0135, -0.014, -0.0766, -0.0194, -0.0411, 0.0441, 0.0036, 0.0034, 0.0779, -0.0035, -0.0505, 0.0025, 0.0049, 0.0251, -0.034, -0.0179, -0.0498, -0.0128, -0.0353, -0.0287, -0.0116, -0.0285, -0.0031, 0.0409, 0.0031, -0.0056, 0.1264, -0.0109, -0.0074, -0.0408, -0.0281, -0.0212, -0.0413, -0.0156, -0.0302, 0.1026, -0.0069, -0.0136, -0.0196, 0.023, -0.0124, -0.0221, -0.0201, -0.0151, -0.0374, -0.0172, -0.0342, -0.023, 0.0642, -0.02, 0.0155, -0.013, -0.0069, -0.0426, -0.0429, -0.0304, -0.0363, 0.0369, -0.0235, -0.0152, -0.0132, -0.0202, 0.0004, 0.0237, 0.038, 0.0457, -0.0398, 0.0045, 0.0131, -0.0517, -0.0176, -0.0154, 0.0286, -0.0064, 0.0383, 0.0908, 0.0054, -0.005, 0.0016, 0.0086, -0.0283, 0.0247, 0.0433, 0.029, -0.0454, -0.0497, 0.1105, -0.008, -0.0162, -0.0238, -0.0359, -0.008, -0.0391, -0.0261, -0.0032, -0.0441, 0.1326, -0.0495, -0.0006, 0.0347, -0.0301, -0.0075, 0.0078, -0.0102, -0.0411, 0.0194, -0.0256, -0.0574, -0.0548, -0.0076, -0.0188, 0.018, 0.0793, 0.0203, -0.0263, -0.0571, -0.0123, 0.0634, -0.0548, 0.0039, 0.0607, 0.0677, -0.0382, -0.0134, 0.0206, -0.0413, -0.0219, -0.0467, -0.0268, 0.0807, 0.0152, -0.0106, -0.0188, -0.0215, -0.0115, 0.0419, -0.0216, -0.0062, -0.0268, 0.1155, 0.009, -0.0387, -0.0229, -0.0492, 0.0018, -0.0269, -0.0374, 0.0293, 0.0343, -0.0201, 0.0049, 0.035, 0.0909, -0.0179, 0.0248, -0.0478, 0.0084, -0.0384, -0.0695, 0.0014, -0.0037, 0.0173, 0.0764, -0.0397, -0.0318, -0.0171, -0.0423, 0.0201, 0.0592, -0.0343, -0.0644, -0.0071, -0.016, 0.0585, 0.0131, 0.0256, -0.0413, -0.0178, -0.03, 0.0953, 0.0364, -0.0381, 0.0438, 0.0761, 0.0588, -0.0259, 0.0141, 0.1431, 0.0105, 0.039, 0.0054, -0.0455, -0.0222, 0.0406, 0.0546, -0.0338, -0.0307, -0.0265, -0.0215, -0.0398, 0.0015, -0.0357, -0.0411, -0.043, -0.0222, 0.0012, -0.0209, -0.02, -0.0721, 0.0117, -0.0113, -0.0616, -0.0575, -0.0407, 0.0607, -0.0108, -0.0357, 0.0257, -0.0388, 0.0072, -0.0283, -0.0125, -0.0423, 0.0078, 0.0372, 0.001, 0.0657, -0.008, -0.0407, -0.0146, -0.0332, 0.0704, 0.0584, -0.0085, -0.0141, 0.0358, -0.0322, -0.0253, -0.0421, 0.0101, 0.0535, 0.1509, -0.037, 0.1663, -0.0458, -0.0134, -0.0046, 0.0339, -0.0349, 0.0941, -0.0095, -0.0069, 0.1936, -0.05, 0.0158, -0.0204, 0.0481, -0.0313, -0.0019, 0.0186, 0.0528, -0.036, 0.0015, -0.0162, 0.0406, -0.0129, -0.0057, -0.0228, -0.0342, 0.0363, -0.0114, -0.0032, -0.0195, -0.0149, -0.0483, -0.0413, -0.0378, 0.0222, -0.0306, -0.0371, 0.0864, -0.0097, -0.0396, -0.0459, -0.0134, -0.0042, 0.0533, -0.0276, -0.0118, -0.0152, -0.024, -0.0239, -0.0291, 0.0523, -0.0111, -0.0111, -0.0475, 0.0087, -0.0368, -0.0156, -0.0197, -0.063, -0.0265, 0.0096, 0.0887, 0.0421, -0.0578, -0.0632, 0.0242, -0.0134, -0.0677, 0.0503, 0.1211, -0.0504, -0.0345, -0.0279, -0.0092, 0.0132, -0.0323, 0.0272, 0.0254, -0.0617, 0.0029, -0.03, 0.0162, 0.0028, -0.0017, -0.0381, 0.0259, 0.0796, -0.0127, -0.03, -0.007, 0.0373, 0.034, -0.0289, 0.1025, 0.0374, -0.0044, -0.0143, -0.005, 0.045, -0.0267, -0.0347, -0.0639, 0.0319, -0.0332, -0.0477, -0.0357, -0.0266, -0.0456, 0.002, -0.001, 0.1646, 0.0796, -0.0052, -0.0284, -0.0439, -0.0405, 0.0149, 0.0213, 0.0035, 0.1032, -0.0593, -0.0248, -0.0446, -0.0196, -0.0095, -0.0444, -0.0728, 0.0065, -0.0167, -0.0209, -0.0327, -0.0469, -0.0161, 0.1113, -0.0476, -0.044, -0.0296, -0.0248, -0.0487, -0.0024, 0.0244, -0.0275, -0.0121, -0.022, 0.0591, -0.0176, -0.011, -0.0226, 0.0466, -0.0269, 0.0078, 0.0211, 0.0248, -0.0128, -0.0142, 0.0833, -0.0313, 0.0582, -0.0053, 0.0046, -0.0277, -0.0019, 0.1897, -0.0014, -0.0286, 0.0269, -0.0082, -0.0522, 0.0337, -0.0664, -0.0156, 0.0907, 0.0332, -0.0121, -0.0116, -0.0123, 0.0557, 0.0638, 0.0675, 0.0512, -0.0436, 0.0512, -0.0052, -0.0058, 0.0239, -0.0173, 0.1202, 0.0757, -0.0513, 0.003, 0.0421, -0.0363, -0.0357, -0.0257, 0.0872, -0.0035, -0.0335, -0.0072, 0.0396, -0.0098, -0.0337, -0.0469, -0.0076, -0.0241, -0.0336, 0.0339, 0.0267, -0.0342, -0.0583, 0.0538, 0.0267, 0.0491, 0.0824, -0.0136, -0.0295, -0.0093, -0.0397, -0.0592, -0.0083, 0.0203, -0.0473, -0.0305, 0.1487, -0.0292, -0.0011, -0.015, -0.0401, -0.0547, 0.0571, -0.0166, -0.0228, -0.046, 0.0784, -0.051, -0.0438, -0.016, -0.0435, -0.0096, -0.0195, 0.0757, -0.0002, 0.0402, -0.0181, -0.0411, -0.0075, -0.0698, 0.0598, -0.0379, -0.0295, -0.0173, 0.0288, 0.0277, -0.0579, -0.0085, 0.1259, -0.0378, 0.0063, 0.0506, -0.0114, -0.0039, -0.0162, 0.057, -0.0427, -0.0108, -0.0537, -0.0389, -0.0501, 0.0353, -0.0317, -0.0198, 0.0265, -0.0531, -0.0354, -0.0133, -0.0309, -0.0464, -0.004, -0.0272, -0.0231, -0.0194, -0.0284, -0.0212, -0.0138, -0.0293, -0.0029, 0.0079, 0.1439, 0.0457, -0.0433, -0.0177, 0.0913, -0.0363, 0.0614, -0.0129, -0.0439, -0.0965, -0.0069, -0.0094, 0.112, -0.0204, -0.0243, -0.027, 0.0422, 0.2768, -0.0463, 0.0288, -0.0538, 0.003, -0.0591, -0.0448, 0.0059, -0.0677, -0.003, 0.01, -0.025, -0.0502, -0.0128, 0.0702, -0.0494, -0.0156, -0.0593, -0.0074, 0.0169, -0.0108, 0.0964, -0.0065, 0.0254, -0.0087, -0.0266, -0.0466, -0.0082, 0.0114, -0.0408, -0.0535, -0.0483, -0.073, -0.0423, -0.0346, -0.0219, 0.0166, 0.0237, -0.0386, 0.0755, -0.0231, -0.0394, -0.0042, -0.0359, -0.015, 0.1093, -0.026, 0.1257, -0.0393, 0.0177, -0.0462, 0.0818, -0.0522, 0.0603, -0.017, -0.0472, -0.0505, 0.0096, -0.0101, -0.0045, -0.0, -0.0386, -0.0377, -0.0241, -0.0248, 0.0387, -0.019, -0.0195, -0.0614, -0.0245, 0.003, -0.0245, -0.0326, -0.0268, -0.0447, -0.0494, -0.0498, -0.0567, 0.0314, -0.0209, -0.0103, -0.004, -0.0059, -0.0166, 0.0531, 0.0138, -0.0233, -0.0202, -0.0424, -0.0351, 0.0473, -0.0102, -0.037, 0.008, -0.0375, 0.0074, 0.0723, 0.0825, -0.0436, 0.0192, -0.0102, 0.0563, -0.0409, -0.0137, -0.0131, -0.0541, -0.0419, -0.0012, 0.0072, -0.0649, 0.0515, -0.0161, -0.0422, 0.0576, 0.0078, 0.0417, -0.0388, -0.051, 0.108, 0.0056, -0.0169, 0.0739, -0.0157, -0.0053, -0.0459, -0.0151, -0.0303, -0.0285, -0.0457, -0.0272, 0.0764, -0.061, -0.0426, -0.0483, 0.064, -0.0335, 0.0298, -0.029, -0.0181, 0.0942, 0.0988, 0.0916, -0.0376, -0.031, 0.0948, -0.0065, 0.0886, 0.0156, -0.0078, -0.0531, 0.084, -0.0116, -0.0314, -0.0202, 0.0407, -0.0281, -0.0508, -0.0418, -0.0108, -0.0359, 0.0736, -0.0572, -0.0544, 0.0074, -0.0024, -0.0024, -0.0225, -0.0593, -0.0554, -0.0229, 0.1113, 0.1537, -0.055, -0.0715, 0.0002, -0.0698, -0.0614, -0.0126, 0.0456, -0.0529, -0.0215, -0.014, 0.0912, -0.07, -0.042, 0.1365, -0.0305, -0.0623, 0.0084, -0.0153, -0.0077, -0.0087, 0.0392, 0.0324, -0.0339, 0.0091, -0.052, -0.0423, 0.0348, -0.0093, 0.0074, -0.0298, 0.1352, 0.0282, -0.0501, 0.0185, 0.0206, -0.0184, -0.0271, 0.0646, -0.017, -0.0124, 0.0563, 0.0504, 0.0455, -0.0079, -0.031, -0.0619, 0.0872, -0.0481, 0.0571, -0.0057, 0.0876, 0.0033, -0.0337, 0.0575, -0.0316, 0.0048, -0.0536, -0.0141, 0.0097, -0.0513, -0.0285, 0.0021, -0.0069, -0.051, -0.0208, -0.0343, -0.0304, 0.0338, 0.0012, -0.0118, 0.1618, 0.222, -0.0268, 0.0833, 0.0568, -0.0236, 0.066, -0.0334, -0.0078, 0.0402, 0.0342, 0.0227, -0.0143, 0.0611, 0.0013, 0.0103, -0.0306, -0.0658, -0.0029, 0.0094, -0.003, -0.0824, -0.0132, -0.0082, 0.0082, -0.0364, 0.0127, 0.1013, 0.0174, -0.0377, -0.0248, 0.0161, -0.0449, -0.011, -0.0323, -0.0528, -0.0282, -0.0509, -0.0125, 0.0005, 0.0534, -0.0201, 0.1601, -0.0151, -0.0342, 0.0111, -0.0016, 0.0224, -0.0163, -0.0532, 0.1, -0.0559, 0.016, -0.022, -0.0595, 0.1102, 0.0062, -0.0883, -0.0263, 0.0267, -0.0418, 0.0752, -0.0221, -0.0182, -0.0502, 0.0629, 0.087, 0.0062, -0.0099, -0.0156, 0.0607, -0.0432, -0.0057, 0.047, 0.0032, -0.0082, -0.0279, 0.0939, -0.0243, -0.009, -0.0387, -0.0314, 0.0092, 0.0095, -0.015, 0.0299, -0.0311, 0.1025, 0.001, 0.074, -0.0224, 0.0053, -0.055, 0.1143, 0.0052, -0.0182, -0.0213, -0.051, -0.0176, -0.0705, -0.0068, -0.0547, 0.0331, -0.0313, 0.0111, -0.044, -0.0201, -0.0584, -0.0378, -0.023, 0.0343, -0.0133, -0.0323, -0.0131, 0.045, -0.0443, -0.0082, -0.034, -0.0188, -0.0215, 0.0296, 0.0172, -0.0234, -0.0649, 0.0144, 0.0978, -0.0117, 0.0161, -0.02, -0.014, 0.0536, -0.0085, -0.041, 0.0595, -0.0174, -0.0426, 0.0817, -0.0381, 0.0019, -0.0069, -0.0535, 0.0783, -0.0476, -0.0522, -0.0189, -0.0286, -0.0255, -0.0238, 0.1311, -0.053, -0.0329, -0.0428, 0.0624, 0.0699, -0.0634, -0.0146, 0.0085, -0.026, 0.0141, 0.021, -0.0129, 0.0627, 0.0392, -0.0031, -0.0107, -0.0217, -0.0189, -0.0171, -0.0345, 0.03, -0.1215, -0.0734, -0.0136, -0.0026, -0.0163, 0.0536, 0.1062, -0.0262, -0.0119, -0.0274, -0.0107, -0.062, -0.0292, -0.0258, -0.0035, -0.0137, -0.0248, -0.0202, 0.0758, 0.0643, -0.0297, -0.0264, -0.0227, -0.0112, -0.0099, 0.119, 0.0097, 0.0608, -0.0253, 0.0025, 0.0224, -0.0199, 0.005, -0.0027, -0.0142, -0.0315, 0.013, 0.0017, 0.0662, 0.1133, 0.0431, -0.0573, -0.0254, 0.1609, 0.1273, 0.0244, -0.0475, -0.0856, -0.005, -0.0744, -0.0443, -0.0189, 0.0435, -0.0308, -0.0339, -0.0502, 0.0194, 0.018, 0.0816, -0.0159, -0.0068, -0.0017, 0.064, -0.0595, -0.0429, -0.0339, -0.0452, 0.0035, -0.0236, 0.0278, -0.0212, -0.0282, 0.1158, -0.0155, 0.0264, -0.0487, 0.0141, -0.0187, -0.048, 0.0124, -0.0291, 0.0112, -0.0385, -0.0351, -0.0806, -0.0421, 0.0203, 0.0178, 0.0163, 0.0437, -0.0641, -0.0071, -0.0148, -0.0215, 0.0295, 0.078, -0.0085, -0.0162, 0.0022, -0.0319, -0.0342, -0.0124, 0.0133, -0.066, -0.0213, -0.0246, -0.0615, -0.0526, -0.054, -0.04, -0.057, 0.0328, -0.0289, 0.0255, -0.0309, -0.0337, -0.0211, -0.0491, -0.0561, -0.0112, 0.0413, 0.0845, -0.0485, -0.0166, -0.0079, 0.1198, 0.0999, 0.0714, 0.0537, -0.0334, 0.0398, -0.0484, 0.1116, -0.0089, 0.0019, -0.0306, -0.0172, 0.1232, 0.0307, -0.0254, 0.006, 0.0128, -0.0638, -0.0216, -0.0315, -0.0107, -0.0136, 0.0134, -0.0361, -0.0446, -0.0852, -0.0325, -0.0691, -0.0436, 0.03, 0.016, -0.069, 0.0792, 0.0175, -0.0534, -0.0554, -0.0572, -0.0506, -0.0165, -0.0244, -0.0166, 0.1049, 0.0952, 0.0536, 0.0409, -0.0097, 0.052, 0.0654, 0.0221, 0.0, -0.0666, -0.0371, 0.0369, 0.0129, -0.0194, 0.0315, -0.0195, -0.0147, 0.0177, -0.028, 0.1133, -0.0089, 0.0289, 0.0238, -0.0178, -0.0052, -0.0025, 0.2234, -0.0375, -0.0475, -0.0771, -0.0401, 0.0832, -0.0458, -0.0598, -0.0083, -0.0277, -0.0469, -0.0545, -0.0581, -0.0146, -0.007, -0.0449, 0.0243, -0.049, 0.0175, 0.1039, -0.01, -0.0143, -0.0069, -0.0144, -0.0187, -0.0444, 0.0077, -0.0575, 0.2283, -0.0462, -0.0129, -0.0135, -0.0551, -0.0146, -0.0289, 0.0051, 0.0926, 0.153, -0.0507, -0.075, 0.0334, 0.0589, -0.0046, -0.0128, 0.0101, -0.0369, 0.0156, -0.0528, -0.0316, -0.0268, -0.0168, 0.047, -0.0445, -0.0361, -0.0068, 0.0739, 0.0443, -0.0308, -0.0524, 0.0214, -0.026, 0.229, -0.0032, 0.0063, 0.0122, -0.0488, -0.0303, -0.0067, 0.0252, 0.0602, -0.0359, -0.0118, 0.0135, -0.0171, 0.0284, -0.0185, 0.0748, -0.0286, -0.0271, -0.0397, -0.0279, -0.0289, -0.0306, 0.0907, -0.0272, -0.0565, -0.0269, -0.0609, 0.044, -0.0124, -0.0085, -0.0493, -0.068, -0.0097, -0.0381, -0.0259, -0.0341, -0.013, 0.0446, -0.0536, 0.0051, -0.0181, -0.0732, -0.0837, -0.0003, -0.0597, 0.007, -0.0582, 0.1389, 0.0068, 0.0205, -0.0194, 0.1593, -0.0078, -0.0161, -0.0109, 0.0502, -0.0252, 0.0407, -0.0452, 0.0923, 0.0377, -0.0526, -0.0342, -0.0221, -0.0575, -0.0228, -0.0344, -0.013, -0.0531, -0.0055, -0.0507, -0.0332, -0.0341, -0.0291, -0.0625, -0.0057, -0.033, 0.1334, -0.023, 0.1526, -0.0223, 0.1395, -0.0598, -0.0591, -0.0244, -0.0116, -0.0217, -0.0279, 0.0184, -0.0184, -0.0509, 0.0022, -0.0453, -0.0051, 0.0642, -0.053, -0.0124, -0.0343, -0.0448, 0.0087, 0.0305, -0.0199, 0.0448, 0.0011, -0.011, -0.0026, 0.1017, -0.0631, 0.0184, 0.0827, 0.0441, 0.0496, -0.0854, -0.0429, -0.009, -0.0134, 0.071, -0.0343, 0.2403, -0.0788, -0.0396, 0.0598, 0.1088, -0.0158, -0.0618, -0.0189, 0.0234, -0.0491, 0.1321, -0.0605, -0.0263, 0.0329, -0.0217, -0.0369, -0.0523, -0.0065, -0.0383, 0.0176, -0.0315, -0.0295, 0.278, -0.0443, -0.0145, -0.0279, 0.1053, -0.0495, -0.0496, -0.0344, -0.0162, 0.0123, -0.0304, 0.149, 0.0646, 0.0026, -0.0334, -0.056, 0.1051, -0.0824, 0.0337, -0.0803, -0.0349, 0.0912, -0.0287, -0.0329, 0.0187, -0.0282, -0.0421, 0.0453, -0.0204, -0.052, 0.0903, -0.0044, 0.1423, 0.0067, -0.0679, -0.0301, -0.0421, -0.022, -0.0383, -0.0079, -0.0121, -0.0635, 0.0227, -0.0686, 0.2056, -0.0192, -0.0112, -0.0249, -0.0267, 0.0115, -0.0567, -0.0518, -0.042, -0.0438, 0.079, -0.016, 0.021, 0.059, -0.0215, -0.0062, -0.0763, -0.0072, -0.0183, -0.0565, 0.1611, 0.0178, 0.043, -0.0155, 0.0506, 0.0005, -0.0235, 0.0188, 0.1007, -0.001, -0.008, -0.016, -0.0211, -0.0394, -0.0503, -0.0264, -0.0275, -0.0624, -0.0389, -0.0026, -0.006, 0.0325, -0.0093, 0.0936, 0.0849, -0.0346, -0.0647, -0.0353, 0.1061, 0.0291, 0.0138, -0.0252, 0.0319, -0.0862, -0.0236, -0.0344, -0.0325, -0.0291, -0.0141, -0.0294, -0.0294, 0.0103, -0.0379, -0.0198, 0.1147, -0.0396, -0.0168, -0.0347, 0.2605, -0.0561, -0.0227, -0.0476, -0.0513, 0.1012, 0.0875, 0.0751, -0.0456, -0.0253, -0.0345, -0.0288, 0.0575, 0.0243, 0.0097, -0.052, 0.0391, -0.0281, 0.1053, -0.0604, 0.0259, -0.0284, 0.0084, -0.0542, 0.0995, -0.0237, -0.0364, 0.0156, 0.0067, -0.0418, -0.0085, -0.0211, 0.0038, 0.1006, -0.0475, -0.0059, -0.0084, -0.0437, 0.0285, -0.0276, 0.0253, -0.038, -0.0223, -0.0097, 0.002, -0.0159, -0.0532, 0.035, -0.041, -0.0217, 0.013, 0.0356, -0.0446, -0.0217, 0.0777, -0.0524, -0.0348, -0.0282, -0.0286, -0.0161, -0.0224, -0.0246, -0.023, 0.0058, -0.0484, 0.2125, -0.0588, 0.0653, -0.0213, -0.0206, -0.0129, 0.078, 0.0225, 0.0117, -0.0083, 0.0453, -0.0104, -0.0167, 0.059, -0.0641, 0.0824, -0.0702, -0.0162, 0.0455, 0.039, -0.0239, 0.097, -0.0327, 0.0978, -0.0281, 0.0486, -0.0085, -0.0476, -0.0628, -0.0362, 0.1437, -0.0283, -0.0295, 0.0627, -0.0106, -0.0105, -0.0188, -0.0458, -0.0155, 0.0406, -0.0711, -0.0151, 0.0141, -0.0421, -0.0215, 0.0039, 0.142, -0.0148, -0.0059, -0.0655, -0.0458, -0.0202, -0.0239, -0.0642, 0.0053, -0.0466, -0.0198, -0.0565, -0.0422, -0.0509, -0.0083, -0.0791, 0.0376, -0.0063, -0.0333, 0.03, 0.0599, -0.0472, -0.0146, -0.0156, -0.0515, -0.0433, -0.0183, 0.0387, 0.0558, -0.0246, 0.0548, -0.0478, -0.0332, 0.0952, 0.1106, -0.0915, -0.0227, -0.0674, -0.0327, 0.0169, -0.0332, 0.0249, -0.0418, -0.0583, -0.0355, -0.0076, -0.0595, -0.0075, -0.057, 0.0226, -0.0299, -0.0795, -0.0365, -0.0186, 0.012, 0.0503, -0.0239, -0.024, 0.0096, -0.0399, 0.061, -0.0093, -0.014, -0.0199, 0.014, -0.0241, -0.041, -0.0185, -0.0245, -0.0396, -0.0477, -0.0352, 0.0622, -0.0498, -0.0474, 0.0086, -0.033, 0.041, 0.1261, -0.0206, -0.009, 0.0822, -0.0196, 0.1147, -0.0284, 0.1315, -0.0188, 0.0207, -0.04, -0.0722, -0.0161, -0.0079, 0.0005, -0.0113, -0.086, -0.0705, -0.0477, 0.0795, 0.0637, -0.0165, -0.036, -0.0223, -0.021, -0.0489, -0.0206, -0.0348, -0.0258, 0.0727, 0.0696, -0.0539, 0.0519, 0.0574, -0.0746, -0.0803, -0.0184, 0.0381, -0.0163, 0.0414, -0.0445, -0.0102, -0.0717, 0.1707, -0.0386, -0.0095, 0.1678, 0.0025, -0.0349, 0.0504, -0.034, -0.0589, -0.046, 0.0929, 0.0407, -0.0065, -0.0116, 0.0089, -0.0278, -0.0462, 0.0894, -0.0152, -0.0183, -0.0348, -0.0472, -0.0331, -0.0186, 0.0884, -0.0431, 0.0524, -0.0163, -0.0523, 0.062, -0.0217, -0.0144, -0.0394, -0.0689, 0.0137, 0.0584, 0.0628, 0.0212, -0.0787, 0.0294, -0.0444, -0.0389, -0.0176, -0.0437, 0.0156, -0.0192, -0.0031, 0.2052, -0.0408, -0.0091, -0.0539, -0.0186, -0.0555, 0.0114, -0.0341, -0.0091, -0.0622, -0.0046, -0.0621, -0.0359, -0.0448, 0.0268, -0.0074, -0.0142, 0.0176, -0.0169, -0.0293, -0.047, 0.0099, -0.0249, -0.0097, 0.045, -0.0271, -0.0202, 0.0259, -0.0244, 0.1674, 0.1729, -0.0165, -0.0544, -0.0168, -0.0415, -0.0085, -0.0249, -0.0468, 0.0156, -0.0202, 0.0606, -0.0254, -0.0602, -0.0488, -0.0162, -0.025, -0.055, -0.0591, -0.0167, 0.032, -0.0634, 0.056, -0.0545, -0.0237, -0.0392, -0.0484, -0.042, -0.0561, 0.0682, -0.0684, -0.0347, 0.0596, -0.0362, -0.0427, -0.0245, -0.0037, -0.0448, -0.0257, -0.0387, -0.0347, 0.0452, 0.0453, -0.0014, -0.0226, -0.0196, -0.0444, -0.0345, -0.0226, 0.0564, 0.0251, 0.0324, -0.0363, -0.0318, -0.0325, -0.0172, -0.0364, -0.0124, -0.0486, -0.0095, -0.0252, 0.048, 0.0147, -0.0776, -0.0203, -0.0299, 0.1007, -0.0197, 0.1004, -0.0645, -0.0473, -0.0381, 0.0481, 0.0357, 0.0753, -0.0106, -0.0493, -0.0265, -0.0962, 0.1266, -0.0034, -0.0186, -0.0045, 0.0728, 0.0183, -0.0126, 0.0632, -0.043, -0.0147, 0.0228, -0.0082, -0.0649, -0.0482, -0.0267, -0.0348, -0.0378, 0.0202, 0.1796, -0.0244, -0.0296, -0.0196, -0.0413, -0.0494, -0.0232, -0.0263, 0.0563, -0.0105, 0.0202, 0.202, -0.061, -0.0381, -0.0109, 0.0491, 0.0506, -0.062, -0.0955, -0.0498, -0.0582, -0.0059, -0.0104, -0.0385, 0.0181, 0.0714, -0.0175, -0.0441, -0.0439, -0.0624, -0.1085, -0.0187, 0.17, -0.0562, 0.0488, -0.0611, -0.0311, -0.0156, 0.0604, 0.0099, 0.0059, -0.0576, 0.129, 0.1129, -0.0626, 0.0044, 0.0316, -0.0116, 0.1086, 0.0122, -0.071, -0.0112, 0.0755, -0.005, 0.0396, -0.0516, -0.0223, -0.0198, -0.0376, -0.0219, -0.0208, 0.1261, -0.0142, -0.0636, -0.0226, -0.0012, 0.1116, -0.0334, -0.0141, -0.0114, 0.061, 0.0339, 0.043, 0.0486, 0.0664, -0.0297, 0.2322, 0.063, -0.0288, -0.0627, -0.0582, 0.1394, -0.0206, -0.0435, -0.0196, -0.0699, 0.0392, 0.0972, -0.0346, -0.0455, 0.0298, 0.058, 0.0566, 0.0833, -0.0525, 0.3195, -0.0632, 0.0246, -0.0207, -0.077, -0.0379, -0.032, -0.0774, 0.0027, -0.0662, 0.1067, -0.0462, -0.0502, -0.0377, -0.0661, -0.0466, -0.0581, -0.025, -0.0268, 0.1019, -0.0493, 0.0823, -0.0254, -0.0275, -0.0603, -0.0588, -0.037, -0.0542, 0.0008, 0.0303, -0.0472, -0.0236, -0.0094, -0.032, 0.0189, 0.03, -0.0092, -0.026, -0.0706, 0.0197, -0.0275, 0.0885, -0.0149, -0.0785, -0.0288, -0.0215, -0.0451, 0.0011, -0.0267, -0.0184, 0.0068, 0.2583, -0.0632, -0.0785, -0.0413, 0.0752, -0.0623, -0.0393, -0.0492, 0.0067, -0.0261, -0.0427, -0.0415, 0.0662, -0.0287, -0.0389, -0.009, -0.0246, -0.0111, 0.0468, 0.0476, -0.0305, -0.0227, -0.0454, -0.0483, 0.0167, 0.0128, -0.0018, -0.0085, -0.0594, 0.05, -0.1023, -0.0337, 0.1577, 0.0018, -0.0643, -0.0238, 0.0296, -0.0137, 0.0661, 0.0025, 0.0282, -0.0217, -0.0656, -0.0068, 0.0027, -0.0343, -0.0207, -0.0229, -0.0239, -0.0386, -0.0035, -0.0553, -0.0394, 0.002, -0.0376, -0.0207, -0.024, -0.0129, 0.0335, -0.0136, 0.0882, -0.0366, -0.0523, -0.0443, 0.008, 0.0006, -0.0195, -0.049, -0.0533, -0.01, -0.0446, -0.0655, -0.0294, -0.0382, 0.1893, 0.0047, -0.0212, -0.0286, -0.073, 0.0031, 0.1317, -0.0439, -0.0821, 0.0031, -0.0243, 0.0883, 0.0072, -0.0372, 0.0233, 0.1352, -0.0274, -0.0161, -0.0068, -0.0546, -0.0248, -0.0152, -0.0595, -0.0368, 0.1318, -0.0326, -0.0395, -0.0253, 0.0324, 0.1347, -0.0154, 0.0132, -0.0053, 0.0487, 0.0163, -0.003, -0.07, -0.049, 0.0054, -0.0069, -0.0636, -0.0562, 0.0198, -0.0326, -0.0495, -0.0052, -0.0479, 0.0482, -0.0333, -0.0444, 0.0157, -0.0119, -0.0227, -0.0228, 0.0482, 0.0131, 0.0469, 0.0525, -0.0244, 0.0355, -0.0517, 0.0128, -0.0605, -0.0554, -0.0396, -0.0422, 0.038, 0.0032, -0.0727, -0.039, -0.0702, -0.0365, 0.0215, -0.0243, -0.0585, 0.0494, 0.0487, 0.0229, 0.0432, -0.0301, -0.0264, -0.0232, 0.0804, -0.0397, 0.1035, 0.0445, 0.0954, -0.0483, 0.0624, -0.0066, 0.1287, 0.0554, -0.0329, 0.0562, -0.05, 0.117, 0.0055, -0.0119, -0.0169, -0.0305, -0.0195, -0.0515, -0.0515, 0.0616, -0.0721, 0.0167, -0.0657, -0.041, 0.0508, -0.0011, 0.0036, -0.0424, -0.0464, 0.042, -0.0154, 0.069, -0.063, 0.0594, -0.0341, 0.0275, -0.037, -0.0071, -0.0741, -0.0153, -0.0512, -0.0226, -0.0128, 0.0374, 0.0171, 0.0417, -0.0479, -0.0291, -0.0272, -0.056, 0.0136, -0.0164, -0.036, -0.0184, 0.0511, -0.0196, -0.0808, -0.0325, -0.0403, -0.0482, -0.042, -0.02, 0.0025, -0.036, 0.0719, 0.0179, 0.0207, 0.0379, -0.0294, -0.0486, 0.0404, -0.0679, -0.041, -0.0524, 0.1709, -0.0002, -0.048, -0.0279, -0.0777, -0.0462, -0.0326, -0.0008, -0.0272, -0.0721, -0.0288, -0.058, -0.0515, 0.1895, -0.0141, 0.1376, -0.0172, -0.046, 0.1108, -0.0668, -0.0223, 0.0111, -0.0504, 0.207, -0.0412, -0.0406, -0.0234, 0.0417, -0.0377, -0.0592, -0.0312, -0.0648, 0.0075, 0.0598, -0.0204, -0.0202, -0.0477, 0.2289, -0.0517, -0.0231, -0.0556, -0.0363, -0.0733, -0.037, -0.0053, -0.0582, -0.0496, -0.0626, -0.0547, -0.0442, 0.0409, -0.0219, -0.0253, -0.049, -0.0273, -0.0424, 0.0745, 0.069, -0.0291, 0.1299, -0.0045, 0.1139, -0.0575, -0.0526, -0.0019, -0.0161, 0.0472, -0.0239, -0.031, 0.0427, -0.0338, -0.0598, -0.0414, -0.0333, -0.0495, -0.0329, -0.0537, -0.0214, 0.2459, -0.0264, -0.0337, -0.0118, 0.0689, 0.1032, 0.0578, -0.0266, 0.0887, -0.0403, -0.0182, -0.0317, -0.0092, 0.0458, 0.2195, 0.0272, -0.0182, -0.0052, 0.054, -0.0312, 0.0296, 0.0179, 0.096, -0.048, -0.0336, -0.0582, 0.0289, -0.0418, 0.0094, -0.0509, -0.0473, -0.0653, 0.0622, -0.042, -0.0388, -0.0359, 0.0085, -0.0376, 0.0082, 0.1266, -0.0145, 0.0346, -0.0048, -0.0364, -0.0252, 0.0647, 0.0529, -0.0053, -0.0343, -0.0087, -0.0056, 0.0943, -0.062, 0.0472, 0.0757, -0.0105, -0.054, 0.0365, -0.0235, -0.0721, 0.0549, 0.0199, -0.0358, 0.1367, -0.0537, -0.0422, 0.0171, -0.0247, -0.0691, -0.0355, -0.0354, 0.0172, -0.0225, 0.0469, -0.0148, 0.0336, -0.0182, -0.0089, -0.0586, 0.0111, 0.0773, -0.0375, -0.0238, -0.0385, -0.0548, -0.0287, -0.0179, -0.0331, -0.0663, -0.041, -0.0244, 0.0836, -0.0261, 0.0283, 0.0025, 0.0137, -0.0459, -0.0813, -0.036, -0.0328, -0.0737, -0.0243, -0.0481, -0.0504, -0.0151, 0.0306, 0.1613, 0.1251, 0.0614, 0.024, -0.065, -0.0277, -0.0578, 0.041, -0.037, -0.0078, -0.0807, 0.1585, -0.0348, -0.0607, -0.0365, -0.0074, -0.0262, -0.0213, -0.011, -0.0559, -0.0541, 0.0434, -0.014, -0.0723, -0.0267, -0.0725, -0.0598, -0.025, -0.0246, 0.3394, -0.0952, -0.0035, -0.0295, 0.1318, -0.0212, -0.0932, 0.0548, -0.0244, -0.0289, 0.0361, -0.0448, -0.0268, 0.0117, -0.075, -0.0537, 0.0074, 0.0686, 0.1733, -0.0378, -0.0387, -0.0453, -0.073, 0.0498, -0.0073, -0.0495, -0.076, 0.058, -0.0167, -0.0169, 0.0987, -0.0112, -0.016, -0.0225, -0.0126, -0.0551, -0.063, -0.027, -0.042, -0.0229, -0.0442, -0.0348, 0.0775, -0.0106, -0.0308, 0.0551, -0.0378, -0.0795, 0.0417, -0.0181, -0.1306, -0.0301, -0.0729, -0.0101, 0.0475, 0.0093, -0.0564, -0.0235, 0.0496, -0.0279, -0.0509, -0.0671, -0.0112, -0.0458, -0.0903, -0.0235, -0.08, -0.0804, -0.0479, -0.069, 0.0628, 0.0071, -0.0413, 0.0298, 0.0177, -0.018, -0.0072, -0.0614, -0.0416, -0.014, 0.0994, 0.0115, -0.0616, -0.0168, -0.0512, -0.0138, 0.0636, -0.0115, -0.0299, -0.0371, -0.0528, -0.0331, 0.0505, -0.0123, 0.0961, 0.0532, 0.175, -0.0094, 0.0946, 0.0145, 0.0533, -0.0485, -0.0829, -0.0252, -0.0379, 0.2009, 0.0205, 0.1318, 0.1532, -0.0229, 0.004, -0.0345, -0.0051, 0.1247, -0.0366, -0.0358, 0.0456, -0.026, -0.0486, -0.0029, -0.0482, 0.0041, -0.0297, -0.096, -0.0407, -0.0082, -0.0628, -0.0192, 0.0175, -0.0829, -0.0173, -0.039, -0.0254, -0.0861, -0.0425, 0.0458, -0.06, -0.0158, -0.0523, -0.0499, -0.0134, -0.007, 0.0685, 0.0736, 0.0057, 0.0758, -0.0528, -0.0395, -0.0267, -0.0281, -0.0279, -0.0229, -0.0481, -0.0384, 0.0358, -0.0174, -0.0378, -0.0849, 0.0394, -0.0448, 0.0632, -0.0635, 0.0041, -0.0109, 0.0398, -0.0742, 0.0408, 0.0407, -0.0491, 0.0409, 0.2395, 0.0823, 0.2252, 0.0756, -0.0428, 0.0753, -0.0204, 0.0644, 0.2592, 0.0168, -0.0504, -0.0139, 0.0793, -0.0038, -0.073, -0.0169, -0.0141, -0.0371, -0.0512, -0.0076, -0.0894, 0.0897, -0.0752, -0.0388, -0.0288, -0.0934, 0.0446, 0.104, -0.026, -0.0241, -0.0264, 0.0051, 0.0364, -0.0285, -0.0501, -0.0307, -0.0268, 0.18, -0.0764, 0.0687, -0.0223, -0.0247, -0.0468, -0.0608, -0.0519, -0.0666, 0.0089, -0.0189, -0.0671, -0.036, -0.0392, -0.019, 0.1003, -0.0099, -0.0366, 0.021, -0.009, -0.0662, -0.0277, -0.05, 0.0797, -0.0424, -0.0392, -0.0817, -0.0423, -0.0926, -0.0218, -0.048, 0.0364, -0.0388, 0.1499, -0.044, -0.0422, -0.0507, -0.026, -0.0162, 0.0296, 0.0337, 0.052, 0.0204, -0.0195, -0.0393, -0.062, -0.0176, -0.0367, 0.0025, -0.0204, -0.0273, -0.0295, 0.0792, 0.0962, 0.023, 0.1421, -0.0118, 0.0116, 0.1306, -0.0336, 0.0119, -0.0542, 0.0008, -0.0609, -0.0153, 0.2283, -0.0368, -0.0241, -0.0221, 0.1587, -0.0321, -0.0404, -0.025, -0.0278, -0.0565, 0.0854, 0.0711, 0.0203, -0.0366, -0.0631, -0.0312, 0.0569, -0.0189, -0.0311, -0.0007, -0.0212, -0.0538, 0.0491, -0.0383, -0.022, -0.0209, 0.0319, -0.0568, -0.0494, -0.047, -0.0301, -0.0296, 0.0147, 0.1298, -0.016, 0.1208, 0.0367, -0.0145, -0.0571, 0.1225, -0.0589, -0.0676, -0.0068, -0.0288, 0.0215, 0.1818, -0.0098, -0.0515, -0.0512, -0.0475, -0.0551, 0.0542, -0.039, 0.075, -0.016, -0.0588, -0.0568, 0.0048, -0.0314, 0.0143, 0.1531, 0.055, -0.0468, 0.2312, 0.1808, 0.0091, -0.0215, -0.0368, 0.0395, -0.0491, -0.0237, -0.0179, -0.0314, -0.038, -0.0281, -0.0121, 0.0276, 0.1119, 0.1212, -0.0183, -0.0289, -0.0278, -0.0266, -0.0721, 0.0629, 0.0002, -0.0499, 0.0227, 0.0043, 0.0247, -0.0115, -0.0381, -0.0207, -0.0579, -0.0579, 0.0803, 0.0719, -0.0176, -0.0498, -0.0361, -0.0229, 0.0152, 0.0181, -0.0164, -0.042, -0.0195, -0.0251, 0.1683, -0.0257, -0.0482, -0.0457, -0.0728, 0.1683, -0.013, -0.0591, 0.012, -0.0766, -0.0418, 0.2289, -0.0527, -0.0537, 0.0541, -0.0221, 0.0533, -0.0179, -0.082, 0.1506, 0.1097, -0.0444, -0.0503, -0.0504, -0.0584, -0.0139, 0.1132, -0.0251, -0.0443, -0.007, -0.0023, -0.0087, -0.0467, -0.0497, -0.0399, -0.0445, -0.0205, 0.0265, -0.0202, 0.0243, -0.0438, -0.0181, -0.05, -0.0371, -0.0331, -0.0675, 0.2655, -0.0445, -0.0129, -0.0068, -0.0359, -0.0574, -0.052, -0.0448, -0.0649, -0.0383, 0.0313, -0.028, -0.0289, -0.066, -0.03, 0.0513, -0.0113, -0.074, -0.0044, -0.0891, -0.0323, -0.0205, -0.008, 0.0527, 0.012, 0.0721, -0.0501, 0.1649, -0.021, -0.0268, -0.0593, -0.0378, -0.0487, -0.0342, 0.0847, -0.0322, -0.0153, 0.2649, 0.1913, -0.009, -0.0627, -0.0245, 0.0261, -0.0438, -0.0218, 0.0154, -0.0524, -0.0264, -0.0391, 0.1075, -0.0879, -0.0209, -0.0306, -0.0941, -0.0781, 0.0842, -0.0237, -0.0299, -0.0584, -0.0325, 0.1141, 0.1144, 0.0275, -0.0304, -0.0349, -0.0544, -0.0104, 0.0182, -0.0265, -0.0592, 0.0901, -0.0024, -0.0164, 0.0285, -0.0217, -0.0542, -0.0472, 0.1159, -0.0272, -0.0297, -0.0149, -0.0089, -0.0058, -0.0278, 0.0279, 0.0599, -0.0127, -0.0137, 0.0498, -0.0472, -0.0774, -0.0673, 0.0798, 0.1431, -0.092, 0.013, -0.0624, -0.0557, -0.0231, 0.0635, 0.009, -0.0354, -0.0426, -0.0173, -0.0643, -0.0374, 0.0045, -0.014, -0.0182, 0.0054, -0.0211, -0.0322, -0.0025, -0.0107, -0.0081, -0.0301, 0.0477, 0.0871, -0.0802, -0.0347, 0.1342, -0.0331, -0.0521, -0.0592, -0.0617, -0.0594, -0.0457, -0.0564, 0.0319, -0.0595, -0.0433, 0.0198, -0.0319, -0.0524, 0.1839, 0.0511, -0.0479, -0.0665, -0.0123, -0.0254, 0.0311, 0.0575, -0.0193, 0.0621, -0.0355, 0.0094, 0.0929, -0.0652, -0.0308, -0.04, -0.0559, -0.0285, 0.1812, -0.044, -0.0475, -0.0232, -0.0599, -0.1197, -0.048, -0.0268, 0.0331, -0.0336, -0.0463, -0.0983, -0.0397, -0.061, 0.0879, -0.017, -0.0422, 0.0041, -0.0169, 0.0727, -0.0443, -0.021, -0.0329, 0.0443, -0.0432, -0.0496, -0.0538, -0.0258, -0.0295, -0.0808, 0.0386, 0.0089, -0.0463, 0.1398, -0.0562, -0.0397, -0.0529, -0.0198, -0.0306, 0.0242, 0.154, 0.0678, 0.0601, -0.0433, -0.0185, 0.0876, 0.0762, 0.03, -0.0596, 0.0728, -0.0297, -0.0276, -0.0228, 0.0293, 0.0136, -0.0467, 0.1688, 0.0741, 0.1001, -0.0494, -0.0192, -0.0406, -0.0297, -0.0977, -0.0485, 0.1088, -0.0102, -0.0198, -0.0371, 0.2345, -0.0197, 0.0699, 0.1327, 0.2819, 0.0288, -0.0943, -0.025, -0.0277, 0.022, -0.0774, -0.1221, 0.0152, -0.0818, -0.0338, -0.0638, -0.0051, -0.0411, -0.0227, -0.0079, 0.0251, 0.2323, 0.0267, 0.0141, -0.0722, -0.0045, -0.0776, -0.0413, -0.013, 0.3519, 0.1398, 0.1189, 0.0337, -0.0303, -0.0319, -0.0781, -0.0266, 0.0004, -0.0317, -0.067, 0.0276, -0.0303, -0.0276, -0.0202, -0.0502, -0.0419, 0.0772, -0.0495, -0.032, -0.0961, 0.0354, -0.0257, -0.0442, -0.0063, 0.0655, -0.0042, -0.0876, -0.0584, -0.0477, -0.091, 0.0105, -0.0232, -0.0236, -0.0428, 0.0745, -0.0162, 0.2271, -0.0235, 0.2213, -0.0794, 0.0662, -0.0449, -0.0814, -0.0275, -0.0876, 0.1264, -0.0122, -0.0235, -0.0247, -0.0077, -0.0499, -0.0311, -0.0799, 0.0567, 0.1272, -0.0421, 0.0267, -0.0528, 0.0069, -0.031, -0.0135, -0.0476, 0.2385, -0.0325, -0.0091, 0.1038, -0.0746, -0.0003, 0.0188, -0.0237, -0.0285, -0.0796, -0.0621, -0.0419, -0.1057, -0.0663, -0.0171, -0.0523, 0.1654, -0.074, -0.0408, -0.121, -0.0571, -0.0213, -0.1013, 0.1843, 0.0386, -0.0265, 0.008, -0.0578, -0.0078, -0.0169, 0.0296, -0.0354, 0.0671, -0.0382, -0.0202, -0.0618, -0.0367, 0.0466, -0.0182, 0.0529, -0.076, -0.0055, -0.0169, 0.1552, 0.0766, -0.0778, -0.0292, -0.0411, -0.086, -0.0342, -0.0456, 0.0017, -0.0796, -0.0243, -0.0761, -0.0333, -0.0417, -0.051, 0.1533, -0.023, 0.0888, 0.0655, -0.0517, -0.0503, -0.0253, -0.0423, -0.0601, 0.1109, -0.0801, -0.0241, 0.0666, -0.0393, -0.0049, -0.0313, -0.0552, -0.0404, -0.0579, 0.0422, -0.0342, -0.0527, -0.0385, -0.0372, -0.0395, -0.008, -0.0274, 0.0484, -0.0762, -0.0317, -0.0241, -0.0505, 0.113, -0.0721, -0.0558, 0.1922, 0.1082, -0.0894, 0.0986, -0.0861, -0.0818, 0.0009, -0.0034, 0.0073, -0.0567, 0.0109, -0.0322, -0.0186, -0.0198, 0.0199, -0.0255, 0.1169, -0.0087, -0.0579, 0.0637, -0.073, -0.0785, -0.0363, -0.0239, -0.0484, 0.1283, 0.05, -0.065, -0.0413, -0.0013, 0.0042, -0.0738, -0.0633, -0.0408, -0.0069, -0.0199, 0.0416, -0.0829, -0.0193, -0.0298, 0.0415, 0.0407, -0.0254, 0.1225, -0.0446, -0.0623, -0.0486, -0.0644, 0.0592, -0.0611, -0.092, 0.0339, -0.0274, -0.0813, 0.0121, -0.1069, -0.06, -0.0411, -0.0381, -0.033, -0.0523, -0.0365, -0.0055, -0.0275, -0.0096, -0.0035, -0.0517, -0.0374, -0.0556, -0.0431, 0.0124, -0.0498, 0.0088, -0.0348, -0.0497, -0.0436, -0.0389, -0.0266, 0.0271, -0.0393, 0.0816, -0.0484, 0.0503, -0.0414, 0.0885, -0.0473, 0.1012, -0.0515, 0.0288, -0.0137, 0.1063, 0.036, -0.0406, -0.0415, 0.1356, -0.0009, 0.0447, -0.0501, -0.0016, -0.0496, 0.0, -0.0145, -0.0688, 0.2073, -0.0266, -0.0339, -0.0103, 0.3395, -0.0421, -0.0862, 0.0468, -0.0293, -0.0135, -0.0433, -0.0349, -0.0684, -0.0053, 0.005, -0.0417, 0.0247, -0.0052, -0.0541, -0.0229, -0.0397, 0.0051, 0.0632, 0.0227, 0.0768, -0.0566, -0.0137, -0.0283, 0.0791, -0.0153, 0.0634, -0.0389, -0.0474, -0.0465, -0.0119, 0.1722, -0.0451, -0.0285, 0.0027, -0.0373, 0.1843, -0.0591, -0.0646, 0.0343, -0.0307, -0.0266, -0.0299, -0.0529, -0.0583, 0.0397, 0.1074, -0.0545, -0.0579, -0.0424, -0.0853, -0.007, -0.0145, -0.0305, -0.0166, -0.0897, 0.0176, 0.0047, 0.0692, 0.0849, -0.0548, 0.2009, -0.0366, -0.0247, -0.0745, -0.0551, -0.0381, -0.1019, -0.0181, -0.0652, -0.0457, -0.0434, -0.0258, -0.0355, -0.0467, -0.0379, -0.0513, 0.0065, 0.0596, -0.0646, -0.0309, -0.0446, -0.0307, 0.1777, -0.0391, 0.0062, -0.0889, -0.0204, -0.0549, -0.0423, 0.1145, -0.0464, -0.0643, -0.0602, 0.1339, 0.0801, 0.0242, -0.0838, 0.0172, -0.0424, -0.0132, 0.0857, -0.04, -0.0328, 0.016, -0.0339, 0.0124, -0.0155, 0.2, 0.2661, 0.0556, 0.0261, -0.0404, 0.0848, -0.0186, -0.0339, -0.114, 0.1491, 0.0074, 0.0348, 0.0241, 0.1094, -0.0655, -0.0169, -0.0355, -0.0225, 0.1018, -0.0758, -0.0723, -0.0023, -0.0279, -0.0098, 0.2292, -0.0801, -0.0645, -0.0704, -0.0338, -0.0457, -0.0288, 0.0476, 0.1871, -0.0127, -0.0441, -0.0836, -0.0907, -0.1107, -0.0727, -0.0159, -0.0529, -0.0542, -0.0484, 0.1256, -0.0592, 0.0316, -0.0114, 0.1892, -0.0458, -0.0255, -0.0201, 0.1688, -0.0225, -0.0147, 0.0418, -0.0576, -0.0276, -0.0423, 0.0726, 0.0012, -0.0533, 0.3157, -0.0616, -0.0227, 0.1635, -0.0493, 0.0092, -0.0606, 0.0184, 0.0959, -0.022, -0.0374, -0.0297, -0.0412, -0.041, -0.0432, 0.0282, 0.1316, 0.0051, 0.091, 0.0791, -0.0706, -0.0751, 0.075, 0.07, -0.0699, 0.0278, -0.0346, -0.0212, -0.0137, 0.1933, -0.077, -0.0392, -0.0619, -0.0348, -0.0685, -0.0088, 0.0502, -0.0482, -0.0857, -0.0438, -0.0719, -0.0768, -0.0127, 0.1689, 0.0017, -0.0195, 0.0069, 0.0107, -0.0317, -0.034, -0.019, -0.0335, 0.0306, -0.0478, -0.0605, 0.0416, 0.1411, 0.0185, -0.0444, 0.0569, -0.0522, -0.033, 0.022, -0.0392, -0.0599, -0.0878, -0.0773, 0.0611, 0.0168, -0.0737, -0.0224, -0.0224, 0.0191, -0.0277, -0.0284, -0.0629, -0.0579, -0.0272, -0.0342, -0.051, -0.0395, -0.0253, -0.0173, -0.0069, -0.0671, -0.1122, -0.006, -0.05, -0.0636, -0.04, -0.0777, 0.172, 0.0756, 0.0197, -0.0284, -0.0658, 0.0385, -0.0486, -0.0447, 0.0673, 0.1515, -0.0291, -0.067, 0.0515, -0.0928, -0.0488, -0.0401, -0.0478, -0.0183, -0.084, -0.0297, -0.0924, 0.1523, -0.0705, -0.0689, 0.0836, 0.1402, 0.0302, -0.0409, 0.3225, 0.0205, 0.0924, -0.0821, -0.0463, 0.0752, -0.0536, -0.0447, -0.0037, 0.0606, -0.0222, -0.038, -0.0476, 0.022, 0.0248, -0.0542, -0.0591, -0.0395, 0.0333, -0.0039, 0.1378, -0.0494, -0.0362, 0.0632, -0.0174, 0.0576, -0.0549, -0.0348, -0.0458, -0.0376, -0.0424, -0.0264, 0.1457, -0.0111, -0.0614, 0.0899, -0.0502, 0.0871, -0.0102, -0.0432, -0.0788, -0.0169, -0.0335, 0.1316, -0.053, -0.0596, 0.1707, -0.0702, -0.0285, -0.0333, -0.0484, -0.022, 0.072, 0.0689, -0.0306, 0.2421, 0.1441, -0.0915, -0.0226, 0.1643, 0.0026, 0.0198, -0.036, -0.0772, -0.0099, -0.1779, -0.0873, -0.0646, 0.1044, -0.0373, 0.0174, -0.028, -0.0337, -0.0565, -0.0574, 0.0314, -0.1262, -0.0367, -0.0041, -0.054, 0.1282, 0.078, -0.0271, -0.0692, -0.0411, -0.0601, -0.0455, -0.0302, -0.0609, -0.0353, -0.0393, -0.0164, -0.0852, -0.0574, -0.0169, 0.2544, -0.0483, -0.0935, -0.0364, -0.0122, 0.0439, 0.1821, -0.0411, 0.2435, -0.0592, 0.1098, -0.0726, -0.039, 0.301, -0.0346, -0.0321, -0.051, -0.0145, -0.0474, -0.0285, 0.1878, 0.0378, 0.0911, 0.0038, -0.0133, -0.0786, -0.0918, 0.0309, -0.0288, -0.0319, -0.0851, 0.0404, -0.0264, -0.0736, -0.046, -0.0707, 0.0254, 0.0091, -0.0395, 0.0409, -0.0198, -0.0612, -0.0271, -0.0541, 0.0386, 0.0816, -0.0299, -0.0387, -0.0428, 0.0522, -0.138, -0.0253, 0.0626, 0.0761, -0.0356, 0.0084, 0.0382, 0.1236, -0.03, 0.0589, -0.0287, 0.0015, 0.0024, 0.0496, 0.1027, -0.0309, 0.0149, -0.0302, 0.0514, -0.0812, 0.0654, 0.0632, 0.0432, -0.0734, -0.0839, -0.0475, 0.1261, -0.012, -0.0501, -0.032, -0.0318, -0.0259, -0.0086, 0.1114, 0.1604, -0.0615, 0.0043, -0.0426, -0.0263, 0.0267, -0.0212, -0.0962, 0.0236, -0.0316, -0.0208, -0.0152, 0.0336, -0.0126, 0.0213, -0.0482, 0.0348, 0.0162, -0.038, -0.0424, 0.0219, -0.0259, 0.1046, 0.066, -0.0372, -0.0384, -0.0337, -0.1017, -0.0327, -0.0709, 0.0481, -0.0574, -0.0619, -0.0002, -0.0592, -0.0333, -0.0272, 0.045, -0.0537, 0.122, -0.0601, 0.0389, -0.0515, 0.2441, -0.0169, -0.0153, -0.0675, -0.0205, 0.0582, -0.046, 0.0664, -0.0539, -0.0957, 0.1221, -0.0261, 0.0291, -0.0223, -0.033, 0.0797, -0.0509, -0.0169, -0.0357, 0.0149, 0.0751, 0.0723, -0.1021, -0.0863, -0.0815, 0.0335, -0.0231, 0.0666, -0.0515, -0.0563, 0.0628, 0.0111, -0.0493, 0.0731, -0.0357, -0.0464, 0.0179, -0.0397, -0.024, -0.0065, 0.0115, 0.0377, -0.0296, -0.0203, 0.0459, -0.0535, 0.0839, -0.0414, -0.0439, 0.0051, -0.0554, -0.0643, 0.0165, 0.1481, 0.0579, -0.032, -0.0433, -0.0527, -0.0808, -0.0558, 0.021, -0.0373, -0.0412, 0.0154, -0.069, 0.0291, 0.0552, -0.0521, 0.3678, -0.0271, -0.0313, -0.0193, -0.0286, -0.032, -0.0529, -0.0451, 0.0864, -0.0309, -0.0028, -0.0446, -0.0591, -0.0064, -0.0346, -0.0449, 0.0183, 0.1105, -0.0105, -0.046, 0.016, -0.02, -0.0885, -0.0457, 0.0701, 0.1055, -0.0276, 0.0901, -0.0153, -0.021, -0.0213, 0.0343, 0.0588, -0.0617, -0.0152, 0.0302, -0.0513, -0.0333, 0.0308, -0.0798, -0.0237, -0.0367, 0.1388, -0.0401, 0.0048, -0.0731, -0.0392, -0.1154, -0.0572, -0.0397, -0.0503, -0.0745, 0.3083, -0.0855, 0.2299, -0.009, 0.0297, -0.0537, 0.1323, 0.0743, -0.0448, -0.0619, -0.0795, -0.0581, -0.081, 0.2122, -0.0231, 0.0222, -0.0131, -0.0565, -0.0275, -0.0891, -0.1049, -0.0295, -0.0319, -0.0711, -0.0503, 0.173, 0.0397, 0.0264, 0.0198, -0.0281, 0.0548, -0.0189, 0.1533, -0.0379, 0.1507, 0.1313, 0.1151, -0.0648, -0.0547, -0.0413, -0.0389, -0.1268, -0.0517, -0.0359, -0.1018, -0.0348, -0.0499, -0.0443, 0.1983, 0.0983, -0.0175, 0.162, 0.0046, 0.0309, -0.0136, -0.0592, 0.3143, 0.1361, -0.0234, -0.0695, 0.0057, -0.0611, -0.014, -0.0346, -0.0009, -0.0534, -0.0757, -0.0376, 0.1865, -0.0774, -0.0625, -0.0393, -0.0709, -0.0901, -0.0161, -0.0551, -0.0859, 0.0998, 0.0184, -0.0447, 0.028, 0.1426, -0.0345, 0.1318, 0.1865, -0.0403, -0.0529, -0.0906, -0.0039, -0.019, 0.0184, -0.0482, -0.037, -0.0758, -0.0969, 0.0416, -0.0376, -0.03, 0.0119, -0.0759, -0.0613, -0.0033, -0.058, -0.0504, -0.0418, 0.0048, -0.0601, 0.0448, -0.0521, -0.0443, 0.0478, -0.0619, -0.0489, 0.2165, -0.0696, 0.1088, -0.0305, 0.0268, -0.0294, -0.0539, -0.0224, -0.0025, 0.0431, 0.3604, 0.035, -0.0416, -0.0475, 0.0109, -0.0477, 0.2476, -0.0263, -0.0423, -0.0457, -0.0664, -0.0457, -0.0328, 0.082, -0.038, -0.044, -0.032, -0.0977, 0.0254, -0.059, -0.0457, 0.0217, -0.0268, 0.1692, 0.0335, -0.0673, -0.0515, -0.0879, -0.0319, 0.1265, -0.0341, -0.0059, -0.059, -0.0589, -0.0895, 0.0342, 0.0677, -0.0406, -0.0282, -0.0413, -0.0532, 0.0426, -0.084, -0.0088, -0.0015, 0.012, 0.0191, -0.0377, -0.0073, 0.0365, 0.1895, 0.0085, -0.0426, -0.1077, -0.0393, 0.0317, 0.3749, -0.0665, 0.0018, 0.0317, -0.0514, -0.0375, -0.0775, 0.1284, -0.0052, -0.0549, -0.0287, -0.0669, -0.0203, -0.0204, -0.0466, -0.0439, 0.0444, -0.0798, 0.0261, -0.1053, -0.0577, -0.0069, -0.0532, -0.0308, -0.0934, -0.04, -0.0344, 0.057, -0.0326, -0.0569, -0.0484, -0.0436, -0.0133, -0.0321, -0.0275, -0.0356, 0.1884, -0.0655, -0.0437, 0.0107, -0.029, -0.0901, -0.0159, -0.0548, -0.0754, -0.0527, 0.0364, 0.1204, 0.0258, -0.0802, -0.0977, -0.0414, -0.0705, -0.0463, -0.0708, 0.0594, 0.208, -0.0414, -0.0756, 0.0452, -0.0342, -0.0409, -0.0837, -0.0204, -0.0649, 0.0538, 0.3009, -0.0375, 0.0479, 0.0729, 0.0277, 0.0014, 0.0617, -0.0404, -0.0604, -0.0474, -0.0489, -0.0286, -0.0682, -0.0192, -0.0866, -0.0975, 0.0048, 0.0048, -0.0494, -0.0453, -0.0443, -0.0685, -0.0422, -0.0204, -0.0379, -0.024, -0.0511, -0.1071, -0.0338, -0.0342, -0.1029, -0.0508, -0.0488, -0.0621, -0.175, 0.0599, -0.0393, -0.0124, 0.0408, -0.0432, -0.1156, -0.0577, -0.0262, 0.11, 0.0403, 0.2383, 0.0568, 0.0155, 0.0385, -0.0261, -0.0518, -0.0399, 0.2637, -0.0183, -0.0277, -0.071, -0.0857, -0.0512, -0.0545, 0.1044, 0.0655, -0.043, -0.0809, -0.0295, -0.0285, -0.0764, -0.0577, -0.0483, -0.0678, -0.033, -0.047, -0.0986, 0.0204, -0.0431, -0.0551, -0.0749, -0.0566, -0.0307, 0.0859, -0.0625, 0.0222, -0.0447, -0.0712, 0.1471, -0.0705, -0.0339, 0.1381, 0.0334, 0.056, -0.0303, 0.0399, -0.0391, -0.038, -0.0299, -0.0276, -0.0205, -0.0205, -0.0021, -0.0129, -0.076, -0.067, 0.0501, -0.093, -0.0322, -0.1215, 0.1536, -0.0641, -0.0667, -0.0246, 0.0897, 0.0162, -0.0159, -0.0031, 0.0579, -0.0278, 0.0541, 0.031, -0.0834, 0.0081, -0.0379, -0.0538, -0.0563, 0.0226, -0.0263, -0.0384, -0.0324, -0.0661, -0.0318, -0.0585, -0.002, -0.0237, -0.0126, -0.0993, 0.1646, -0.0521, 0.1588, -0.0714, -0.0353, -0.0194, -0.032, -0.0179, 0.039, -0.0257, -0.0298, 0.1661, 0.0372, 0.0288, -0.0452, 0.3563, -0.0579, -0.0493, -0.0217, 0.2487, 0.1418, 0.0139, -0.057, -0.0748, -0.022, 0.1716, -0.0248, -0.0484, -0.075, -0.0018, -0.0814, -0.0671, 0.1509, -0.0717, -0.0408, -0.0355, 0.0292, 0.311, -0.1061, 0.0206, -0.0959, -0.0385, 0.1882, 0.0338, -0.0778, -0.0125, -0.0417, -0.0479, -0.0405, -0.04, -0.0352, 0.1228, -0.0778, -0.0607, -0.0432, -0.0248, 0.1931, -0.0539, -0.0115, -0.0373, -0.021, 0.045, -0.1114, -0.0676, 0.196, -0.0644, -0.0206, -0.0199, -0.0474, -0.0663, -0.0281, -0.0487, -0.0518, -0.0205, -0.073, -0.0558, -0.0789, -0.0192, -0.0596, -0.0204, -0.0372, 0.1295, -0.0271, -0.0453, -0.0421, -0.0636, -0.0344, -0.0406, -0.0193, -0.0278, -0.0556, -0.0243, -0.0838, -0.0543, -0.0441, -0.0456, -0.0236, -0.059, 0.1356, -0.0358, 0.0243, -0.0554, -0.0576, -0.0461, -0.0657, 0.1341, -0.1, -0.1424, -0.0593, 0.0691, -0.0942, 0.1173, -0.1417, -0.0523, -0.0901, -0.0175, -0.0142, -0.103, -0.0204, -0.0657, -0.0318, 0.1229, -0.0709, -0.0009, 0.0038, -0.0805, -0.0378, 0.1527, 0.053, -0.026, -0.0583, -0.0822, 0.0075, -0.0385, -0.0116, -0.0282, -0.0348, -0.0363, -0.064, -0.0485, -0.0452, 0.1293, 0.0835, -0.0585, -0.0991, 0.3125, -0.0686, -0.0392, -0.0405, -0.0722, -0.0682, -0.0519, -0.0494, -0.0341, 0.0376, 0.0123, -0.0506, 0.0362, -0.057, -0.0506, 0.025, -0.0085, 0.2185, -0.0601, 0.269, -0.0423, -0.015, -0.0247, -0.0547, -0.0673, -0.008, -0.0652, -0.0456, 0.1199, -0.0136, 0.064, 0.0874, 0.0247, 0.034, 0.0147, 0.0646, 0.0389, -0.0662, 0.0778, -0.041, -0.0968, 0.0455, -0.0074, -0.0349, -0.0052, -0.0759, -0.074, -0.057, -0.0296, -0.0497, -0.0362, -0.104, 0.0585, 0.0291, 0.0406, -0.0433, -0.0441, -0.0594, -0.0334, 0.0746, 0.0217, -0.0124, 0.0381, 0.1579, 0.0, -0.0362, 0.0494, -0.035, -0.0294, 0.0091, 0.0263, 0.1093, -0.0331, -0.0373, -0.1557, -0.0277, -0.0617, -0.0051, 0.0915, -0.0152, -0.0686, -0.0587, 0.0823, -0.0348, -0.0703, 0.0344, 0.0096, -0.0291, 0.0125, 0.044, 0.0428, -0.045, -0.0518, 0.0295, 0.0072, -0.0863, -0.0352, 0.1031, -0.039, -0.0677, 0.0722, -0.0508, 0.0956, -0.0245, -0.0503, -0.1493, 0.0133, -0.0705, -0.0718, 0.0007, -0.0353, 0.1723, -0.0136, 0.036, 0.0311, -0.0697, -0.0574, 0.1635, -0.0557, -0.0121, -0.0356, -0.076, 0.0198, 0.087, -0.0197, -0.0531, -0.0443, 0.0723, -0.0802, -0.0312, -0.0399, -0.0491, 0.0745, -0.0657, -0.0255, 0.0111, 0.2786, 0.1464, 0.2702, -0.0262, -0.0783, -0.0394, 0.0393, -0.0606, 0.2525, -0.0458, -0.0051, -0.0977, 0.1832, 0.0087, -0.0853, -0.0411, -0.029, -0.1096, -0.0733, -0.0751, -0.0415, 0.054, -0.0533, -0.0497, 0.2075, 0.0224, 0.0889, -0.0964, 0.0674, 0.0176, -0.0482, -0.0328, -0.0604, -0.026, -0.0708, -0.0656, -0.0434, -0.0424, -0.0592, -0.0979, -0.1233, -0.0571, -0.0629, 0.0274, -0.1131, -0.0328, -0.0198, 0.1825, 0.0033, -0.0707, 0.1722, 0.173, -0.105, -0.0512, -0.047, -0.0402, -0.062, -0.0478, -0.0279, 0.164, -0.0253, -0.0423, 0.1045, -0.0607, 0.0297, -0.113, -0.0093, 0.1492, -0.0578, -0.028, -0.059, -0.0227, -0.101, -0.0372, -0.0506, -0.0582, 0.2731, -0.0458, 0.0316, -0.0287, -0.0611, -0.023, 0.0697, 0.1248, -0.0226, -0.01, -0.0024, -0.0541, -0.0924, 0.0104, -0.0512, -0.062, -0.0495, 0.0638, -0.0591, -0.0591, -0.0657, -0.0082, 0.0376, -0.042, -0.0673, -0.0408, -0.0745, -0.0753, -0.0551, -0.0929, -0.0567, -0.0783, -0.0347, -0.001, -0.0604, 0.2592, 0.2288, -0.1125, -0.0661, 0.2477, -0.0195, -0.0723, -0.0476, 0.0084, 0.0974, 0.123, -0.081, 0.3189, -0.0592, -0.0472, -0.021, -0.046, -0.0501, -0.0649, 0.0688, 0.1046, 0.2378, 0.2818, -0.0766, 0.0915, -0.0562, -0.099, 0.154, 0.0174, -0.0694, -0.0245, -0.0621, -0.0759, 0.1743, -0.1115, 0.3109, -0.0544, 0.1002, -0.1322, -0.0512, 0.0537, -0.0288, 0.0507, 0.1189, -0.0331, -0.0512, -0.0372, -0.0125, 0.0126, -0.0727, -0.0293, -0.0403, 0.1795, -0.0303, 0.3219, -0.0197, 0.3701, -0.0546, -0.01, 0.0088, -0.0453, -0.0335, -0.0002, -0.0456, -0.0936, -0.078, -0.058, 0.1629, -0.0596, -0.0291, -0.0682, 0.029, -0.0462, 0.155, -0.0558, -0.0229, 0.0197, -0.0396, -0.0558, -0.0597, -0.0617, 0.248, -0.0785, -0.1494, -0.0459, -0.0489, 0.0, -0.057, 0.2037, -0.0621, 0.0115, -0.0361, -0.0446, -0.0456, 0.0, -0.0838, -0.0152, -0.0396, -0.054, -0.0361, -0.0982, -0.1282, 0.0089, -0.0594, 0.0503, -0.0465, -0.062, 0.064, 0.0566, -0.0471, -0.0712, -0.0464, 0.0393, -0.0566, -0.0211, -0.0198, -0.0737, 0.0814, -0.044, -0.0447, -0.0495, -0.093, -0.0341, -0.0022, -0.0068, 0.0259, -0.0592, -0.0409, -0.0511, -0.0859, 0.076, 0.0755, -0.0409, -0.1338, -0.0415, -0.0425, 0.0571, 0.1013, -0.0021, -0.0641, -0.0707, -0.0441, -0.0527, 0.2811, 0.037, -0.0616, -0.0361, 0.2508, -0.0694, 0.0852, -0.0448, 0.1013, -0.0633, -0.0529, -0.0418, -0.0612, 0.2715, -0.0594, -0.0377, -0.0259, -0.0384, -0.0565, 0.0841, -0.0154, -0.0199, -0.0588, 0.0101, -0.061, -0.0328, 0.0272, 0.2507, -0.0161, -0.0309, 0.0604, 0.0377, 0.0984, 0.0768, 0.0007, -0.0706, -0.033, 0.0182, -0.0855, -0.1111, -0.0491, -0.0671, 0.2145, -0.0643, -0.0366, -0.0323, -0.0954, 0.0, -0.0448, -0.025, 0.0173, -0.0042, -0.0103, -0.0239, -0.0412, 0.0139, -0.0476, -0.0417, -0.0735, 0.0653, -0.029, -0.0617, -0.2024, 0.0101, 0.0313, -0.0295, -0.0813, 0.1371, -0.1531, -0.0222, -0.0598, -0.0154, -0.0859, -0.0641, -0.0481, 0.0729, -0.0691, 0.0417, 0.0438, -0.0527, -0.0478, 0.0707, 0.0633, -0.029, -0.0958, 0.033, -0.0044, -0.1067, -0.0382, -0.038, -0.0564, -0.0096, -0.0656, -0.0329, -0.0445, -0.0356, -0.0613, -0.1941, -0.0544, -0.0434, -0.019, 0.0965, 0.0939, -0.0288, -0.0695, -0.0387, 0.1789, -0.1046, -0.0212, -0.0698, 0.0384, -0.0513, -0.0453, -0.0781, -0.0198, -0.0109, -0.1479, 0.0746, -0.0463, 0.0097, -0.0748, -0.0264, 0.0081, -0.0747, -0.0214, -0.0124, -0.0499, -0.0311, -0.0353, -0.0145, 0.0066, -0.0256, -0.0477, -0.0186, 0.2285, -0.0076, -0.0737, 0.155, -0.0412, 0.2017, -0.0751, -0.0246, -0.0143, -0.0351, -0.0233, -0.0825, -0.0319, -0.0383, -0.0445, 0.1606, -0.0494, -0.0615, -0.0596, 0.1011, -0.0485, -0.0671, 0.0263, -0.074, 0.0179, -0.0503, -0.0449, 0.1453, -0.0629, -0.0586, -0.0128, 0.0066, 0.185, 0.0485, -0.0486, -0.0076, 0.0927, -0.0378, -0.1205, -0.0908, 0.1473, -0.0274, -0.0707, -0.0816, -0.0269, -0.0473, -0.0535, 0.2291, -0.0581, -0.033, -0.0919, -0.0102, 0.1492, 0.0074, -0.039, -0.0736, -0.0514, 0.0016, 0.0098, -0.0362, -0.043, -0.0502, -0.0277, -0.0472, -0.0919, 0.0172, -0.0501, -0.052, -0.0463, -0.0627, -0.0598, 0.0547, -0.0784, -0.0039, -0.033, 0.0297, -0.1067, 0.0069, -0.0449, -0.0905, -0.0449, -0.0651, -0.0042, 0.1448, 0.0027, 0.0179, -0.0597, -0.052, 0.0675, -0.0323, -0.0567, -0.11, 0.0191, 0.2316, 0.0187, -0.0509, -0.0314, -0.0166, 0.0439, 0.0011, -0.0462, -0.0261, 0.0673, -0.051, -0.0363, -0.0141, 0.0652, -0.0068, -0.0352, -0.0769, -0.0755, -0.0491, -0.0305, -0.0552, -0.0796, -0.0716, 0.0611, 0.1874, -0.0544, 0.0793, -0.0501, -0.0524, 0.189, -0.0373, -0.008, -0.0616, -0.0638, -0.0509, -0.0754, -0.0232, 0.0055, -0.0477, 0.1115, -0.033, -0.0601, -0.1117, -0.0475, -0.0111, -0.1038, -0.0616, -0.0591, 0.0147, -0.0754, -0.0079, -0.0907, 0.0367, -0.0491, -0.0749, 0.1631, -0.0839, -0.055, -0.0284, -0.0645, -0.0501, -0.0741, 0.0982, -0.0586, 0.0358, 0.0689, -0.0524, -0.0422, 0.0682, 0.4082, -0.0017, 0.1612, -0.0255, -0.0287, -0.0494, -0.0525, -0.0493, -0.0501, 0.0081, -0.0355, -0.0623, -0.0426, 0.0421, 0.0132, 0.0023, -0.0406, -0.015, -0.0594, 0.0017, -0.0651, -0.0486, 0.0739, -0.0818, -0.0559, -0.0294, -0.0471, -0.0428, -0.0993, -0.0971, -0.008, 0.017, -0.0544, -0.1075, 0.0009, -0.0507, -0.0383, -0.0099, -0.041, -0.0362, -0.0358, -0.0452, -0.0831, -0.043, -0.0843, -0.0899, -0.0535, -0.0396, -0.0739, -0.0188, 0.1389, -0.0442, 0.0327, -0.0507, -0.0355, -0.0176])"
      ]
     },
     "execution_count": 24,
     "metadata": {},
     "output_type": "execute_result"
    }
   ],
   "source": [
    "lrModel.coefficients"
   ]
  },
  {
   "cell_type": "code",
   "execution_count": 25,
   "metadata": {
    "scrolled": true,
    "slideshow": {
     "slide_type": "slide"
    }
   },
   "outputs": [
    {
     "data": {
      "image/png": "[encoded data removed]",
      "text/plain": [
       "<Figure size 432x288 with 1 Axes>"
      ]
     },
     "metadata": {
      "needs_background": "light"
     },
     "output_type": "display_data"
    }
   ],
   "source": [
    "import matplotlib.pyplot as plt\n",
    "%matplotlib inline\n",
    "import numpy as np\n",
    "\n",
    "beta = np.sort(lrModel.coefficients)\n",
    "\n",
    "plt.plot(beta)\n",
    "plt.ylabel('Beta Coefficients')\n",
    "plt.show()"
   ]
  },
  {
   "cell_type": "markdown",
   "metadata": {
    "slideshow": {
     "slide_type": "slide"
    }
   },
   "source": [
    "### Summary has many components one can call"
   ]
  },
  {
   "cell_type": "code",
   "execution_count": 26,
   "metadata": {
    "scrolled": true,
    "slideshow": {
     "slide_type": "slide"
    }
   },
   "outputs": [
    {
     "data": {
      "image/png": "[encoded data removed]",
      "text/plain": [
       "<Figure size 432x288 with 1 Axes>"
      ]
     },
     "metadata": {
      "needs_background": "light"
     },
     "output_type": "display_data"
    }
   ],
   "source": [
    "# Extract the summary from the returned LogisticRegressionModel instance trained\n",
    "trainingSummary = lrModel.summary\n",
    "\n",
    "# Obtain the objective per iteration\n",
    "objectiveHistory = trainingSummary.objectiveHistory\n",
    "plt.plot(objectiveHistory)\n",
    "plt.ylabel('Objective Function')\n",
    "plt.xlabel('Iteration')\n",
    "plt.show()"
   ]
  },
  {
   "cell_type": "code",
   "execution_count": 29,
   "metadata": {},
   "outputs": [
    {
     "data": {
      "text/plain": [
       "'features'"
      ]
     },
     "execution_count": 29,
     "metadata": {},
     "output_type": "execute_result"
    }
   ],
   "source": [
    "trainingSummary.\n"
   ]
  },
  {
   "cell_type": "code",
   "execution_count": 30,
   "metadata": {
    "scrolled": true,
    "slideshow": {
     "slide_type": "slide"
    }
   },
   "outputs": [
    {
     "name": "stdout",
     "output_type": "stream",
     "text": [
      "areaUnderROC: 0.9999328621148971\n"
     ]
    },
    {
     "data": {
      "image/png": "[encoded data removed]",
      "text/plain": [
       "<Figure size 432x288 with 1 Axes>"
      ]
     },
     "metadata": {
      "needs_background": "light"
     },
     "output_type": "display_data"
    }
   ],
   "source": [
    "# Obtain the receiver-operating characteristic as a dataframe and areaUnderROC.\n",
    "print(\"areaUnderROC: \" + str(trainingSummary.areaUnderROC))\n",
    "\n",
    "#trainingSummary.roc.show(n=10, truncate=15)\n",
    "roc = trainingSummary.roc.toPandas()\n",
    "plt.plot(roc['FPR'],roc['TPR'])\n",
    "plt.ylabel('False Positive Rate')\n",
    "plt.xlabel('True Positive Rate')\n",
    "plt.title('ROC Curve')\n",
    "plt.show()"
   ]
  },
  {
   "cell_type": "code",
   "execution_count": 31,
   "metadata": {
    "scrolled": true,
    "slideshow": {
     "slide_type": "slide"
    }
   },
   "outputs": [
    {
     "data": {
      "image/png": "[encoded data removed]",
      "text/plain": [
       "<Figure size 432x288 with 1 Axes>"
      ]
     },
     "metadata": {
      "needs_background": "light"
     },
     "output_type": "display_data"
    }
   ],
   "source": [
    "pr = trainingSummary.pr.toPandas()\n",
    "plt.plot(pr['recall'],pr['precision'])\n",
    "plt.ylabel('Precision')\n",
    "plt.xlabel('Recall')\n",
    "plt.show()"
   ]
  },
  {
   "cell_type": "code",
   "execution_count": 32,
   "metadata": {
    "scrolled": true,
    "slideshow": {
     "slide_type": "slide"
    }
   },
   "outputs": [
    {
     "data": {
      "image/png": "[encoded data removed]",
      "text/plain": [
       "<Figure size 432x288 with 1 Axes>"
      ]
     },
     "metadata": {
      "needs_background": "light"
     },
     "output_type": "display_data"
    }
   ],
   "source": [
    "# Set the model threshold to maximize F-Measure\n",
    "#trainingSummary.fMeasureByThreshold.show(n=10, truncate = 15)\n",
    "f = trainingSummary.fMeasureByThreshold.toPandas()\n",
    "plt.plot(f['threshold'],f['F-Measure'])\n",
    "plt.ylabel('F-Measure')\n",
    "plt.xlabel('Threshold')\n",
    "plt.show()"
   ]
  },
  {
   "cell_type": "markdown",
   "metadata": {
    "slideshow": {
     "slide_type": "slide"
    }
   },
   "source": [
    "### Evaluate on test data"
   ]
  },
  {
   "cell_type": "code",
   "execution_count": 33,
   "metadata": {
    "slideshow": {
     "slide_type": "slide"
    }
   },
   "outputs": [
    {
     "name": "stdout",
     "output_type": "stream",
     "text": [
      "+----------------------------------------+----------------------------------------+\n",
      "|                                    text|                             probability|\n",
      "+----------------------------------------+----------------------------------------+\n",
      "|2d metal slug offers retro fun like s...|[0.9803469318748019,0.019653068125197...|\n",
      "|abba reunite for musical premiere the...|[0.9833892407473793,0.01661075925262077]|\n",
      "|abortion not a poll issue - blair ton...|[0.025326733363238776,0.9746732666367...|\n",
      "|actor scott is new bond favourite boo...|[0.9653418627986485,0.034658137201351...|\n",
      "|actress roberts takes spider role act...|[0.9738260633171748,0.02617393668282511]|\n",
      "|african double in edinburgh world 500...|[0.9699443888068542,0.030055611193145...|\n",
      "|agassi fear for melbourne andre agass...|[0.9509230707013933,0.04907692929860687]|\n",
      "|ajax refuse to rule out jol move ajax...|[0.9833977870905432,0.016602212909456...|\n",
      "|all black magic: new zealand rugby pl...| [0.999279735542666,7.20264457333878E-4]|\n",
      "|angels  favourite funeral song  angel...|[0.9272539301074548,0.07274606989254526]|\n",
      "+----------------------------------------+----------------------------------------+\n",
      "only showing top 10 rows\n",
      "\n"
     ]
    }
   ],
   "source": [
    "# Make predictions on test data using the transform() method.\n",
    "# LogisticRegression.transform() will only use the 'features' column.\n",
    "predictions = lrModel.transform(testData)\n",
    "\n",
    "predictions.select(\"text\",\"probability\").show(n=10, truncate=40)"
   ]
  },
  {
   "cell_type": "markdown",
   "metadata": {
    "slideshow": {
     "slide_type": "slide"
    }
   },
   "source": [
    "#### Prediction object is a dataframe\n",
    "with some options"
   ]
  },
  {
   "cell_type": "code",
   "execution_count": 34,
   "metadata": {
    "scrolled": true,
    "slideshow": {
     "slide_type": "slide"
    }
   },
   "outputs": [
    {
     "name": "stdout",
     "output_type": "stream",
     "text": [
      "root\n",
      " |-- text: string (nullable = true)\n",
      " |-- label: integer (nullable = false)\n",
      " |-- words: array (nullable = true)\n",
      " |    |-- element: string (containsNull = true)\n",
      " |-- filtered: array (nullable = true)\n",
      " |    |-- element: string (containsNull = true)\n",
      " |-- features: vector (nullable = true)\n",
      " |-- rawPrediction: vector (nullable = true)\n",
      " |-- probability: vector (nullable = true)\n",
      " |-- prediction: double (nullable = false)\n",
      "\n"
     ]
    }
   ],
   "source": [
    "predictions.printSchema()"
   ]
  },
  {
   "cell_type": "code",
   "execution_count": 35,
   "metadata": {
    "scrolled": true,
    "slideshow": {
     "slide_type": "slide"
    }
   },
   "outputs": [
    {
     "name": "stdout",
     "output_type": "stream",
     "text": [
      "+------------------------------+------------------------------+-----+----------+\n",
      "|                          text|                   probability|label|prediction|\n",
      "+------------------------------+------------------------------+-----+----------+\n",
      "|mps criticise child access ...|[0.46773439156749774,0.5322...|    1|       1.0|\n",
      "|tory expert denies defeatis...|[0.4498271321759496,0.55017...|    1|       1.0|\n",
      "|howard backs stem cell rese...|[0.44673422300154964,0.5532...|    1|       1.0|\n",
      "|tsunami  won t divert afric...|[0.44654181956068656,0.5534...|    1|       1.0|\n",
      "|lord scarman  93  dies peac...|[0.4369071758802374,0.56309...|    1|       1.0|\n",
      "|bid to cut court witness st...|[0.4361055617520711,0.56389...|    1|       1.0|\n",
      "|councils prepare to set tax...|[0.4244351736576383,0.57556...|    1|       1.0|\n",
      "|schools to take part in moc...|[0.4182450989709662,0.58175...|    1|       1.0|\n",
      "|schools to take part in moc...|[0.4182450989709662,0.58175...|    1|       1.0|\n",
      "|blair hails turkey-eu talks...|[0.3877402754127522,0.61225...|    1|       1.0|\n",
      "|row over  police  power for...|[0.34706264434293865,0.6529...|    1|       1.0|\n",
      "|blair s hope for blunkett r...|[0.34277949340004565,0.6572...|    1|       1.0|\n",
      "|brown names 16 march for bu...|[0.3354276155890528,0.66457...|    1|       1.0|\n",
      "|assembly ballot papers  mis...|[0.3040435113307956,0.69595...|    1|       1.0|\n",
      "|muslim police stops  more l...|[0.3018006015975652,0.69819...|    1|       1.0|\n",
      "|g7 backs africa debt relief...|[0.282085461182114,0.717914...|    0|       1.0|\n",
      "|faith schools citizenship w...|[0.28007918662047776,0.7199...|    1|       1.0|\n",
      "|cabinet anger at brown cash...|[0.2769758748385581,0.72302...|    1|       1.0|\n",
      "|super union  merger plan to...|[0.25069517124467267,0.7493...|    1|       1.0|\n",
      "|no to royal succession shak...|[0.24994981010311135,0.7500...|    1|       1.0|\n",
      "+------------------------------+------------------------------+-----+----------+\n",
      "only showing top 20 rows\n",
      "\n"
     ]
    }
   ],
   "source": [
    "predictions.filter(predictions['prediction'] == 1) \\\n",
    "    .select(\"text\",\"probability\",\"label\",\"prediction\") \\\n",
    "    .orderBy(\"probability\", ascending=False) \\\n",
    "    .show(n = 20, truncate = 30)"
   ]
  },
  {
   "cell_type": "code",
   "execution_count": 36,
   "metadata": {
    "scrolled": true,
    "slideshow": {
     "slide_type": "slide"
    }
   },
   "outputs": [
    {
     "name": "stdout",
     "output_type": "stream",
     "text": [
      "Training: Area Under ROC: 0.9999328621148971\n",
      "Test: Area Under ROC: 0.9977009767092412\n"
     ]
    }
   ],
   "source": [
    "from pyspark.ml.evaluation import BinaryClassificationEvaluator\n",
    "print(\"Training: Area Under ROC: \" + str(trainingSummary.areaUnderROC))\n",
    "\n",
    "# Evaluate model\n",
    "evaluator = BinaryClassificationEvaluator(rawPredictionCol=\"rawPrediction\")\n",
    "print(\"Test: Area Under ROC: \" + str(evaluator.evaluate(predictions, {evaluator.metricName: \"areaUnderROC\"})))"
   ]
  },
  {
   "cell_type": "markdown",
   "metadata": {
    "slideshow": {
     "slide_type": "slide"
    }
   },
   "source": [
    "### Naive Bayes\n",
    "#### Specify and fit the model"
   ]
  },
  {
   "cell_type": "code",
   "execution_count": 37,
   "metadata": {
    "scrolled": true,
    "slideshow": {
     "slide_type": "slide"
    }
   },
   "outputs": [],
   "source": [
    "from pyspark.ml.classification import NaiveBayes\n",
    "\n",
    "# create the trainer and set its parameters\n",
    "nb = NaiveBayes(smoothing=1, modelType=\"multinomial\")\n",
    "\n",
    "# train the model\n",
    "model = nb.fit(trainingData)"
   ]
  },
  {
   "cell_type": "markdown",
   "metadata": {
    "slideshow": {
     "slide_type": "slide"
    }
   },
   "source": [
    "#### Evaluate Naive Bayes\n",
    "\n",
    "As with the regression problem above, now evaluate the classifier."
   ]
  },
  {
   "cell_type": "code",
   "execution_count": 38,
   "metadata": {
    "scrolled": true,
    "slideshow": {
     "slide_type": "notes"
    }
   },
   "outputs": [
    {
     "name": "stdout",
     "output_type": "stream",
     "text": [
      "+------------------------------+------------------------------+-----+----------+\n",
      "|                          text|                   probability|label|prediction|\n",
      "+------------------------------+------------------------------+-----+----------+\n",
      "|row threatens hendrix museu...|[0.37359941745133307,0.6264...|    0|       1.0|\n",
      "|iraqi voters turn to econom...|[0.2789308911192705,0.72106...|    0|       1.0|\n",
      "|howard  truanted to play sn...|[0.02276309049155117,0.9772...|    1|       1.0|\n",
      "|jackson film  absolute disa...|[0.004249643602726778,0.995...|    0|       1.0|\n",
      "|uk helps raped rwandan wome...|[4.262486800367509E-5,0.999...|    1|       1.0|\n",
      "|gurkhas to help tsunami vic...|[3.787099464209021E-5,0.999...|    1|       1.0|\n",
      "|errors  doomed first dome s...|[2.6808207995488266E-7,0.99...|    1|       1.0|\n",
      "|georgia plans hidden asset ...|[1.0380332960241144E-12,0.9...|    0|       1.0|\n",
      "|tsunami debt deal to be ann...|[2.01530330148039E-14,0.999...|    1|       1.0|\n",
      "|short attacks us over tsuna...|[8.657033356210737E-15,0.99...|    1|       1.0|\n",
      "|uk troops on ivory coast st...|[3.1698251259709814E-15,0.9...|    1|       1.0|\n",
      "|e-university  disgraceful w...|[4.065669833686285E-16,0.99...|    1|       1.0|\n",
      "|super union  merger plan to...|   [1.171280187278236E-18,1.0]|    1|       1.0|\n",
      "|call to save manufacturing ...|  [2.9913300124866564E-19,1.0]|    0|       1.0|\n",
      "|new foot and mouth action u...|  [1.1792825320813148E-20,1.0]|    1|       1.0|\n",
      "|mps issued with blackberry ...|   [2.497799280387987E-22,1.0]|    1|       1.0|\n",
      "|the memory driving brown s ...|  [1.6553060643933843E-23,1.0]|    1|       1.0|\n",
      "|police probe bnp mosque lea...|    [7.12911165365837E-24,1.0]|    1|       1.0|\n",
      "|nhs waiting time target is ...|   [5.218697734831938E-25,1.0]|    1|       1.0|\n",
      "|job cuts  false economy   -...|   [3.279511779552222E-25,1.0]|    1|       1.0|\n",
      "+------------------------------+------------------------------+-----+----------+\n",
      "only showing top 20 rows\n",
      "\n",
      "Test: Area Under ROC: 0.9885950413223141\n"
     ]
    }
   ],
   "source": [
    "# select example rows to display.\n",
    "predictions = model.transform(testData)\n",
    "predictions.filter(predictions['prediction'] == 1) \\\n",
    "    .select(\"text\",\"probability\",\"label\",\"prediction\") \\\n",
    "    .orderBy(\"probability\", ascending=False) \\\n",
    "    .show(n = 20, truncate = 30)\n",
    "\n",
    "# compute accuracy on the test set\n",
    "evaluator = BinaryClassificationEvaluator(rawPredictionCol=\"prediction\")\n",
    "print(\"Test: Area Under ROC: \" + str(evaluator.evaluate(predictions, {evaluator.metricName: \"areaUnderROC\"})))"
   ]
  },
  {
   "cell_type": "markdown",
   "metadata": {
    "slideshow": {
     "slide_type": "slide"
    }
   },
   "source": [
    "### Your TURN!  Decision Tree\n",
    "\n",
    "\n",
    "Using the `DecisionTreeClassifier` imported below, instantiate and fit a classifier with a depth of 3 to the training data."
   ]
  },
  {
   "cell_type": "code",
   "execution_count": null,
   "metadata": {
    "slideshow": {
     "slide_type": "slide"
    }
   },
   "outputs": [],
   "source": [
    "from pyspark.ml.classification import DecisionTreeClassifier"
   ]
  },
  {
   "cell_type": "code",
   "execution_count": null,
   "metadata": {},
   "outputs": [],
   "source": [
    "# your code here"
   ]
  },
  {
   "cell_type": "code",
   "execution_count": null,
   "metadata": {
    "scrolled": true,
    "slideshow": {
     "slide_type": "notes"
    }
   },
   "outputs": [],
   "source": [
    "#__SOLUTION\n",
    "\n",
    "# Create initial Decision Tree Model\n",
    "dt = DecisionTreeClassifier(labelCol=\"label\", featuresCol=\"features\", maxDepth=3)\n",
    "\n",
    "# Train model with Training Data\n",
    "dtModel = dt.fit(trainingData)"
   ]
  },
  {
   "cell_type": "markdown",
   "metadata": {
    "slideshow": {
     "slide_type": "slide"
    }
   },
   "source": [
    "Great! With a instantiated decision tree model, you can also check the number of nodes and depth of the classifier:"
   ]
  },
  {
   "cell_type": "code",
   "execution_count": null,
   "metadata": {
    "scrolled": true,
    "slideshow": {
     "slide_type": "slide"
    }
   },
   "outputs": [],
   "source": [
    "print(\"numNodes = \", dtModel.numNodes)\n",
    "print( \"depth = \", dtModel.depth)"
   ]
  },
  {
   "cell_type": "markdown",
   "metadata": {
    "slideshow": {
     "slide_type": "slide"
    }
   },
   "source": [
    "#### Evaluate Decision Tree\n",
    "\n",
    "Now, evaluate the decision tree classifier you just fit."
   ]
  },
  {
   "cell_type": "code",
   "execution_count": null,
   "metadata": {},
   "outputs": [],
   "source": [
    "#your code here"
   ]
  },
  {
   "cell_type": "code",
   "execution_count": null,
   "metadata": {
    "scrolled": true,
    "slideshow": {
     "slide_type": "notes"
    }
   },
   "outputs": [],
   "source": [
    "# __SOLUTION__\n",
    "predictions = dtModel.transform(testData)\n",
    "\n",
    "predictions.filter(predictions['prediction'] == 0) \\\n",
    "    .select(\"text\",\"probability\",\"label\",\"prediction\") \\\n",
    "    .orderBy(\"probability\", ascending=False) \\\n",
    "    .show(n = 10, truncate = 30)"
   ]
  },
  {
   "cell_type": "code",
   "execution_count": null,
   "metadata": {
    "scrolled": true,
    "slideshow": {
     "slide_type": "notes"
    }
   },
   "outputs": [],
   "source": [
    "#__SOLUTION__\n",
    "# Evaluate model\n",
    "evaluator = BinaryClassificationEvaluator(rawPredictionCol=\"rawPrediction\")\n",
    "print(\"Test: Area Under ROC: \" + str(evaluator.evaluate(predictions, {evaluator.metricName: \"areaUnderROC\"})))"
   ]
  },
  {
   "cell_type": "markdown",
   "metadata": {
    "slideshow": {
     "slide_type": "slide"
    }
   },
   "source": [
    "### Random Forest\n",
    "\n",
    "\n",
    "Let's try one more example. Fit a `RandomForestClassifier` with 100 trees. Each tree should have a maxDepth of 4."
   ]
  },
  {
   "cell_type": "code",
   "execution_count": null,
   "metadata": {
    "slideshow": {
     "slide_type": "slide"
    }
   },
   "outputs": [],
   "source": [
    "from pyspark.ml.classification import RandomForestClassifier"
   ]
  },
  {
   "cell_type": "code",
   "execution_count": null,
   "metadata": {},
   "outputs": [],
   "source": [
    "#your code here"
   ]
  },
  {
   "cell_type": "code",
   "execution_count": null,
   "metadata": {
    "scrolled": true,
    "slideshow": {
     "slide_type": "notes"
    }
   },
   "outputs": [],
   "source": [
    "#__SOLUTION__\n",
    "# Create an initial RandomForest model.\n",
    "rf = RandomForestClassifier(labelCol=\"label\", \\\n",
    "                            featuresCol=\"features\", \\\n",
    "                            numTrees = 100, \\\n",
    "                            maxDepth = 4, \\\n",
    "                            maxBins = 32)\n",
    "\n",
    "# Train model with Training Data\n",
    "rfModel = rf.fit(trainingData)"
   ]
  },
  {
   "cell_type": "markdown",
   "metadata": {
    "slideshow": {
     "slide_type": "slide"
    }
   },
   "source": [
    "#### Score and evaluate Random Forest\n",
    "\n",
    "Evaluate the model, as you have with the other models."
   ]
  },
  {
   "cell_type": "code",
   "execution_count": null,
   "metadata": {},
   "outputs": [],
   "source": [
    "# your code here"
   ]
  },
  {
   "cell_type": "code",
   "execution_count": null,
   "metadata": {
    "scrolled": true,
    "slideshow": {
     "slide_type": "notes"
    }
   },
   "outputs": [],
   "source": [
    "#__SOLUTION__\n",
    "# Score test Data\n",
    "predictions = rfModel.transform(testData)\n",
    "\n",
    "predictions.filter(predictions['prediction'] == 1) \\\n",
    "    .select(\"text\",\"probability\",\"label\",\"prediction\") \\\n",
    "    .orderBy(\"probability\", ascending=False) \\\n",
    "    .show(n = 10, truncate = 30)"
   ]
  },
  {
   "cell_type": "code",
   "execution_count": null,
   "metadata": {
    "scrolled": true,
    "slideshow": {
     "slide_type": "notes"
    }
   },
   "outputs": [],
   "source": [
    "#__SOLUTION__\n",
    "evaluator = BinaryClassificationEvaluator(rawPredictionCol=\"rawPrediction\")\n",
    "print(\"Test: Area Under ROC: \" + str(evaluator.evaluate(predictions, {evaluator.metricName: \"areaUnderROC\"})))"
   ]
  },
  {
   "cell_type": "markdown",
   "metadata": {
    "slideshow": {
     "slide_type": "slide"
    }
   },
   "source": [
    "### Implementing grid search with `CrossValidator` in pyspark"
   ]
  },
  {
   "cell_type": "code",
   "execution_count": null,
   "metadata": {
    "scrolled": true,
    "slideshow": {
     "slide_type": "slide"
    }
   },
   "outputs": [],
   "source": [
    "from pyspark.ml.tuning import ParamGridBuilder, CrossValidator\n",
    "\n",
    "paramGrid = (ParamGridBuilder()\n",
    "             .addGrid(rf.numTrees, [50, 100, 200]) # number of trees\n",
    "             .addGrid(rf.maxDepth, [3, 4, 5]) # maximum depth\n",
    "#            .addGrid(rf.maxBins, [24, 32, 40]) #Number of bins\n",
    "             .build())\n",
    "\n",
    "# Create 5-fold CrossValidator\n",
    "cv = CrossValidator(estimator=rf, \\\n",
    "                    estimatorParamMaps=paramGrid, \\\n",
    "                    evaluator=evaluator, \\\n",
    "                    numFolds=5)\n",
    "\n",
    "# Run cross validations\n",
    "cvModel = cv.fit(trainingData)\n",
    "\n",
    "# Use test set here so we can measure the accuracy of our model on new data\n",
    "predictions = cvModel.transform(testData)\n",
    "\n",
    "# cvModel uses the best model found from the Cross Validation\n",
    "# Evaluate best model\n",
    "print(\"Test: Area Under ROC: \" + str(evaluator.evaluate(predictions, {evaluator.metricName: \"areaUnderROC\"})))"
   ]
  },
  {
   "cell_type": "markdown",
   "metadata": {
    "slideshow": {
     "slide_type": "slide"
    }
   },
   "source": [
    "## Which model had the best AUC?"
   ]
  },
  {
   "cell_type": "code",
   "execution_count": null,
   "metadata": {},
   "outputs": [],
   "source": []
  }
 ],
 "metadata": {
  "kernelspec": {
   "display_name": "Python 3",
   "language": "python",
   "name": "python3"
  },
  "language_info": {
   "codemirror_mode": {
    "name": "ipython",
    "version": 3
   },
   "file_extension": ".py",
   "mimetype": "text/x-python",
   "name": "python",
   "nbconvert_exporter": "python",
   "pygments_lexer": "ipython3",
   "version": "3.8.4"
  }
 },
 "nbformat": 4,
 "nbformat_minor": 4
}
