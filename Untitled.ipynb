{
 "cells": [
  {
   "cell_type": "code",
   "execution_count": 49,
   "metadata": {},
   "outputs": [],
   "source": [
    "def multiples(num,sum):\n",
    "    mult = [3,5]\n",
    "    for a in mult:\n",
    "        if(num%a==0):\n",
    "            return multiples(num/a,sum)\n",
    "        else:\n",
    "            sum = sum+a\n",
    "            return sum\n"
   ]
  },
  {
   "cell_type": "code",
   "execution_count": 67,
   "metadata": {},
   "outputs": [
    {
     "ename": "SyntaxError",
     "evalue": "invalid syntax (<ipython-input-67-7da24d27fc28>, line 4)",
     "output_type": "error",
     "traceback": [
      "\u001b[0;36m  File \u001b[0;32m\"<ipython-input-67-7da24d27fc28>\"\u001b[0;36m, line \u001b[0;32m4\u001b[0m\n\u001b[0;31m    while (sumlist[len(sumlist-1)])\u001b[0m\n\u001b[0m                                   ^\u001b[0m\n\u001b[0;31mSyntaxError\u001b[0m\u001b[0;31m:\u001b[0m invalid syntax\n"
     ]
    }
   ],
   "source": [
    "def fibonbaci(num):\n",
    "    sumlist = [0,1]\n",
    "    a = 0\n",
    "    while (sumlist[len(sumlist-1)])\n",
    "        for i,j in enumerate(sumlist):\n",
    "            sumlist.append(i)"
   ]
  },
  {
   "cell_type": "code",
   "execution_count": 57,
   "metadata": {},
   "outputs": [],
   "source": [
    "fibonnaci(5)"
   ]
  },
  {
   "cell_type": "code",
   "execution_count": 5,
   "metadata": {},
   "outputs": [],
   "source": [
    "def fibonnaci(num, numlist):\n",
    "    if numlist[-1] < num:\n",
    "        numlist.append(numlist[-1]+numlist[-2])\n",
    "        return fibonnaci(num, numlist)\n",
    "    return numlist"
   ]
  },
  {
   "cell_type": "code",
   "execution_count": 9,
   "metadata": {},
   "outputs": [
    {
     "data": {
      "text/plain": [
       "[0,\n",
       " 2,\n",
       " 8,\n",
       " 34,\n",
       " 144,\n",
       " 610,\n",
       " 2584,\n",
       " 10946,\n",
       " 46368,\n",
       " 196418,\n",
       " 832040,\n",
       " 3524578,\n",
       " 14930352,\n",
       " 63245986]"
      ]
     },
     "execution_count": 9,
     "metadata": {},
     "output_type": "execute_result"
    }
   ],
   "source": [
    "a = list(filter((lambda x: x%2==0),fibonnaci(40000000,[0,1])))\n",
    "b = fibonnaci(40000000,[0,1])\n",
    "b\n",
    "a"
   ]
  },
  {
   "cell_type": "code",
   "execution_count": 10,
   "metadata": {},
   "outputs": [],
   "source": [
    "def fibonnaci(maxnum):\n",
    "    num = 1\n",
    "    prev_value = 0\n",
    "    fibsum = 0\n",
    "    \n",
    "    while (num < maxnum):\n",
    "        f = num + prev_value\n",
    "        if (f % 2 == 0):\n",
    "            fibsum += f\n",
    "        pre_value = num\n",
    "        num = f\n",
    "    return fibsum"
   ]
  },
  {
   "cell_type": "code",
   "execution_count": null,
   "metadata": {},
   "outputs": [],
   "source": []
  },
  {
   "cell_type": "code",
   "execution_count": null,
   "metadata": {},
   "outputs": [],
   "source": []
  }
 ],
 "metadata": {
  "kernelspec": {
   "display_name": "Python 3",
   "language": "python",
   "name": "python3"
  },
  "language_info": {
   "codemirror_mode": {
    "name": "ipython",
    "version": 3
   },
   "file_extension": ".py",
   "mimetype": "text/x-python",
   "name": "python",
   "nbconvert_exporter": "python",
   "pygments_lexer": "ipython3",
   "version": "3.7.6"
  }
 },
 "nbformat": 4,
 "nbformat_minor": 4
}
