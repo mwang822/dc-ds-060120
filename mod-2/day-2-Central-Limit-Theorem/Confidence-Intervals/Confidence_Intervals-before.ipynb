{
 "cells": [
  {
   "cell_type": "markdown",
   "metadata": {},
   "source": [
    "## Agenda\n",
    "\n",
    "\n",
    "- Confidence intervals\n",
    "\n",
    "    - Standard error\n",
    "    - Confidence factors\n",
    "    - Margin of Error  \n",
    "  \n",
    "- Constructing a confidence intervals for the bike share trip durations\n",
    "\n",
    "- Z-scores for the normal distributions\n",
    "\n"
   ]
  },
  {
   "cell_type": "markdown",
   "metadata": {},
   "source": [
    "## Confidence Intervals\n",
    "\n",
    "\n",
    "A point estimate `x_bar`, of the mean, provides a single plausible value for a parameter. However, as we have seen, a point estimate is rarely perfect; usually there is some error in the estimate. That is why we have suggested using the standard error as a measure of its variability.\n",
    "\n",
    "Instead of that, a next logical step would be to provide a __plausible range of values__ for the parameter. A plausible range of values for the sample parameter is called a __confidence interval.__\n",
    "\n",
    "<img src = \"./img/margin_of_error.png\" width = 450 />\n",
    "\n",
    "Point estimate +/- margin of error"
   ]
  },
  {
   "cell_type": "markdown",
   "metadata": {},
   "source": [
    "**KEY POINT** : Our level of confidence that if we obtained a sample of equal size, our sample interval would contain the population mean.\n",
    "\n",
    " - This implies that there is an element of chance whether this interval will contain the true mean or not. In fact, when we calculate 95% confidence intervals, we should expect for every 20 samples and 20 confidence intervals created from these samples, on of them might miss the true parameter.\n",
    "\n",
    "Let's understand this better using a [visual display](https://shiny.rit.albany.edu/stat/confidence/)."
   ]
  },
  {
   "cell_type": "markdown",
   "metadata": {},
   "source": [
    "### Z-scores"
   ]
  },
  {
   "cell_type": "code",
   "execution_count": null,
   "metadata": {},
   "outputs": [],
   "source": [
    "from scipy.stats import norm"
   ]
  },
  {
   "cell_type": "code",
   "execution_count": null,
   "metadata": {},
   "outputs": [],
   "source": [
    "mu =90\n",
    "\n",
    "sigma = 5\n",
    "\n",
    "num_std = 3"
   ]
  },
  {
   "cell_type": "code",
   "execution_count": null,
   "metadata": {},
   "outputs": [],
   "source": [
    "x_bar = 81"
   ]
  },
  {
   "cell_type": "code",
   "execution_count": null,
   "metadata": {},
   "outputs": [],
   "source": [
    "z_score = (x_bar - mu)/sigma"
   ]
  },
  {
   "cell_type": "code",
   "execution_count": null,
   "metadata": {},
   "outputs": [],
   "source": [
    "norm.pdf(0)"
   ]
  },
  {
   "cell_type": "code",
   "execution_count": null,
   "metadata": {},
   "outputs": [],
   "source": [
    "x = np.linspace(mu - num_std*sigma, mu + num_std*sigma, 100)\n",
    "y = norm.pdf(x , loc= mu, scale = sigma)"
   ]
  },
  {
   "cell_type": "code",
   "execution_count": null,
   "metadata": {},
   "outputs": [],
   "source": [
    "norm.pdf(z_score)"
   ]
  },
  {
   "cell_type": "code",
   "execution_count": null,
   "metadata": {},
   "outputs": [],
   "source": [
    "\n",
    "plt.figure(figsize = (10,8))\n",
    "plt.subplot(1,2,1).plot(x,y)\n",
    "plt.vlines(x =mu, ymin = 0, ymax = norm.pdf(mu, loc = mu, scale = sigma) )\n",
    "\n",
    "plt.vlines(x = [mu - sigma, mu + sigma], ymin = [0,0 ], \n",
    "           ymax = [norm.pdf(mu-sigma, loc = mu, scale = sigma),norm.pdf(mu+sigma, loc = mu, scale = sigma)], color = 'red')\n",
    "\n",
    "plt.vlines(x = x_bar, ymin = 0, ymax = norm.pdf(x_bar, loc = mu, scale = sigma), color = 'green')\n",
    "plt.title(\"A Normal Distribution with mean %.2f and std %.2f\"%(mu, sigma))\n",
    "x_standard = np.linspace(-num_std, num_std, 100)\n",
    "y_standard = norm.pdf(x_standard)\n",
    "\n",
    "plt.subplot(1,2,2).plot(x_standard,y_standard)\n",
    "plt.vlines(x =0, ymin = 0, ymax = norm.pdf(0, loc = 0, scale = 1) )\n",
    "\n",
    "plt.vlines(x = [-1,1], ymin = [0.01, 0.01], \n",
    "           ymax = [norm.pdf(-1),norm.pdf(1)], color = 'red')\n",
    "\n",
    "plt.vlines(x = z_score, ymin = 0, ymax = norm.pdf(z_score), color = 'green')\n",
    "plt.title(\"Standardization of the Normal Distribution\")\n",
    "plt.show()"
   ]
  },
  {
   "cell_type": "markdown",
   "metadata": {},
   "source": [
    "### An Example\n",
    "\n",
    "Let's try to create a %95 confidence interval for the average Capital Bike Share trips durations.\n",
    "\n",
    "For this problem we can assume that we know the population standard deviation $\\sigma = 17$. Note that $\\mu$ is not known and we are trying to estimate it."
   ]
  },
  {
   "cell_type": "markdown",
   "metadata": {},
   "source": [
    "[For more info about the data](https://www.capitalbikeshare.com/system-data)"
   ]
  },
  {
   "cell_type": "code",
   "execution_count": null,
   "metadata": {},
   "outputs": [],
   "source": [
    "import pandas as pd\n",
    "import numpy as np\n",
    "import matplotlib.pyplot as plt\n",
    "%matplotlib inline\n",
    "df = pd.read_csv('data/sampled_bikeshare.csv')\n",
    "df.drop(columns = 'Unnamed: 0', inplace = True)"
   ]
  },
  {
   "cell_type": "code",
   "execution_count": null,
   "metadata": {},
   "outputs": [],
   "source": [
    "print(df.shape)\n",
    "df.head()\n"
   ]
  },
  {
   "cell_type": "code",
   "execution_count": null,
   "metadata": {},
   "outputs": [],
   "source": [
    "## convert seconds to mins\n",
    "trip_durations = df['Duration']/60\n",
    "trip_durations.describe()"
   ]
  },
  {
   "cell_type": "markdown",
   "metadata": {},
   "source": [
    "Note that there are some outliers. Let's take a closer look at them."
   ]
  },
  {
   "cell_type": "code",
   "execution_count": null,
   "metadata": {},
   "outputs": [],
   "source": [
    "trip_durations.plot(kind = 'box')"
   ]
  },
  {
   "cell_type": "code",
   "execution_count": null,
   "metadata": {},
   "outputs": [],
   "source": [
    "\n",
    "## Considering only the trips less than 2 hours\n",
    "two_hours_trips = trip_durations[trip_durations < 120]"
   ]
  },
  {
   "cell_type": "code",
   "execution_count": null,
   "metadata": {},
   "outputs": [],
   "source": [
    "two_hours_trips.hist()\n",
    "plt.title(\"Distribution of ALL Samples Collected\")\n",
    "plt.xlabel(\"Duration in Min\")\n",
    "plt.ylabel(\"Frequency\")\n",
    "plt.show()"
   ]
  },
  {
   "cell_type": "markdown",
   "metadata": {},
   "source": [
    "Note that distribution is definitely not normally distributed."
   ]
  },
  {
   "cell_type": "code",
   "execution_count": null,
   "metadata": {},
   "outputs": [],
   "source": [
    "## Find the point estimator for the population mean:\n",
    "\n",
    "x_bar = two_hours_trips.mean()\n",
    "\n",
    "print(\"In our sample the average trip length is: %.2f\"%x_bar)"
   ]
  },
  {
   "cell_type": "code",
   "execution_count": null,
   "metadata": {},
   "outputs": [],
   "source": [
    "## We can also calculate point estimators for the median and variance and std\n",
    "## recall that the sample statistics for standard deviation is denoted with \"s\"\n",
    "s = two_hours_trips.std()\n",
    "print(\"Sample standard deviation is: %.2f\"%s)"
   ]
  },
  {
   "cell_type": "markdown",
   "metadata": {},
   "source": [
    "### Basic Principles in the Construction of Confidence Intervals"
   ]
  },
  {
   "cell_type": "markdown",
   "metadata": {},
   "source": [
    " - Our point estimate is the most plausible value of the parameter, so it makes sense to build the confidence interval around the point estimate.\n",
    "\n",
    " - The plausability of a range of values can be defined from the sampling distribution of the estimate."
   ]
  },
  {
   "cell_type": "markdown",
   "metadata": {},
   "source": [
    "### Central Limit Theorem Recap:\n"
   ]
  },
  {
   "cell_type": "markdown",
   "metadata": {},
   "source": [
    "Given a population with a mean $\\mu$ and a variance $\\sigma^{2}$, the sampling distribution of the mean approaches a normal distribution with a mean of $\\mu$ and standard deviation of $\\sqrt{\\frac{\\sigma^{2}}{n}}$ as n, the sample size, increases.\n"
   ]
  },
  {
   "cell_type": "markdown",
   "metadata": {},
   "source": [
    "__Note__\n",
    "\n",
    "$\\sqrt{\\frac{\\sigma^{2}}{n}}$ will be called the standard error of the mean. We usually denote it with `SE`. Note that standard error of the mean is actually standard deviation of the sampling distribution of the mean."
   ]
  },
  {
   "cell_type": "markdown",
   "metadata": {},
   "source": [
    "#### Central Limit Theorem with Respect to Different Population Distributions"
   ]
  },
  {
   "cell_type": "code",
   "execution_count": null,
   "metadata": {},
   "outputs": [],
   "source": [
    "from scipy.stats import uniform"
   ]
  },
  {
   "cell_type": "code",
   "execution_count": null,
   "metadata": {},
   "outputs": [],
   "source": [
    "from scipy.stats import expon"
   ]
  },
  {
   "cell_type": "code",
   "execution_count": null,
   "metadata": {},
   "outputs": [],
   "source": [
    "from scipy.stats import poisson"
   ]
  },
  {
   "cell_type": "code",
   "execution_count": null,
   "metadata": {},
   "outputs": [],
   "source": [
    "import math"
   ]
  },
  {
   "cell_type": "code",
   "execution_count": null,
   "metadata": {},
   "outputs": [],
   "source": [
    "def central_limit_plot(dist_name, population_size, sample_size, num_samples):\n",
    "    \"\"\"\n",
    "    This function plots the original population distribution and\n",
    "    the sampling distribution of the mean derived from this population\n",
    "    \"\"\"\n",
    "    if dist_name == \"uniform\":\n",
    "        distribution =uniform.rvs(size = population_size)\n",
    "        mu, sigma = uniform.stats(moments = 'mv')\n",
    "        sampling_mean_distribution = []\n",
    "        for i in range(num_samples):\n",
    "            sample = uniform.rvs(size = sample_size)\n",
    "            sampling_mean_distribution.append(sample.mean())\n",
    "    if dist_name == \"exponential\":\n",
    "        distribution =expon.rvs(size = population_size)\n",
    "        mu, sigma = expon.stats(moments = 'mv')\n",
    "        sampling_mean_distribution = []\n",
    "        for i in range(num_samples):\n",
    "            sample = expon.rvs(size = sample_size)\n",
    "            sampling_mean_distribution.append(sample.mean())\n",
    "    if dist_name == \"poisson\":\n",
    "        distribution =poisson.rvs(mu =math.e, size = population_size)\n",
    "        mu, sigma = poisson.stats(mu = math.e, moments = 'mv')\n",
    "        sampling_mean_distribution = []\n",
    "        for i in range(num_samples):\n",
    "            sample = poisson.rvs(mu = math.e, size = sample_size)\n",
    "            sampling_mean_distribution.append(sample.mean())\n",
    "    sampling_mu = np.mean(sampling_mean_distribution)\n",
    "    empirical_standard_error = np.std(sampling_mean_distribution)\n",
    "    se = np.sqrt(sigma/sample_size)\n",
    "    \n",
    "    plt.figure(figsize = (10, 8))\n",
    "    plt.subplot(1,2,1).hist(distribution)\n",
    "    plt.title(\"%s Distribution: $\\mu$ =%.2f std: %.2f\"%(dist_name,mu,sigma))\n",
    "    plt.subplot(1,2,2).hist(sampling_mean_distribution)\n",
    "    plt.axvline(x = np.mean(sampling_mean_distribution), \n",
    "                color = 'yellow',\n",
    "                label=  \"$\\mu$= %.2f\"%sampling_mu)\n",
    "    plt.axvline(x = mu - empirical_standard_error, color = 'red', linestyle = \"--\", label = \"Emprical SE: %.2f\"%empirical_standard_error)\n",
    "    plt.axvline(x = mu + empirical_standard_error, color = 'red', linestyle = \"--\", label = \"SE: %.2f\"%se)\n",
    "    plt.title(\"Sampling distribution of the mean\")\n",
    "    plt.legend()\n",
    "    plt.show()"
   ]
  },
  {
   "cell_type": "code",
   "execution_count": null,
   "metadata": {},
   "outputs": [],
   "source": [
    "central_limit_plot(dist_name = \"uniform\", population_size= 2000, sample_size = 100, num_samples= 1000)"
   ]
  },
  {
   "cell_type": "markdown",
   "metadata": {},
   "source": [
    "Now we can easily construct a confidence interval for mean trip durations:"
   ]
  },
  {
   "cell_type": "code",
   "execution_count": null,
   "metadata": {},
   "outputs": [],
   "source": [
    "x_bar = two_hours_trips.mean()\n",
    "\n",
    "## Let's find sample size and record it as n\n",
    "\n",
    "n= len(two_hours_trips)\n",
    "\n",
    "## Recall that  sigma is known and 17\n",
    "\n",
    "sigma = 17\n",
    "\n",
    "## Standard Error:\n",
    "\n",
    "se = np.sqrt(sigma**2/n)\n",
    "\n",
    "print(\"Standard Error is %.2f\"%se)"
   ]
  },
  {
   "cell_type": "code",
   "execution_count": null,
   "metadata": {},
   "outputs": [],
   "source": [
    "## Confidence interval for the mean\n",
    "\n",
    "CI = (x_bar - 1.96*se, x_bar + 1.96*se)\n",
    "\n",
    "CI"
   ]
  },
  {
   "cell_type": "code",
   "execution_count": null,
   "metadata": {},
   "outputs": [],
   "source": [
    "## Population mean (mu) is 17.32"
   ]
  }
 ],
 "metadata": {
  "kernelspec": {
   "display_name": "Python 3",
   "language": "python",
   "name": "python3"
  },
  "language_info": {
   "codemirror_mode": {
    "name": "ipython",
    "version": 3
   },
   "file_extension": ".py",
   "mimetype": "text/x-python",
   "name": "python",
   "nbconvert_exporter": "python",
   "pygments_lexer": "ipython3",
   "version": "3.7.3"
  },
  "toc": {
   "base_numbering": 1,
   "nav_menu": {},
   "number_sections": true,
   "sideBar": true,
   "skip_h1_title": false,
   "title_cell": "Table of Contents",
   "title_sidebar": "Contents",
   "toc_cell": false,
   "toc_position": {},
   "toc_section_display": true,
   "toc_window_display": false
  }
 },
 "nbformat": 4,
 "nbformat_minor": 4
}
