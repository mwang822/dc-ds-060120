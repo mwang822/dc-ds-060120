{
 "cells": [
  {
   "cell_type": "markdown",
   "metadata": {},
   "source": [
    "## Goals of Today's Lab:\n",
    "\n",
    "1. A brief recap of hypothesis testing\n",
    "2. Parametric hypothesis testing\n",
    "3. Non-parametric hypothesis testing"
   ]
  },
  {
   "cell_type": "code",
   "execution_count": 4,
   "metadata": {},
   "outputs": [],
   "source": [
    "import numpy as np\n",
    "from scipy import stats\n",
    "import matplotlib.pyplot as plt"
   ]
  },
  {
   "cell_type": "markdown",
   "metadata": {},
   "source": [
    "## Steps of a Hypothesis Test"
   ]
  },
  {
   "cell_type": "markdown",
   "metadata": {},
   "source": [
    "1. Set up null and alternative hypotheses\n",
    "\n",
    "2. Specify the appropriate statistical test\n",
    "\n",
    "3. Choose a significance level (alpha)\n",
    "\n",
    "4. Determine the critical value of test statistic or p-value (find the region of rejection)\n",
    "\n",
    "5. Calculate the observed value of the test statistic\n",
    "\n",
    "6. Make a decision"
   ]
  },
  {
   "cell_type": "markdown",
   "metadata": {},
   "source": [
    "### Practice\n",
    "\n",
    "<img src=\"./img/talking.jpeg\" width=\"60\" align='left'>\n",
    "\n",
    "</br>\n",
    "\n",
    "In your breakout room determine which of the 5 null and alternative hypotheses are valid\n"
   ]
  },
  {
   "cell_type": "markdown",
   "metadata": {},
   "source": [
    "\n",
    "1. $H_0: \\bar{X} = 0$  \n",
    "   $H_A: \\bar{X} \\neq 0$\n",
    "\n",
    "2. $H_0: \\mu \\leq 34$  \n",
    "   $H_A: \\mu > 34$\n",
    "   \n",
    "3. $H_0: \\text{The mean girth of all Redwood Trees in California} = 225 in.$  \n",
    "   $H_A: \\text{The mean girth of all Redwood Trees in California} < 225 in.$\n",
    "   \n",
    "4. $H_0: \\sigma_1 = \\sigma_2$  \n",
    "   $H_A: \\sigma_1 \\neq \\sigma_2$\n",
    "   \n",
    "5. $H_0: \\text{The sample standard deviation of 2018 SAT test scores} = 50$  \n",
    "   $H_A: \\text{The sample standard deviation of 2018 SAT test scores} > 50$   "
   ]
  },
  {
   "cell_type": "markdown",
   "metadata": {},
   "source": [
    "### Relating Hypotheses to Errors\n",
    "\n",
    "\n",
    "#### Why is it necessary for the Null Hypothesis to be the hypothesis of no difference?\n",
    "\n",
    "- It represents the \"status-quo\" \n",
    "    - A new drug for a disease \n",
    "- It represents a relevant baseline value\n",
    "    - A new feed that claims to increase cattle weight by 20 lb on average\n",
    "- It represents a value generally true unless proven otherwise\n",
    "    - A person on trial - innocent until proven guilty\n",
    "    \n",
    "    \n",
    "#### How does this translate into Type-I and Type-II errors?\n",
    "\n",
    "Because depending on our hypothesis, our consideration for these errors increases.  \n",
    "It is incrediby hard to control for both errors at the same time; as one decreases, the other increases.\n",
    "\n",
    "This the reason why Type-I error is more serious.  \n",
    "By rejecting the status-quo, we are considering very serious change.\n",
    "\n",
    "<img src=\"img/testing_error.png\" width=\"550\">\n",
    "\n",
    "\n",
    "\n"
   ]
  },
  {
   "cell_type": "markdown",
   "metadata": {},
   "source": [
    "## BUT WHY DO WE CARE SO MUCH ABOUT HYPOTHESIS TESTS??!\n",
    "\n",
    "Hypothesis testing is without doubt, one of the universal concepts of statistical data analysis.     \n",
    "It is central to many statistical methods, including  \n",
    "- analysis of variance\n",
    "- regression analysis\n",
    "- analysis of categorical data, etc.\n",
    "\n",
    "So...\n",
    "\n",
    "<img src=\"img/hypothesis_meme_2.jpg\" width=\"350\">\n",
    "\n",
    "**p-values**\n",
    "\n",
    "A very low p-value signals incompatibility with the null hypothesis.   \n",
    "&nbsp;  \n",
    "When p-values are low, one of two things is true:  \n",
    "(a) either you have just witnessed a rare chance event, or   \n",
    "(b) your null hypothesis is false.\n"
   ]
  },
  {
   "cell_type": "markdown",
   "metadata": {},
   "source": [
    "## Parametric Tests\n",
    "\n",
    "A parametric statistical test is one that **makes assumptions about the parameters** of the population distribution(s) from which one's data are drawn.\n",
    "\n",
    "For practical purposes, you can think of \"parametric\" as referring to tests, such as t-tests and the analysis of variance, that assume the underlying source population(s) to be normally distributed; they generally also assume that one's measures derive from an equal-interval scale. Examples of parametric tests include:\n",
    "\n",
    "- **Z-Tests (Continuous Data)** - For comparing up to two population means, given standard deviation\n",
    "- **t-Tests** - For comparing up to two population means\n",
    "- **Chi-Squared Tests** - For comparing categorical variables\n",
    "- **F-Test** - For comparing multiple populations\n",
    "- **Z-Test for Proportions** - For comparing population proportions\n",
    "\n",
    "\n",
    "## Non-Parametric Tests\n",
    "\n",
    "while a non-parametric test is one that **makes no such assumptions about the parameters** of the population distribution. And you can think of \"non-parametric\" as referring to tests that do not make on these particular assumptions. Examples of non-parametric tests include:\n",
    "- **One-Sample Sign Test** - To compare samples for change before and after a treatment \n",
    "- **Wilcoxon Signed Rank Test** - To compare samples for change before and after a treatment \n",
    "- **The Mann-Kendall Trend Test** - To assess trends in time-series data.\n",
    "- **Mann-Whitney U Test** - To compare two populations\n",
    "- **Kruskal-Wallis Test** - To compare more than two independent populations\n",
    "- **Kolmogorov-Smirnov Test** -To compare probability distributions\n",
    "- **Runs Test** - To test for randomness"
   ]
  },
  {
   "cell_type": "markdown",
   "metadata": {},
   "source": [
    "### Example 1: Ice cream flavors\n",
    "\n",
    "<img src=\"img/ice_cream.jpg\" width=\"450\">\n",
    "\n",
    "As an extremely biased person, I strongly believe that the local ice cream shop has higher orders when customers order vanilla ice-cream than chocolate ice-cream.  \n",
    "Why, you ask?  \n",
    "Because I don't like chocolate ice-cream so much, while I LOVE vanilla.\n",
    "\n",
    "So, in order to prove my case, we will conduct a hypothesis test using alpha of .10.  Using the 6 step process!\n",
    "\n",
    "\n",
    "The data on ice cream sales is:\n",
    "\n",
    "``` python\n",
    "van_orders = [10.5, 11.9, 10, 9.7, 9.6, 10.1, 9.4, 9.5, 9.8]\n",
    "choc_orders = [9.6, 9.9, 9.4, 8.9, 9.6, 9.3, 8.8, 10.5, 8.8]\n",
    "```"
   ]
  },
  {
   "cell_type": "markdown",
   "metadata": {
    "slideshow": {
     "slide_type": "slide"
    }
   },
   "source": [
    "**Step 1: State the null and alternative hypotheses**"
   ]
  },
  {
   "cell_type": "markdown",
   "metadata": {},
   "source": [
    "Null: The mean sales of the van and choc orders are the same\n",
    "\n",
    "Alt: The mean van sales are higher than the choc sales"
   ]
  },
  {
   "cell_type": "markdown",
   "metadata": {},
   "source": [
    "**Step 2: Choosing the appropriate test.  Which test should you select and why?** "
   ]
  },
  {
   "cell_type": "markdown",
   "metadata": {},
   "source": [
    "t-test (two sample ind),  one tailed"
   ]
  },
  {
   "cell_type": "markdown",
   "metadata": {},
   "source": [
    "**Step 3: Choosing a Significance level**"
   ]
  },
  {
   "cell_type": "code",
   "execution_count": 1,
   "metadata": {},
   "outputs": [],
   "source": [
    "a =.1"
   ]
  },
  {
   "cell_type": "markdown",
   "metadata": {},
   "source": [
    "**Step 4: Determine the critical values**"
   ]
  },
  {
   "cell_type": "code",
   "execution_count": 3,
   "metadata": {},
   "outputs": [],
   "source": [
    "van_orders = [10.5, 11.9, 10, 9.7, 9.6, 10.1, 9.4, 9.5, 9.8]\n",
    "choc_orders = [9.6, 9.9, 9.4, 8.9, 9.6, 9.3, 8.8, 10.5, 8.8]\n"
   ]
  },
  {
   "cell_type": "code",
   "execution_count": 6,
   "metadata": {},
   "outputs": [
    {
     "name": "stdout",
     "output_type": "stream",
     "text": [
      "-1.3367571673273144\n"
     ]
    }
   ],
   "source": [
    "from scipy.stats import t\n",
    "\n",
    "df=len(van_orders)+len(choc_orders)-2\n",
    "\n",
    "t_crit=t.ppf(a, df)\n",
    "print(t_crit)"
   ]
  },
  {
   "cell_type": "markdown",
   "metadata": {},
   "source": [
    "**Step 5:  Calculating the observed value**"
   ]
  },
  {
   "cell_type": "code",
   "execution_count": 9,
   "metadata": {},
   "outputs": [
    {
     "data": {
      "text/plain": [
       "1.9947880650265315"
      ]
     },
     "execution_count": 9,
     "metadata": {},
     "output_type": "execute_result"
    }
   ],
   "source": [
    "from scipy import stats\n",
    "t_obs, p_obs =stats.ttest_ind(van_orders, choc_orders)\n",
    "t_obs"
   ]
  },
  {
   "cell_type": "code",
   "execution_count": 10,
   "metadata": {},
   "outputs": [
    {
     "data": {
      "text/plain": [
       "0.06338905121134164"
      ]
     },
     "execution_count": 10,
     "metadata": {},
     "output_type": "execute_result"
    }
   ],
   "source": [
    "p_obs"
   ]
  },
  {
   "cell_type": "markdown",
   "metadata": {},
   "source": [
    "**Step 6: Make a decision**"
   ]
  },
  {
   "cell_type": "markdown",
   "metadata": {},
   "source": [
    "Reject the null hypothesis that orders are the same.  We conclude that van orders are statistically significantly greater than choc orders."
   ]
  },
  {
   "cell_type": "markdown",
   "metadata": {},
   "source": [
    "#### Bonus!\n",
    "\n",
    "Write out the Type 1 and Type II errors in plan language for this scenario"
   ]
  },
  {
   "cell_type": "markdown",
   "metadata": {},
   "source": [
    "Type I-  We say that sales with vanilla ice cream is greater then those with chocolate when they really are not.\n",
    "\n",
    "Type II- We say that the sales are the sale for those with vanilla are equal to those with chocolate when in reality they are different."
   ]
  },
  {
   "cell_type": "markdown",
   "metadata": {},
   "source": []
  },
  {
   "cell_type": "markdown",
   "metadata": {},
   "source": [
    "### Example 2\n",
    "\n",
    "You measure the delivery times of ten different restaurants in two different neighborhoods. You want to know if restaurants in the different neighborhoods have the same delivery times. It's okay to assume both samples have equal variances. Set your significance threshold to 0.05.\n",
    "\n",
    "``` python\n",
    "delivery_times_A = [28.4, 23.3, 30.4, 28.1, 29.4, 30.6, 27.8, 30.9, 27.0, 32.8]\n",
    "delivery_times_B = [26.4, 26.3, 27.4, 30.4, 25.1, 28.4, 23.3, 24.7, 31.8, 24.3]\n",
    "```"
   ]
  },
  {
   "cell_type": "markdown",
   "metadata": {
    "slideshow": {
     "slide_type": "slide"
    }
   },
   "source": [
    "**Step 1: State the null and alternative hypotheses**"
   ]
  },
  {
   "cell_type": "markdown",
   "metadata": {},
   "source": []
  },
  {
   "cell_type": "markdown",
   "metadata": {},
   "source": [
    "**Step 2: Choosing the appropriate test.  Which test should you select and why?** "
   ]
  },
  {
   "cell_type": "markdown",
   "metadata": {},
   "source": []
  },
  {
   "cell_type": "markdown",
   "metadata": {},
   "source": [
    "**Step 3: Choosing a Significance level**"
   ]
  },
  {
   "cell_type": "markdown",
   "metadata": {},
   "source": []
  },
  {
   "cell_type": "markdown",
   "metadata": {},
   "source": [
    "**Step 4: Determine the critical values**"
   ]
  },
  {
   "cell_type": "code",
   "execution_count": null,
   "metadata": {},
   "outputs": [],
   "source": []
  },
  {
   "cell_type": "markdown",
   "metadata": {},
   "source": [
    "**Step 5:  Calculating the observed value**"
   ]
  },
  {
   "cell_type": "code",
   "execution_count": null,
   "metadata": {},
   "outputs": [],
   "source": []
  },
  {
   "cell_type": "markdown",
   "metadata": {},
   "source": [
    "**Step 6: Make a decision**"
   ]
  },
  {
   "cell_type": "markdown",
   "metadata": {},
   "source": []
  },
  {
   "cell_type": "markdown",
   "metadata": {},
   "source": [
    "#### Bonus!\n",
    "\n",
    "Write out the Type 1 and Type II errors in plan language for this scenario"
   ]
  },
  {
   "cell_type": "markdown",
   "metadata": {},
   "source": []
  },
  {
   "cell_type": "code",
   "execution_count": null,
   "metadata": {},
   "outputs": [],
   "source": []
  }
 ],
 "metadata": {
  "kernelspec": {
   "display_name": "Python 3",
   "language": "python",
   "name": "python3"
  },
  "language_info": {
   "codemirror_mode": {
    "name": "ipython",
    "version": 3
   },
   "file_extension": ".py",
   "mimetype": "text/x-python",
   "name": "python",
   "nbconvert_exporter": "python",
   "pygments_lexer": "ipython3",
   "version": "3.7.3"
  }
 },
 "nbformat": 4,
 "nbformat_minor": 4
}
