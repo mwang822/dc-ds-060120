{
 "cells": [
  {
   "cell_type": "markdown",
   "metadata": {},
   "source": [
    "# Bayes' Theorem\n",
    "\n",
    "\n",
    "## Review of Conditional Probability?\n",
    "\n",
    "<img src=\"img/bayes.jpg\"\n",
    "     width = '500'\n",
    "     alt=\"Dice\"\n",
    "     style=\"float: center; margin-left: 10px;\" />\n",
    "<caption><left> Img Resourse:[Mattbuck](https://commons.wikimedia.org/wiki/User:Mattbuck) </left></caption>\n",
    "     \n",
    "     \n",
    "\n",
    "- In probability theory, Bayes’ theorem (alternatively Bayes’ law or Bayes’ rule) describes the probability of an event, based on prior knowledge of conditions that might be related to the event.\n",
    "\n",
    "- In mathematical notation it is expressed as:\n",
    "\n",
    "$$ P(A|B) = \\frac{P(A)P(B|A)}{P(B)} $$\n",
    "\n",
    "__Notation__\n",
    "\n",
    "$P(A|B)$ -- probability of A given B\n",
    "\n",
    "$P(B|A)$ -- probability of B given A\n",
    "\n",
    "\n",
    "__Note:__ In fact, the reason why such relation holds is easy to show: The main ingredient is the definition of conditional probability:\n",
    "\n",
    "\n"
   ]
  },
  {
   "cell_type": "markdown",
   "metadata": {},
   "source": [
    "$$ P(A|B) = \\frac{P(A\\cap B)}{P(B)}$$"
   ]
  },
  {
   "cell_type": "markdown",
   "metadata": {},
   "source": [
    "$$\n",
    " \\left.\n",
    "    \\begin{array} \\\\\n",
    "        P(A|B) = \\frac{P(A \\cap B)}{P(B)} \\Rightarrow  P(A|B) P(B) =P(A\\cap B) \\\\\n",
    "        P(B|A) = \\frac{P(B\\cap A)}{P(A)} \\Rightarrow    P(B|A)P(A) =P(B \\cap A) \n",
    "    \\end{array}\n",
    " \\right \\}= P(A|B)  =\\frac{P(A)P(B|A)}{P(B)}\\\\\n",
    "$$\n",
    "\n"
   ]
  },
  {
   "cell_type": "markdown",
   "metadata": {},
   "source": [
    "\n",
    "[Why should you care?](https://github.com/gokererdogan/JaverianaMLCourse/blob/master/Lectures/07.pdf)\n",
    "\n",
    "[https://scikit-learn.org/stable/modules/naive_bayes.html]"
   ]
  },
  {
   "cell_type": "markdown",
   "metadata": {},
   "source": [
    "## Family with two children"
   ]
  },
  {
   "cell_type": "markdown",
   "metadata": {},
   "source": [
    "[Example is from: Data Science From Scratch](https://www.amazon.com/Data-Science-Scratch-Principles-Python/dp/149190142X)"
   ]
  },
  {
   "cell_type": "markdown",
   "metadata": {},
   "source": [
    "- Assume that each child is equally likely to be a girl or boy\n",
    "\n",
    "- The gender of the second child is independent of the gender of the first child\n"
   ]
  },
  {
   "cell_type": "markdown",
   "metadata": {},
   "source": [
    "__Q:__ Now we can ask what is the probability of the event “both children are girls” (B) conditional on the event “the older child is a girl” (G)?"
   ]
  },
  {
   "cell_type": "code",
   "execution_count": 1,
   "metadata": {},
   "outputs": [
    {
     "data": {
      "text/plain": [
       "0.5"
      ]
     },
     "execution_count": 1,
     "metadata": {},
     "output_type": "execute_result"
    }
   ],
   "source": [
    "## your answer here\n",
    "\n",
    "## Here naming is just for the instructional purposes\n",
    "## Don't name your variables in this way in your own code!\n",
    "\n",
    "probability_B = 1/4\n",
    "\n",
    "probability_G = 1/2\n",
    "\n",
    "probability_B_and_G = 1/4\n",
    "\n",
    "probability_B_given_G = (1/4)/(1/2)\n",
    "\n",
    "probability_B_given_G\n"
   ]
  },
  {
   "cell_type": "markdown",
   "metadata": {},
   "source": [
    "__Q:__ We could also ask about the probability of the event “both children are girls” conditional on the event “at least one of the children is a girl” (L)."
   ]
  },
  {
   "cell_type": "code",
   "execution_count": null,
   "metadata": {},
   "outputs": [],
   "source": [
    "{BB,BG, GB, GG}"
   ]
  },
  {
   "cell_type": "code",
   "execution_count": 2,
   "metadata": {},
   "outputs": [
    {
     "data": {
      "text/plain": [
       "0.3333333333333333"
      ]
     },
     "execution_count": 2,
     "metadata": {},
     "output_type": "execute_result"
    }
   ],
   "source": [
    "## your answer here\n",
    "\n",
    "probability_B = 1/4\n",
    "\n",
    "probability_L = 3/4\n",
    "\n",
    "probability_B_and_L = 1/4\n",
    "\n",
    "probability_B_given_L =  (1/4)/ (3/4)\n",
    "\n",
    "probability_B_given_L"
   ]
  },
  {
   "cell_type": "markdown",
   "metadata": {},
   "source": [
    "Let's simulate this situation"
   ]
  },
  {
   "cell_type": "code",
   "execution_count": 4,
   "metadata": {},
   "outputs": [
    {
     "name": "stdout",
     "output_type": "stream",
     "text": [
      "P(both | older): 0.5007089325501317\n",
      "P(both | either):  0.3311897106109325\n"
     ]
    }
   ],
   "source": [
    "# %load -r 25-45 supplement.py\n",
    "import random\n",
    "def random_kid():\n",
    "    return random.choice([\"boy\", \"girl\"])\n",
    "\n",
    "both_girls = 0\n",
    "older_girl = 0\n",
    "either_girl = 0\n",
    "\n",
    "random.seed(0)\n",
    "for _ in range(10000):\n",
    "    younger = random_kid()\n",
    "    older = random_kid()\n",
    "    if older == \"girl\":\n",
    "        older_girl += 1\n",
    "    if older == \"girl\" and younger == \"girl\":\n",
    "        both_girls += 1\n",
    "    if older == \"girl\" or younger == \"girl\":\n",
    "        either_girl += 1\n",
    "\n",
    "print(\"P(both | older):\", both_girls / older_girl )     # 0.514 ~ 1/2\n",
    "print(\"P(both | either): \", both_girls / either_girl)   # 0.342 ~ 1/3"
   ]
  },
  {
   "cell_type": "markdown",
   "metadata": {},
   "source": [
    "## Discussion of the terms in the theorem\n",
    "\n",
    "$P(A|B)$ -- Posterior\n",
    "\n",
    "$P(B|A)$ -- Likelihood\n",
    "\n",
    "$P(A)$ -- Prior\n",
    "\n",
    "Why these names?\n",
    "\n",
    "__Your Turn__\n",
    "\n",
    "Studies from the Journal of the American Medical Association estimate that the sensitivity (True Positive Rate) of common drug tests is about 60% and the specificity (True Negative Rate) is about 99%. That is, the test will produce 60% true positive results for drug users and 99% true negative results for non-drug users. [More on Sensitivity-Specifity](https://en.wikipedia.org/wiki/Sensitivity_and_specificity)\n",
    "Now suppose these tests are applied to a workforce where the actual rate of drug use is 5%. Of the employees who test positive, how many of them actually use drugs?"
   ]
  },
  {
   "cell_type": "markdown",
   "metadata": {},
   "source": [
    "__Solution:__\n",
    "\n",
    "\n",
    "Notation:\n",
    "\n",
    "P(D) -- probability of drug use without any data\n",
    "\n",
    "P(D|+)  -- the probability of drug use given a positive test - Note that this is what we want to find.\n",
    "\n",
    "P(+) -- probability of getting a positive test result"
   ]
  },
  {
   "cell_type": "markdown",
   "metadata": {},
   "source": [
    "\n",
    "__We want to find:__\n",
    "\n",
    "$$ P(D|+) = \\frac{P(D)P(+|D)}{P(+)} $$\n",
    "\n",
    "Which one of these are known?"
   ]
  },
  {
   "cell_type": "code",
   "execution_count": 5,
   "metadata": {},
   "outputs": [],
   "source": [
    "probability_drug_user = 0.05\n",
    "\n",
    "probability_positive_given_drug_user = 0.60\n",
    "\n",
    "probability_positive = (0.01)*0.95 + (0.05)* (0.60)"
   ]
  },
  {
   "cell_type": "code",
   "execution_count": 6,
   "metadata": {},
   "outputs": [
    {
     "data": {
      "text/plain": [
       "0.7594936708860759"
      ]
     },
     "execution_count": 6,
     "metadata": {},
     "output_type": "execute_result"
    }
   ],
   "source": [
    "probability_drug_given_positive = ((0.05)*0.60)/probability_positive\n",
    "\n",
    "probability_drug_given_positive"
   ]
  },
  {
   "cell_type": "markdown",
   "metadata": {},
   "source": [
    "Do we know probability of getting positive test result?\n",
    "\n",
    "Hint: To get a positive test result we have two cases:\n",
    "\n",
    " - Either the subject do use the drug and the test result is positive\n",
    " \n",
    " - Or the subject is not using the drug and we still get the positive test result.\n",
    " \n",
    "\n",
    "\n"
   ]
  },
  {
   "cell_type": "code",
   "execution_count": 10,
   "metadata": {},
   "outputs": [],
   "source": [
    "## finish the problem here"
   ]
  },
  {
   "cell_type": "markdown",
   "metadata": {},
   "source": [
    "__Try!__\n",
    "\n",
    "Write a function that return probability of being drug user given the test result is positive. "
   ]
  },
  {
   "cell_type": "code",
   "execution_count": 8,
   "metadata": {},
   "outputs": [],
   "source": [
    "# %load -r 17-22 supplement.py\n",
    "def is_drug(sensitivity, specificity, prior):\n",
    "    likelihood = sensitivity\n",
    "\n",
    "    denom = prior * sensitivity + (1 - prior) * (1 - specificity)\n",
    "\n",
    "    return likelihood * prior / denom"
   ]
  },
  {
   "cell_type": "code",
   "execution_count": 14,
   "metadata": {},
   "outputs": [
    {
     "data": {
      "text/plain": [
       "0.41103202846975073"
      ]
     },
     "execution_count": 14,
     "metadata": {},
     "output_type": "execute_result"
    }
   ],
   "source": [
    "is_drug(sensitivity = 0.99, specificity = 0.99, prior = 0.007)"
   ]
  },
  {
   "cell_type": "markdown",
   "metadata": {},
   "source": [
    "__The law of Total Probability__\n",
    "\n",
    "Let E and F are two mutually exclusive events and $E \\cup F = \\Omega$. Then for another event B we have: \n",
    "\n",
    "$$\n",
    "P(B) = P(B|E)P(E) + P(B|F)P(F)\n",
    "$$"
   ]
  },
  {
   "cell_type": "markdown",
   "metadata": {},
   "source": [
    "\n",
    "# Bayesian vs Frequentist\n",
    "\n",
    "- Chicken or Egg??\n",
    "\n",
    "\n",
    "-- Parameters are fixed and data varies vs data is fixed and parameters are varying."
   ]
  },
  {
   "cell_type": "markdown",
   "metadata": {},
   "source": [
    "1. In frequentist Approach Coin Toss Experiment\n",
    "\n",
    " - We set a parameter for having a Head for one coin toss (say p)\n",
    " \n",
    " - Collect a data (say toss the coin many times)\n",
    " \n",
    " - Then calculate the probability of getting such data with this parameters.\n",
    " \n",
    "2. In Bayesian Approach:\n",
    "\n",
    "    - You start with an prior about the parameter (p: probability of getting a H in this case and let's say p can be any number between 0 and 1 and any number is equally likely.)\n",
    "    \n",
    "    - Collect data\n",
    "    \n",
    "    - Then adjust your prior belief about the distribution of the parameter p.\n",
    "    \n"
   ]
  },
  {
   "cell_type": "code",
   "execution_count": 13,
   "metadata": {},
   "outputs": [],
   "source": [
    "# Frequentist\n",
    "\n",
    "## probability of getting a tail in coun toss\n",
    "Theta = 0.5\n",
    "\n",
    "## experiment -data\n",
    "## TTT\n",
    "\n",
    "## What is the probability of getting three tails?\n",
    "\n",
    "## apply binomial formula "
   ]
  },
  {
   "cell_type": "code",
   "execution_count": null,
   "metadata": {},
   "outputs": [],
   "source": [
    "## Bayesian Approach\n",
    "\n",
    "## Given the data\n",
    "TTT\n",
    "\n",
    "## What might be the probability of getting a tail?"
   ]
  },
  {
   "cell_type": "code",
   "execution_count": 15,
   "metadata": {},
   "outputs": [],
   "source": [
    "import numpy as np\n",
    "\n",
    "import matplotlib.pyplot as plt"
   ]
  },
  {
   "cell_type": "code",
   "execution_count": 16,
   "metadata": {},
   "outputs": [
    {
     "data": {
      "image/png": "[encoded data removed]",
      "text/plain": [
       "<Figure size 432x288 with 1 Axes>"
      ]
     },
     "metadata": {
      "needs_background": "light"
     },
     "output_type": "display_data"
    }
   ],
   "source": [
    "params = np.linspace(0,1, 1000)\n",
    "\n",
    "priors = [1/len(params) for p in params]\n",
    "\n",
    "plt.plot(params, priors)\n",
    "\n",
    "plt.xlabel('parameter values between 0 and 1')\n",
    "plt.ylabel('initially we assumed each\\n parameter is equally likely')\n",
    "plt.title('Coin Toss Uniform Prior')\n",
    "plt.show()"
   ]
  },
  {
   "cell_type": "markdown",
   "metadata": {},
   "source": [
    "let's get some data. Here we will know the true $p$ (probability of getting H or T) parameter but in general if you are tossing a coin \n",
    "note that there is no way to know this explicitly."
   ]
  },
  {
   "cell_type": "code",
   "execution_count": 18,
   "metadata": {},
   "outputs": [],
   "source": [
    "np.random.seed(12022020)\n",
    "data  = np.random.binomial(1, p = 0.35, size = 10000)"
   ]
  },
  {
   "cell_type": "code",
   "execution_count": 20,
   "metadata": {},
   "outputs": [
    {
     "data": {
      "text/plain": [
       "array([1, 0, 1, ..., 1, 0, 0])"
      ]
     },
     "execution_count": 20,
     "metadata": {},
     "output_type": "execute_result"
    }
   ],
   "source": [
    "data"
   ]
  },
  {
   "cell_type": "markdown",
   "metadata": {},
   "source": [
    "Now given this data we want to update the prior. \n",
    "\n",
    "$$ P(p|data) = \\frac{P(data|p)P(p)}{P(data)} $$\n"
   ]
  },
  {
   "cell_type": "code",
   "execution_count": 21,
   "metadata": {},
   "outputs": [],
   "source": [
    "## we define a list called posterior\n",
    "## we will collect updated parameters in this list\n",
    "posterior = []\n",
    "\n",
    "## initially we assume all the parameters are equally weighted\n",
    "priors = [1/len(params) for p in params]\n",
    "\n",
    "## After each coin toss we will update our prior parameters\n",
    "for coin in data:\n",
    "    ## take parameters as p and from priors list take prior\n",
    "    for p, prior in zip(params,priors):\n",
    "        \n",
    "        ## this likelihood is calculated from the numerator of Bayes' theorem\n",
    "        ## note that 'coin' is either 1 or 0\n",
    "        ## if coin = 1 p**coin  = p and (1-p)**(1-coin) = 1 so likelihood = p\n",
    "        ## if coin = 0 p**coin = 1 and (1-p)**(1-coin) = (1-p) so likelihood = 1-p\n",
    "        likelihood = ((p)**(coin))*((1-p)**(1-coin))\n",
    "        \n",
    "        ## posterior is just the multiplication of likelihood and prior\n",
    "        posterior.append(likelihood*prior)\n",
    "    \n",
    "    ## total probability should add up to 1\n",
    "    ## in Bayes' theorem this corresponds to dividing with P(data)\n",
    "    posterior = posterior/sum(posterior)\n",
    "    \n",
    "    ## for the next coin this adjusted posterior will be a prior\n",
    "    priors = posterior\n",
    "    \n",
    "    ## empty posterior so that we can record new posteriors in this list again\n",
    "    posterior = []\n",
    "    \n",
    "    "
   ]
  },
  {
   "cell_type": "code",
   "execution_count": 13,
   "metadata": {},
   "outputs": [
    {
     "data": {
      "image/png": "[encoded data removed]",
      "text/plain": [
       "<Figure size 1080x360 with 1 Axes>"
      ]
     },
     "metadata": {
      "needs_background": "light"
     },
     "output_type": "display_data"
    }
   ],
   "source": [
    "plt.figure(figsize= (15, 5))\n",
    "plt.plot(params, priors)\n",
    "\n",
    "plt.xlabel('parameter values between 0 and 1')\n",
    "plt.ylabel('With data we updated the probability distribution of parameters')\n",
    "plt.xticks(ticks = np.round(np.linspace(0.2,0.5, 50), 2))\n",
    "plt.xlim(0.2, 0.5)\n",
    "plt.title('Coin Toss Posterior')\n",
    "plt.show()"
   ]
  },
  {
   "cell_type": "markdown",
   "metadata": {},
   "source": [
    "# Maximum Likelihood Estimation"
   ]
  },
  {
   "cell_type": "code",
   "execution_count": 1,
   "metadata": {},
   "outputs": [],
   "source": [
    "import numpy as np\n",
    "\n",
    "from scipy.stats import norm\n",
    "\n",
    "import matplotlib.pyplot as plt\n",
    "\n",
    "import pickle"
   ]
  },
  {
   "cell_type": "markdown",
   "metadata": {},
   "source": [
    "__Try!__\n",
    "\n",
    "- load the sample data which is a pickled object\n",
    "- the name of the file is sample.pickle"
   ]
  },
  {
   "cell_type": "code",
   "execution_count": 2,
   "metadata": {},
   "outputs": [],
   "source": [
    "# %load -r 13-14 supplement.py\n",
    "with open('sample.pickle', 'rb') as handle:\n",
    "    s = pickle.load(handle)"
   ]
  },
  {
   "cell_type": "code",
   "execution_count": 7,
   "metadata": {},
   "outputs": [
    {
     "data": {
      "text/plain": [
       "array([ 8.14513959, 12.22543772, 11.82754601,  8.6578938 ,  7.51052901,\n",
       "       10.49275333,  9.89496179,  9.95785769,  9.13849707, 10.88576667])"
      ]
     },
     "execution_count": 7,
     "metadata": {},
     "output_type": "execute_result"
    }
   ],
   "source": [
    "s"
   ]
  },
  {
   "cell_type": "markdown",
   "metadata": {},
   "source": [
    "__Try!__\n",
    "\n",
    "Now write a function that scatter plots of these sample point for a given mean and standard deviation.\n",
    "\n",
    "[Review the effect of mu and sigma in normal distribution](https://www.intmath.com/counting-probability/normal-distribution-graph-interactive.php)"
   ]
  },
  {
   "cell_type": "code",
   "execution_count": 22,
   "metadata": {},
   "outputs": [],
   "source": [
    "# %load -r 1-11 supplement.py\n"
   ]
  },
  {
   "cell_type": "code",
   "execution_count": 6,
   "metadata": {},
   "outputs": [
    {
     "data": {
      "image/png": "[encoded data removed]",
      "text/plain": [
       "<Figure size 432x288 with 1 Axes>"
      ]
     },
     "metadata": {
      "needs_background": "light"
     },
     "output_type": "display_data"
    }
   ],
   "source": [
    "create_dist(sample = s, parameters = [6,4])"
   ]
  },
  {
   "cell_type": "markdown",
   "metadata": {},
   "source": [
    "[A gentle intro to maximum likelihood](https://www.youtube.com/watch?v=XepXtl9YKwc)"
   ]
  },
  {
   "cell_type": "markdown",
   "metadata": {},
   "source": [
    "Recall that normal distribution is given as (here x is the variable and $\\mu_{0}$ and $\\sigma_{0}$ assumed to be known)\n",
    "\n",
    "$$ \\mathcal{N(x, \\big|\\,\\mu_{0}, \\sigma_{0})} = \\frac{1}{\\sqrt{2\\pi\\sigma_{0}}}exp(-\\frac{x- \\mu_{0}}{-2\\sigma_{0}^{2}})$$\n",
    "\n",
    "Likelihood will be written as (note that here $x_i$ is assumed to be given):\n",
    "\n",
    "$$ L(\\mu, \\sigma\\, \\big|\\,x_{i}) = \\frac{1}{\\sqrt{2\\pi\\sigma}}exp(-\\frac{x_{i}- \\mu}{-2\\sigma^{2}})$$\n",
    "\n",
    "Now write a function that returns likelihood of having some parameters $\\mu$ and $\\sigma$ given this sample.\n",
    "\n",
    "or you might want to use __scipy.stats.norm.pdf__\n",
    "\n",
    "- Case 1: What is the likelihood of having parameters $\\mu = 0$ and $\\sigma = 1$ for given this sample.\n",
    "\n",
    "- Case 2: What is the likelihood of having parameters $\\mu = 10$ and $\\sigma = 3$ for this given sample.\n",
    "\n",
    "__Q__: How we would find the best parameters?"
   ]
  },
  {
   "cell_type": "markdown",
   "metadata": {},
   "source": [
    "# Further Research\n",
    "\n",
    "[A video that explains the math of maximum likelihood method](https://www.youtube.com/watch?v=Dn6b9fCIUpM)"
   ]
  }
 ],
 "metadata": {
  "kernelspec": {
   "display_name": "Python 3",
   "language": "python",
   "name": "python3"
  },
  "language_info": {
   "codemirror_mode": {
    "name": "ipython",
    "version": 3
   },
   "file_extension": ".py",
   "mimetype": "text/x-python",
   "name": "python",
   "nbconvert_exporter": "python",
   "pygments_lexer": "ipython3",
   "version": "3.7.3"
  },
  "toc": {
   "base_numbering": 1,
   "nav_menu": {},
   "number_sections": true,
   "sideBar": true,
   "skip_h1_title": false,
   "title_cell": "Table of Contents",
   "title_sidebar": "Contents",
   "toc_cell": false,
   "toc_position": {},
   "toc_section_display": true,
   "toc_window_display": false
  }
 },
 "nbformat": 4,
 "nbformat_minor": 2
}
