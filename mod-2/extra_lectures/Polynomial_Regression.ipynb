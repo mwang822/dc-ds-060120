{
 "cells": [
  {
   "cell_type": "markdown",
   "metadata": {},
   "source": [
    "# Polynomial Regression\n",
    "\n",
    "## Objectives:\n",
    "\n",
    "1. Understanding of interaction effect in linear regression\n",
    "\n",
    "2. Understanding how to read residuals.\n",
    "\n",
    "3. Creating higher order terms and interaction terms by using PolynomialFeatures from sklearn."
   ]
  },
  {
   "cell_type": "code",
   "execution_count": 1,
   "metadata": {},
   "outputs": [],
   "source": [
    "import pandas as pd\n",
    "\n",
    "import numpy as np\n",
    "\n",
    "import matplotlib.pyplot as plt\n",
    "\n",
    "%matplotlib inline"
   ]
  },
  {
   "cell_type": "code",
   "execution_count": 2,
   "metadata": {},
   "outputs": [],
   "source": [
    "advertising = pd.read_csv('data/Advertising.csv', index_col = 0)"
   ]
  },
  {
   "cell_type": "code",
   "execution_count": 3,
   "metadata": {},
   "outputs": [],
   "source": [
    "y = advertising.Sales\n",
    "\n",
    "independent_variables = ['TV', 'Radio']\n",
    "X = advertising[independent_variables]"
   ]
  },
  {
   "cell_type": "markdown",
   "metadata": {},
   "source": [
    "Let's make sure that everything is as expected."
   ]
  },
  {
   "cell_type": "code",
   "execution_count": 8,
   "metadata": {},
   "outputs": [
    {
     "data": {
      "text/html": [
       "<div>\n",
       "<style scoped>\n",
       "    .dataframe tbody tr th:only-of-type {\n",
       "        vertical-align: middle;\n",
       "    }\n",
       "\n",
       "    .dataframe tbody tr th {\n",
       "        vertical-align: top;\n",
       "    }\n",
       "\n",
       "    .dataframe thead th {\n",
       "        text-align: right;\n",
       "    }\n",
       "</style>\n",
       "<table border=\"1\" class=\"dataframe\">\n",
       "  <thead>\n",
       "    <tr style=\"text-align: right;\">\n",
       "      <th></th>\n",
       "      <th>TV</th>\n",
       "      <th>Radio</th>\n",
       "    </tr>\n",
       "  </thead>\n",
       "  <tbody>\n",
       "    <tr>\n",
       "      <th>1</th>\n",
       "      <td>230.1</td>\n",
       "      <td>37.8</td>\n",
       "    </tr>\n",
       "    <tr>\n",
       "      <th>2</th>\n",
       "      <td>44.5</td>\n",
       "      <td>39.3</td>\n",
       "    </tr>\n",
       "    <tr>\n",
       "      <th>3</th>\n",
       "      <td>17.2</td>\n",
       "      <td>45.9</td>\n",
       "    </tr>\n",
       "  </tbody>\n",
       "</table>\n",
       "</div>"
      ],
      "text/plain": [
       "      TV  Radio\n",
       "1  230.1   37.8\n",
       "2   44.5   39.3\n",
       "3   17.2   45.9"
      ]
     },
     "metadata": {},
     "output_type": "display_data"
    },
    {
     "data": {
      "text/plain": [
       "1    22.1\n",
       "2    10.4\n",
       "3     9.3\n",
       "Name: Sales, dtype: float64"
      ]
     },
     "metadata": {},
     "output_type": "display_data"
    }
   ],
   "source": [
    "display(X.head(3), y.head(3))\n"
   ]
  },
  {
   "cell_type": "markdown",
   "metadata": {},
   "source": [
    "__Your Turn__\n",
    "\n",
    "- Use statsmodels.api to fit a linear regression model to this data."
   ]
  },
  {
   "cell_type": "code",
   "execution_count": null,
   "metadata": {},
   "outputs": [],
   "source": [
    "# %load -r 1-9 supplement.py\n",
    "import statsmodels.api as sm\n",
    "\n",
    "Xconst = sm.add_constant(X)\n",
    "\n",
    "model = sm.OLS(y, Xconst, hasconst= True)\n",
    "\n",
    "fitted_model = model.fit()\n",
    "\n",
    "fitted_model.summary()"
   ]
  },
  {
   "cell_type": "code",
   "execution_count": 21,
   "metadata": {},
   "outputs": [
    {
     "data": {
      "text/plain": [
       "array([20.55546463, 12.34536229, 12.33701773, 17.61711596, 13.22390813,\n",
       "       12.51208449, 11.71821241, 12.10551553,  3.7093792 , 12.55169696,\n",
       "        7.0358597 , 17.25652015, 10.60866187,  8.81095051, 18.44466773,\n",
       "       20.82891539, 12.90386507, 23.24107626,  9.94121476, 14.15384619,\n",
       "       18.12139161, 14.74206357,  6.51417168, 16.54402663,  8.14035215,\n",
       "       15.6080206 , 14.96769383, 17.0463346 , 19.39954145,  9.15929748,\n",
       "       21.64292187, 11.35791808,  7.65045928, 18.83346334,  7.56302763,\n",
       "       16.99280099, 23.36720719, 15.6258994 ,  9.91257829, 20.4405801 ,\n",
       "       16.37872122, 17.29870935, 21.5621537 , 13.96692266,  8.9009974 ,\n",
       "       15.16263814,  8.88644967, 21.69944046, 16.28690268,  8.18162949,\n",
       "       12.64569407,  9.31962792, 20.66180115, 19.96126242, 20.35512357,\n",
       "       21.30864743,  8.53774783, 12.76239488, 21.89072858, 18.10746914,\n",
       "        5.74497097, 22.90418658, 16.78413768, 13.18474853, 16.96570907,\n",
       "        7.82652846,  8.98703456, 12.02066194, 18.95313425, 21.09369037,\n",
       "       17.78350693, 10.63329605, 10.35113844,  9.91334008, 17.30983543,\n",
       "       11.90970399,  4.48014809, 13.79239059,  8.78920329,  9.67621401,\n",
       "       11.43621364, 14.6638809 , 10.18272029, 14.41647235, 20.77350468,\n",
       "       15.22002396, 11.58203354, 15.61872354, 11.75510286, 16.93110264,\n",
       "        9.98714329,  4.51167896, 19.17972975, 21.26277229, 10.46708623,\n",
       "       16.33347878, 12.62023117, 15.32904398, 24.12842563, 16.94651016,\n",
       "       13.90534597, 23.30701753, 17.64034079, 14.75193037, 20.26809884,\n",
       "       17.95362103,  6.13290678,  7.11373347,  3.59568568, 19.66392439,\n",
       "       14.79408982, 21.12381933, 13.85533202, 16.38399023, 15.29725626,\n",
       "       12.93708446, 11.97848762,  6.56716317, 15.60946713,  6.81665095,\n",
       "       14.42450056,  7.86076515, 13.62136464, 15.05811789, 19.4940435 ,\n",
       "        9.12925166, 10.59096289,  6.59063608, 22.21260278,  7.90401761,\n",
       "       10.39769966, 15.60046013,  8.41888332, 19.27581486, 11.86602974,\n",
       "       13.96678613, 11.42419802, 20.87722595,  9.75760743, 19.63411177,\n",
       "        9.47540519, 18.43880322, 19.25144497,  8.77862066, 10.10502768,\n",
       "        9.6976895 , 15.27918887, 23.26038805, 12.23595022,  9.81659119,\n",
       "       18.37759626, 10.03658404, 16.34251686, 18.22227054, 15.48053237,\n",
       "        5.28942768, 15.39522591, 10.01956371, 10.39341821, 12.40610283,\n",
       "       14.21650102, 13.57248088, 14.94400258, 17.32019972, 11.04707937,\n",
       "       14.28978442, 10.80869402, 13.36076565, 17.21335083, 17.92193265,\n",
       "        7.3895737 , 14.37684633,  7.59657824, 11.96096978, 13.73615116,\n",
       "       24.7835259 , 19.96402163, 12.17492441, 16.01384397, 12.37803956,\n",
       "       10.57508895, 13.93369584,  6.56408761, 24.16393648, 18.53794901,\n",
       "       20.77937663,  9.69868449, 17.06027938, 18.62009678,  6.0514451 ,\n",
       "       12.45497782,  8.4059261 ,  4.47885906, 18.44876059, 16.4631902 ,\n",
       "        5.36451249,  8.15237521, 12.76804849, 23.79292299, 15.15754285])"
      ]
     },
     "execution_count": 21,
     "metadata": {},
     "output_type": "execute_result"
    }
   ],
   "source": [
    "import statsmodels.api as sm\n",
    "Xconst = sm.add_constant(X)\n",
    "model = sm.OLS(y, Xconst).fit()\n",
    "model.summary()\n",
    "model.predict()\n"
   ]
  },
  {
   "cell_type": "code",
   "execution_count": null,
   "metadata": {},
   "outputs": [],
   "source": []
  },
  {
   "cell_type": "markdown",
   "metadata": {},
   "source": [
    "__Your Turn__\n",
    "\n",
    "- Find y_predict (your predictions for the cities based on the model we fitted)"
   ]
  },
  {
   "cell_type": "code",
   "execution_count": 6,
   "metadata": {},
   "outputs": [],
   "source": [
    "y_predict = None"
   ]
  },
  {
   "cell_type": "markdown",
   "metadata": {},
   "source": [
    "__Your Turn__\n",
    "\n",
    "- Find residuals (The amount of error in your prediction for each city. Recall that the true values are in y)"
   ]
  },
  {
   "cell_type": "code",
   "execution_count": 24,
   "metadata": {},
   "outputs": [],
   "source": [
    "residuals = y-model.predict()"
   ]
  },
  {
   "cell_type": "markdown",
   "metadata": {},
   "source": [
    "## Residual Plot"
   ]
  },
  {
   "cell_type": "code",
   "execution_count": 215,
   "metadata": {},
   "outputs": [
    {
     "ename": "AttributeError",
     "evalue": "'NoneType' object has no attribute 'min'",
     "output_type": "error",
     "traceback": [
      "\u001b[0;31m---------------------------------------------------------------------------\u001b[0m",
      "\u001b[0;31mAttributeError\u001b[0m                            Traceback (most recent call last)",
      "\u001b[0;32m<ipython-input-215-0be451d8865c>\u001b[0m in \u001b[0;36m<module>\u001b[0;34m\u001b[0m\n\u001b[1;32m      1\u001b[0m \u001b[0mplt\u001b[0m\u001b[0;34m.\u001b[0m\u001b[0mscatter\u001b[0m\u001b[0;34m(\u001b[0m\u001b[0my_predict\u001b[0m\u001b[0;34m,\u001b[0m \u001b[0mresiduals\u001b[0m\u001b[0;34m)\u001b[0m\u001b[0;34m\u001b[0m\u001b[0;34m\u001b[0m\u001b[0m\n\u001b[0;32m----> 2\u001b[0;31m \u001b[0mplt\u001b[0m\u001b[0;34m.\u001b[0m\u001b[0mhlines\u001b[0m\u001b[0;34m(\u001b[0m\u001b[0my\u001b[0m \u001b[0;34m=\u001b[0m \u001b[0;36m0\u001b[0m\u001b[0;34m,\u001b[0m \u001b[0mxmin\u001b[0m \u001b[0;34m=\u001b[0m \u001b[0my_predict\u001b[0m\u001b[0;34m.\u001b[0m\u001b[0mmin\u001b[0m\u001b[0;34m(\u001b[0m\u001b[0;34m)\u001b[0m\u001b[0;34m,\u001b[0m \u001b[0mxmax\u001b[0m \u001b[0;34m=\u001b[0m \u001b[0my_predict\u001b[0m\u001b[0;34m.\u001b[0m\u001b[0mmax\u001b[0m\u001b[0;34m(\u001b[0m\u001b[0;34m)\u001b[0m\u001b[0;34m)\u001b[0m\u001b[0;34m\u001b[0m\u001b[0;34m\u001b[0m\u001b[0m\n\u001b[0m\u001b[1;32m      3\u001b[0m \u001b[0mplt\u001b[0m\u001b[0;34m.\u001b[0m\u001b[0mtitle\u001b[0m\u001b[0;34m(\u001b[0m\u001b[0;34m'Residual Plot for Advertising Dataset'\u001b[0m\u001b[0;34m)\u001b[0m\u001b[0;34m\u001b[0m\u001b[0;34m\u001b[0m\u001b[0m\n\u001b[1;32m      4\u001b[0m \u001b[0mplt\u001b[0m\u001b[0;34m.\u001b[0m\u001b[0mxlabel\u001b[0m\u001b[0;34m(\u001b[0m\u001b[0;34m'On the x-axis we put predicted values for Sales'\u001b[0m\u001b[0;34m)\u001b[0m\u001b[0;34m\u001b[0m\u001b[0;34m\u001b[0m\u001b[0m\n\u001b[1;32m      5\u001b[0m \u001b[0mplt\u001b[0m\u001b[0;34m.\u001b[0m\u001b[0mylabel\u001b[0m\u001b[0;34m(\u001b[0m\u001b[0;34m'On the y-axis we put residuals (errors) for Sales'\u001b[0m\u001b[0;34m)\u001b[0m\u001b[0;34m\u001b[0m\u001b[0;34m\u001b[0m\u001b[0m\n",
      "\u001b[0;31mAttributeError\u001b[0m: 'NoneType' object has no attribute 'min'"
     ]
    },
    {
     "data": {
      "image/png": "[encoded data removed]",
      "text/plain": [
       "<Figure size 432x288 with 1 Axes>"
      ]
     },
     "metadata": {
      "needs_background": "light"
     },
     "output_type": "display_data"
    }
   ],
   "source": [
    "plt.scatter(y_predict, residuals)\n",
    "plt.hlines(y = 0, xmin = y_predict.min(), xmax = y_predict.max())\n",
    "plt.title('Residual Plot for Advertising Dataset')\n",
    "plt.xlabel('On the x-axis we put predicted values for Sales')\n",
    "plt.ylabel('On the y-axis we put residuals (errors) for Sales')\n",
    "plt.show()"
   ]
  },
  {
   "cell_type": "markdown",
   "metadata": {},
   "source": [
    "### Linear Regression on Advertising Dataset - Visualization\n",
    "\n",
    "<img src = 'images/interaction.png' width = 550>\n",
    "\n",
    "Img Source: ISLR, p81"
   ]
  },
  {
   "cell_type": "markdown",
   "metadata": {},
   "source": [
    "## Adding Interaction Terms to the Model"
   ]
  },
  {
   "cell_type": "code",
   "execution_count": 22,
   "metadata": {},
   "outputs": [],
   "source": [
    "## Sklearn has PolynomialFeatures class for creating higher order terms in the data\n",
    "from sklearn.preprocessing import PolynomialFeatures"
   ]
  },
  {
   "cell_type": "markdown",
   "metadata": {},
   "source": [
    "Recall that when we imported the class PolynomialFeatures, we should instantiate it to be able to use it. \n",
    "\n",
    "__Important parameters__\n",
    "\n",
    "- Degree: Degrees of polynomials to be created. In our case we have $X_{1} = \\text{TV}$ and $X_{2} = \\text{Radio}$ \n",
    "\n",
    "if degree=2:\n",
    "\n",
    "$$X_{1}^{2}, X_{1}  X_{2},X_{2}^{2}$$ columns will be created.\n",
    "\n",
    "if degree=3:\n",
    "\n",
    "$$X_{1}^{2}, X_{1}^{3}, X_{1}X_{2}, X_{1}^{2}X_{2}, X_{1}X_{2}^{2}, X_{2}^{2}, X_{2}^{3}$$\n",
    "\n",
    "\n",
    "- Interaction only: It only adds interaction terms between the variables: \n",
    "\n",
    "\n",
    "$$ X_{1}X_{2} $$\n"
   ]
  },
  {
   "cell_type": "markdown",
   "metadata": {},
   "source": [
    "Now, to understand the effect of PolynomialFeatures let's work with the columns ['TV', 'Radio' 'Newspaper]. Later on for the final model we will exclude 'Newspaper'."
   ]
  },
  {
   "cell_type": "code",
   "execution_count": 217,
   "metadata": {},
   "outputs": [],
   "source": [
    "columns = ['TV', 'Radio', 'Newspaper']"
   ]
  },
  {
   "cell_type": "code",
   "execution_count": 218,
   "metadata": {},
   "outputs": [],
   "source": [
    "## Instantiate the PolynomialFeatures with some degree = 2\n",
    "polynomial_features = PolynomialFeatures(degree = 2, interaction_only= True, include_bias= True )"
   ]
  },
  {
   "cell_type": "code",
   "execution_count": 219,
   "metadata": {},
   "outputs": [],
   "source": [
    "polynomial_dataset_np = polynomial_features.fit_transform(advertising[columns])"
   ]
  },
  {
   "cell_type": "code",
   "execution_count": 220,
   "metadata": {},
   "outputs": [],
   "source": [
    "## polynomial_features has a method that creates column names\n",
    "polynomial_columns = polynomial_features.get_feature_names(input_features= columns)"
   ]
  },
  {
   "cell_type": "code",
   "execution_count": 221,
   "metadata": {},
   "outputs": [],
   "source": [
    "polynomial_df = pd.DataFrame(polynomial_dataset_np, columns= polynomial_columns, index=y.index )"
   ]
  },
  {
   "cell_type": "code",
   "execution_count": 222,
   "metadata": {},
   "outputs": [
    {
     "data": {
      "text/html": [
       "<div>\n",
       "<style scoped>\n",
       "    .dataframe tbody tr th:only-of-type {\n",
       "        vertical-align: middle;\n",
       "    }\n",
       "\n",
       "    .dataframe tbody tr th {\n",
       "        vertical-align: top;\n",
       "    }\n",
       "\n",
       "    .dataframe thead th {\n",
       "        text-align: right;\n",
       "    }\n",
       "</style>\n",
       "<table border=\"1\" class=\"dataframe\">\n",
       "  <thead>\n",
       "    <tr style=\"text-align: right;\">\n",
       "      <th></th>\n",
       "      <th>1</th>\n",
       "      <th>TV</th>\n",
       "      <th>Radio</th>\n",
       "      <th>Newspaper</th>\n",
       "      <th>TV Radio</th>\n",
       "      <th>TV Newspaper</th>\n",
       "      <th>Radio Newspaper</th>\n",
       "    </tr>\n",
       "  </thead>\n",
       "  <tbody>\n",
       "    <tr>\n",
       "      <th>1</th>\n",
       "      <td>1.0</td>\n",
       "      <td>230.1</td>\n",
       "      <td>37.8</td>\n",
       "      <td>69.2</td>\n",
       "      <td>8697.78</td>\n",
       "      <td>15922.92</td>\n",
       "      <td>2615.76</td>\n",
       "    </tr>\n",
       "    <tr>\n",
       "      <th>2</th>\n",
       "      <td>1.0</td>\n",
       "      <td>44.5</td>\n",
       "      <td>39.3</td>\n",
       "      <td>45.1</td>\n",
       "      <td>1748.85</td>\n",
       "      <td>2006.95</td>\n",
       "      <td>1772.43</td>\n",
       "    </tr>\n",
       "    <tr>\n",
       "      <th>3</th>\n",
       "      <td>1.0</td>\n",
       "      <td>17.2</td>\n",
       "      <td>45.9</td>\n",
       "      <td>69.3</td>\n",
       "      <td>789.48</td>\n",
       "      <td>1191.96</td>\n",
       "      <td>3180.87</td>\n",
       "    </tr>\n",
       "  </tbody>\n",
       "</table>\n",
       "</div>"
      ],
      "text/plain": [
       "     1     TV  Radio  Newspaper  TV Radio  TV Newspaper  Radio Newspaper\n",
       "1  1.0  230.1   37.8       69.2   8697.78      15922.92          2615.76\n",
       "2  1.0   44.5   39.3       45.1   1748.85       2006.95          1772.43\n",
       "3  1.0   17.2   45.9       69.3    789.48       1191.96          3180.87"
      ]
     },
     "execution_count": 222,
     "metadata": {},
     "output_type": "execute_result"
    }
   ],
   "source": [
    "polynomial_df.head(3)"
   ]
  },
  {
   "cell_type": "markdown",
   "metadata": {},
   "source": [
    "__Your Turn__\n",
    "\n",
    "- Change the parameters and understand the effect of the parameters.\n",
    "\n",
    "1. make degree =3. How many columns added?\n",
    "\n",
    "2. set degree = 3 and interaction_only = True. How many columns now? What happened?\n",
    "\n",
    "3. Set degree = 10, how many columns do you have?\n",
    "\n"
   ]
  },
  {
   "cell_type": "markdown",
   "metadata": {},
   "source": [
    "## Fitting a Linear Regression Model with Polynomial Features\n",
    "\n",
    "Now let's use degree =2 and interaction_only = True and see whether this improves our model."
   ]
  },
  {
   "cell_type": "code",
   "execution_count": 223,
   "metadata": {},
   "outputs": [
    {
     "data": {
      "text/plain": [
       "['TV', 'Radio']"
      ]
     },
     "execution_count": 223,
     "metadata": {},
     "output_type": "execute_result"
    }
   ],
   "source": [
    "## We will be using only TV and Radio again\n",
    "independent_variables\n"
   ]
  },
  {
   "cell_type": "code",
   "execution_count": 224,
   "metadata": {},
   "outputs": [
    {
     "data": {
      "text/html": [
       "<div>\n",
       "<style scoped>\n",
       "    .dataframe tbody tr th:only-of-type {\n",
       "        vertical-align: middle;\n",
       "    }\n",
       "\n",
       "    .dataframe tbody tr th {\n",
       "        vertical-align: top;\n",
       "    }\n",
       "\n",
       "    .dataframe thead th {\n",
       "        text-align: right;\n",
       "    }\n",
       "</style>\n",
       "<table border=\"1\" class=\"dataframe\">\n",
       "  <thead>\n",
       "    <tr style=\"text-align: right;\">\n",
       "      <th></th>\n",
       "      <th>1</th>\n",
       "      <th>TV</th>\n",
       "      <th>Radio</th>\n",
       "      <th>TV Radio</th>\n",
       "    </tr>\n",
       "  </thead>\n",
       "  <tbody>\n",
       "    <tr>\n",
       "      <th>1</th>\n",
       "      <td>1.0</td>\n",
       "      <td>230.1</td>\n",
       "      <td>37.8</td>\n",
       "      <td>8697.78</td>\n",
       "    </tr>\n",
       "    <tr>\n",
       "      <th>2</th>\n",
       "      <td>1.0</td>\n",
       "      <td>44.5</td>\n",
       "      <td>39.3</td>\n",
       "      <td>1748.85</td>\n",
       "    </tr>\n",
       "    <tr>\n",
       "      <th>3</th>\n",
       "      <td>1.0</td>\n",
       "      <td>17.2</td>\n",
       "      <td>45.9</td>\n",
       "      <td>789.48</td>\n",
       "    </tr>\n",
       "  </tbody>\n",
       "</table>\n",
       "</div>"
      ],
      "text/plain": [
       "     1     TV  Radio  TV Radio\n",
       "1  1.0  230.1   37.8   8697.78\n",
       "2  1.0   44.5   39.3   1748.85\n",
       "3  1.0   17.2   45.9    789.48"
      ]
     },
     "execution_count": 224,
     "metadata": {},
     "output_type": "execute_result"
    }
   ],
   "source": [
    "polynomial_features = PolynomialFeatures(degree = 2, interaction_only= True, include_bias= True )\n",
    "\n",
    "finaldataset_np = polynomial_features.fit_transform(advertising[independent_variables])\n",
    "\n",
    "final_cols = polynomial_features.get_feature_names(input_features= independent_variables)\n",
    "finaldataset_df = pd.DataFrame(finaldataset_np, columns= final_cols, index=y.index )\n",
    "\n",
    "finaldataset_df.head(3)"
   ]
  },
  {
   "cell_type": "code",
   "execution_count": 225,
   "metadata": {},
   "outputs": [],
   "source": [
    "model = sm.OLS(y, polynomial_dataset_np, hasconst= True)"
   ]
  },
  {
   "cell_type": "code",
   "execution_count": 226,
   "metadata": {},
   "outputs": [],
   "source": [
    "final_model_fitted = model.fit()"
   ]
  },
  {
   "cell_type": "code",
   "execution_count": 227,
   "metadata": {},
   "outputs": [
    {
     "data": {
      "text/html": [
       "<table class=\"simpletable\">\n",
       "<caption>OLS Regression Results</caption>\n",
       "<tr>\n",
       "  <th>Dep. Variable:</th>          <td>Sales</td>      <th>  R-squared:         </th> <td>   0.969</td> \n",
       "</tr>\n",
       "<tr>\n",
       "  <th>Model:</th>                   <td>OLS</td>       <th>  Adj. R-squared:    </th> <td>   0.968</td> \n",
       "</tr>\n",
       "<tr>\n",
       "  <th>Method:</th>             <td>Least Squares</td>  <th>  F-statistic:       </th> <td>   993.3</td> \n",
       "</tr>\n",
       "<tr>\n",
       "  <th>Date:</th>             <td>Mon, 06 Jul 2020</td> <th>  Prob (F-statistic):</th> <td>3.68e-142</td>\n",
       "</tr>\n",
       "<tr>\n",
       "  <th>Time:</th>                 <td>09:56:37</td>     <th>  Log-Likelihood:    </th> <td> -267.49</td> \n",
       "</tr>\n",
       "<tr>\n",
       "  <th>No. Observations:</th>      <td>   200</td>      <th>  AIC:               </th> <td>   549.0</td> \n",
       "</tr>\n",
       "<tr>\n",
       "  <th>Df Residuals:</th>          <td>   193</td>      <th>  BIC:               </th> <td>   572.1</td> \n",
       "</tr>\n",
       "<tr>\n",
       "  <th>Df Model:</th>              <td>     6</td>      <th>                     </th>     <td> </td>    \n",
       "</tr>\n",
       "<tr>\n",
       "  <th>Covariance Type:</th>      <td>nonrobust</td>    <th>                     </th>     <td> </td>    \n",
       "</tr>\n",
       "</table>\n",
       "<table class=\"simpletable\">\n",
       "<tr>\n",
       "    <td></td>       <th>coef</th>     <th>std err</th>      <th>t</th>      <th>P>|t|</th>  <th>[0.025</th>    <th>0.975]</th>  \n",
       "</tr>\n",
       "<tr>\n",
       "  <th>const</th> <td>    6.4602</td> <td>    0.318</td> <td>   20.342</td> <td> 0.000</td> <td>    5.834</td> <td>    7.087</td>\n",
       "</tr>\n",
       "<tr>\n",
       "  <th>x1</th>    <td>    0.0203</td> <td>    0.002</td> <td>   12.633</td> <td> 0.000</td> <td>    0.017</td> <td>    0.024</td>\n",
       "</tr>\n",
       "<tr>\n",
       "  <th>x2</th>    <td>    0.0229</td> <td>    0.011</td> <td>    2.009</td> <td> 0.046</td> <td>    0.000</td> <td>    0.045</td>\n",
       "</tr>\n",
       "<tr>\n",
       "  <th>x3</th>    <td>    0.0170</td> <td>    0.010</td> <td>    1.691</td> <td> 0.092</td> <td>   -0.003</td> <td>    0.037</td>\n",
       "</tr>\n",
       "<tr>\n",
       "  <th>x4</th>    <td>    0.0011</td> <td> 5.72e-05</td> <td>   19.930</td> <td> 0.000</td> <td>    0.001</td> <td>    0.001</td>\n",
       "</tr>\n",
       "<tr>\n",
       "  <th>x5</th>    <td>-7.971e-05</td> <td> 3.58e-05</td> <td>   -2.227</td> <td> 0.027</td> <td>   -0.000</td> <td>-9.12e-06</td>\n",
       "</tr>\n",
       "<tr>\n",
       "  <th>x6</th>    <td>   -0.0001</td> <td>    0.000</td> <td>   -0.464</td> <td> 0.643</td> <td>   -0.001</td> <td>    0.000</td>\n",
       "</tr>\n",
       "</table>\n",
       "<table class=\"simpletable\">\n",
       "<tr>\n",
       "  <th>Omnibus:</th>       <td>111.385</td> <th>  Durbin-Watson:     </th> <td>   2.222</td> \n",
       "</tr>\n",
       "<tr>\n",
       "  <th>Prob(Omnibus):</th> <td> 0.000</td>  <th>  Jarque-Bera (JB):  </th> <td> 767.483</td> \n",
       "</tr>\n",
       "<tr>\n",
       "  <th>Skew:</th>          <td>-2.046</td>  <th>  Prob(JB):          </th> <td>2.20e-167</td>\n",
       "</tr>\n",
       "<tr>\n",
       "  <th>Kurtosis:</th>      <td>11.681</td>  <th>  Cond. No.          </th> <td>3.80e+04</td> \n",
       "</tr>\n",
       "</table><br/><br/>Warnings:<br/>[1] Standard Errors assume that the covariance matrix of the errors is correctly specified.<br/>[2] The condition number is large, 3.8e+04. This might indicate that there are<br/>strong multicollinearity or other numerical problems."
      ],
      "text/plain": [
       "<class 'statsmodels.iolib.summary.Summary'>\n",
       "\"\"\"\n",
       "                            OLS Regression Results                            \n",
       "==============================================================================\n",
       "Dep. Variable:                  Sales   R-squared:                       0.969\n",
       "Model:                            OLS   Adj. R-squared:                  0.968\n",
       "Method:                 Least Squares   F-statistic:                     993.3\n",
       "Date:                Mon, 06 Jul 2020   Prob (F-statistic):          3.68e-142\n",
       "Time:                        09:56:37   Log-Likelihood:                -267.49\n",
       "No. Observations:                 200   AIC:                             549.0\n",
       "Df Residuals:                     193   BIC:                             572.1\n",
       "Df Model:                           6                                         \n",
       "Covariance Type:            nonrobust                                         \n",
       "==============================================================================\n",
       "                 coef    std err          t      P>|t|      [0.025      0.975]\n",
       "------------------------------------------------------------------------------\n",
       "const          6.4602      0.318     20.342      0.000       5.834       7.087\n",
       "x1             0.0203      0.002     12.633      0.000       0.017       0.024\n",
       "x2             0.0229      0.011      2.009      0.046       0.000       0.045\n",
       "x3             0.0170      0.010      1.691      0.092      -0.003       0.037\n",
       "x4             0.0011   5.72e-05     19.930      0.000       0.001       0.001\n",
       "x5         -7.971e-05   3.58e-05     -2.227      0.027      -0.000   -9.12e-06\n",
       "x6            -0.0001      0.000     -0.464      0.643      -0.001       0.000\n",
       "==============================================================================\n",
       "Omnibus:                      111.385   Durbin-Watson:                   2.222\n",
       "Prob(Omnibus):                  0.000   Jarque-Bera (JB):              767.483\n",
       "Skew:                          -2.046   Prob(JB):                    2.20e-167\n",
       "Kurtosis:                      11.681   Cond. No.                     3.80e+04\n",
       "==============================================================================\n",
       "\n",
       "Warnings:\n",
       "[1] Standard Errors assume that the covariance matrix of the errors is correctly specified.\n",
       "[2] The condition number is large, 3.8e+04. This might indicate that there are\n",
       "strong multicollinearity or other numerical problems.\n",
       "\"\"\""
      ]
     },
     "execution_count": 227,
     "metadata": {},
     "output_type": "execute_result"
    }
   ],
   "source": [
    "final_model_fitted.summary()"
   ]
  },
  {
   "cell_type": "markdown",
   "metadata": {},
   "source": [
    "## Residuals for the linear model with interactions"
   ]
  },
  {
   "cell_type": "code",
   "execution_count": 228,
   "metadata": {},
   "outputs": [],
   "source": [
    "y_predict = final_model_fitted.predict(polynomial_dataset_np)"
   ]
  },
  {
   "cell_type": "code",
   "execution_count": 229,
   "metadata": {},
   "outputs": [],
   "source": [
    "residuals = y -y_predict"
   ]
  },
  {
   "cell_type": "code",
   "execution_count": 230,
   "metadata": {},
   "outputs": [
    {
     "data": {
      "image/png": "[encoded data removed]",
      "text/plain": [
       "<Figure size 432x288 with 1 Axes>"
      ]
     },
     "metadata": {
      "needs_background": "light"
     },
     "output_type": "display_data"
    }
   ],
   "source": [
    "plt.scatter(y_predict, residuals)\n",
    "plt.hlines(y = 0, xmin = y_predict.min(), xmax = y_predict.max())\n",
    "plt.title('Residual Plot for Advertising Dataset')\n",
    "plt.xlabel('On the x-axis we put predicted values for Sales')\n",
    "plt.ylabel('On the y-axis we put residuals (errors) for Sales')\n",
    "plt.show()"
   ]
  },
  {
   "cell_type": "markdown",
   "metadata": {},
   "source": [
    "__Your Turn__\n",
    "\n",
    "- We still see some pattern in the residuals.\n",
    "\n",
    "- Create different datasets by changing the parameters in polynomial_features. \n",
    "\n",
    "- Can you improve this model?\n"
   ]
  },
  {
   "cell_type": "code",
   "execution_count": null,
   "metadata": {},
   "outputs": [],
   "source": []
  },
  {
   "cell_type": "code",
   "execution_count": null,
   "metadata": {},
   "outputs": [],
   "source": []
  }
 ],
 "metadata": {
  "kernelspec": {
   "display_name": "Python 3",
   "language": "python",
   "name": "python3"
  },
  "language_info": {
   "codemirror_mode": {
    "name": "ipython",
    "version": 3
   },
   "file_extension": ".py",
   "mimetype": "text/x-python",
   "name": "python",
   "nbconvert_exporter": "python",
   "pygments_lexer": "ipython3",
   "version": "3.7.6"
  },
  "latex_envs": {
   "LaTeX_envs_menu_present": true,
   "autoclose": false,
   "autocomplete": true,
   "bibliofile": "biblio.bib",
   "cite_by": "apalike",
   "current_citInitial": 1,
   "eqLabelWithNumbers": true,
   "eqNumInitial": 1,
   "hotkeys": {
    "equation": "Ctrl-E",
    "itemize": "Ctrl-I"
   },
   "labels_anchors": false,
   "latex_user_defs": false,
   "report_style_numbering": false,
   "user_envs_cfg": false
  },
  "toc": {
   "base_numbering": 1,
   "nav_menu": {},
   "number_sections": true,
   "sideBar": true,
   "skip_h1_title": false,
   "title_cell": "Table of Contents",
   "title_sidebar": "Contents",
   "toc_cell": false,
   "toc_position": {},
   "toc_section_display": true,
   "toc_window_display": false
  },
  "varInspector": {
   "cols": {
    "lenName": 16,
    "lenType": 16,
    "lenVar": 40
   },
   "kernels_config": {
    "python": {
     "delete_cmd_postfix": "",
     "delete_cmd_prefix": "del ",
     "library": "var_list.py",
     "varRefreshCmd": "print(var_dic_list())"
    },
    "r": {
     "delete_cmd_postfix": ") ",
     "delete_cmd_prefix": "rm(",
     "library": "var_list.r",
     "varRefreshCmd": "cat(var_dic_list()) "
    }
   },
   "types_to_exclude": [
    "module",
    "function",
    "builtin_function_or_method",
    "instance",
    "_Feature"
   ],
   "window_display": true
  }
 },
 "nbformat": 4,
 "nbformat_minor": 2
}
