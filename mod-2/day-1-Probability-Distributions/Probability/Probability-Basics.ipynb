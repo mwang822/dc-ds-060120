{
 "cells": [
  {
   "cell_type": "markdown",
   "metadata": {},
   "source": [
    "# Probability"
   ]
  },
  {
   "cell_type": "markdown",
   "metadata": {
    "heading_collapsed": true
   },
   "source": [
    "## Counting"
   ]
  },
  {
   "cell_type": "markdown",
   "metadata": {
    "hidden": true
   },
   "source": [
    "### Product of two sets\n",
    "\n",
    "A = {a,b,c,d}\n",
    "\n",
    "B = {1,2,3,4,5}\n",
    "\n",
    "__Your Turn__\n",
    "\n",
    "Can you find all tuple combinations of the form (letter, number)"
   ]
  },
  {
   "cell_type": "code",
   "execution_count": 227,
   "metadata": {
    "hidden": true
   },
   "outputs": [],
   "source": [
    "A = ['a', 'b', 'c', 'd']\n",
    "\n",
    "B = [1,2,3,4,5]\n",
    "\n",
    "# we will keep the tuple elements in a list\n",
    "product_of_AB = []\n",
    "\n",
    "## your code is here"
   ]
  },
  {
   "cell_type": "code",
   "execution_count": 228,
   "metadata": {
    "hidden": true
   },
   "outputs": [],
   "source": [
    "# %load -r 1-5 supplement.py"
   ]
  },
  {
   "cell_type": "markdown",
   "metadata": {
    "hidden": true
   },
   "source": [
    "itertools library has many of these functions already built-in. Note that the cell below will give the exact result as the above but a lot faster and easier."
   ]
  },
  {
   "cell_type": "code",
   "execution_count": 229,
   "metadata": {
    "hidden": true
   },
   "outputs": [],
   "source": [
    "from itertools import product\n",
    "list(product(A,B));"
   ]
  },
  {
   "cell_type": "markdown",
   "metadata": {
    "hidden": true
   },
   "source": [
    "### Factorials\n",
    "\n",
    "[Wiki - Factorials](https://en.wikipedia.org/wiki/Factorial)\n",
    "\n",
    "Factorials are basically a short hand notation for recursive multiplication. \n",
    "We start with assuming \n",
    "0! = 1\n",
    "1! = 1\n",
    "\n",
    "Then recursively define:\n",
    "\n",
    "2! = 2.1!\n",
    "\n",
    "3! = 3.2! = 3.2.1\n",
    "\n",
    "4! = 4.3! = 4.3.2.1\n",
    ".\n",
    ".\n",
    ".\n",
    "n! = n.(n-1)! = n.(n-1).(n-2)...2.1"
   ]
  },
  {
   "cell_type": "markdown",
   "metadata": {
    "hidden": true
   },
   "source": [
    "__Your Turn__\n",
    "\n",
    "Write a function that returns for a given number n it should return n!"
   ]
  },
  {
   "cell_type": "code",
   "execution_count": 230,
   "metadata": {
    "hidden": true
   },
   "outputs": [],
   "source": [
    "def fact(n):\n",
    "    # your code here\n",
    "    #\n",
    "    #\n",
    "    # \n",
    "    return "
   ]
  },
  {
   "cell_type": "code",
   "execution_count": 231,
   "metadata": {
    "hidden": true
   },
   "outputs": [],
   "source": [
    "# %load -r 8-21 supplement.py"
   ]
  },
  {
   "cell_type": "markdown",
   "metadata": {
    "hidden": true
   },
   "source": [
    "factorial function is defined in math library"
   ]
  },
  {
   "cell_type": "code",
   "execution_count": 232,
   "metadata": {
    "hidden": true
   },
   "outputs": [
    {
     "data": {
      "text/plain": [
       "120"
      ]
     },
     "execution_count": 232,
     "metadata": {},
     "output_type": "execute_result"
    }
   ],
   "source": [
    "from math import factorial\n",
    "factorial(5)"
   ]
  },
  {
   "cell_type": "markdown",
   "metadata": {
    "hidden": true
   },
   "source": [
    "### Permutations\n",
    "\n",
    "Permutation Rule: A permutation is an ordered arrangement of 'n' distinct object.\n",
    "\n",
    "Those n objects can be permuted in \n",
    "$n \\times (n–1) \\times (n–2)\\,\\times... \\times\\, 2 \\times 1=n!$ ways.\n",
    "\n",
    "__Example__\n",
    "\n",
    "All possible permutations of 3 letters: {1,2,3}:\n",
    "\n",
    "{(1, 2, 3), (1, 3, 2), (2, 1, 3), (2,  3, 1), (3, 1, 2), (3, 2, 1)}"
   ]
  },
  {
   "cell_type": "markdown",
   "metadata": {
    "hidden": true
   },
   "source": [
    "__Example:__\n",
    "\n",
    "iPhones have 4-digit passcodes. Suppose there are 4 smudges over 4 digits {2, 4, 6, 7} on the screen. How many distinct passcodes are possible?"
   ]
  },
  {
   "cell_type": "markdown",
   "metadata": {
    "hidden": true
   },
   "source": [
    "__Exercise__\n",
    "\n",
    "- Try to write a function own your own.\n",
    "\n",
    "- __Note__ It might be more difficult than you might expect."
   ]
  },
  {
   "cell_type": "code",
   "execution_count": 233,
   "metadata": {
    "hidden": true
   },
   "outputs": [],
   "source": [
    "# %load -r 23-31 supplement.py"
   ]
  },
  {
   "cell_type": "code",
   "execution_count": 234,
   "metadata": {
    "hidden": true
   },
   "outputs": [],
   "source": [
    "smudges = [2, 4, 6, 7]\n",
    "all_possible_passwords = list(all_perms(elements= smudges))"
   ]
  },
  {
   "cell_type": "markdown",
   "metadata": {
    "hidden": true
   },
   "source": [
    "[Use of yield keywords](https://www.youtube.com/watch?v=bD05uGo_sVI)\n",
    "\n",
    "[Recursive functions watch only first five min](https://www.youtube.com/watch?v=B3U6LExgevE)"
   ]
  },
  {
   "cell_type": "markdown",
   "metadata": {
    "hidden": true
   },
   "source": [
    "Again itertools has a built-in function for permutations:"
   ]
  },
  {
   "cell_type": "code",
   "execution_count": 235,
   "metadata": {
    "hidden": true
   },
   "outputs": [],
   "source": [
    "from itertools import  permutations\n",
    "\n",
    "result_with_itertools = list(permutations(smudges))"
   ]
  },
  {
   "cell_type": "markdown",
   "metadata": {
    "hidden": true
   },
   "source": [
    "__Exercise__\n",
    "\n",
    "What if there are 3 smudges over 3 digits on screen?\n",
    "\n",
    "Do you expect less trial or more?\n",
    "\n",
    "__Hint:__\n",
    "\n",
    "Suppose you 3 smudges are {2, 4, 7}  this time. __Also__  suppose you know that 2 is repeating number. How many different 4 number combination are there in this case?\n",
    "\n"
   ]
  },
  {
   "cell_type": "code",
   "execution_count": 236,
   "metadata": {
    "hidden": true
   },
   "outputs": [],
   "source": [
    "# %load -r 32 supplement.py"
   ]
  },
  {
   "cell_type": "markdown",
   "metadata": {
    "hidden": true
   },
   "source": [
    "For more on permutations please read:\n",
    "\n",
    "Learn.co: Section-11 - Permutations and Factorials and its lab.\n",
    "\n",
    "Bonus: There is a problem in the lab section and the solution is not very accurate. Can you find it?"
   ]
  },
  {
   "cell_type": "markdown",
   "metadata": {
    "hidden": true
   },
   "source": [
    "### Combinations\n",
    "\n",
    "A combination is an unordered selection of r objects from a set of n objects. If all objects are distinct, then the number of ways of making the selection is:\n",
    "\n",
    "$${n\\choose r} = \\frac{n!}{(n-r)! r!}$$ \n",
    "\n",
    "We read the expression on the left as \"n choose k\"\"."
   ]
  },
  {
   "cell_type": "markdown",
   "metadata": {
    "hidden": true
   },
   "source": [
    "__Example__\n",
    "\n",
    "In the Hunger Games, how many ways are there of choosing 2 villagers from district 12, which has a population of 8,000?"
   ]
  },
  {
   "cell_type": "code",
   "execution_count": 237,
   "metadata": {
    "hidden": true
   },
   "outputs": [],
   "source": [
    "## write a function that calculates the C(n,k):\n",
    "from math import factorial\n",
    "def comb(n, r):\n",
    "    num = None\n",
    "    denom = None\n",
    "    return\n",
    "comb(8000,2)"
   ]
  },
  {
   "cell_type": "markdown",
   "metadata": {
    "hidden": true
   },
   "source": [
    "To be able to create exact list of all combinations we can also use itertools again.\n"
   ]
  },
  {
   "cell_type": "markdown",
   "metadata": {
    "hidden": true
   },
   "source": [
    "For the mod-2 projects we will create teams of 2 in your cohort. How many different possible team combinations we can create?"
   ]
  },
  {
   "cell_type": "code",
   "execution_count": 238,
   "metadata": {
    "hidden": true
   },
   "outputs": [],
   "source": [
    "from itertools import combinations\n",
    "\n",
    "cohort_name = ['Alphonso', 'Joe', 'Joseph', 'Rashid', 'Vivian']\n",
    "\n",
    "## your code here: \n",
    "\n",
    "## use combinations to find all possible combinations."
   ]
  },
  {
   "cell_type": "markdown",
   "metadata": {},
   "source": [
    "## Students will be able to answer:\n",
    "\n",
    "- Why do we need probability in the study of data science.\n",
    "\n",
    "- What is an experiment in probability theory?\n",
    "\n",
    "- What is sample space and outcome?\n",
    "\n",
    "- What are the rules of probability theory?\n",
    "\n",
    "- What is mutually exclusive events and independent events?\n"
   ]
  },
  {
   "cell_type": "markdown",
   "metadata": {},
   "source": [
    "## Why Do We Need Probability in Data Science?"
   ]
  },
  {
   "cell_type": "markdown",
   "metadata": {},
   "source": [
    "- Natural Language Understanding\n",
    "\n",
    "<img src = 'img/language_models.png' width =450\\>\n",
    "\n",
    "- Classification Problems\n",
    "\n",
    "- Maximum Likelihood Estimators\n",
    "\n",
    "- Naive Bayes Classification Algorithm"
   ]
  },
  {
   "cell_type": "markdown",
   "metadata": {},
   "source": [
    "## Probability\n",
    "\n",
    "### Event Space and Sample Space"
   ]
  },
  {
   "cell_type": "markdown",
   "metadata": {},
   "source": [
    "__Experiment :__ An experiment is a procedure which yields one of set of possible outcomes.\n",
    "\n",
    "[Let's roll some dice](http://www.dicesimulator.com/)\n",
    "\n",
    "__Sample Space__ (Usually denoted by $\\Omega$ or S): Set of possible outcomes of an experiment"
   ]
  },
  {
   "cell_type": "markdown",
   "metadata": {},
   "source": [
    "- Rolling a die -  sample space is: {1,2,3,4,5,6}\n",
    "\n",
    "- Rolling two six-sided dice: \n",
    "\n",
    "(1, 1) (1, 2) (1, 3) (1, 4) (1, 5) (1, 6) \n",
    "\n",
    "(2, 1) (2, 2) (2, 3) (2, 4) (2, 5) (2, 6)\n",
    "\n",
    "(3, 1) (3, 2) (3, 3) (3, 4) (3, 5) (3, 6) \n",
    "\n",
    "(4, 1) (4, 2) (4, 3) (4, 4) (4, 5) (4, 6) \n",
    "\n",
    "(5, 1) (5, 2) (5, 3) (5, 4) (5, 5) (5, 6) \n",
    "\n",
    "(6, 1) (6, 2) (6, 3) (6, 4) (6, 5) (6, 6)\n",
    "\n",
    "\n",
    "- Tossing a coin: {Head, Tail}\n",
    "\n",
    "- Randomly selecting someone from Flatiron DC employee. {Anyone working in Flatiron DC}\n",
    "\n",
    "- Choosing randomly 10 rows from a dataset: {Any 10 row subset of the dataset}\n",
    "\n",
    "- Picking a random card from a deck of cards."
   ]
  },
  {
   "cell_type": "code",
   "execution_count": 2,
   "metadata": {},
   "outputs": [],
   "source": [
    "## Let's create sample space for the experiment of rolling two dice."
   ]
  },
  {
   "cell_type": "markdown",
   "metadata": {},
   "source": [
    "__Exercise (after class)__: Write code for creating the sample space for the experiment of choosing two random cards without replacement from a deck of 52 cards."
   ]
  },
  {
   "cell_type": "code",
   "execution_count": 12,
   "metadata": {},
   "outputs": [],
   "source": [
    "## your code is here."
   ]
  },
  {
   "cell_type": "markdown",
   "metadata": {},
   "source": [
    "__An Event (Usually denoted with E and F)__: is a specified subset of the outcomes of an experiment."
   ]
  },
  {
   "cell_type": "code",
   "execution_count": 5,
   "metadata": {},
   "outputs": [],
   "source": [
    "## suppose we are interested in the event that \n",
    "## the sum of two numbers on the dice is 8:\n",
    "\n",
    "## write the code that gives us this event\n",
    "\n",
    "def sum_of_two_dice(sample_space, total):\n",
    "    \"\"\"\n",
    "    This function takes the sample space for the experiment of rolling two dice \n",
    "    and returns the event that the sum of two numbers on the dice is `total`\n",
    "    ------------\n",
    "    \n",
    "    parameters = Sample space for the experiment of rolling two six-sided dice. \n",
    "    Expected in the format: [(dice1, dice2), (dice1, dice2), ..., (dice1, dice2)]\n",
    "    \n",
    "    total: int. This number specifies the event.abs\n",
    "    ------------\n",
    "    returns: list; list of outcomes of the experiment of rolling two dice for which the \n",
    "    sum of two numbers on the dice is `total`\n",
    "    \n",
    "    \"\"\"\n",
    "    pass\n",
    "\n"
   ]
  },
  {
   "cell_type": "markdown",
   "metadata": {},
   "source": [
    "__Exercise (after class)__\n",
    "\n",
    "Write a code that returns:\n",
    "\n",
    "E_2: {one of the dies shows even number}"
   ]
  },
  {
   "cell_type": "code",
   "execution_count": 19,
   "metadata": {},
   "outputs": [],
   "source": [
    "## write your code here after the class"
   ]
  },
  {
   "cell_type": "markdown",
   "metadata": {},
   "source": [
    "\n",
    "__Mutually Exclusive Events:__\n",
    "\n",
    "We say two events _E_ and _F_ are mutually exclusive if $E\\cap F = \\emptyset$. \n",
    "\n",
    "__Your Turn__\n",
    "\n",
    "Consider the experiment of rolling two dice. Let E be the event that the sum of two dice is 11. Find another event, let's say F, that is mutually exclusive with E, that is $E \\cap F = \\emptyset$."
   ]
  },
  {
   "cell_type": "code",
   "execution_count": 11,
   "metadata": {},
   "outputs": [],
   "source": [
    "## E = []\n",
    "\n",
    "## F = []"
   ]
  },
  {
   "cell_type": "markdown",
   "metadata": {},
   "source": [
    "### Axioms of Probability\n",
    "\n",
    "- Axiom 1: Probability of an event is always between 0 and 1 (therefore non-negative) \n",
    "\n",
    "$$0 \\leq P(E) \\leq 1$$\n",
    "\n",
    "- Aximom 2: With probability 1, an outcome of an experiment will be an element of the sample space.  \n",
    "\n",
    "$$P(S) = 1$$\n",
    "\n",
    " \n",
    "\n",
    "- Axiom 3: For mutually exclusive events \n",
    "\n",
    "For mutually exclusive events $E, F$ we have $P(E \\cup F) = P(E) + P(F)$.\n",
    "\n",
    "More generally, if $E_1, E_2, \\cdots\\, E_{n}$ are mutually exclusive then we have:\n",
    "\n",
    "$$P \\big(\\bigcup\\limits_{i=1}^{n} E_{i} \\big) = \\sum\\limits_{i=1}^{n} P(E_{i})$$"
   ]
  },
  {
   "cell_type": "markdown",
   "metadata": {},
   "source": [
    "### Probability of an Event\n",
    "\n",
    "$$ P(E) = \\frac{\\lvert E \\rvert}{\\lvert \\Omega \\rvert} $$\n",
    "\n",
    "where $\\lvert E \\rvert$ represents number of elements in E and $\\lvert \\Omega \\rvert $ represents the number of elements in the sample space."
   ]
  },
  {
   "cell_type": "markdown",
   "metadata": {},
   "source": []
  },
  {
   "cell_type": "markdown",
   "metadata": {},
   "source": [
    "__Exercise__\n",
    "\n",
    "From the axioms above we can prove the following properties of the probability: (Try these!)\n",
    "\n",
    "$$ P(E^{c}) = 1- P(E)$$\n",
    "\n",
    "$$ P(\\emptyset) = 0 $$\n",
    "\n",
    "$$ P(E \\cup F) = P(E) + P(F) - P(E \\cap F)$$"
   ]
  },
  {
   "cell_type": "markdown",
   "metadata": {},
   "source": [
    "__Your Turn__\n",
    "\n",
    "Suppose we are playing the following game: We roll 4 dice and win if none of them are a 6. We loose the game even if at least one 6 appears. What is the probability that we would win in this game."
   ]
  },
  {
   "cell_type": "code",
   "execution_count": 27,
   "metadata": {},
   "outputs": [],
   "source": [
    "import numpy as np\n",
    "\n",
    "outcome = np.random.choice(range(1,7), size = 4)"
   ]
  },
  {
   "cell_type": "code",
   "execution_count": 42,
   "metadata": {},
   "outputs": [],
   "source": [
    "## Calculate the probability of this event"
   ]
  },
  {
   "cell_type": "code",
   "execution_count": 43,
   "metadata": {},
   "outputs": [],
   "source": [
    "## Simulate this event"
   ]
  },
  {
   "cell_type": "code",
   "execution_count": null,
   "metadata": {},
   "outputs": [],
   "source": []
  },
  {
   "cell_type": "markdown",
   "metadata": {},
   "source": [
    "#### Conditional Probability\n",
    "\n",
    "<img src=\"img/conditional.png\"\n",
    " alt=\"Dice\"\n",
    " width = 400\n",
    " style=\"float: center; margin-left: 9px;\" />\n",
    "\n",
    "Conditional probability emerges when the outcome a trial may influence the results of the upcoming trials.\n",
    "\n",
    "* Drawing a 2nd Ace from a deck of cards given that the first card you drew was an Ace.\n",
    "* Finding the probability of liking \"The Matrix\" given that you know this person likes science fiction.\n",
    "\n",
    "__Notation__: The conditional probability (Probability of $B$ **given** $A$) can be written as:\n",
    "$$ P (B \\mid A) = \\dfrac{P(B \\cap A)}{P(A)}$$\n",
    "\n",
    "Later on we will see how we can also use Bayes' Theorem to be able to calculate the conditional probabilities.\n",
    "\n",
    "Img Source: [Internet](https://i.ytimg.com/vi/H02B3aMNKzE/maxresdefault.jpg)"
   ]
  },
  {
   "cell_type": "markdown",
   "metadata": {},
   "source": [
    "__Example:__"
   ]
  },
  {
   "cell_type": "markdown",
   "metadata": {},
   "source": [
    "Suppose a new medical test is developed to diagnose Covid-19 infection. The test is conducted on blood samples from 100 randomly selected patients and the outcomes of the tests are presented"
   ]
  },
  {
   "cell_type": "markdown",
   "metadata": {},
   "source": [
    "<img src = 'img/infection.png' width = 550 />"
   ]
  },
  {
   "cell_type": "markdown",
   "metadata": {},
   "source": [
    "Note that there are 4 possible outcome when someone took the test:"
   ]
  },
  {
   "cell_type": "markdown",
   "metadata": {},
   "source": [
    "- The blood sample has an infection and the test diagnoses it, i.e. the test is correctly diagnosing the infection.\n",
    "\n",
    "- The blood sample does not have an infection and the test does not diagnose it, i.e. the test is correctly diagnosing that there is no infection.\n",
    "\n",
    "- The blood sample has an infection and the test does not diagnose it, i.e. the test is incorrect in stating that there is no infection.\n",
    "\n",
    "- The blood sample does not have an infection but the test diagnoses it, i.e. the test is incorrect in stating that there is an infection."
   ]
  },
  {
   "cell_type": "markdown",
   "metadata": {},
   "source": [
    "__Q__: If one already knows that the test is positive what is the probability that the infection is indeed present?"
   ]
  },
  {
   "cell_type": "markdown",
   "metadata": {},
   "source": [
    "__Notation__\n",
    "\n",
    "_IP :_ The event infection is present\n",
    "\n",
    "_T+ :_ The event that the test is positive.\n",
    "\n",
    "Note that we are asked to calculate: $P(IP | T+)$"
   ]
  },
  {
   "cell_type": "markdown",
   "metadata": {},
   "source": [
    "## Recap\n",
    "\n",
    "- Factorials - permutations - combinations\n",
    "\n",
    "__Factorials:__\n",
    "\n",
    "$$ 5! = 5 \\cdot 4 \\cdots 2 \\cdot 1 $$\n",
    "\n",
    "__Permutations__\n",
    "\n",
    "How many different three letter 'word' we can write with the letters ['A', 'B', 'C', 'D']:\n",
    "\n",
    "$$ P(4,3) = \\frac{4!}{(4-3)!} = \\frac{24}{1!} = 24$$\n",
    "\n",
    "__Combinations__\n",
    "\n",
    "How many different teams of five card combinations are there when you pick cards from a deck of 52 cards\n",
    "\n",
    "$$ C(52, 5) = {52\\choose 5} = \\frac{52!}{(52-5)! 5!} $$\n",
    "- Definition of probability\n",
    "\n",
    "- Mutually exclusive events\n",
    "\n",
    "E = The event of picking a card from the suit hearts\n",
    "\n",
    "F = The event of picking a card from the suit of diamonds\n",
    "\n",
    "note that E and F are mutually exclusive, i.e. $ E\\cap F = \\emptyset$ \n",
    "\n",
    "- Axioms of probability\n",
    "\n",
    "    1. $ P(\\Omega) = 1 $\n",
    "    2. $ 0\\leq P(E) \\leq 1$\n",
    "    3. $P(E \\cup F) = P(E) + P(F)$ for mutually exclusive events $E$ and $F$.\n",
    "    \n",
    "    __Note__ In general we have $P(E\\cup F ) = P(E) + P(F) - P(E\\cap F)$\n",
    "\n",
    "\n",
    "- Independent events\n",
    "\n",
    "Experiment: Randomly choosing two people from a park\n",
    "\n",
    "First event: $E_1$: The second person is 6 foot tall and longer.\n",
    "\n",
    "Second event: $E_2$: The first person is 150 pounds  and heavier. \n",
    "\n",
    "Note that $P(E_1 \\cap E_2) = P(E_1) \\times P(E_2)$\n",
    "\n",
    "- Conditional probability\n",
    "\n",
    "    $$ P(A | B) = \\frac{P(A\\cap B)}{P(B)} $$\n"
   ]
  },
  {
   "cell_type": "markdown",
   "metadata": {},
   "source": [
    "# Extra Material and Resources"
   ]
  },
  {
   "cell_type": "code",
   "execution_count": null,
   "metadata": {},
   "outputs": [],
   "source": []
  }
 ],
 "metadata": {
  "kernelspec": {
   "display_name": "Python 3",
   "language": "python",
   "name": "python3"
  },
  "language_info": {
   "codemirror_mode": {
    "name": "ipython",
    "version": 3
   },
   "file_extension": ".py",
   "mimetype": "text/x-python",
   "name": "python",
   "nbconvert_exporter": "python",
   "pygments_lexer": "ipython3",
   "version": "3.7.3"
  },
  "toc": {
   "base_numbering": 1,
   "nav_menu": {},
   "number_sections": true,
   "sideBar": true,
   "skip_h1_title": false,
   "title_cell": "Table of Contents",
   "title_sidebar": "Contents",
   "toc_cell": false,
   "toc_position": {},
   "toc_section_display": true,
   "toc_window_display": false
  }
 },
 "nbformat": 4,
 "nbformat_minor": 2
}
