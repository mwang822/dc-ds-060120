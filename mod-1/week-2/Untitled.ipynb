{
 "cells": [
  {
   "cell_type": "code",
   "execution_count": 1,
   "metadata": {},
   "outputs": [],
   "source": [
    "from bs4 import BeautifulSoup as bs "
   ]
  },
  {
   "cell_type": "code",
   "execution_count": 2,
   "metadata": {},
   "outputs": [
    {
     "name": "stdout",
     "output_type": "stream",
     "text": [
      "Untitled.ipynb      \u001b[1m\u001b[36mday-2\u001b[m\u001b[m               \u001b[1m\u001b[36mday-3-databases-sql\u001b[m\u001b[m \u001b[1m\u001b[36mmod-1-review\u001b[m\u001b[m\r\n",
      "\u001b[1m\u001b[36mday-1\u001b[m\u001b[m               \u001b[1m\u001b[36mday-2_CRISP-DM_Lab\u001b[m\u001b[m  \u001b[1m\u001b[36mday-8-apis\u001b[m\u001b[m\r\n"
     ]
    }
   ],
   "source": [
    "!ls"
   ]
  },
  {
   "cell_type": "code",
   "execution_count": 5,
   "metadata": {},
   "outputs": [
    {
     "name": "stdout",
     "output_type": "stream",
     "text": [
      "Untitled.ipynb      \u001b[1m\u001b[36mday-2\u001b[m\u001b[m               \u001b[1m\u001b[36mday-3-databases-sql\u001b[m\u001b[m \u001b[1m\u001b[36mmod-1-review\u001b[m\u001b[m\r\n",
      "\u001b[1m\u001b[36mday-1\u001b[m\u001b[m               \u001b[1m\u001b[36mday-2_CRISP-DM_Lab\u001b[m\u001b[m  \u001b[1m\u001b[36mday-8-apis\u001b[m\u001b[m\r\n"
     ]
    }
   ],
   "source": [
    "!cd ~/tmp\n",
    "!ls"
   ]
  },
  {
   "cell_type": "code",
   "execution_count": 7,
   "metadata": {},
   "outputs": [],
   "source": [
    "!cd ~/tmp"
   ]
  },
  {
   "cell_type": "code",
   "execution_count": 8,
   "metadata": {},
   "outputs": [
    {
     "name": "stdout",
     "output_type": "stream",
     "text": [
      "Untitled.ipynb      \u001b[1m\u001b[36mday-2\u001b[m\u001b[m               \u001b[1m\u001b[36mday-3-databases-sql\u001b[m\u001b[m \u001b[1m\u001b[36mmod-1-review\u001b[m\u001b[m\r\n",
      "\u001b[1m\u001b[36mday-1\u001b[m\u001b[m               \u001b[1m\u001b[36mday-2_CRISP-DM_Lab\u001b[m\u001b[m  \u001b[1m\u001b[36mday-8-apis\u001b[m\u001b[m\r\n"
     ]
    }
   ],
   "source": [
    "with open(\"~/tmp')"
   ]
  },
  {
   "cell_type": "code",
   "execution_count": null,
   "metadata": {},
   "outputs": [],
   "source": []
  }
 ],
 "metadata": {
  "kernelspec": {
   "display_name": "Python 3",
   "language": "python",
   "name": "python3"
  },
  "language_info": {
   "codemirror_mode": {
    "name": "ipython",
    "version": 3
   },
   "file_extension": ".py",
   "mimetype": "text/x-python",
   "name": "python",
   "nbconvert_exporter": "python",
   "pygments_lexer": "ipython3",
   "version": "3.7.6"
  },
  "varInspector": {
   "cols": {
    "lenName": 16,
    "lenType": 16,
    "lenVar": 40
   },
   "kernels_config": {
    "python": {
     "delete_cmd_postfix": "",
     "delete_cmd_prefix": "del ",
     "library": "var_list.py",
     "varRefreshCmd": "print(var_dic_list())"
    },
    "r": {
     "delete_cmd_postfix": ") ",
     "delete_cmd_prefix": "rm(",
     "library": "var_list.r",
     "varRefreshCmd": "cat(var_dic_list()) "
    }
   },
   "types_to_exclude": [
    "module",
    "function",
    "builtin_function_or_method",
    "instance",
    "_Feature"
   ],
   "window_display": true
  }
 },
 "nbformat": 4,
 "nbformat_minor": 4
}
