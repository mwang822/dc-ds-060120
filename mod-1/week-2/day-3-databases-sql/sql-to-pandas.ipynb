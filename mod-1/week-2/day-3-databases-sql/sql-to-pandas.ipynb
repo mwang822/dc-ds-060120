{
 "cells": [
  {
   "cell_type": "markdown",
   "metadata": {
    "slideshow": {
     "slide_type": "slide"
    }
   },
   "source": [
    "![sql](img/sql-logo.jpg)\n",
    "\n",
    "# A beginner's guide to databases, SQL, & using them with `pandas`"
   ]
  },
  {
   "cell_type": "markdown",
   "metadata": {
    "slideshow": {
     "slide_type": "slide"
    }
   },
   "source": [
    "**Scenario:** You are a data analyst for the Homeland Security, trying to create reports on the active airports world wide. The data you need to access is in a SQL database. YOu need to be able to query for the data in a database!"
   ]
  },
  {
   "cell_type": "markdown",
   "metadata": {
    "slideshow": {
     "slide_type": "slide"
    }
   },
   "source": [
    "## Learning goals:\n",
    "- Goal 1: Summarize the use case for sql in the data science skill set\n",
    "- Goal 2: Define key sql terminology\n",
    "- Goal 3: Get information about DB schema and table structure\n",
    "- Goal 4: Use basic SQL commands:\n",
    "    - Construct SQL queries\n",
    "    - Use `JOIN` to merge tables along logical columns\n",
    "    - Grouping Data with SQL, inlcuding `HAVING`\n",
    "- Goal 5: Convert SQL to pandas"
   ]
  },
  {
   "cell_type": "markdown",
   "metadata": {
    "slideshow": {
     "slide_type": "slide"
    }
   },
   "source": [
    "## Goal 1: Summarize\n",
    "\n",
    "To date the data we've seen has looked like [this.](https://data.austintexas.gov/Health-and-Community-Services/Austin-Animal-Center-Intakes/wter-evkm)\n",
    "\n",
    "That is how we need data to look to run analysis and build models.<br>\n",
    "But it doesn't _live_ there in it's native state."
   ]
  },
  {
   "cell_type": "markdown",
   "metadata": {
    "slideshow": {
     "slide_type": "slide"
    }
   },
   "source": [
    "[Netflix has a great article](https://medium.com/netflix-techblog/notebook-innovation-591ee3221233) describing three different data roles at their company, their different needs, and their toolsets.\n",
    "\n",
    "![netflix](img/netflix-data-roles.jpeg)\n",
    "\n",
    "Examining that graphic, SQL shows up as one of the tools of the _Data Engineer_ "
   ]
  },
  {
   "cell_type": "markdown",
   "metadata": {
    "slideshow": {
     "slide_type": "slide"
    }
   },
   "source": [
    "Data Engineers provide the essential data architecture services that make data science possible.\n",
    "\n",
    "![hierarchy](img/ai-hierachy.png)\n",
    "\n",
    "[Source: Monica Rogati’s fantastic Medium post “The AI Hierarchy of Needs”\n",
    "](https://hackernoon.com/the-ai-hierarchy-of-needs-18f111fcc007)"
   ]
  },
  {
   "cell_type": "markdown",
   "metadata": {},
   "source": [
    "## What does it mean to **Engineer Data**?\n",
    "\n",
    "Let's start with a basic scenario:<br>\n",
    "You are HR. You have *no* current database. \n",
    "How would you set it up?\n",
    "\n",
    "Data needs considerations:\n",
    "- What you want to store\n",
    "- What \"views\" you anticipate wanting in the future\n",
    "\n",
    "Structure considerations:\n",
    "- Speed of retrieval\n",
    "- How much data you are accessing\n",
    "- How much you are storing"
   ]
  },
  {
   "cell_type": "markdown",
   "metadata": {
    "slideshow": {
     "slide_type": "slide"
    }
   },
   "source": [
    "![etl](img/etl.png)\n",
    "\n",
    "[img source: Jeff Hammerbacher’s slide from UC Berkeley CS 194 course ](https://bcourses.berkeley.edu/courses/1377158/pages/cs-194-16-introduction-to-data-science-fall-2015)"
   ]
  },
  {
   "cell_type": "markdown",
   "metadata": {
    "slideshow": {
     "slide_type": "slide"
    }
   },
   "source": [
    "### What is a Relational Database? \n",
    "\n",
    "![rdb](img/relational-dbms-model.png)\n",
    "[reference for image ](https://www.studytonight.com/dbms/database-model.php)"
   ]
  },
  {
   "cell_type": "markdown",
   "metadata": {
    "slideshow": {
     "slide_type": "slide"
    }
   },
   "source": [
    "### POPULAR RDBMS\n",
    "\n",
    "- SQLite\n",
    "- MySQL\n",
    "- PostgreSql\n",
    "- Oracle DB\n",
    "- SQL Server"
   ]
  },
  {
   "cell_type": "markdown",
   "metadata": {},
   "source": [
    "***\n",
    "### SQL\n",
    "\n",
    "[History of SQL](https://www.businessnewsdaily.com/5804-what-is-sql.html)\n",
    "\n",
    "> Future users of large data banks must be protected from having to know how the data is organized in the machine (the internal representation). A prompting service which supplies such information is not a satisfactory solution. Activities of users at terminals and most application programs should remain unaffected when the internal representation of data is changed and even when some aspects of the external representation are changed. Changes in data representation will often be needed as a result of changes in query, update, and report traffic and natural growth in the types of stored information.\n",
    ".\n",
    ".\n",
    ".<br>\n",
    "<br>\n",
    "In Section 1 a relational model of data is proposed as a basis for protecting users of formatted data systems from the potentially disruptive changes in data representation caused by growth in the data bank and changes in traffic.\n",
    "\n",
    "[The original SQL paper from the 1970s.](https://www.seas.upenn.edu/~zives/03f/cis550/codd.pdf)"
   ]
  },
  {
   "cell_type": "markdown",
   "metadata": {
    "slideshow": {
     "slide_type": "slide"
    }
   },
   "source": [
    "***\n",
    "## Goal 2: Database terminology\n",
    "\n",
    "### Relational Database Schema\n",
    "\n",
    "![schema](img/MySQL_Schema_Music_Example.png)\n",
    "\n",
    "[source of image](https://database.guide/what-is-a-database-schema/)"
   ]
  },
  {
   "cell_type": "markdown",
   "metadata": {
    "slideshow": {
     "slide_type": "slide"
    }
   },
   "source": [
    "***\n",
    "### SQLite\n",
    "\n",
    "<img src=\"img/SQLite-Python.jpg\" width=500>\n",
    "\n",
    "\"SQLite is a C library that provides a lightweight disk-based database that doesn’t require a separate server process and allows accessing the database using a nonstandard variant of the SQL query language. Some applications can use SQLite for internal data storage. It’s also possible to prototype an application using SQLite and then port the code to a larger database such as PostgreSQL or Oracle.\" - [sqlite documentation](https://docs.python.org/2/library/sqlite3.html)\n",
    "\n"
   ]
  },
  {
   "cell_type": "markdown",
   "metadata": {
    "slideshow": {
     "slide_type": "slide"
    }
   },
   "source": [
    "## But what about connecting to database servers?\n",
    "\n",
    "To connect to other database types there are many different libraries:\n",
    "- Oracle: [cx_Oracle](https://oracle.github.io/python-cx_Oracle/)\n",
    "- MySQL: [MySQL-python](https://github.com/farcepest/MySQLdb1)\n",
    "- PostgreSQL: [Psycopg2](http://initd.org/psycopg/docs/)\n",
    "- Microsoft SQL Server: [pymssql](http://www.pymssql.org/en/stable/)\n",
    "\n",
    "These all implement [PEP 249: DB API v2](https://www.python.org/dev/peps/pep-0249/)"
   ]
  },
  {
   "cell_type": "markdown",
   "metadata": {
    "slideshow": {
     "slide_type": "slide"
    }
   },
   "source": [
    "### The Structure of a SQL Query"
   ]
  },
  {
   "cell_type": "markdown",
   "metadata": {
    "slideshow": {
     "slide_type": "slide"
    }
   },
   "source": [
    "<img src='img/sql_statement.jpg'/>"
   ]
  },
  {
   "cell_type": "markdown",
   "metadata": {
    "slideshow": {
     "slide_type": "slide"
    }
   },
   "source": [
    "***\n",
    "## Goal 3: Get going with sqlite!"
   ]
  },
  {
   "cell_type": "code",
   "execution_count": null,
   "metadata": {
    "slideshow": {
     "slide_type": "fragment"
    }
   },
   "outputs": [],
   "source": [
    "import sqlite3"
   ]
  },
  {
   "cell_type": "markdown",
   "metadata": {
    "slideshow": {
     "slide_type": "slide"
    }
   },
   "source": [
    "#### Load a DB object with `connect` and `cursor`"
   ]
  },
  {
   "cell_type": "code",
   "execution_count": null,
   "metadata": {
    "slideshow": {
     "slide_type": "fragment"
    }
   },
   "outputs": [],
   "source": [
    "con = sqlite3.connect('data/flights.db')\n",
    "cursor = con.cursor()"
   ]
  },
  {
   "cell_type": "markdown",
   "metadata": {
    "slideshow": {
     "slide_type": "slide"
    }
   },
   "source": [
    "#### Use sqlite_master to find all the tables in the schema\n",
    "Get the schema of a database from a db in sqlite"
   ]
  },
  {
   "cell_type": "code",
   "execution_count": null,
   "metadata": {},
   "outputs": [],
   "source": [
    "cursor.execute(\"SELECT name FROM sqlite_master WHERE type='table';\")\n",
    "print(cursor.fetchall())"
   ]
  },
  {
   "cell_type": "code",
   "execution_count": null,
   "metadata": {},
   "outputs": [],
   "source": [
    "cursor.description"
   ]
  },
  {
   "cell_type": "code",
   "execution_count": null,
   "metadata": {},
   "outputs": [],
   "source": [
    "cursor.execute(\"SELECT name, type FROM sqlite_master;\")\n",
    "print(cursor.fetchall())"
   ]
  },
  {
   "cell_type": "code",
   "execution_count": null,
   "metadata": {},
   "outputs": [],
   "source": [
    "cursor.execute(\"SELECT * FROM sqlite_master;\")\n",
    "results = cursor.fetchall()\n",
    "for res in results:\n",
    "    print(res)"
   ]
  },
  {
   "cell_type": "markdown",
   "metadata": {
    "slideshow": {
     "slide_type": "slide"
    }
   },
   "source": [
    "#### Get information about one table\n",
    "\n",
    "**A note about** `execute`<br>\n",
    "Each time you use it, you reset the value of cursor"
   ]
  },
  {
   "cell_type": "code",
   "execution_count": null,
   "metadata": {},
   "outputs": [],
   "source": [
    "cursor.execute(\"SELECT * FROM airports as a\").fetchone()"
   ]
  },
  {
   "cell_type": "code",
   "execution_count": null,
   "metadata": {},
   "outputs": [],
   "source": [
    "cursor.fetchone()"
   ]
  },
  {
   "cell_type": "code",
   "execution_count": null,
   "metadata": {},
   "outputs": [],
   "source": [
    "cursor.fetchmany(4)"
   ]
  },
  {
   "cell_type": "markdown",
   "metadata": {
    "slideshow": {
     "slide_type": "slide"
    }
   },
   "source": [
    "#### Use description"
   ]
  },
  {
   "cell_type": "code",
   "execution_count": null,
   "metadata": {
    "slideshow": {
     "slide_type": "fragment"
    }
   },
   "outputs": [],
   "source": [
    "cursor.description"
   ]
  },
  {
   "cell_type": "markdown",
   "metadata": {
    "slideshow": {
     "slide_type": "slide"
    }
   },
   "source": [
    "#### Or use `Pragma`\n",
    "`Pragma` tool [link here](https://www.sqlite.org/pragma.html#pragma_table_info)\n",
    "\n",
    "**output**<br>\n",
    "`(column id, column name, data type, whether or not the column can be NULL, and the default value for the column)`"
   ]
  },
  {
   "cell_type": "code",
   "execution_count": null,
   "metadata": {
    "slideshow": {
     "slide_type": "slide"
    }
   },
   "outputs": [],
   "source": [
    "cursor.execute(\"PRAGMA table_info(airports)\")\n",
    "info = cursor.fetchall()\n",
    "print(*info, sep = \"\\n\") "
   ]
  },
  {
   "cell_type": "markdown",
   "metadata": {
    "slideshow": {
     "slide_type": "slide"
    }
   },
   "source": [
    "#### Making fetch happen\n",
    "\n",
    "`.fetchall()` is how you get the query results out of the object.\n",
    "\n",
    "You can also `.fetchone()` or `.fetchmany()`"
   ]
  },
  {
   "cell_type": "markdown",
   "metadata": {
    "slideshow": {
     "slide_type": "slide"
    }
   },
   "source": [
    "**Task:** Get the descriptive data for airlines and routes tables"
   ]
  },
  {
   "cell_type": "code",
   "execution_count": null,
   "metadata": {},
   "outputs": [],
   "source": [
    "cursor.execute(\"PRAGMA table_info(airlines)\")\n",
    "info = cursor.fetchall()\n",
    "print(*info, sep = \"\\n\")"
   ]
  },
  {
   "cell_type": "code",
   "execution_count": null,
   "metadata": {},
   "outputs": [],
   "source": [
    "cursor.execute(\"PRAGMA table_info(routes)\")\n",
    "info = cursor.fetchall()\n",
    "print(*info, sep = \"\\n\")"
   ]
  },
  {
   "cell_type": "markdown",
   "metadata": {
    "slideshow": {
     "slide_type": "slide"
    }
   },
   "source": [
    "***\n",
    "## Goal 4: Use basic SQL commands \n",
    "- Construct SQL queries\n",
    "- Use JOIN to merge tables along logical columns\n",
    "- Grouping Data with SQL"
   ]
  },
  {
   "cell_type": "markdown",
   "metadata": {
    "slideshow": {
     "slide_type": "slide"
    }
   },
   "source": [
    "### Construct SQL queries"
   ]
  },
  {
   "cell_type": "markdown",
   "metadata": {
    "slideshow": {
     "slide_type": "fragment"
    }
   },
   "source": [
    "**Select**"
   ]
  },
  {
   "cell_type": "markdown",
   "metadata": {
    "slideshow": {
     "slide_type": "fragment"
    }
   },
   "source": [
    "**From**"
   ]
  },
  {
   "cell_type": "markdown",
   "metadata": {
    "slideshow": {
     "slide_type": "fragment"
    }
   },
   "source": [
    "**Where**"
   ]
  },
  {
   "cell_type": "markdown",
   "metadata": {
    "slideshow": {
     "slide_type": "fragment"
    }
   },
   "source": [
    "**Order by**"
   ]
  },
  {
   "cell_type": "markdown",
   "metadata": {
    "slideshow": {
     "slide_type": "fragment"
    }
   },
   "source": [
    "**Limit**"
   ]
  },
  {
   "cell_type": "markdown",
   "metadata": {
    "slideshow": {
     "slide_type": "slide"
    }
   },
   "source": [
    "#### Options for each:"
   ]
  },
  {
   "cell_type": "markdown",
   "metadata": {
    "slideshow": {
     "slide_type": "fragment"
    }
   },
   "source": [
    "**Select**:  `distinct`, using `as` to rename columns, single number aggregates"
   ]
  },
  {
   "cell_type": "markdown",
   "metadata": {
    "slideshow": {
     "slide_type": "fragment"
    }
   },
   "source": [
    "**From:** also uses aliasing with `as`"
   ]
  },
  {
   "cell_type": "markdown",
   "metadata": {
    "slideshow": {
     "slide_type": "fragment"
    }
   },
   "source": [
    "**Where**: equals is only one `=`, `between`, `in`, wildcards `%`, `AND`, `OR`, `NOT`"
   ]
  },
  {
   "cell_type": "markdown",
   "metadata": {
    "slideshow": {
     "slide_type": "fragment"
    }
   },
   "source": [
    "**Order by**: `asc` and `desc`"
   ]
  },
  {
   "cell_type": "markdown",
   "metadata": {
    "slideshow": {
     "slide_type": "fragment"
    }
   },
   "source": [
    "**Limit**:  #"
   ]
  },
  {
   "cell_type": "markdown",
   "metadata": {
    "slideshow": {
     "slide_type": "slide"
    }
   },
   "source": [
    "**Task**: \n",
    "- Select only active airlines in the UK from the airlines table\n",
    "- Select the unique list of countries with airports"
   ]
  },
  {
   "cell_type": "code",
   "execution_count": null,
   "metadata": {},
   "outputs": [],
   "source": [
    "cursor.execute(\"\"\"\n",
    "SELECT name\n",
    "FROM airlines\n",
    "WHERE active = 'Y'\n",
    "  AND country = 'United Kingdom';\n",
    "\"\"\")\n",
    "cursor.fetchmany(5)"
   ]
  },
  {
   "cell_type": "markdown",
   "metadata": {
    "slideshow": {
     "slide_type": "slide"
    }
   },
   "source": [
    "### SQL Joins"
   ]
  },
  {
   "cell_type": "markdown",
   "metadata": {
    "slideshow": {
     "slide_type": "fragment"
    }
   },
   "source": [
    "SQL joins can be used to both **add** data to a table and **remove** data from a table. "
   ]
  },
  {
   "cell_type": "markdown",
   "metadata": {
    "slideshow": {
     "slide_type": "fragment"
    }
   },
   "source": [
    "<img src=\"img/venn.png\" width=550>"
   ]
  },
  {
   "cell_type": "markdown",
   "metadata": {
    "slideshow": {
     "slide_type": "slide"
    }
   },
   "source": [
    "**Task** Write a query that will join the latitude and longitude data from the airports table to the information on the routes table"
   ]
  },
  {
   "cell_type": "code",
   "execution_count": null,
   "metadata": {
    "slideshow": {
     "slide_type": "skip"
    }
   },
   "outputs": [],
   "source": [
    "cursor.execute(\"\"\"\n",
    "SELECT *\n",
    "FROM airports\n",
    "\"\"\")\n",
    "print(*cursor.description, sep='\\n')"
   ]
  },
  {
   "cell_type": "markdown",
   "metadata": {
    "slideshow": {
     "slide_type": "slide"
    }
   },
   "source": [
    "### Grouping statements\n",
    "\n",
    "Combines `select` and `group by` when you want aggregates by values"
   ]
  },
  {
   "cell_type": "markdown",
   "metadata": {
    "slideshow": {
     "slide_type": "fragment"
    }
   },
   "source": [
    "`select` `min(x)` ... `max()`, `sum()`, etc"
   ]
  },
  {
   "cell_type": "markdown",
   "metadata": {
    "slideshow": {
     "slide_type": "fragment"
    }
   },
   "source": [
    "`group by x`"
   ]
  },
  {
   "cell_type": "markdown",
   "metadata": {
    "slideshow": {
     "slide_type": "slide"
    }
   },
   "source": [
    "**Task**<br>\n",
    "- Which countries have the highest amount of active airlines?\n",
    "- Which countries have the highest amount of inactive airlines?\n",
    "- What about airports by timezones?"
   ]
  },
  {
   "cell_type": "code",
   "execution_count": null,
   "metadata": {
    "slideshow": {
     "slide_type": "skip"
    }
   },
   "outputs": [],
   "source": [
    "# Which countries have the highest amount of active airports?\n",
    "cursor.execute(\"\"\"\n",
    "-- your code here;\n",
    "\"\"\")\n",
    "print(*cursor.fetchall(), sep='\\n')"
   ]
  },
  {
   "cell_type": "code",
   "execution_count": null,
   "metadata": {
    "slideshow": {
     "slide_type": "skip"
    }
   },
   "outputs": [],
   "source": [
    "# Which countries have the highest amount of inactive airports?\n",
    "cursor.execute(\"\"\"\n",
    "-- your code here;\n",
    "\"\"\")\n",
    "print(*cursor.fetchall(), sep='\\n')"
   ]
  },
  {
   "cell_type": "code",
   "execution_count": null,
   "metadata": {
    "slideshow": {
     "slide_type": "skip"
    }
   },
   "outputs": [],
   "source": [
    "# What about airports by timezones?\n",
    "cursor.execute(\"\"\"\n",
    "-- your code here;\"\"\")\n",
    "print(*cursor.fetchall(), sep='\\n')"
   ]
  },
  {
   "cell_type": "code",
   "execution_count": null,
   "metadata": {},
   "outputs": [],
   "source": [
    "# It's always a good idea to close our connections when we're done\n",
    "cursor.close()\n",
    "con.close()"
   ]
  },
  {
   "cell_type": "markdown",
   "metadata": {
    "slideshow": {
     "slide_type": "slide"
    }
   },
   "source": [
    "## Goal 5: Transfering from sqlite to pandas"
   ]
  },
  {
   "cell_type": "code",
   "execution_count": null,
   "metadata": {
    "slideshow": {
     "slide_type": "fragment"
    }
   },
   "outputs": [],
   "source": [
    "pd_con = sqlite3.connect(\"flights.db\")\n",
    "df = pd.read_sql_query(\"select * from airports limit 5;\", pd_con)\n",
    "df"
   ]
  },
  {
   "cell_type": "markdown",
   "metadata": {
    "slideshow": {
     "slide_type": "slide"
    }
   },
   "source": [
    "**Task**: \n",
    "Convert one of the earlier queries in the lesson to a pandas data frame"
   ]
  },
  {
   "cell_type": "code",
   "execution_count": null,
   "metadata": {},
   "outputs": [],
   "source": [
    "# Which countries have the highest amount of active airports?\n",
    "sql = '''\n",
    "-- YOUR CODE HERE\n",
    "'''\n",
    "pd.read_sql_query(sql, conn)"
   ]
  },
  {
   "cell_type": "code",
   "execution_count": null,
   "metadata": {},
   "outputs": [],
   "source": [
    "pd_con.close()"
   ]
  },
  {
   "cell_type": "markdown",
   "metadata": {
    "slideshow": {
     "slide_type": "slide"
    }
   },
   "source": [
    "## Integration\n",
    "\n",
    "The [Chinook database](https://github.com/lerocha/chinook-database) is a sample database, representing a digital media store.\n",
    "\n",
    "You need to create a query that can rank tracks in term of popularity.\n",
    "\n",
    "The name of the database is `Chinook_Sqlite.sqlite`"
   ]
  },
  {
   "cell_type": "markdown",
   "metadata": {
    "slideshow": {
     "slide_type": "slide"
    }
   },
   "source": [
    "Database information:<br>\n",
    "- How many tables are in the database?\n",
    "- What's the primary key of each table?\n",
    "- What foreign keys join the tables together?\n",
    "- If you had to draw a schema of how the tables are connected, what would it look like?"
   ]
  },
  {
   "cell_type": "markdown",
   "metadata": {
    "slideshow": {
     "slide_type": "slide"
    }
   },
   "source": [
    "To answer the question:<br>\n",
    "- What are the max and min dates in the Invoice table?\n",
    "- What tables would you need to answer \"what is your most popular track?\"\n",
    "- What values from each table?"
   ]
  },
  {
   "cell_type": "code",
   "execution_count": null,
   "metadata": {
    "slideshow": {
     "slide_type": "skip"
    }
   },
   "outputs": [],
   "source": [
    "conn = sqlite3.connect('data/Chinook_Sqlite.sqlite')\n",
    "cur = conn.cursor()"
   ]
  },
  {
   "cell_type": "code",
   "execution_count": null,
   "metadata": {},
   "outputs": [],
   "source": [
    "# How many tables are in the database?\n",
    "\n",
    "# your code here"
   ]
  },
  {
   "cell_type": "code",
   "execution_count": null,
   "metadata": {},
   "outputs": [],
   "source": [
    "# What's the primary key of each table?\n",
    "\n",
    "# your code here"
   ]
  },
  {
   "cell_type": "code",
   "execution_count": null,
   "metadata": {},
   "outputs": [],
   "source": [
    "# What foreign keys join the tables together?\n",
    "\n",
    "# your code here\n",
    "# hint: use \"PRAGMA foreign_key_list()\"\n"
   ]
  },
  {
   "cell_type": "code",
   "execution_count": null,
   "metadata": {},
   "outputs": [],
   "source": [
    "# What are the max and min dates in the Invoice table?\n",
    "sql = '''\n",
    "-- YOUR CODE HERE\n",
    "'''\n",
    "pd.read_sql_query(sql, conn)"
   ]
  },
  {
   "cell_type": "code",
   "execution_count": null,
   "metadata": {},
   "outputs": [],
   "source": [
    "# What tables would you need to answer \"what is your most popular track?\"\n"
   ]
  },
  {
   "cell_type": "code",
   "execution_count": null,
   "metadata": {},
   "outputs": [],
   "source": [
    "# What values from each table?\n"
   ]
  },
  {
   "cell_type": "code",
   "execution_count": null,
   "metadata": {},
   "outputs": [],
   "source": [
    "# Put it all together:\n",
    "# You need to create a query that can rank tracks in term of popularity.\n",
    "\n",
    "sql = '''\n",
    "-- YOUR CODE HERE\n",
    "'''\n",
    "pd.read_sql_query(sql, conn)"
   ]
  },
  {
   "cell_type": "code",
   "execution_count": null,
   "metadata": {},
   "outputs": [],
   "source": [
    "# Advanced: get the artist who sang the song!\n",
    "sql = '''\n",
    "-- YOUR CODE HERE\n",
    "'''\n",
    "pd.read_sql_query(sql, conn)"
   ]
  },
  {
   "cell_type": "markdown",
   "metadata": {
    "slideshow": {
     "slide_type": "slide"
    }
   },
   "source": [
    "#### GROUP BY"
   ]
  },
  {
   "cell_type": "markdown",
   "metadata": {
    "slideshow": {
     "slide_type": "slide"
    }
   },
   "source": [
    "- Group columns by similar values\n",
    "- SELECT COUNT(id), city from students GROUP BY city"
   ]
  },
  {
   "cell_type": "markdown",
   "metadata": {
    "slideshow": {
     "slide_type": "slide"
    }
   },
   "source": [
    "#### HAVING"
   ]
  },
  {
   "cell_type": "markdown",
   "metadata": {
    "slideshow": {
     "slide_type": "slide"
    }
   },
   "source": [
    "- Use to apply filter AFTER a `GROUP BY` based on aggregate criteria \n",
    "- `WHERE` is applied for conditions prior to the `GROUP BY`, `HAVING` is applied afterwards\n",
    "\n",
    "For example, if we had a table of student names and the courses they were taking, we could ask a question such as which classes have 3 or more students with the name Matt?\n",
    "\n",
    "Such a query would look something like this:\n",
    "\n",
    "```SQL\n",
    "SELECT\n",
    "  class,\n",
    "  COUNT(student_name) AS number_of_alexes\n",
    "FROM student_courses\n",
    "WHERE student_name = \"Alex\"\n",
    "GROUP BY 1\n",
    "HAVING COUNT(student_name) >= 2;\n",
    "```"
   ]
  },
  {
   "cell_type": "code",
   "execution_count": null,
   "metadata": {
    "slideshow": {
     "slide_type": "slide"
    }
   },
   "outputs": [],
   "source": [
    "conn = sqlite3.connect('data/tutorial.db')\n",
    "c = conn.cursor()"
   ]
  },
  {
   "cell_type": "code",
   "execution_count": null,
   "metadata": {
    "scrolled": true,
    "slideshow": {
     "slide_type": "slide"
    }
   },
   "outputs": [],
   "source": [
    "columns = [x[0] for x in c.execute('select * from students').description]"
   ]
  },
  {
   "cell_type": "code",
   "execution_count": null,
   "metadata": {
    "scrolled": true,
    "slideshow": {
     "slide_type": "slide"
    }
   },
   "outputs": [],
   "source": [
    "columns"
   ]
  },
  {
   "cell_type": "markdown",
   "metadata": {
    "slideshow": {
     "slide_type": "slide"
    }
   },
   "source": [
    "### Questions\n",
    "1. What are the names of all of the students?\n",
    "2. Which student has the most siblings?\n",
    "3. How many students are only children?\n",
    "4. Which 3 students have lived in NYC the shortest amount of time?\n",
    "5. How many students are native New Yorkers?\n",
    "6. Do any two students have the same favorite food?\n"
   ]
  },
  {
   "cell_type": "markdown",
   "metadata": {
    "slideshow": {
     "slide_type": "notes"
    }
   },
   "source": [
    "1. What are the names of all of the students."
   ]
  },
  {
   "cell_type": "code",
   "execution_count": null,
   "metadata": {},
   "outputs": [],
   "source": [
    "sql = '''\n",
    "-- YOUR CODE HERE\n",
    "'''\n",
    "pd.read_sql_query(sql, conn)"
   ]
  },
  {
   "cell_type": "markdown",
   "metadata": {
    "slideshow": {
     "slide_type": "notes"
    }
   },
   "source": [
    "2. Which student has the most siblings?"
   ]
  },
  {
   "cell_type": "code",
   "execution_count": null,
   "metadata": {
    "slideshow": {
     "slide_type": "notes"
    }
   },
   "outputs": [],
   "source": [
    "sql = '''\n",
    "-- YOUR CODE HERE\n",
    "'''\n",
    "pd.read_sql_query(sql, conn)"
   ]
  },
  {
   "cell_type": "markdown",
   "metadata": {
    "slideshow": {
     "slide_type": "notes"
    }
   },
   "source": [
    "3. How many students are only children?"
   ]
  },
  {
   "cell_type": "code",
   "execution_count": null,
   "metadata": {
    "slideshow": {
     "slide_type": "notes"
    }
   },
   "outputs": [],
   "source": [
    "sql = '''\n",
    "-- YOUR CODE HERE\n",
    "'''\n",
    "pd.read_sql_query(sql, conn)"
   ]
  },
  {
   "cell_type": "markdown",
   "metadata": {
    "slideshow": {
     "slide_type": "notes"
    }
   },
   "source": [
    "4. Which 3 students have lived in NYC the shortest amount of time? (How long has each lived in NYC?)\n",
    "    "
   ]
  },
  {
   "cell_type": "code",
   "execution_count": null,
   "metadata": {
    "slideshow": {
     "slide_type": "notes"
    }
   },
   "outputs": [],
   "source": [
    "sql = '''\n",
    "-- YOUR CODE HERE\n",
    "'''\n",
    "pd.read_sql_query(sql, conn)"
   ]
  },
  {
   "cell_type": "markdown",
   "metadata": {
    "slideshow": {
     "slide_type": "notes"
    }
   },
   "source": [
    "5. How many students are native New Yorkers?"
   ]
  },
  {
   "cell_type": "code",
   "execution_count": null,
   "metadata": {
    "slideshow": {
     "slide_type": "notes"
    }
   },
   "outputs": [],
   "source": [
    "sql = '''\n",
    "-- YOUR CODE HERE\n",
    "'''\n",
    "pd.read_sql_query(sql, conn)"
   ]
  },
  {
   "cell_type": "markdown",
   "metadata": {
    "slideshow": {
     "slide_type": "notes"
    }
   },
   "source": [
    "6. Do any two students have the same favorite food?\n",
    "\n",
    "This problem employs the `Having` clause.  Be sure to review the difference between the where and having clause here. (Where filters apply before the group by clause and conditions following the having clause are filters applied after the group by on the resulting aggregate [statistics].) A useful example in doing so, could be to modify the question to something with an additional filtering criterion such as 'do any native new yorkers have the same favorite food?' This would force students to use a where clause prior to the group by to filter the results. Alternatively, see the question below for an alternative but related problem on favorite foods."
   ]
  },
  {
   "cell_type": "code",
   "execution_count": null,
   "metadata": {
    "slideshow": {
     "slide_type": "notes"
    }
   },
   "outputs": [],
   "source": [
    "sql = '''\n",
    "-- YOUR CODE HERE\n",
    "'''\n",
    "pd.read_sql_query(sql, conn)"
   ]
  },
  {
   "cell_type": "markdown",
   "metadata": {
    "slideshow": {
     "slide_type": "notes"
    }
   },
   "source": [
    "## More Questions"
   ]
  },
  {
   "cell_type": "markdown",
   "metadata": {
    "slideshow": {
     "slide_type": "notes"
    }
   },
   "source": [
    "What are the favorite foods of this classroom?"
   ]
  },
  {
   "cell_type": "code",
   "execution_count": null,
   "metadata": {
    "slideshow": {
     "slide_type": "notes"
    }
   },
   "outputs": [],
   "source": [
    "sql = '''\n",
    "-- YOUR CODE HERE\n",
    "'''\n",
    "pd.read_sql_query(sql, conn)"
   ]
  },
  {
   "cell_type": "markdown",
   "metadata": {
    "slideshow": {
     "slide_type": "notes"
    }
   },
   "source": [
    "Which student was born closest to the cohort's graduation date (5/29/20)?"
   ]
  },
  {
   "cell_type": "code",
   "execution_count": null,
   "metadata": {
    "slideshow": {
     "slide_type": "notes"
    }
   },
   "outputs": [],
   "source": [
    "sql = '''\n",
    "-- YOUR CODE HERE\n",
    "'''\n",
    "pd.read_sql_query(sql, conn)"
   ]
  },
  {
   "cell_type": "code",
   "execution_count": null,
   "metadata": {},
   "outputs": [],
   "source": []
  }
 ],
 "metadata": {
  "kernelspec": {
   "display_name": "Python 3",
   "language": "python",
   "name": "python3"
  },
  "language_info": {
   "codemirror_mode": {
    "name": "ipython",
    "version": 3
   },
   "file_extension": ".py",
   "mimetype": "text/x-python",
   "name": "python",
   "nbconvert_exporter": "python",
   "pygments_lexer": "ipython3",
   "version": "3.7.6"
  },
  "toc": {
   "base_numbering": 1,
   "nav_menu": {},
   "number_sections": true,
   "sideBar": true,
   "skip_h1_title": false,
   "title_cell": "Table of Contents",
   "title_sidebar": "Contents",
   "toc_cell": false,
   "toc_position": {},
   "toc_section_display": true,
   "toc_window_display": false
  }
 },
 "nbformat": 4,
 "nbformat_minor": 4
}
