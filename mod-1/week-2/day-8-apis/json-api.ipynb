{
 "cells": [
  {
   "cell_type": "markdown",
   "metadata": {},
   "source": [
    "# Using APIs and JSON Data"
   ]
  },
  {
   "cell_type": "markdown",
   "metadata": {},
   "source": [
    "## Objectives\n",
    "You will be able to:\n",
    "* Access and manipulate data inside a JSON file\n",
    "* Pull data from an API and parse/transform the data"
   ]
  },
  {
   "cell_type": "markdown",
   "metadata": {},
   "source": [
    "## Agenda\n",
    "\n",
    "* Review JSON Schemas\n",
    "* Introduce APIs.\n",
    "* Walk through how to make an API request. \n",
    "* Practice making API requests and Parsing the data.\n"
   ]
  },
  {
   "cell_type": "markdown",
   "metadata": {},
   "source": [
    "### What is the difference between a JSON and a python dictionary?"
   ]
  },
  {
   "cell_type": "markdown",
   "metadata": {},
   "source": [
    "## Loading the JSON file\n",
    "\n",
    "As before, we begin by importing the json package, opening a file with python's built in function, and then loading that data in."
   ]
  },
  {
   "cell_type": "code",
   "execution_count": 1,
   "metadata": {},
   "outputs": [],
   "source": [
    "import json\n",
    "f = open('data/output.json')\n",
    "data = json.load(f)"
   ]
  },
  {
   "cell_type": "markdown",
   "metadata": {},
   "source": [
    "## Exploring JSON Schemas  \n",
    "\n",
    "Recall that JSON files have a nested structure. The most granular level of raw data will be individual numbers (float/int) and strings. These in turn will be stored in the equivalent of python lists and dictionaries. Because these can be combined, we'll start exploring by checking the type of our root object, and start mapping out the hierarchy of the json file."
   ]
  },
  {
   "cell_type": "code",
   "execution_count": 2,
   "metadata": {},
   "outputs": [
    {
     "data": {
      "text/plain": [
       "dict"
      ]
     },
     "execution_count": 2,
     "metadata": {},
     "output_type": "execute_result"
    }
   ],
   "source": [
    "type(data)"
   ]
  },
  {
   "cell_type": "code",
   "execution_count": 4,
   "metadata": {},
   "outputs": [
    {
     "data": {
      "text/plain": [
       "{'albums': {'href': 'https://api.spotify.com/v1/browse/new-releases?country=SE&offset=0&limit=20',\n",
       "  'items': [{'album_type': 'single',\n",
       "    'artists': [{'external_urls': {'spotify': 'https://open.spotify.com/artist/2RdwBSPQiwcmiDo9kixcl8'},\n",
       "      'href': 'https://api.spotify.com/v1/artists/2RdwBSPQiwcmiDo9kixcl8',\n",
       "      'id': '2RdwBSPQiwcmiDo9kixcl8',\n",
       "      'name': 'Pharrell Williams',\n",
       "      'type': 'artist',\n",
       "      'uri': 'spotify:artist:2RdwBSPQiwcmiDo9kixcl8'}],\n",
       "    'available_markets': ['AD',\n",
       "     'AR',\n",
       "     'AT',\n",
       "     'AU',\n",
       "     'BE',\n",
       "     'BG',\n",
       "     'BO',\n",
       "     'BR',\n",
       "     'CA',\n",
       "     'CH',\n",
       "     'CL',\n",
       "     'CO',\n",
       "     'CR',\n",
       "     'CY',\n",
       "     'CZ',\n",
       "     'DE',\n",
       "     'DK',\n",
       "     'DO',\n",
       "     'EC',\n",
       "     'EE',\n",
       "     'ES',\n",
       "     'FI',\n",
       "     'FR',\n",
       "     'GB',\n",
       "     'GR',\n",
       "     'GT',\n",
       "     'HK',\n",
       "     'HN',\n",
       "     'HU',\n",
       "     'ID',\n",
       "     'IE',\n",
       "     'IS',\n",
       "     'IT',\n",
       "     'JP',\n",
       "     'LI',\n",
       "     'LT',\n",
       "     'LU',\n",
       "     'LV',\n",
       "     'MC',\n",
       "     'MT',\n",
       "     'MX',\n",
       "     'MY',\n",
       "     'NI',\n",
       "     'NL',\n",
       "     'NO',\n",
       "     'NZ',\n",
       "     'PA',\n",
       "     'PE',\n",
       "     'PH',\n",
       "     'PL',\n",
       "     'PT',\n",
       "     'PY',\n",
       "     'SE',\n",
       "     'SG',\n",
       "     'SK',\n",
       "     'SV',\n",
       "     'TR',\n",
       "     'TW',\n",
       "     'US',\n",
       "     'UY'],\n",
       "    'external_urls': {'spotify': 'https://open.spotify.com/album/5ZX4m5aVSmWQ5iHAPQpT71'},\n",
       "    'href': 'https://api.spotify.com/v1/albums/5ZX4m5aVSmWQ5iHAPQpT71',\n",
       "    'id': '5ZX4m5aVSmWQ5iHAPQpT71',\n",
       "    'images': [{'height': 640,\n",
       "      'url': 'https://i.scdn.co/image/e6b635ebe3ef4ba22492f5698a7b5d417f78b88a',\n",
       "      'width': 640},\n",
       "     {'height': 300,\n",
       "      'url': 'https://i.scdn.co/image/92ae5b0fe64870c09004dd2e745a4fb1bf7de39d',\n",
       "      'width': 300},\n",
       "     {'height': 64,\n",
       "      'url': 'https://i.scdn.co/image/8a7ab6fc2c9f678308ba0f694ecd5718dc6bc930',\n",
       "      'width': 64}],\n",
       "    'name': \"Runnin'\",\n",
       "    'type': 'album',\n",
       "    'uri': 'spotify:album:5ZX4m5aVSmWQ5iHAPQpT71'},\n",
       "   {'album_type': 'single',\n",
       "    'artists': [{'external_urls': {'spotify': 'https://open.spotify.com/artist/3TVXtAsR1Inumwj472S9r4'},\n",
       "      'href': 'https://api.spotify.com/v1/artists/3TVXtAsR1Inumwj472S9r4',\n",
       "      'id': '3TVXtAsR1Inumwj472S9r4',\n",
       "      'name': 'Drake',\n",
       "      'type': 'artist',\n",
       "      'uri': 'spotify:artist:3TVXtAsR1Inumwj472S9r4'}],\n",
       "    'available_markets': ['AD',\n",
       "     'AR',\n",
       "     'AT',\n",
       "     'AU',\n",
       "     'BE',\n",
       "     'BG',\n",
       "     'BO',\n",
       "     'BR',\n",
       "     'CH',\n",
       "     'CL',\n",
       "     'CO',\n",
       "     'CR',\n",
       "     'CY',\n",
       "     'CZ',\n",
       "     'DE',\n",
       "     'DK',\n",
       "     'DO',\n",
       "     'EC',\n",
       "     'EE',\n",
       "     'ES',\n",
       "     'FI',\n",
       "     'FR',\n",
       "     'GB',\n",
       "     'GR',\n",
       "     'GT',\n",
       "     'HK',\n",
       "     'HN',\n",
       "     'HU',\n",
       "     'ID',\n",
       "     'IE',\n",
       "     'IS',\n",
       "     'IT',\n",
       "     'JP',\n",
       "     'LI',\n",
       "     'LT',\n",
       "     'LU',\n",
       "     'LV',\n",
       "     'MC',\n",
       "     'MT',\n",
       "     'MY',\n",
       "     'NI',\n",
       "     'NL',\n",
       "     'NO',\n",
       "     'NZ',\n",
       "     'PA',\n",
       "     'PE',\n",
       "     'PH',\n",
       "     'PL',\n",
       "     'PT',\n",
       "     'PY',\n",
       "     'SE',\n",
       "     'SG',\n",
       "     'SK',\n",
       "     'SV',\n",
       "     'TR',\n",
       "     'TW',\n",
       "     'UY'],\n",
       "    'external_urls': {'spotify': 'https://open.spotify.com/album/0geTzdk2InlqIoB16fW9Nd'},\n",
       "    'href': 'https://api.spotify.com/v1/albums/0geTzdk2InlqIoB16fW9Nd',\n",
       "    'id': '0geTzdk2InlqIoB16fW9Nd',\n",
       "    'images': [{'height': 640,\n",
       "      'url': 'https://i.scdn.co/image/d40e9c3d22bde2fbdb2ecc03cccd7a0e77f42e4c',\n",
       "      'width': 640},\n",
       "     {'height': 300,\n",
       "      'url': 'https://i.scdn.co/image/dff06a3375f6d9b32ecb081eb9a60bbafecb5731',\n",
       "      'width': 300},\n",
       "     {'height': 64,\n",
       "      'url': 'https://i.scdn.co/image/808a02bd7fc59b0652c9df9f68675edbffe07a79',\n",
       "      'width': 64}],\n",
       "    'name': 'Sneakin’',\n",
       "    'type': 'album',\n",
       "    'uri': 'spotify:album:0geTzdk2InlqIoB16fW9Nd'}],\n",
       "  'limit': 20,\n",
       "  'next': 'https://api.spotify.com/v1/browse/new-releases?country=SE&offset=20&limit=20',\n",
       "  'offset': 0,\n",
       "  'previous': None,\n",
       "  'total': 500}}"
      ]
     },
     "execution_count": 4,
     "metadata": {},
     "output_type": "execute_result"
    }
   ],
   "source": [
    "data"
   ]
  },
  {
   "cell_type": "markdown",
   "metadata": {},
   "source": [
    "As you can see, in this case, the first level of the hierarchy is a dictionary. Let's explore what keys are within this:"
   ]
  },
  {
   "cell_type": "code",
   "execution_count": 13,
   "metadata": {},
   "outputs": [
    {
     "data": {
      "text/plain": [
       "['AD',\n",
       " 'AR',\n",
       " 'AT',\n",
       " 'AU',\n",
       " 'BE',\n",
       " 'BG',\n",
       " 'BO',\n",
       " 'BR',\n",
       " 'CA',\n",
       " 'CH',\n",
       " 'CL',\n",
       " 'CO',\n",
       " 'CR',\n",
       " 'CY',\n",
       " 'CZ',\n",
       " 'DE',\n",
       " 'DK',\n",
       " 'DO',\n",
       " 'EC',\n",
       " 'EE',\n",
       " 'ES',\n",
       " 'FI',\n",
       " 'FR',\n",
       " 'GB',\n",
       " 'GR',\n",
       " 'GT',\n",
       " 'HK',\n",
       " 'HN',\n",
       " 'HU',\n",
       " 'ID',\n",
       " 'IE',\n",
       " 'IS',\n",
       " 'IT',\n",
       " 'JP',\n",
       " 'LI',\n",
       " 'LT',\n",
       " 'LU',\n",
       " 'LV',\n",
       " 'MC',\n",
       " 'MT',\n",
       " 'MX',\n",
       " 'MY',\n",
       " 'NI',\n",
       " 'NL',\n",
       " 'NO',\n",
       " 'NZ',\n",
       " 'PA',\n",
       " 'PE',\n",
       " 'PH',\n",
       " 'PL',\n",
       " 'PT',\n",
       " 'PY',\n",
       " 'SE',\n",
       " 'SG',\n",
       " 'SK',\n",
       " 'SV',\n",
       " 'TR',\n",
       " 'TW',\n",
       " 'US',\n",
       " 'UY']"
      ]
     },
     "execution_count": 13,
     "metadata": {},
     "output_type": "execute_result"
    }
   ],
   "source": [
    "data[\"albums\"][\"items\"][0][\"available_markets\"]"
   ]
  },
  {
   "cell_type": "markdown",
   "metadata": {},
   "source": [
    "In this case, there is only a single key, 'albums', so we'll continue on down the pathway exploring and mapping out the hierarchy. Once again, let's start by checking the type of this nested data structure."
   ]
  },
  {
   "cell_type": "code",
   "execution_count": 14,
   "metadata": {},
   "outputs": [],
   "source": [
    "type(data['albums'])\n",
    "import requests"
   ]
  },
  {
   "cell_type": "markdown",
   "metadata": {},
   "source": [
    "Another dictionary! So thus far, we have a dictionary within a dictionary. Once again, let's investigate what's within this dictionary (JSON calls the equivalent of Python dictionaries Objects.)"
   ]
  },
  {
   "cell_type": "code",
   "execution_count": 10,
   "metadata": {},
   "outputs": [
    {
     "data": {
      "text/plain": [
       "dict_keys(['href', 'items', 'limit', 'next', 'offset', 'previous', 'total'])"
      ]
     },
     "execution_count": 10,
     "metadata": {},
     "output_type": "execute_result"
    }
   ],
   "source": [
    "data['albums'].keys()"
   ]
  },
  {
   "cell_type": "markdown",
   "metadata": {},
   "source": [
    "[jsonlint](https://jsonlint.com/?json=)"
   ]
  },
  {
   "cell_type": "code",
   "execution_count": 19,
   "metadata": {},
   "outputs": [],
   "source": [
    "j = json.dumps(['Murat', 1, {1:2}])"
   ]
  },
  {
   "cell_type": "code",
   "execution_count": 23,
   "metadata": {},
   "outputs": [
    {
     "data": {
      "text/plain": [
       "{'1': 2}"
      ]
     },
     "execution_count": 23,
     "metadata": {},
     "output_type": "execute_result"
    }
   ],
   "source": [
    "json.loads(j)[2]"
   ]
  },
  {
   "cell_type": "code",
   "execution_count": 20,
   "metadata": {},
   "outputs": [
    {
     "data": {
      "text/plain": [
       "list"
      ]
     },
     "execution_count": 20,
     "metadata": {},
     "output_type": "execute_result"
    }
   ],
   "source": [
    "type(json.loads(j))"
   ]
  },
  {
   "cell_type": "markdown",
   "metadata": {},
   "source": [
    "At this point, things are starting to look something like this: \n",
    "<img src=\"images\\json_diagram1.JPG\" width=550>"
   ]
  },
  {
   "cell_type": "markdown",
   "metadata": {},
   "source": [
    "At this point, if we were to continue checking individual data types, we have a lot to go through. To simplify this, let's use a for loop:"
   ]
  },
  {
   "cell_type": "code",
   "execution_count": null,
   "metadata": {},
   "outputs": [],
   "source": [
    "for key in data['albums'].keys():\n",
    "    print(key, type(data['albums'][key]))"
   ]
  },
  {
   "cell_type": "markdown",
   "metadata": {},
   "source": [
    "Adding this to our diagram we now have something like this:\n",
    "<img src=\"images\\json_diagram2.JPG\" width=550>"
   ]
  },
  {
   "cell_type": "markdown",
   "metadata": {},
   "source": [
    "Normally, you may not draw out the full diagram as done here, but its a useful picture to have in mind, and in complex schemas, can be useful to map out. At this point, you also probably have a good idea of the general structure of the json file. However, there is still the list of items, which we could investigate further:"
   ]
  },
  {
   "cell_type": "markdown",
   "metadata": {},
   "source": [
    "## What is an API?"
   ]
  },
  {
   "cell_type": "markdown",
   "metadata": {},
   "source": [
    "**Application Program Interfaces**, or APIs, are commonly used to retrieve data from remote websites. Sites like Reddit, Twitter, and Facebook all offer certain data through their APIs. \n",
    "\n",
    "To use an API, you make a request to a remote web server, and retrieve the data you need."
   ]
  },
  {
   "cell_type": "markdown",
   "metadata": {},
   "source": [
    "Python with two built-in modules, `urllib` and `urllib2` to handle these requests but these could be very confusing  and the documentation is not clear.\n",
    "\n",
    "To make these things simpler, one easy-to-use third-party library, known as` Requests`, is what most developers prefer to use it instead or urllib/urllib2. With this library, you can access content like web page headers, form data, files, and parameters via simple Python commands. It also allows you to access the response data in a simple way."
   ]
  },
  {
   "cell_type": "markdown",
   "metadata": {},
   "source": [
    "![](images\\logo.png)"
   ]
  },
  {
   "cell_type": "code",
   "execution_count": 25,
   "metadata": {},
   "outputs": [],
   "source": [
    "import requests"
   ]
  },
  {
   "cell_type": "markdown",
   "metadata": {},
   "source": [
    "\n",
    "## The `.get()` Method\n",
    "\n",
    "Now we have requests library ready in our working environment, we can start making some requests using the `.get()` method as shown below:\n",
    "\n",
    "\n",
    "We can use a simple GET request to retrieve information from the OpenNotify API.\n",
    "\n",
    "\n",
    "\n",
    "\n",
    "OpenNotify has several API endpoints. An endpoint is a server route that is used to retrieve different data from the API. For example, the /comments endpoint on the Reddit API might retrieve information about comments, whereas the /users endpoint might retrieve data about users. To access them, you would add the endpoint to the base url of the API.\n",
    "\n"
   ]
  },
  {
   "attachments": {
    "image.png": {
     "image/png": "[encoded data removed]"
    }
   },
   "cell_type": "markdown",
   "metadata": {},
   "source": [
    "![image.png](attachment:image.png)"
   ]
  },
  {
   "cell_type": "code",
   "execution_count": 26,
   "metadata": {},
   "outputs": [
    {
     "name": "stdout",
     "output_type": "stream",
     "text": [
      "200\n"
     ]
    }
   ],
   "source": [
    "# Make a get request to get the latest position of the international space station from the opennotify api.\n",
    "response = requests.get(\"http://api.open-notify.org/iss-now.json\")\n",
    "# Print the status code of the response.\n",
    "print(response.status_code)"
   ]
  },
  {
   "cell_type": "code",
   "execution_count": null,
   "metadata": {},
   "outputs": [],
   "source": []
  },
  {
   "cell_type": "markdown",
   "metadata": {},
   "source": [
    "\n",
    "GET is by far the most used HTTP method. We can use GET request to retrieve data from any destination. \n",
    "GET is by far the most used HTTP method. We can use GET request to retrieve data from any destination. \n",
    "\n",
    "## Status Codes\n",
    "The request we make may not be always successful. The best way is to check the status code which gets returned with the response. Here is how you would do this. \n"
   ]
  },
  {
   "cell_type": "code",
   "execution_count": null,
   "metadata": {},
   "outputs": [],
   "source": [
    "# Code here \n",
    "response.status_code == requests.codes.ok"
   ]
  },
  {
   "cell_type": "markdown",
   "metadata": {},
   "source": [
    "So this is a good check to see if our request was successful. Depending on the status of the web server, the access rights of the clients and availibility of requested information. A web server may return a number of status codes within the response. Wikipedia has an exhaustive details on all these codes. [Check them out here](https://en.wikipedia.org/wiki/List_of_HTTP_status_codes)"
   ]
  },
  {
   "cell_type": "markdown",
   "metadata": {},
   "source": [
    "### Common status codes\n",
    "\n",
    "* 200 — everything went okay, and the result has been returned (if any)\n",
    "* 301 — the server is redirecting you to a different endpoint. This can happen when a company switches domain names, or an endpoint name is changed.\n",
    "* 401 — the server thinks you’re not authenticated. This happens when you don’t send the right credentials to access an API (we’ll talk about authentication in a later post).\n",
    "* 400 — the server thinks you made a bad request. This can happen when you don’t send along the right data, among other things.\n",
    "* 403 — the resource you’re trying to access is forbidden — you don’t have the right permissions to see it.\n",
    "* 404 — the resource you tried to access wasn’t found on the server."
   ]
  },
  {
   "cell_type": "markdown",
   "metadata": {},
   "source": [
    "### Hitting the right endpoint\n",
    "iss-pass wasn’t a valid endpoint, so we got a 404 status code in response. We forgot to add `.json` at the end, as the API documentation states.\n",
    "\n",
    "We’ll now make a GET request to http://api.open-notify.org/iss-pass.json."
   ]
  },
  {
   "cell_type": "markdown",
   "metadata": {},
   "source": [
    "\n",
    "## Response Contents\n",
    "Once we know that our request was successful and we have a valid response, we can check the returned information using `.text` property of the response object. \n",
    "```python\n",
    "print (resp.text)\n",
    "```"
   ]
  },
  {
   "cell_type": "code",
   "execution_count": 34,
   "metadata": {},
   "outputs": [
    {
     "data": {
      "text/plain": [
       "<Response [200]>"
      ]
     },
     "execution_count": 34,
     "metadata": {},
     "output_type": "execute_result"
    }
   ],
   "source": [
    "response"
   ]
  },
  {
   "cell_type": "code",
   "execution_count": 35,
   "metadata": {},
   "outputs": [
    {
     "name": "stdout",
     "output_type": "stream",
     "text": [
      "400\n"
     ]
    }
   ],
   "source": [
    "response = requests.get(\"http://api.open-notify.org/iss-pass.json\")\n",
    "print(response.status_code)\n"
   ]
  },
  {
   "cell_type": "code",
   "execution_count": 44,
   "metadata": {},
   "outputs": [
    {
     "name": "stdout",
     "output_type": "stream",
     "text": [
      "{\n",
      "  \"message\": \"success\", \n",
      "  \"request\": {\n",
      "    \"altitude\": 100, \n",
      "    \"datetime\": 1591893627, \n",
      "    \"latitude\": 40.71, \n",
      "    \"longitude\": -74.0, \n",
      "    \"passes\": 5\n",
      "  }, \n",
      "  \"response\": [\n",
      "    {\n",
      "      \"duration\": 569, \n",
      "      \"risetime\": 1591897774\n",
      "    }, \n",
      "    {\n",
      "      \"duration\": 579, \n",
      "      \"risetime\": 1591903639\n",
      "    }, \n",
      "    {\n",
      "      \"duration\": 647, \n",
      "      \"risetime\": 1591909449\n",
      "    }, \n",
      "    {\n",
      "      \"duration\": 597, \n",
      "      \"risetime\": 1591915269\n",
      "    }, \n",
      "    {\n",
      "      \"duration\": 579, \n",
      "      \"risetime\": 1591969652\n",
      "    }\n",
      "  ]\n",
      "}\n",
      "\n"
     ]
    }
   ],
   "source": [
    "# Code here \n",
    "print(response.text)"
   ]
  },
  {
   "cell_type": "markdown",
   "metadata": {},
   "source": [
    "### Query parameters\n",
    "\n",
    "If you look at the documentation for the OpenNotify API, we see that the ISS Pass endpoint requires two parameters.\n",
    "\n",
    "We can do this by adding an optional keyword argument, params, to our request. In this case, there are two parameters we need to pass:\n",
    "\n",
    "* lat — The latitude of the location we want.\n",
    "* lon — The longitude of the location we want.\n",
    "We can make a dictionary with these parameters, and then pass them into the requests.get function.\n",
    "\n",
    "We can also do the same thing directly by adding the query parameters to the url, like this: http://api.open-notify.org/iss-pass.json?lat=40.71&lon=-74.\n",
    "\n",
    "It’s almost always preferable to setup the parameters as a dictionary, because requests takes care of some things that come up, like properly formatting the query parameters.\n",
    "\n",
    "We’ll make a request using the coordinates of New York City, and see what response we get."
   ]
  },
  {
   "cell_type": "code",
   "execution_count": 49,
   "metadata": {},
   "outputs": [
    {
     "name": "stdout",
     "output_type": "stream",
     "text": [
      "b'{\\n  \"message\": \"success\", \\n  \"request\": {\\n    \"altitude\": 100, \\n    \"datetime\": 1591897431, \\n    \"latitude\": 40.71, \\n    \"longitude\": -74.0, \\n    \"passes\": 1\\n  }, \\n  \"response\": [\\n    {\\n      \"duration\": 569, \\n      \"risetime\": 1591897774\\n    }\\n  ]\\n}\\n'\n"
     ]
    }
   ],
   "source": [
    "# Set up the parameters we want to pass to the API.\n",
    "# This is the latitude and longitude of New York City.\n",
    "parameters = {\"lat\": 40.71, \"lon\": -74, 'n': 1}\n",
    "\n",
    "\n",
    "# Make a get request with the parameters.\n",
    "response = requests.get(\"http://api.open-notify.org/iss-pass.json\", params=parameters)\n",
    "\n",
    "\n",
    "# Print the content of the response (the data the server returned)\n",
    "print(response.content)\n",
    "# This gets the same data as the command aboveresponse = requests.get(\"http://api.open-notify.org/iss-pass.json?lat=40.71&lon=-74\")\n"
   ]
  },
  {
   "cell_type": "markdown",
   "metadata": {},
   "source": [
    "So this returns a lot of information which by default is not really human understandable due to data encoding, HTML tags and other styling information that only a web browser can truly translate. In later lessons we shall look at how we can use ** Regular Exprerssions**  to clean this information and extract the required bits and pieces for analysis. \n",
    "\n",
    "## Response Headers\n",
    "The response of an HTTP request can contain many headers that holds different bits of information. We can use `.header` property of the response object to access the header information as shown below:\n"
   ]
  },
  {
   "cell_type": "code",
   "execution_count": 39,
   "metadata": {},
   "outputs": [
    {
     "data": {
      "text/plain": [
       "{'Server': 'nginx/1.10.3',\n",
       " 'Date': 'Thu, 11 Jun 2020 17:23:59 GMT',\n",
       " 'Content-Type': 'application/json',\n",
       " 'Content-Length': '519',\n",
       " 'Connection': 'keep-alive',\n",
       " 'Via': '1.1 vegur'}"
      ]
     },
     "execution_count": 39,
     "metadata": {},
     "output_type": "execute_result"
    }
   ],
   "source": [
    "# Code here \n",
    "dict(response.headers)"
   ]
  },
  {
   "cell_type": "markdown",
   "metadata": {},
   "source": [
    "The content of the headers is our required element. You can see the key-value pairs holding various pieces of  information about the resource and request. Let's try to parse some of these values using the requests library:\n",
    "\n",
    "```python\n",
    "print(resp.headers['Content-Length'])  # length of the response\n",
    "print(resp.headers['Date'])  # Date the response was sent\n",
    "print(resp.headers['server'])   # Server type (google web service - GWS)\n",
    "```"
   ]
  },
  {
   "cell_type": "code",
   "execution_count": 50,
   "metadata": {},
   "outputs": [
    {
     "data": {
      "text/plain": [
       "{'User-Agent': 'python-requests/2.23.0', 'Accept-Encoding': 'gzip, deflate', 'Accept': '*/*', 'Connection': 'keep-alive'}"
      ]
     },
     "execution_count": 50,
     "metadata": {},
     "output_type": "execute_result"
    }
   ],
   "source": [
    "response.request.headers"
   ]
  },
  {
   "cell_type": "markdown",
   "metadata": {},
   "source": [
    "\n",
    "## HTTP POST method \n",
    "\n",
    "Sometimes we need to send one or more files simultaneously to the server. For example, if a user is submitting a form and the form includes different fields for uploading files, like user profile picture, user resume, etc. Requests can handle multiple files on a single request. This can be achieved by putting the files to a list of tuples in the form (`field_name, file_info)`."
   ]
  },
  {
   "cell_type": "code",
   "execution_count": 53,
   "metadata": {},
   "outputs": [
    {
     "name": "stdout",
     "output_type": "stream",
     "text": [
      "{\n",
      "  \"args\": {}, \n",
      "  \"data\": \"\", \n",
      "  \"files\": {\n",
      "    \"image\": \"data:image/png;base64,/9j/4AAQSkZJRgABAQEAYABgAAD/4RDaRXhpZgAATU0AKgAAAAgABAE7AAIAAAAFAAAISodpAAQAAAABAAAIUJydAAEAAAAKAAAQyOocAAcAAAgMAAAAPgAAAAAc6gAAAAgAAAAAAAAAAAAAAAAAAAAAAAAAAAAAAAAAAAAAAAAAAAAAAAAAAAAAAAAAAAAAAAAAAAAAAAAAAAAAAAAAAAAAAAAAAAAAAAAAAAAAAAAAAAAAAAAAAAAAAAAAAAAAAAAAAAAAAAAAAAAAAAAAAAAAAAAAAAAAAAAAAAAAAAAAAAAAAAAAAAAAAAAAAAAAAAAAAAAAAAAAAAAAAAAAAAAAAAAAAAAAAAAAAAAAAAAAAAAAAAAAAAAAAAAAAAAAAAAAAAAAAAAAAAAAAAAAAAAAAAAAAAAAAAAAAAAAAAAAAAAAAAAAAAAAAAAAAAAAAAAAAAAAAAAAAAAAAAAAAAAAAAAAAAAAAAAAAAAAAAAAAAAAAAAAAAAAAAAAAAAAAAAAAAAAAAAAAAAAAAAAAAAAAAAAAAAAAAAAAAAAAAAAAAAAAAAAAAAAAAAAAAAAAAAAAAAAAAAAAAAAAAAAAAAAAAAAAAAAAAAAAAAAAAAAAAAAAAAAAAAAAAAAAAAAAAAAAAAAAAAAAAAAAAAAAAAAAAAAAAAAAAAAAAAAAAAAAAAAAAAAAAAAAAAAAAAAAAAAAAAAAAAAAAAAAAAAAAAAAAAAAAAAAAAAAAAAAAAAAAAAAAAAAAAAAAAAAAAAAAAAAAAAAAAAAAAAAAAAAAAAAAAAAAAAAAAAAAAAAAAAAAAAAAAAAAAAAAAAAAAAAAAAAAAAAAAAAAAAAAAAAAAAAAAAAAAAAAAAAAAAAAAAAAAAAAAAAAAAAAAAAAAAAAAAAAAAAAAAAAAAAAAAAAAAAAAAAAAAAAAAAAAAAAAAAAAAAAAAAAAAAAAAAAAAAAAAAAAAAAAAAAAAAAAAAAAAAAAAAAAAAAAAAAAAAAAAAAAAAAAAAAAAAAAAAAAAAAAAAAAAAAAAAAAAAAAAAAAAAAAAAAAAAAAAAAAAAAAAAAAAAAAAAAAAAAAAAAAAAAAAAAAAAAAAAAAAAAAAAAAAAAAAAAAAAAAAAAAAAAAAAAAAAAAAAAAAAAAAAAAAAAAAAAAAAAAAAAAAAAAAAAAAAAAAAAAAAAAAAAAAAAAAAAAAAAAAAAAAAAAAAAAAAAAAAAAAAAAAAAAAAAAAAAAAAAAAAAAAAAAAAAAAAAAAAAAAAAAAAAAAAAAAAAAAAAAAAAAAAAAAAAAAAAAAAAAAAAAAAAAAAAAAAAAAAAAAAAAAAAAAAAAAAAAAAAAAAAAAAAAAAAAAAAAAAAAAAAAAAAAAAAAAAAAAAAAAAAAAAAAAAAAAAAAAAAAAAAAAAAAAAAAAAAAAAAAAAAAAAAAAAAAAAAAAAAAAAAAAAAAAAAAAAAAAAAAAAAAAAAAAAAAAAAAAAAAAAAAAAAAAAAAAAAAAAAAAAAAAAAAAAAAAAAAAAAAAAAAAAAAAAAAAAAAAAAAAAAAAAAAAAAAAAAAAAAAAAAAAAAAAAAAAAAAAAAAAAAAAAAAAAAAAAAAAAAAAAAAAAAAAAAAAAAAAAAAAAAAAAAAAAAAAAAAAAAAAAAAAAAAAAAAAAAAAAAAAAAAAAAAAAAAAAAAAAAAAAAAAAAAAAAAAAAAAAAAAAAAAAAAAAAAAAAAAAAAAAAAAAAAAAAAAAAAAAAAAAAAAAAAAAAAAAAAAAAAAAAAAAAAAAAAAAAAAAAAAAAAAAAAAAAAAAAAAAAAAAAAAAAAAAAAAAAAAAAAAAAAAAAAAAAAAAAAAAAAAAAAAAAAAAAAAAAAAAAAAAAAAAAAAAAAAAAAAAAAAAAAAAAAAAAAAAAAAAAAAAAAAAAAAAAAAAAAAAAAAAAAAAAAAAAAAAAAAAAAAAAAAAAAAAAAAAAAAAAAAAAAAAAAAAAAAAAAAAAAAAAAAAAAAAAAAAAAAAAAAAAAAAAAAAAAAAAAAAAAAAAAAAAAAAAAAAAAAAAAAAAAAAAAAAAAAAAAAAAAAAAAAAAAAAAAAAAAAAAAAAAAAAAAAAAAAAAAAAAAAAAAAAAAAAAAAAAAAAAAAAAAAAAAAAAAAAAAAAAAAAAAAAAAAAAAAAAAAAAAAAAAAAAAAAAAAAAAAAAAAAAAAAAAAAAAAAAAAAAAAAAAAAAAAAAAAAAAAAAAAAAAAAAAAAAAAAAAAAAAAAAAAAAAAAAAAAAAAAAAAAAAAAAAAAAAAAAAAAAAAAAAAAAAAAAAAAAAAAAAAAAAAAAAAAAAAAAAAAAAAAAAAAAAAAAAAAAAAAAAAAAAAAAAAAAAAAAAAAAAAAAAAAAAAAAAAAAAAAAAAAAAAAAAAAAAAAAAAAAAAAAAAAAAAAAAAAAAAAAAAAAAAAAAAAAAAAAAAAAAAAAAAAAAAAAAAAAAAAAAAAAAAAAAAAAAAAAAAAAAAAAAAAAAAAAAAAAAAAAAAAAAAAAAAAAAAAAAAAAAAAAAAAAAAAAAAAAAAAAAAAAAAAAAAAAAAAAAAAAAAAAAAAAAAAAAAAAAAAAAAAAAAAAAAAAAAAAAAAAAAAAAAAAAAAAAAAAAAAAAAAAAAAAAAAAAAAAAAAAAAAAAAAAAAAAAAAAAAAAAAAAAAAAAAAAAAAAAAAAAAAAAAAAAAAAAAAAAAAAAAAAAAAAAAAAAAAAAAAAAAAAAAAAAAAAAAAAAAAAAAAAAAAAAAAAAAAAAAAAAAAAAAAAAAAAAAAAAAAAAAAAAAAAAAAAAAAAAAAAAAAAAAAAAAAAAAAAAAAAAAAAAAAAAAAAAAAAAAAAAAAAAAAAAAAAAAAAAAAAAAAAAAAG1hdHQAAAAFkAMAAgAAABQAABCekAQAAgAAABQAABCykpEAAgAAAAM1NgAAkpIAAgAAAAM1NgAA6hwABwAACAwAAAiSAAAAABzqAAAACAAAAAAAAAAAAAAAAAAAAAAAAAAAAAAAAAAAAAAAAAAAAAAAAAAAAAAAAAAAAAAAAAAAAAAAAAAAAAAAAAAAAAAAAAAAAAAAAAAAAAAAAAAAAAAAAAAAAAAAAAAAAAAAAAAAAAAAAAAAAAAAAAAAAAAAAAAAAAAAAAAAAAAAAAAAAAAAAAAAAAAAAAAAAAAAAAAAAAAAAAAAAAAAAAAAAAAAAAAAAAAAAAAAAAAAAAAAAAAAAAAAAAAAAAAAAAAAAAAAAAAAAAAAAAAAAAAAAAAAAAAAAAAAAAAAAAAAAAAAAAAAAAAAAAAAAAAAAAAAAAAAAAAAAAAAAAAAAAAAAAAAAAAAAAAAAAAAAAAAAAAAAAAAAAAAAAAAAAAAAAAAAAAAAAAAAAAAAAAAAAAAAAAAAAAAAAAAAAAAAAAAAAAAAAAAAAAAAAAAAAAAAAAAAAAAAAAAAAAAAAAAAAAAAAAAAAAAAAAAAAAAAAAAAAAAAAAAAAAAAAAAAAAAAAAAAAAAAAAAAAAAAAAAAAAAAAAAAAAAAAAAAAAAAAAAAAAAAAAAAAAAAAAAAAAAAAAAAAAAAAAAAAAAAAAAAAAAAAAAAAAAAAAAAAAAAAAAAAAAAAAAAAAAAAAAAAAAAAAAAAAAAAAAAAAAAAAAAAAAAAAAAAAAAAAAAAAAAAAAAAAAAAAAAAAAAAAAAAAAAAAAAAAAAAAAAAAAAAAAAAAAAAAAAAAAAAAAAAAAAAAAAAAAAAAAAAAAAAAAAAAAAAAAAAAAAAAAAAAAAAAAAAAAAAAAAAAAAAAAAAAAAAAAAAAAAAAAAAAAAAAAAAAAAAAAAAAAAAAAAAAAAAAAAAAAAAAAAAAAAAAAAAAAAAAAAAAAAAAAAAAAAAAAAAAAAAAAAAAAAAAAAAAAAAAAAAAAAAAAAAAAAAAAAAAAAAAAAAAAAAAAAAAAAAAAAAAAAAAAAAAAAAAAAAAAAAAAAAAAAAAAAAAAAAAAAAAAAAAAAAAAAAAAAAAAAAAAAAAAAAAAAAAAAAAAAAAAAAAAAAAAAAAAAAAAAAAAAAAAAAAAAAAAAAAAAAAAAAAAAAAAAAAAAAAAAAAAAAAAAAAAAAAAAAAAAAAAAAAAAAAAAAAAAAAAAAAAAAAAAAAAAAAAAAAAAAAAAAAAAAAAAAAAAAAAAAAAAAAAAAAAAAAAAAAAAAAAAAAAAAAAAAAAAAAAAAAAAAAAAAAAAAAAAAAAAAAAAAAAAAAAAAAAAAAAAAAAAAAAAAAAAAAAAAAAAAAAAAAAAAAAAAAAAAAAAAAAAAAAAAAAAAAAAAAAAAAAAAAAAAAAAAAAAAAAAAAAAAAAAAAAAAAAAAAAAAAAAAAAAAAAAAAAAAAAAAAAAAAAAAAAAAAAAAAAAAAAAAAAAAAAAAAAAAAAAAAAAAAAAAAAAAAAAAAAAAAAAAAAAAAAAAAAAAAAAAAAAAAAAAAAAAAAAAAAAAAAAAAAAAAAAAAAAAAAAAAAAAAAAAAAAAAAAAAAAAAAAAAAAAAAAAAAAAAAAAAAAAAAAAAAAAAAAAAAAAAAAAAAAAAAAAAAAAAAAAAAAAAAAAAAAAAAAAAAAAAAAAAAAAAAAAAAAAAAAAAAAAAAAAAAAAAAAAAAAAAAAAAAAAAAAAAAAAAAAAAAAAAAAAAAAAAAAAAAAAAAAAAAAAAAAAAAAAAAAAAAAAAAAAAAAAAAAAAAAAAAAAAAAAAAAAAAAAAAAAAAAAAAAAAAAAAAAAAAAAAAAAAAAAAAAAAAAAAAAAAAAAAAAAAAAAAAAAAAAAAAAAAAAAAAAAAAAAAAAAAAAAAAAAAAAAAAAAAAAAAAAAAAAAAAAAAAAAAAAAAAAAAAAAAAAAAAAAAAAAAAAAAAAAAAAAAAAAAAAAAAAAAAAAAAAAAAAAAAAAAAAAAAAAAAAAAAAAAAAAAAAAAAAAAAAAAAAAAAAAAAAAAAAAAAAAAAAAAAAAAAAAAAAAAAAAAAAAAAAAAAAAAAAAAAAAAAAAAAAAAAAAAAAAAAAAAAAAAAAAAAAAAAAAAAAAAAAAAAAAAAAAAAAAAAAAAAAAAAAAAAAAAAAAAAAAAAAAAAAAAAAAAAAAAAAAAAAAAAAAAAAAAAAAAAAAAAAAAAAAAAAAAAAAAAAAAAAAAAAAAAAAAAAAAAAAAAAAAAAAAAAAAAAAAAAAAAAAAAAAAAAAAAAAAAAAAAAAAAAAAAAAAAAAAAAAAAAAAAAAAAAAAAAAAAAAAAAAAAAAAAAAAAAAAAAAAAAAAAAAAAAAAAAAAAAAAAAAAAAAAAAAAAAAAAAAAAAAAAAAAAAAAAAAAAAAAAAAAAAAAAAAAAAAAAAAAAAAAAAAAAAAAAAAAAAAAAAAAAAAAAAAAAAAAAAAAAAAAAAAAAAAAAAAAAAAAAAAAAAAAAAAAAAAAAAAAAAAAAAAAAAAAAAAAAAAAAAAAAAAAAAAAAAAAAAAAAAAAAAAAAAAAAAAAAAAAAAAAAAAAAAAAAAAAAAAAAAAAAAAAAAAAAAAAAAAAAAAAAAAAAAAAAAAAAAAAAAAAAAAAAAAAAAAAAAAAAAAAAAAAAAAAAAAAAAAAAAAAAAAAAAAAAAAAAAAAAAAAAAAAAAAAAAAAAAAAAAAAAAAAAAAAAAAAAAAAAAAAAAAAAAAAAAAAAAAAAAAAAAAAAAAAAAAAAAAAAAAAAAAAAAAAAAAAAAAAAAAAAAAAAAAAAAAAAAAAAAAAAAAAAAAAAMjAxODoxMDoxMSAxMDowMTo0MAAyMDE4OjEwOjExIDEwOjAxOjQwAAAAbQBhAHQAdAAAAP/hCxdodHRwOi8vbnMuYWRvYmUuY29tL3hhcC8xLjAvADw/eHBhY2tldCBiZWdpbj0n77u/JyBpZD0nVzVNME1wQ2VoaUh6cmVTek5UY3prYzlkJz8+DQo8eDp4bXBtZXRhIHhtbG5zOng9ImFkb2JlOm5zOm1ldGEvIj48cmRmOlJERiB4bWxuczpyZGY9Imh0dHA6Ly93d3cudzMub3JnLzE5OTkvMDIvMjItcmRmLXN5bnRheC1ucyMiPjxyZGY6RGVzY3JpcHRpb24gcmRmOmFib3V0PSJ1dWlkOmZhZjViZGQ1LWJhM2QtMTFkYS1hZDMxLWQzM2Q3NTE4MmYxYiIgeG1sbnM6ZGM9Imh0dHA6Ly9wdXJsLm9yZy9kYy9lbGVtZW50cy8xLjEvIi8+PHJkZjpEZXNjcmlwdGlvbiByZGY6YWJvdXQ9InV1aWQ6ZmFmNWJkZDUtYmEzZC0xMWRhLWFkMzEtZDMzZDc1MTgyZjFiIiB4bWxuczp4bXA9Imh0dHA6Ly9ucy5hZG9iZS5jb20veGFwLzEuMC8iPjx4bXA6Q3JlYXRlRGF0ZT4yMDE4LTEwLTExVDEwOjAxOjQwLjU2MDwveG1wOkNyZWF0ZURhdGU+PC9yZGY6RGVzY3JpcHRpb24+PHJkZjpEZXNjcmlwdGlvbiByZGY6YWJvdXQ9InV1aWQ6ZmFmNWJkZDUtYmEzZC0xMWRhLWFkMzEtZDMzZDc1MTgyZjFiIiB4bWxuczpkYz0iaHR0cDovL3B1cmwub3JnL2RjL2VsZW1lbnRzLzEuMS8iPjxkYzpjcmVhdG9yPjxyZGY6U2VxIHhtbG5zOnJkZj0iaHR0cDovL3d3dy53My5vcmcvMTk5OS8wMi8yMi1yZGYtc3ludGF4LW5zIyI+PHJkZjpsaT5tYXR0PC9yZGY6bGk+PC9yZGY6U2VxPg0KCQkJPC9kYzpjcmVhdG9yPjwvcmRmOkRlc2NyaXB0aW9uPjwvcmRmOlJERj48L3g6eG1wbWV0YT4NCiAgICAgICAgICAgICAgICAgICAgICAgICAgICAgICAgICAgICAgICAgICAgICAgICAgICAgICAgICAgICAgICAgICAgICAgICAgICAgICAgICAgICAgICAgICAgICAgICAgICAKICAgICAgICAgICAgICAgICAgICAgICAgICAgICAgICAgICAgICAgICAgICAgICAgICAgICAgICAgICAgICAgICAgICAgICAgICAgICAgICAgICAgICAgICAgICAgICAgICAgIAogICAgICAgICAgICAgICAgICAgICAgICAgICAgICAgICAgICAgICAgICAgICAgICAgICAgICAgICAgICAgICAgICAgICAgICAgICAgICAgICAgICAgICAgICAgICAgICAgICAgCiAgICAgICAgICAgICAgICAgICAgICAgICAgICAgICAgICAgICAgICAgICAgICAgICAgICAgICAgICAgICAgICAgICAgICAgICAgICAgICAgICAgICAgICAgICAgICAgICAgICAKICAgICAgICAgICAgICAgICAgICAgICAgICAgICAgICAgICAgICAgICAgICAgICAgICAgICAgICAgICAgICAgICAgICAgICAgICAgICAgICAgICAgICAgICAgICAgICAgICAgIAogICAgICAgICAgICAgICAgICAgICAgICAgICAgICAgICAgICAgICAgICAgICAgICAgICAgICAgICAgICAgICAgICAgICAgICAgICAgICAgICAgICAgICAgICAgICAgICAgICAgCiAgICAgICAgICAgICAgICAgICAgICAgICAgICAgICAgICAgICAgICAgICAgICAgICAgICAgICAgICAgICAgICAgICAgICAgICAgICAgICAgICAgICAgICAgICAgICAgICAgICAKICAgICAgICAgICAgICAgICAgICAgICAgICAgICAgICAgICAgICAgICAgICAgICAgICAgICAgICAgICAgICAgICAgICAgICAgICAgICAgICAgICAgICAgICAgICAgICAgICAgIAogICAgICAgICAgICAgICAgICAgICAgICAgICAgICAgICAgICAgICAgICAgICAgICAgICAgICAgICAgICAgICAgICAgICAgICAgICAgICAgICAgICAgICAgICAgICAgICAgICAgCiAgICAgICAgICAgICAgICAgICAgICAgICAgICAgICAgICAgICAgICAgICAgICAgICAgICAgICAgICAgICAgICAgICAgICAgICAgICAgICAgICAgICAgICAgICAgICAgICAgICAKICAgICAgICAgICAgICAgICAgICAgICAgICAgICAgICAgICAgICAgICAgICAgICAgICAgICAgICAgICAgICAgICAgICAgICAgICAgICAgICAgICAgICAgICAgICAgICAgICAgIAogICAgICAgICAgICAgICAgICAgICAgICAgICAgICAgICAgICAgICAgICAgICAgICAgICAgICAgICAgICAgICAgICAgICAgICAgICAgICAgICAgICAgICAgICAgICAgICAgICAgCiAgICAgICAgICAgICAgICAgICAgICAgICAgICAgICAgICAgICAgICAgICAgICAgICAgICAgICAgICAgICAgICAgICAgICAgICAgICAgICAgICAgICAgICAgICAgICAgICAgICAKICAgICAgICAgICAgICAgICAgICAgICAgICAgICAgICAgICAgICAgICAgICAgICAgICAgICAgICAgICAgICAgICAgICAgICAgICAgICAgICAgICAgICAgICAgICAgICAgICAgIAogICAgICAgICAgICAgICAgICAgICAgICAgICAgICAgICAgICAgICAgICAgICAgICAgICAgICAgICAgICAgICAgICAgICAgICAgICAgICAgICAgICAgICAgICAgICAgICAgICAgCiAgICAgICAgICAgICAgICAgICAgICAgICAgICAgICAgICAgICAgICAgICAgICAgICAgICAgICAgICAgICAgICAgICAgICAgICAgICAgICAgICAgICAgICAgICAgICAgICAgICAKICAgICAgICAgICAgICAgICAgICAgICAgICAgICAgICAgICAgICAgICAgICAgICAgICAgICAgICAgICAgICAgICAgICAgICAgICAgICAgICAgICAgICAgICAgICAgICAgICAgIAogICAgICAgICAgICAgICAgICAgICAgICAgICAgICAgICAgICAgICAgICAgICAgICAgICAgICAgICAgICAgICAgICAgICAgICAgICAgICAgICAgICAgICAgICAgICAgICAgICAgCiAgICAgICAgICAgICAgICAgICAgICAgICAgICAgICAgICAgICAgICAgICAgICAgICAgICAgICAgICAgICAgICAgICAgICAgICAgICAgICAgICAgICAgICAgICAgICAgICAgICAKICAgICAgICAgICAgICAgICAgICAgICAgICAgICAgICAgICAgICAgICAgICAgICAgICAgICAgICAgICAgICAgICAgICAgICAgICAgICAgICAgICAgICAgICAgICAgICAgICAgIAogICAgICAgICAgICAgICAgICAgICAgICAgICAgPD94cGFja2V0IGVuZD0ndyc/Pv/bAEMABwUFBgUEBwYFBggHBwgKEQsKCQkKFQ8QDBEYFRoZGBUYFxseJyEbHSUdFxgiLiIlKCkrLCsaIC8zLyoyJyorKv/bAEMBBwgICgkKFAsLFCocGBwqKioqKioqKioqKioqKioqKioqKioqKioqKioqKioqKioqKioqKioqKioqKioqKioqKv/AABEIAS8CygMBIgACEQEDEQH/xAAfAAABBQEBAQEBAQAAAAAAAAAAAQIDBAUGBwgJCgv/xAC1EAACAQMDAgQDBQUEBAAAAX0BAgMABBEFEiExQQYTUWEHInEUMoGRoQgjQrHBFVLR8CQzYnKCCQoWFxgZGiUmJygpKjQ1Njc4OTpDREVGR0hJSlNUVVZXWFlaY2RlZmdoaWpzdHV2d3h5eoOEhYaHiImKkpOUlZaXmJmaoqOkpaanqKmqsrO0tba3uLm6wsPExcbHyMnK0tPU1dbX2Nna4eLj5OXm5+jp6vHy8/T19vf4+fr/xAAfAQADAQEBAQEBAQEBAAAAAAAAAQIDBAUGBwgJCgv/xAC1EQACAQIEBAMEBwUEBAABAncAAQIDEQQFITEGEkFRB2FxEyIygQgUQpGhscEJIzNS8BVictEKFiQ04SXxFxgZGiYnKCkqNTY3ODk6Q0RFRkdISUpTVFVWV1hZWmNkZWZnaGlqc3R1dnd4eXqCg4SFhoeIiYqSk5SVlpeYmZqio6Slpqeoqaqys7S1tre4ubrCw8TFxsfIycrS09TV1tfY2dri4+Tl5ufo6ery8/T19vf4+fr/2gAMAwEAAhEDEQA/APZqKKKACiiigAooooAKKKKACiiigAooooAKKKKACiiigAooooAKKKKACiiigAooooAKKKKACiiigAooooAKKKKACiiigAooooAKKKKACiiigAooooAKKKKACiiigAooooAKKKKACiiigAooooAKKKKACiiigAooooAKKKKACiiigAooooAKKKKACiiigAooooAKKKKACiiigAooooAKKKKACiiigAooooAKKKKACiiigAooooAKKKKACiiigAooooAKKKKACiiigAooooAKKKKACiiigAooooAKKKKACiiigAooooAKKKKACiiigAooooAKKKKACiiigAooooAKKKKACiiigAooooAKKKKACiiigAooooAKKKKACiiigAooooAKKKKACiiigAooooAKKKKACiiigAooooAKKKKACiiigAooooAKKKKACiiigAooooAKKKKACiiigAooooAKKKKACiiigAooooAKKKKACiiigAooooAKKKKACiiigAooooAKKKKACiiigAooooAKKKKACiiigAooooAKKKKACiiigAooooAKKKKACiiigAooooAKKKKACiiigAooooAKKKKACiiigAqC9vbbTrOS7v7iO3t4hl5ZWCqo9yaZqWpWukabPf6hMIbaBdzuf5AdyTwAOSSBWPpOk3es3UOt+JYyjI3mWOmN920HZ3/vTY79E6L3Y1GLkyZSUUSLqmrazGf7AshaQH7t9qcTKG90hyHYf7xQemaVfCt1cfNq/iPVLl/7ttItrGPoIwG/NifeuioroVOKMHOTOf8A+EI0Y/6w6lK396XVrpz+Zko/4QfQ/wDnne/+DK5/+OV0FFVyrsTzPuc//wAIPof/ADzvf/Blc/8Axyj/AIQfQ/8Anne/+DK5/wDjldBRRyrsHM+5z/8Awg+h/wDPO9/8GVz/APHKP+EH0P8A553v/gyuf/jldBRRyrsHM+5z/wDwg+h/8873/wAGVz/8co/4QfQ/+ed7/wCDK5/+OV0FFHKuwcz7nP8A/CD6H/zzvf8AwZXP/wAco/4QfQ/+ed7/AODK5/8AjldBRRyrsHM+5z//AAg+h/8APO9/8GVz/wDHKP8AhB9D/wCed7/4Mrn/AOOV0FFHKuwcz7nP/wDCD6H/AM873/wZXP8A8co/4QfQ/wDnne/+DK5/+OV0FFHKuwcz7nP/APCD6H/zzvf/AAZXP/xyj/hB9D/553v/AIMrn/45XQUUcq7BzPuc/wD8IPof/PO9/wDBlc//AByj/hB9D/553v8A4Mrn/wCOV0FFHKuwcz7nP/8ACD6H/wA873/wZXP/AMco/wCEH0P/AJ53v/gyuf8A45XQUUcq7BzPuc//AMIPof8Azzvf/Blc/wDxyj/hB9D/AOed7/4Mrn/45XQUUcq7BzPuc/8A8IPof/PO9/8ABlc//HKP+EH0P/nne/8Agyuf/jldBRRyrsHM+5z/APwg+h/8873/AMGVz/8AHKP+EH0P/nne/wDgyuf/AI5XQUUcq7BzPuc//wAIPof/ADzvf/Blc/8Axyj/AIQfROyX4PquqXII/HzK6CijlXYOZ9znm8HxxjOn65rdm4+6329rjH4TbwfxpB/wkmkKWuhDr1uO9vGILhR/ultj/gU9ga6Kik4RY1OSMvS9ZsdYjkaxmLPC22aGRDHJC3o6MAyn6ir9ZeuaB/aMsd/ps/2HV7dSsN0FyGXr5ci/xoT26jqCDzTdA1v+17eaK6h+yalZv5V7aFsmJ+xB/iRhyrdx7ggc8oOJvGSka1FFFQWFFFFABRRRQAUUUUAFFFFABRRXLMkvjPUbi38ySHw9aSNDKY22tqEqnDpuHIiUgqcY3NkdAdzSbdkJtJXZZfxWt1cPB4c0651p42KyTQFUt42HUGVyASO4TcR3FODeMZRk2eiWv+ybqWY/n5aV0EEEVtbxwW0SRQxqFSONQqqB0AA6Cn10Kkupg6j6HO+X4w9dD/8AI1Hl+MPXQ/8AyNXRUU/ZxF7SRzvl+MPXQ/8AyNR5fjD10P8A8jV0VFHs4h7SRzvl+MPXQ/8AyNR5fjD10P8A8jV0VFHs4h7SRzvl+MPXQ/8AyNR5fjD10P8A8jV0VFHs4h7SRzvl+MPXQ/8AyNR5fjD10P8A8jV0VFHs4h7SRzvl+MPXQ/8AyNR5fjD10P8A8jV0VFHs4h7SRzvl+MPXQ/8AyNR5fjD10P8A8jV0VFHs4h7SRzvl+MPXQ/8AyNR5fjD10P8A8jV0VFHs4h7SRzvl+MPXQ/8AyNR5fjD10P8A8jV0VFHs4h7SRzvl+MPXQ/8AyNR5fjD10P8A8jV0VFHs4h7SRzvl+MPXQ/8AyNR5fjD10P8A8jV0VFHs4h7SRzvl+MPXQ/8AyNR5fjD10P8A8jV0VFHs4h7SRzvl+MPXQ/8AyNR5fjD10P8A8jV0VFHs4h7SRzuPGCciLQ5v9nzZo8/jtb+VRP4j1LTOfEWgT20I+/d2Eou4U9yAFkA9/LwO5FdPRSdKI1UkVLW7t760jurKeO4t5V3RyxMGVx6gjrU1c1qulXHh+4l1zw3E7xs/mahpcX3bhf4pI1/hlHXjAfGDyQRv2d3Bf2MF5ZyrLb3EayRSL0ZSMgj8DWEouLNoyUkTUUUVJQUUUUAFFFFABRRRQAUUVU1TUItJ0e81G5/1NpA88n+6qlj+goAwoo/+En8bPJJ8+k6C4REP3Zr0gEt7iNSAP9pj3WutrE8G6bLpfhCwgu/+PuSM3F0fWaUmST/x5jW3XXCNkcsndhRRWRc+K9FtPFlp4auLzZq95CZoLbynO9AGJO4DaP8AVtwT29xVEmvRXGat8XfA2iatcabqWvRx3ds+yZI7eWUI3ddyIRkdCM8HIPINdZ9vs/7N/tH7XB9h8nz/ALT5g8ry8bt+7ptxznpjmi6YWZPRXKaZ8UPBer622k6f4htZLwOUVG3Isjbgu1HYBXJJGApOeoyK0I/GXh+XxhL4WXUoxrUKb2tGRlJG0P8AKxG1jtYHAJOMnscF0FmbdFZFt4r0W78WXfhq3vN+r2cImntvKcbEIUg7iNp/1i8A9/Y1oX1/Z6XZSXmp3cFnax43z3EgjRckAZY4AySB+NAE9Fcx4d+JHhHxXemz0LW4Li6HSB1eF34J+VXCl8BSTtzjvitC28V6Ld+LLvw1b3m/V7OETT23lONiEKQdxG0/6xeAe/saLoLM16Koa5rmneG9Fn1bWrj7NY2+3zZdjPt3MFHCgk8sBwKsWF9b6ppttf2Mnm2t1Ck0Mm0ruRgGU4OCMgjg0AT0UVHcXENpbS3F1LHDBCheSWRgqooGSxJ4AA5zTESUVQ0PXNO8SaLBq2i3H2mxuN3lS7GTdtYqeGAI5UjkVTu/GXh+x1a/0y51KMXmnWLahdwqjOYYFxlm2gjOCDt+9gg4wRSuh2Zt0Vwlv8a/h7c3MUEfiONXlcIpktZo1BJxyzIAo9yQB3ru6E09gaa3CiszxD4k0jwrpLal4gvo7K0Dqm9gWLMeiqqglj1OADwCegNR3PivRbTxZaeGri82aveQmaC28pzvQBiTuA2j/VtwT29xRdBZmvRRRTEFFFFABRRXIf8AC1fBn/CN/wBv/wBs/wDEs+1/YvP+yzf67Zv27dm77vOcY96V0h2bOvoorM1fxJpGg3On2+rX0dvPqVwttaREFmmkJAAAAJxkgFjwMjJGRQBp0VmWviTSL3xHfaDbX0b6pp6I9xakFWVWAIYZGGGGXJXONwBxkVp0AFFFFMQVy3i+2k02S38VaejGfTeL1EHNxZn/AFi47lP9YvupA+8a6mkZQ6lXAZWGCCOCKTV1YpOzuQRSxzwpLC6yRyKGR1OQwPIINPrm/A2bbw/JpDkl9GupbAEn/lmhzF/5CaOukriOsKKKKACiiigAooooAKKKKAMXxbqE+neF7p7J9l5PstbVvSaVxGh/BnB/CtXTNOt9I0q20+xTZb20SxRjqcAYyT3PcnuawfGPzR6Ih+62s2ufwfcP1ArqK3pbXMKoUUUVuYhRRRQAUUUUAFFFFABRRRQAUUUUAFFFFABRRRQAUUUUAFFFFABRRRQAUUUUAFFFFABRRRQAUUUUAFcx4bC6brGt6CnEVrMt3bJ/dhnBbA9hIswA7DArp65lfl+KV3j/AJaaNBu/4DNLj/0I1lVXumtP4joaKKK5joCiiigAooooAKKKKACub+IQ3/D7WIv+e8Hkn6OQn/s1dJXOeP8A/kR7/wCsX/o1KAOooooruOIyPEvivRfB+mx3/iK8+x2skwhSTynky5BYDCAnop59q838R/8AJ1/hP/sEyf8AoN1XpHinwvpXjHQJtI1yDzbeT5lZeHhcdHQ9mGfxyQQQSDzfgr4P+GPA2rPqemi6vLwpsjmvnRzADnds2qoBIOCeTjgYBOYabZaaSPILHwrqnhfRNS/s/QPCXjrw5C8s91q0ckbTxxBRvjEm8NE4jUNhQ20vkFjW5451G3uP2YtKl8HabPpukXN2q3NoSZvJQSSFgXbJ2+eq4bIzlRxnbXV6t+z14M1TVri+jk1HTxO+/wCzWcsawxk9dqshIGecZwM4GBgDvP8AhE9C/wCET/4Rn+zIP7G8nyfsmDt25znPXdn5t2d275s55qFB6opyW55f8XfCfgrTPg3Le6NpmlW8i/Zv7PurcKHmyyjiQcy5jLnktnG7qMjgLvR9d8SfE3Vr5Gnj8TaZodjq8amEB2uo4bUspj2HLfM+EwPm2jpkV63pnwC8D6brbai1tdXiby8dndTB4IjuDDAABYDGMOWBBOc9a6iy8D6bYfELUPGMM902oahbi3liZ18lVAjGVG3Of3S9Sep/BuDYKSR5Z8MPEVv4t/aD1zXLNdkd5ocbmPJPluFtVdMkDO1gy5xzjI4Na/x2/f6l4JsdT48PXGrD+0Wf5IhgoBuk42fI03ccZP8ADkdh4d+GPh7wr4xvvEWhpPbTXsLRNaKy/Z4wzKx2LtyvKZxnAyQABgDc8Q+G9I8V6S2m+ILGO9tC6vsYlSrDoyspBU9RkEcEjoTT5Xy2YuZc1zyP43aBo/hzTfDt94R0mx0/xCurR/YlsLZFllwCeI1H7zDiLqDgkD+LBqXWhX/iP9pTxbp+m67daG7aYjPc2Y/eECK32qGyCo37GOCCQpXI3ZHb+Ffgj4Q8KasmpQRXWoXcLq9u9/KriBhn5lVVUE8g5YHBUEYIqTxB8HPD3iPxNqOvXl5qsN9qEIiZra4WMRDYsZ2/L/EilSGLAh246YTi3qPmWxwFh448Q6t+zFrWpXOpTpqOnXcVpFfQyMkzIJIDlnByWxIVJ7jrkkk5f/CYa3rfiXT9H1G98Wy2djoFpKqeF2JupZZIIHaWYk5cZcjJ6HbjksT2fxH8O2/hf4QHwX4R8O6rfNf7WEtlamf545YnZ52XncwHHH8OAAAANiz+FFneaPoV5cXeq+H9dttJgsryfR7sQvNtjQFZGAYNtKYyOuByQFwrSvYd1uecTeLviDceE/CnhjV7q+0O+1XVmsHv5beSK7aFTAEbJIJ5mbLDBbYAT97d3+q+H9VsPhV420nU/FU+rW9rDM9pMJP9MhRYhN5M8mTuzkAjHKN1AYKmpefBvwheeCrXw0bOSGC1fzIruJlFz5hxvcuQQSwABBGMBcAbVxqaD8PdC0DQNR0qOOe8XVvM/tG6u5S1xeb8g75Bg9GIGMYyT1JJai+pLkuhy/wB0n7H8MrTUft99P8Ab9/+jTzbobfZNKv7pcfLu6t1yea5TSJ21PUPjdf3wjlu4bee1jmMahkiVLhAgIHTbFHn12gnJ5r1PwT4Es/AllPZ6Zqmq3lrJt2QX1wJEgwWJ8tQqhdxck+uBXJ6D4Paz+IXxC0W8stRTS/E1utxFqCqpjw4cTIHxhXDzNtUgnauTngks7JDurtnlHhvwj4x8V/Duz0/SfB2gNp925VNekSNbtQJyWYvv34BBXhCdowAa9PW21b4cfEnwnBNq91d+HdSsY9HkWYytDDcxxqiFIx8sZkKJjJY8y9ByPRPCnhqz8H+GbTQtMknltbXfse4YM53OznJAA6se1ef/HJbzXtFg8K6X4X1XVb64mhuIL2GIi2tm3Mp3OON2MghsKA+4ngUcvKrhzczseUfEPU9Q8YaFrPiyTV55tIPiFbDTbJJpBCESFz5pib7rFfLORjlpMgZFdh4j8MXEPx88J6BZ+IdVWQ6TIp1SeUTXewtdM4DkDDFSyK2Pl4IyRXo9x8KdCvvhpp3g2/ac2tjskW4t3KP5wyXkAbcBuLv8pyBv46AiSw+GWm2XijR/EE2raxf6hpNu9vFLe3KymVWMpzIdmSR5zAYI4C+nK5GHMjzDSfGniPwz4a+JyQ6zdai+g30UFhNqT/aJI987wltx6naqkA/LuGdvJBNOvPE/gzW/h1ft4r1HWIvFaRpd2moSvLGgkaInbljghZVweuUJ6MUHqdh8MfD1lL4lM6T38Piabzb63u2VkB3O3ybVBXBkJBySMKQQRmsvw38FPDHhvW7PVFn1HUpbBCtpHqEySR253FgyqEGCGZiOwLFsZwQ+WQcyOXni1vxP+0P4j8Or4q1jS9LhsY5mhsrkqcCODiPORGS7BiwGSNy/wARrc+AOvarr/w8uJdbv57+a31GSGOW4fe+zZG+Cx5bl25JPp0AFdZZeB9NsPiFqHjGGe6bUNQtxbyxM6+SqgRjKjbnP7pepPU/geB/A+m+AdEm0vR57qaCa4a4Zrp1ZgxVVwCqqMYQdvWmotO4nJWsef6rd+I/F/x6v/DNl4kutCs9DsRcwfYl/wBbIViIMqk4kG+QZU8FUKgAsWrzDTNX1LRf2d2uNH1C60+dvFRRpbWdomKm0B2kqQcZAOPYV7/4n+FfhzxV4jg1u9W6tbxEMc7WU3lfa4yNpSUgZIKZQkEEqxBOAMZf/CkPDf8AwhP/AAi/23VfsP8AaP8AaPmebH5vmeX5eM+XjbjtjOe9S4yuNSVjn9dl8Q+OPjjqnhK28TX2gWGkad50R05mRpHZIjlyGG7DSjj+6mBtLFqxPiVpd/f+IPhe+r6/JdXmoOlvLeaZJ5cIPmxHz4OoDkSD5xw2xCFUDFel+LvhN4e8Ya0urXMt9p1/5LQy3GnSrE1wjLtw+VOflJXPGVODkAASa78K/Dmt6To1hCt1pKaI5ewl02bypIc4J5IOSWVWLH5twznk5bi3cFJKxx80beH/ANpnw1YWM0ji70D7PeTzBXmuwizEPI+Ms5MMeW4J2gdOK9jryzTvDF/d/HqG/u7TUf7P8M6NHZ22pXMm77dKyn5mYqN52yybtvRkBJGdtep1UepMugUUUVZAUUUUAcxoP7rxh4rhHRruCfHu1tGv/tOuirndG/5HnxR/vWv/AKJroq45fEzrj8KCiiipKCiiigAooooAKKKKAOc8X/8AMC/7DNt/M11Fcv4v/wCYF/2Gbb+ZrqK6KWxhV3CiiitjEKKKKACiiigAooooAKKKKACiiigAooooAKKKKACiiigAooooAKKKKACiiigAooooAKKKKACiiigArmf+apT/APYGi/8AR0ldNXM/81Sn/wCwNF/6OkrOp8JpT+I6GiiiuU6QooooAKKKKACiiigArnPH/wDyI9/9Yv8A0aldHXOeP/8AkR7/AOsX/o1KAOooooruOIKKKKACqtpqmn39xcQWN9bXM1q2y4jhmV2hbJGGAOVOQeD6GoPEOny6t4X1TTbZkWa8s5oI2kJChnQqCcAnGT6V4j8IvBPinSviILu+sLnTrSyWSO6abKLPlWUIvaQbgGyMr8oOc7c+vg8DQxGFrVp1VGUFou//AA+3qS207Hv9FFFeQUFcn4t8Zr4V8S6Db3sltBpl8t293PMG3RiKMMu3B6knGMEnIA5rrK4XxfBFcfFbwEk8SSqGv3CuoIDLCrKee4IBB7EA135fCnOvaqrx5Zv7oSf36Cexq23xF8K3mg3ms22rpJY2LKly4ik3RliAuU27sEnAOMcH0OI7j4l+D7XTzey63D9nF09oHSN33yIAW2gKSygMvzDK/MOeRXnXjr/mqv8A3CP/AGWr3xDgk8PfEbSNXivv+Ed0xdMFjBqUempdxwSKzny9n8GUOAQM4yBxux7dPKcJOUVeXvXaV/7kJ20i2371tFstieZnYeLfiDYaH8Pv+Ek0mWG+F1tjsc7tkkjZ64GRtCsSDg/KVyDV7wNrOo+IPDKanqc+m3Hnyv5EmmpKsbRqdvIlAbduDjpjGK831Cxax/Z413bdXN1bXF4s9rLPaC1Vo2ni5iiDHZGx3Mowv3s7QCCfaq4cbRw+Hw3JTV3zyXN5RUdLWX835+VmrthRRRXhlBRRRQAUUUUAFFFFABRRRQAUUUUAFFFFABRRRQAUUUUAFFFFABRRRQBzGjf8jz4o/wB61/8ARNdFXO6N/wAjz4o/3rX/ANE10VccviZ1x+FBRRRUlBRRRQAUUUUAFFFFAHOeL/8AmBf9hm2/ma6iuX8X/wDMC/7DNt/M11FdFLYwq7hRRXIfFXXNR8N/DLVdW0W4+zX1v5PlS7FfbumRTwwIPDEcitW7K5ktXY6+ivDPE3xK8UbfBuh6TrGnaNeapo0GpXesaiUWMs0bEqcoVQEoTwOSygbQDnsPhnqPjm4ubuHxZPp2t6W6ebZa7p1xE0cjAhWiCoASM7uSowUYZORiVJN2KcWlc9Dorxi38UfEb4l3uo3fw8v9K0fQrC7e2guLhNz3eADuIaNyOMNjamPMx8xBIyPEfxk8Tf8ACvLiSNoNG8TaXrg0/UI7eNZU2FJSMbwyj5oyOGb/AFecgMBRzoORnv1FeIeLvixrrfB2w17SX/sfW49W/s7UoPIDeTIschZNsqnGcI2OSuduSQa9vpqSYmmgorxi38UfEb4l3uo3fw8v9K0fQrC7e2guLhNz3eADuIaNyOMNjamPMx8xBIyPEfxk8Tf8K8uJI2g0bxNpeuDT9Qjt41lTYUlIxvDKPmjI4Zv9XnIDAUudD5Ge/UVxnhj4qeHPFXiOfRLI3VteIgkgW9h8r7XGRuDxAnJBTDgEAlWBAwDjn9J+J9lpd943ufEev3V1aaPfCCG2lsIYTGxeYCGEo5MxOzGW24C7jgbiHzIXKz1OiuQ8O/EnSvEGvnRJ9P1XRNTMPnQ2usWv2d7hOcmMZOcbTx7EjOGxlr8bvCDeI30xZbo20dwts+riJfsSyMCVBk3ZAJVgGxg7Sc7Ruo5kHKz0OivJLL4oavN8eNQ8OzadqMmkwILWK2gsQXjk3xj7VKc5EXzN8wONhQ7cnNbnxX8V6roVlouk+GLyC01vXdRjtbeSeLeETIDNyCowzRg5B4Y4GRkHMrXDld7Hf0V4T4w8a+M/+Fv6z4d0XxhpWgWNpDFLE2qiGOLmKIlQ7RsSxLk4PYH0q34R+NF3YeHNcfxnHJrR0S+jtn1LR40dZlkMgVyPkUIDHgOMZ3oMZ5K51ew+R2ue10VzHirx/o/hTTdNvJhPqX9qzLFZQaaEmluNwyGRdw3LyoyM8uvrXjl98bPFElp40eC21G1e3uIE05l05NmmKJSrLcFs7XdQBht3z7gMUOSQKLZ9FUV5h4X+M2lXkXhrTtWg1X7XqsMUK6m9lstbi52qJApBBOJTsJVcAnsvNbHi74s+HvB+tLpNzFfajf8AktNLb6dEsrW6Ku7L5YY+UFsc4UZOAQS+ZWuLld7Hb0Vwl/8AGDwxY+BbPxXGbq8sLq4Fr5duiGaGUozFJFZgFIC+p6gjIINSaH8V9C17xZBoENpqtpcXkLT2U15aGKK8jAJDx87trKrMCQAQp78UcyDlZ29FZHinxTpXg7QJtX1yfyreP5VVeXmc9EQd2OPwwSSACR5npnxWu/E/xo8O6Zos91a6LeWLPdWF5aIknmeXNIrE4JwUETgq2CCPUihyS0BRb1PY6K8s8F/E+yh+GeoeJfE2v3WoxW980CSXFhDazSN5aMsMccbsGJyTkkdTnAXNXD8Y9K1DwdrupaJZ3y6nploLldOvLfErI6qY5tit80PzqzMDwvPdcnMg5Wej0V4TD8T/ABdc/BOPxFamePUdJu4pL68vbJFt9RheaRPLi2jDYPlhsbCMHBz19vsL631TTba/sZPNtbqFJoZNpXcjAMpwcEZBHBoUkwcWieuZ/wCapT/9gaL/ANHSV01cz/zVKf8A7A0X/o6SpqfCVT+I6GiiiuU6QooooAKKKKACiiigArnPH/8AyI9/9Yv/AEaldHXOeP8A/kR7/wCsX/o1KAOooooruOIKKKKACiob28g07T7i9vJPLt7aJppX2k7UUZJwOTwO1cr4Y+KHhvxbrc+laZNMlxHkxfaECC5UZyY+cngZwQDg5xwcdFPC16tOVWEG4x3dtEF0dhRRRXOAUUVy2v6h9m+IfhKz33g+1/bPlhutkLbYgf3ke0+Z/s8jaeea2o0XWk4rs39yb/QNjqaK8w8GeNL2w0Hxhq/i6G5httP1aXG65+0NGxIBtkHoh2AHhTv7AE1v+HPG9/qWtxaV4j8OzaBcXdr9psvOuFkFwo+8nRSHAIJTBIGSQMDPbWyzEUnPRNR3aa7Ju2utk9bXt1FzI7CivNNO+L093p+n6ndeFby30u8la2FykwlZ7gBykUUYUNJu2hQ3ygMSD93J29H8eSXNt4h/t7RZtKvPD8Sz3VslwlxujaMyLtYYBbCnjp0564VXK8XSvzx280+tuj72T7XV90HMjsKK4jwr481bxDd6f9r8KTWmnajE72+oW94l1GpUZxJtA8vuPm53cY647euXEYarhp+zq2v5NPy6NroNO4UUUVzgFFFFABRRRQAUUUUAFFFFABRRRQAUUUUAFFFFABRRRQAUUUUAcxo3/I8+KP8Aetf/AETXRVzujf8AI8+KP961/wDRNdFXHL4mdcfhQUUUVJQUUUUAFFFFABRRRQBzni//AJgX/YZtv5muorl/F/8AzAv+wzbfzNdRXRS2MKu4V88+ItS+J+peGdW8CeIvDN9rN9d3caxaxbxBLdUDxsoBWMIVJUnczLjd82NpFfQ1FaSVzOLseMeOdJ1zSPDfhjSr3wTY+MNIs9OitLlbVZTdwzogBMciDckbbE5C87SGxlaj+C3hvVrPxrreuJ4euvC+gz2628Wl3U0rM0o2HeA4BYDDncQMeYQufmx7XRS5dbj5tLHhmiv4v+DEmp6JYeDLrxJo91fPcWF1aSs0gXaoxJsRsHaEHKr8wfG4dOc8U/DnxTF8PNQ1LUNJnm1/XPEK3lzYaepuBBGEnIOE3Y+aVv4mGCnIOa+lqKXJ0Hznzz8bfh3rqa1PqPhXTp7zTNYminvbazgEjpdRrIofaq7gpV2OecszFuq19DUUVSjZ3Jcrqx4Zor+L/gxJqeiWHgy68SaPdXz3FhdWkrNIF2qMSbEbB2hByq/MHxuHTnPFPw58UxfDzUNS1DSZ5tf1zxCt5c2GnqbgQRhJyDhN2Pmlb+JhgpyDmvpaqUmt6VDdtazanZx3CyxwtC1wocSSAlE25zuYAkDqccURoynpHUrntqeU6VaeI/F/x6sPE174butCs9DsTbT/AG1v9bIVlBETAYkG+Q4YcFUDEgsFrzzUPC+q+KpfiZDocH2m4svEKXbQL9+RFa8UhB/E3z5x3wcZOAfp+/tPt+m3Nn9ontvtELxefbPsli3AjcjdmGcg9jXP+DPAOleCP7Rk064vry61KYS3V1fz+ZLIRnGSAB1ZjnGSWOSeMQ4XBSPO/Avhtr/4nWmuDTfGhTTbdgb/AMVXSo2XWRRGkflkuPmJyHUDJz2DUPAEHi/wPbXPglvBUmpXMmsx3KahMG+weWAhaTzdpAIESsp5IZvu7k2N71RVcguY8gjt9V8PftLapq9xoOq3WnaxaQ2sF3Z23mxRlvIUtIwOEVTE2c8gYOMEGpPjFbzN8QPhpcLFIYI9ZCPKFO1WaWAqpPQEhWIHfafSvW6xPFnhOx8YaTFY6jNdWxt7hLq3ubOby5oJUzh1bkZwSOQeuRyAQOOjQKWtzy+f4eweKv2h/EcvijQrq40VrGN7e4ZZYoXlEcC/LIpAJxvGM9j6V6QngHw5b+CrvwrZadHa6Xdo4kRPnbc3/LTc+4lwQCGOcbVx0FdHVDXNJ/tzRZ9O+332nedt/wBJ0+bypo8MG+VsHGcYPsSKfKkLmbPDPhhb654t8daRZ+I4oxb+ALeS2kjkWKQG4LsiDjGCqouGG4ZtwcgvmsvX9I8Q6c/xL0g+FtcupPEGoxTWVxaWTTQlFuGlyXX1VhgDODkHBFe7+DPBmleBNA/snRPPaFpmmkkuJNzyOcDJwABwqjAA6euSd+o5NNSufU8Q8Q6BrE//AAprydJvpP7N+z/bdls5+y4+zZ8zj5MbW64+6fSrGuxeIfA/xx1TxbbeGb7X7DV9O8mIacrO0bqkQw4Cnblohz/dfI3FStez0VXKLmPmW/8Ah/4n0/8AZ8s7CTR7qa/u9fF/9jt4XlmhiNuyAyKoypyvTtuAODkD0fX9I1Kb9pnwzqkOn3UmnwaY6S3awMYY223Pys+MA/MvBPcetep0UciQc7Z5x8c/C+q+Kvh4IdDg+03FldrdtAv35EVHUhB/E3z5x3wcZOAeXsZvEPin4/eGPEl54S1XR7GPTniZrmJiFPlz53HaNnzsVAbBICtgbwK9voocbu4KVlY+ZbD4f+J9Q/Z8vLCPR7qG/tNfN/8AY7iF4ppohbqhMasMsct077SBk4B9Pt9U8R+OvD/ioN4Nk0VLnRjZ25vT5V1cXBifKYYDMQaQhWJUA5P8TBPS6KFCwOVz55aa8t/2WNV0LU9F1XTLrTPJ3vfWhhSbzL3ePLJ5bAxngYyK9r8E281p8P8Aw9b3UUkM8OmWySRSKVZGESgqQeQQeMVH4w8GaV44021sNc882ttdpdeXDJs8wqGXaxxnaQxzjB9CK36FGzByugrmf+apT/8AYGi/9HSV01cz/wA1Sn/7A0X/AKOkpVPhHT+I6GiiiuU6QooooAKKKKACiiigArnPH/8AyI9/9Yv/AEaldHXOeP8A/kR7/wCsX/o1KAOooooruOIKKKKAKuqafFq2j3mm3LOsN5A8EjRkBgrqVJGQRnB9K8w+H/wbuvCnjE6zqepQzpabxZrbggybgy7pAR8vyn7oJ5PXj5vWaK78PmGIw1GpQpStGe/9emgmk3cKKKK4BhXLa/o1/e/EPwlqdtBvs9O+2fapN6jy/MiCpwTk5IxwD711NQy3trBdwWs9zDHcXO7yIXkAeXaMttU8tgcnHSt6FWdKblBXdpL5OLT/AAbBnmyeCtb1Tw1440C7tk09dT1aS+sLuSVXWYNIGAKqSVH7peTz8/T5cFngPwPNY+IrPUrrwbZ+Hnsom3zf2jJdPcSMhX92okKxqMsTv3nkAd2Hplne2uo2iXWn3MN1byZ2TQSB0bBwcMODyCPwqavSnm+JUKlG1lLf4l0UX11ulqpXt0sTyrc8t07wdr0Hw88FaZLY7bzS9dju7uPzoz5UQllYtndg8MpwCTz0rotO0bWbLxn411O3ghT+0YrX+zpJ3BjkkjgZTuCncFDEA8A46V1X221/tD7D9ph+2eV532fzB5nl5xv29dueM9M0Wd7a6jaJdafcw3VvJnZNBIHRsHBww4PII/Cs62YYiopucVaV76P7UlPv3jp5X9R2R5n4P8P+JbXx5ban/wAI3D4XspLUpqkNveRvb3bquEKQrny2DHPXoDzknf6lRRXNjMXLF1FOUUrK2l/1bb+/ay2QJWCiiiuMYUUUUAFFFFABRRRQAUUUUAFFFFABRRRQAUUUUAFFFFABRRRQBzGjf8jz4o/3rX/0TXRVzujf8jz4o/3rX/0TXRVxy+JnXH4UFFFFSUFFFFABRRRQAUUUUAc54v8A+YF/2Gbb+ZrqK5fxf/zAv+wzbfzNdRXRS2MKu4UUUVsYhXkXjz4y6h4V8aSaNY6VbSw2bIbiSaRi0ysiPhcYCEBiMnd2OOx9drj/ABP8L/Dfi3W4NV1OGZLiPAl+zuEFyoxgScZPAxkEHBxngY9XKquCpYhyxsOaFn9/3rzXzFK9tDptL1CLVtHs9StldYbyBJ41kADBXUMAcEjOD61apkEEVtbxwW0SQwxKEjjjUKqKBgAAcAAdqfXmS5XJ8uwwoooqQPDtf+JGv25utU0fxIl8LWcefYafpXnWVsvmBVWS7cKxDgH5lHJyBtGDUfjD7V/wsrVv7O8n7Z/wkWieR5+fL8z7PLt3Y525xnHOK6af4RajL4ak8OL4yuV0VGL2tp9iQbD5m/8AeMCDIOW44G7a3G0CtHX/AIYf27rt/qP9tzWf2y/s7z9xDiSL7PE8eFfdwx35DY+Ujoa+3p47LaMv3cktGrqL25qbV7Rjd6S79nJ7vO0mT+GtU8Q6f46u/CniXUIdYzYDUba/SEQOE3iMxsijH3skEHt1OcLif8Jjr3/DPP8Awk327/icf8/Pkx/8/fl/d27fu8dP1rqfDXg2fSNbu9c13Wptb1i4iFuLl4hCkUIwdixqSBlhkn9ASxbmZ/hFqMvhqTw4vjK5XRUYva2n2JBsPmb/AN4wIMg5bjgbtrcbQK86nVy+VZOpKOkqbb5XZ2vzpJR0TutLJO2w9bGdeeLPGFtZeI/EB1eE6XoOuvbLYi2TzLqMTIpiaTHyKFYYYAsSzZ6Ctyx1bxnp/i/UtEv72z1e8k0J9TtYUthFHDP5hRYVbILJnjc5yQB05zdvPhz9r8J+I9E/tTZ/bmpvqHnfZ8+RukR9m3d833MZyOvStW98J/bfF9xrn9ozW/n6O2l7IBtkj3Sb/NWTPDDPHHXnPaipjMDKLiox6/Z7KHL0vvzX1v0elgszkvh/rfibVNegh1PxIl1JFAzapo+oaaLO5tSQNjR7R+8GcckgBWGRlgB6fXC6L8PdRtPFOm634g8TPrM2mQPDbZsUhfDLt+eQEs4ALHnnJznk57qvNzSpQqV1Kg01borK935Rv628tbXdRvbU8+ufjX4Ss7+e0uGvUkglaJz9nyMqcHGD7U6P42eCX+9qE6f71rJ/QGr918J/BV7cST3GiK0srl3YXEq5JOSeHqlJ8FvA7/d0yVP927l/qxrvjLIWlzKon/26T75Onxh8CydNcCn0a1mH/slWU+KfgqT7viC3H+8rr/MVjyfAzwa/3Yr2P/duT/UGqsnwC8Jv9251WP8A3Z0/qhqvZ5A9p1F8o/5B751cfxE8ISfd8R6eP96cL/OrKeNfC0n3PEmkn2+3R5/nXByfs+eHT/qtU1Rf95oz/wCyCq0n7PGlH/Va5eL/AL0Sn/Cj6tkb2ryX/bv/AAAvLsenR+JNDl/1Ws6e/wDu3SH+tWY9TsZf9Ve27/7sqn+tePyfs6wH/VeJZF/3rIH/ANnFVpP2dZx/qvEsbf71kR/7OaPqOTPbFtf9uMLy7HuKurjKMGHqDmlrwVv2etVQ5h160J9TE6/403/hRni6H/j28QWY9P38y/yU0f2Xlr+HGr/wFr9Q5pdj3yivA/8AhUfxGt/9R4hh/wC2eoTj/wBlFH/CvvizB/qdeuW9k1aQfzIo/sbCP4cZD8g5n2PfKK8D/wCEX+M0H+r1C8k/7iSH/wBCaj7D8brf+O8b/t4t3/qaP7Cpv4cXT/8AAg5vI98rmf8AmqU//YGi/wDR0leU/b/jdb9UvG/7drd//ZTWd/wkXxUg8SPPJY3Ump/ZFRl/s9SfJ3sQdqr03buaifDtWS92vSf/AG9/wC4VEnex9EUV4N/wsH4rQf67Qbg/7+kyD+QFH/C2/iHB/r/D0H/bTT5h/wCzCsP9V8a/hnB+kjb28T3mivBv+F5eK4f+PnQLMev7mVf5tSp+0FqinE2hWpPtMy/0NH+qmafZin/28g9vA94orxBP2h5R/rPDaN/u3pH/ALIasJ+0NAf9b4ckX/dvAf8A2QVk+F83X/Lr/wAmj/mP29PudRffF7RdH8X3uha1DPai2kCLdIPMRsqDyByOuOAa7PTNW0/WbQXOlXsF5Cf44XDAexx0Psa+S/FWtL4i8U3+rJE0K3Uu8Rs2SowBjP4VS07VL7SbtbnS7ye0nXpJDIVP046j2r6yrwbRq4eEqcnCpZXT1V7a+a182vIwWIaeux9m1znj/wD5Ee/+sX/o1K8i8OfHjV7HZD4itY9SiHBmjxHKPy+VvyH1rtta+IXhvxX4JvItMv1W6byv9FnGyX/WKeAeG/4CTXxmOyHMMBrUhePdar/gfNI6I1YS2Z6fRRRXAc4UUUUAUtb1L+x/D+oan5XnfYrWS48vdt37FLYzg4zjGcV5n8P/AIyXXivxidG1PTYYEu95s2tySY9oZtshJ+b5R94Acjpz8vq08EVzbyQXMSTQyqUkjkUMrqRggg8EEdq5Lwx8L/DfhLW59V0yGZ7iTIi+0OHFspzkR8ZHBxkknAxnk59fB1cBDC1oYiDdRr3X2/Hvr5rQl3vodhRRRXkFBXEeKf8AkrPgP/uIf+iFrt6xNU8Of2n4s0HW/tXlf2P9o/c+XnzvNjCfez8uMZ6HPtXZgqsKVVym7Llmvm4SS/FiZ5noGv8AiW58O+A9P0G+s9Pl1j+0VnYWUYjURucMI1UAMo3EAYDNjdkE0+88V+NbXwpq2rrrVsV8M6i9jNus0Lam4nAJcDAiUI6ABMk/Nk9COt0L4c/2L/wiv/E08/8A4R37Z/y77ftHn5/2jt2598+1F58OftfhPxHon9qbP7c1N9Q877PnyN0iPs27vm+5jOR16V9FLHZe660i48137nR1JX6X+Br06apWizsF7NeT/F6402zmhtXk8MM8V19ljeSKQz7Q24jcyjrsJ2kjp3qD4KRTx/Cywae585JJZmhTywvkp5jDbkfe+YM2T/ex2FdH/wAI5/xX/wDwk32r/mGf2f8AZvL/AOmvmb92fwxj8ag8DeF5/B3hlNGn1P8AtFIpXaF/s4i8tGOduATn5ixyT/FjsK8utiaMsE6MWr+507Kd9bdLrr3t1Ks73OiooorxSgooooAKKKKACiiigAooooAKKKKACiiigAooooAKKKKACiiigAooooA5jRv+R58Uf71r/wCia6Kud0b/AJHnxR/vWv8A6Jroq45fEzrj8KCiiipKCiiigAooooAKKKKAOc8X/wDMC/7DNt/M11Fcv4v/AOYF/wBhm2/ma6iuilsYVdwooorYxCiiigAooooAKKKKACiiigAooooAKKKKACiiigAooooAKKKKACiiigAooooAKKKKACiiigAooooAK5n/AJqlP/2Bov8A0dJXTVzP/NUp/wDsDRf+jpKzqfCaU/iOhooorlOkKayI4w6qw9xmnUUAVX0ywl/1tlbP/vRKf6VWfw3ocv8ArNF09/8AetUP9K06K1jWqx2k/vFZHyN4utQ3xA1m0062AC380cUEEfQByMKo+nQVtaH8IfF2tbXawGnQt/y0vW8s/wDfHLfpX0naaTp9hPNNZWNvBLcO0k0kcQVpGJySx6k59auV9vV4yrxpRpYamlZJXer+7T9TmWHV7tnk2h/APSLXbJr2oT379TFCPKj+h6sfzFdD4m8MaJ4f8CXy6NpdtaH90C6R/Of3qdWPJ/E13Fc54/8A+RHv/rF/6NSvlsXmuOxr/f1G122X3LQ3jTjHZHUUUUVkcoUUUUAFFZ3iGG9uPC+qQ6UXF9JZzJbGN9jCQoQuGyMHOOcjFeD/AAY/4ST/AIWZcf8AH55H7z+2fOz97DbfM3c7/M/4F97tur18HlqxWFrYj2iXs1ez6/5dl3ehLlZ2PomiiivIKCqt5qmn6e6Jf31tatIruizzKhZUXc5GTyFHJPYcmrVefeO9MstY+JfgWy1O3S5tna+d4pBlWKxI65HcZUcHg9DkV14OjCvV5JtpWk9N/di5foJuyO30/VNP1a3afSr62voVbY0ltMsihsA4ypIzgjj3qC08Q6Lf29xPY6xYXMNqu+4khukdYVwTliDhRgHk+hryLxFZf2dH8VLXQLb7KkcWmYhso9gWMrmT5V6LtLlu2C2e9T+A7dl8eaLc6dd+FY4msJYpoNBE7ySwBQymYMp2MH2fM5RieCWPFey8npewnWU3ZJNaf3Iz1++y9L7E82tj1q51vSrLT4b681Ozt7Ofb5VxLcKscm4ZG1icHIGRjtWb4K8VReMvC1vrEUSW7SM6SW6zCUwsrEYJwOSNrYwOGH1rzrwZBotz4us4Jormbw/Kt4nhWO5VGjdTkXYYD5yDztEv8Oc/Nium+Cn2X/hVlh9l8nzfNm+0+Xjd5nmNjfj+LZs68429sVli8vo4bDTerknHXbR8+lu65bS7STj0bbTbZ31FFFeAUFFFFABRRRQAUUUUAFFFFABRRRQAUUUUAFFFFABRRRQAUUUUAFFFFAHMaN/yPPij/etf/RNdFXO6N/yPPij/AHrX/wBE10VccviZ1x+FBRRRUlBRRRQAUUUUAFFFFAHOeL/+YF/2Gbb+ZrqK5fxn+7s9KuD92DWLMsfQNMsef/H66iuilsYVdwooorYxCiiigAooooAKKKKACiiigAooooAKKKKACiiigAooooAKKKKACiiigAooooAKKKKACiiigAooooAK5n/mqU//AGBov/R0ldNXMw/vvihqLLyLfSLVGP8AtPLOcfko/Os6nwmlP4joaKKK5TpCiiigAooooAKKKKACuc8f/wDIj3/1i/8ARqV0dc54/wD+RHv/AKxf+jUoA6iiiiu44gooooAKKZPPFbW8k9zKkMMSl5JJGCqigZJJPAAHesfRPGfh7xHqF1ZaJqkN3cWn+tRARxnG5SQA65/iXI5HPIzpGjUnBzjFtLd20XqBt0UUVmAVDLZWs93BdT20MlxbbvImeMF4tww21jyuRwcdamrE8T+LdN8J2kEuoedNPdSiG1s7VPMnuHJAwi5GcZGfqB1IB1o06lSahSV2+39feBqxWVrBdz3UFtDHcXO3z5kjAeXaMLuYctgcDPSqlp4e0Wwt7iCx0ewtobpdlxHDaoizLgjDADDDBPB9TXOy/EayuvA2s61o1tcve6WrpNp88GJreQEgebGDkKD8xIPCq3dSB5tonjHx3rHiDT9M/tzWIfttrHP5n/CPQNs3sF34yMwDOfNz/wABr2MNlWMrQnJy5FHR8zfRX6J7K1vwJcke5PpenyW9rBJY2zQ2bI9tG0KlYGQYUoMYUgdCOlGn6Xp+k27QaVY21jCzb2jtoVjUtgDOFAGcAc+1clYfFXRtQ1Czhj07WI7O+uvstrqctkVtZpCSFCvnPzFSBxkd8YOJNX+KegaPrFzYyRX91HZMiX17aW/mW9mzNtAkYHIIPUAHnjkggcrwGPcvZcku9vnb77/O47o7OiuI/wCEsv8A/hdn/COeTef2d/Zm/H2ddnm53edv67Nv7vOcb+Md67euSvh50OXn+0lJejGncKKKK5wCiiigAooooAKKKKACiiigAooooAKKKKACiiigAooooAKKKKAOY0b/AJHnxR/vWv8A6Jroq53Rv+R58Uf71r/6Jroq45fEzrj8KCiiipKCiiigAooooAKKKKAM3xDpX9ueHb7TRJ5T3MLJHJ/zzfqrfg2D+FHhjWjruhx3M8YhvImMF7b55hnQ4dfpnkHuCD3rSrntU0i9stVfXvDSxm9dAt5ZSNtjvkXp838MgHCv0xweMEaQlysiceZHTUVk6N4l0/WpHt4jJbX8IzNYXSeXPF7lT1X/AGlyp7Gtaum9zm2CiiimIKKKKACiiigAooooAKKKKACiiigAooooAKKKKACiiigAooooAKKKKACiiigAooooAKKKparrGn6JZ/atVuo7aLO1Sx5dj0VVHLMewAJNAyzc3MNnay3N1KsMEKF5JHOFRQMkk+mK5vwdHPc2t7rt7E0U2s3H2lI3GGjgCqkKn0OxQxHYuaga0vfGdxHJq9pJY6DC4kjsJxiW9Ycq0y/woDyIzySAWxjbXVVzVJ30RvTjbVhRRRWRqFFFFABRRRQAUUUUAFc54/8A+RHv/rF/6NSujrnPH/8AyI9/9Yv/AEalAHUUUUV3HEFFFFAFLW9O/tjw/qGmeb5P221kt/M27tm9SucZGcZzjNePfDP4UeIfD/jxdV1tYba30/zBEUkEn2osrJlcHKrg7ssAegxyce3UV6WFzPEYXD1MPTty1NHp8tPVaCcU3cKKKK80YVxHjy31Kz8ReGvE2n6bNqkGjyzrdWtrzOUmRU3IuPm28kj6dBkjt6K6MNXeHq89r7prummn+DBq55hZWGr6rpPxB1+fSLmxGu2ZisrGZT9pYRQPGCyAZBYkYXk9eowTP4Q0vULbxvoc9zY3MMMXgy3tpJJIWVUmEikxkkYDAfw9a9IorunmkpRnBRSTVvRKKivwSJ5TxvRW1ew8Zab/AMIz4W1vQBNePHq+nSxmTTShb55o5CQoYKoxtABwoXjh6Wp+GdUsvEfiGwvbPxbPHqt5Lc2g0K5C2VwsxPyzllxGeisTnjtgAt7jRXUs7nGfNGmtrbu+91rvptrd267WOU870zTLrQ/irosP9nXj2aeGI9O+1RoZYYpEcth5dqjomM4BJZflGePRKKK8nE4l4iUZSVmlb131KSsFFFFcoBRRRQAUUUUAFFFFABRRRQAUUUUAFFFFABRRRQAUUUUAFFFFAHMaN/yPPij/AHrX/wBE10Vc7o3/ACPPij/etf8A0TXRVxy+JnXH4UFFFFSUFFFFABRRRQAUUUUAFFFFAGdq2g6VrsaJq9hBd+WcxtInzRn1Vuqn3BFZI8CWMXFnquvWif3ItYnKj6BmOK6eii7A5n/hCY/+hi8Rf+DR6P8AhCY/+hi8Rf8Ag0eumop3YrI5n/hCY/8AoYvEX/g0ej/hCY/+hi8Rf+DR66aii7CyOZ/4QmP/AKGLxF/4NHo/4QmP/oYvEX/g0eumoouwsjmf+EJj/wChi8Rf+DR6P+EJj/6GLxF/4NHrpqKLsLI5n/hCY/8AoYvEX/g0ej/hCY/+hi8Rf+DR66aii7CyOZ/4QmP/AKGLxF/4NHo/4QmP/oYvEX/g0eumoouwsjmf+EJj/wChi8Rf+DR6P+EJj/6GLxF/4NHrpqKLsLI5n/hCY/8AoYvEX/g0ej/hCY/+hi8Rf+DR66aii7CyOZ/4QmP/AKGLxF/4NHo/4QmP/oYvEX/g0eumoouwsjmf+EJj/wChi8Rf+DR6P+EJj/6GLxF/4NHrpqKLsLI5n/hCY/8AoYvEX/g0ej/hCY/+hi8Rf+DR66aii7CyOZ/4QmP/AKGLxF/4NHo/4QmP/oYvEX/g0eumoouwsjmf+EJj/wChi8Rf+DR6P+EJj/6GLxF/4NHrpqKLsLI5n/hB7duJtd8RSr3U6vMufxUg/rVzS/COh6PdC6srBTdgEC6ndppsHqPMclv1raoouwsgooopDCiiigAooooAKKKKACiiigArnPH/APyI9/8AWL/0aldHXOeP/wDkR7/6xf8Ao1KAOooooruOIKKKKAKuqahFpOj3mpXKu0NnA88ixgFiqKWIGSBnA9a4XwX8YdN8X+JpNG/s+axeTcbN3ff54UEkMAPkbaM4yRwRnpnvr2zg1HT7iyvI/Mt7mJoZUyRuRhgjI5HB7VwPgv4Pab4Q8TSaz/aE188e4WaOmzyAwIJYg/O204zgDknHTHr4P+zvqtb6zf2lvctff8t979NtSXe+h6JRRRXkFBXH+MvEuuaR4i0DSfDllZ3c+r/aVIumZQhRFIbIP3V3FmGCSFwME12Fed/EKLUpviH4JXQ7mG2vx9vaF5498ZIiU7WA52sAVJHIDZHIFejllOFTE2mk1yzeu2kJNXtra6FLYtaf421f+w/FUOs2FtBrvhuB5ZPJJa2mBjaSJl53AELyCc9OhJC4c/xI8U2mj6TNf2OiWdxr6xvp7z3BSGBFUGWSdiwGGDKUVTkBiCSwAbc0/wAE6v8A2H4qm1m/tp9d8SQPFJ5IK20IEbRxKvG4gBuSRnp1IJaDXPh5e6j4X8MR20tg+q+H4I4hDexebZ3A2IkiuCucfJkHGfoSGX16csuVa0lGza72T5On93n/AA8ifesM0/x/quoeCfEdxB/Y8uuaDl5DBI0tpNEBvEisp/iRXAG7IZfm25wDx740f/hEtNTSLSGb+37Ce5aO/Vgn2VLYyyKTG4IcqQBg468jg1v+DPDd1oVvdTajFpUF3eMpe30izWC3iVQQoB2h3JySSxOCcAAcnA074Xvpdp4kiguoZPtlhPp2kIwZRaW8heQo55LfvJOp3HCA5+baM4VMvjiJS0Si01vrdJPXtGXvLyuk9rmtiO28U601n4Y8O+DdNsFvp9Egv5nvXf7NbwbAoVcMXJ3YHUkcZzklZIPiNqU+iaRLJp8NrqLeIotD1OGT50R+fMaMq30xnOOR82AS+TwT4i0x9A1Xw1f2C6vp+kx6Vdw3oZraaNVzlSo3gh+e2eOmCGgf4cavD4RtY7bVLa41+PW012eW5Qi3luP4l+QAhe+cckdFz8ut8ulZycdX53veV79Lbfh5hqbmqeK9QsPG95pFtYpeQ2+gPqkcUYbzpplkKiMEZGCBj7pOT+FY/gPxn4n8T3dnNcpoN7pk8TG5bTZnWewfB2iWOQ5+YqygAHP3s4HM2meFPFz+L7vxBreq6bFdXGjvYQmxiYraSGQMhVXHzqMbjuOcsVxgA1DoPg3xUPHll4j8R3OjxS29q0FxJpglEmoZUKvnA4Xj72QOqqMYC7cuXBQoTheLkorXV62eiWnXqno7XTiGtz0SiiivmywooooAKKKKACiiigAooooAKKKKACiiigAooooAKKKKAOY0b/kefFH+9a/+ia6Kud0b/kefFH+9a/8Aomuirjl8TOuPwoKKKKkoKKKKACiiigAooooAKKKKACiiigAooooAKKKKACiiigAooooAKKKKACiiigAooooAKKKKACiiigAooooAKKKKACiiigAooooAKKKKACiiigAooooAKKKKACiiigAooooAK5zx/wD8iPf/AFi/9GpXR1zXxDJT4eazKBnyLczf98EP/wCy0AdVRQCCMjkGiu44gooooAKKzvEM17b+F9Um0oOb6Ozme2Eab2MgQlcLg5OccYOa8R+EXjbxTqvxEFpfX9zqNperJJdLNl1gwrMHXtGNxC4GF+YDGduPVwmV1MXhquJhJJU9Wnv3E5Wdj3+iiivKGFYmqanpVr4s0GxvbLztRvftH2G48pW8jZGDJ8xOV3LgfL171t1534y0awu/jF4HuLiDfLJ9p3NvYZ8hPNi6H+F2J9+hyOK7sBThVquM20uWb08ot+Xb57dRPY9ErL/4SC1/4S//AIRzy5vtn2D7fv2jy/L8zZjOc7s+2Md68lvtN03xBaePPEet6nMNa0S/mh0+VbvyjZpCcwBFGMbnyvPUg4w2SdXwvZwaj8XNH1m8j8y/ufCkGoyzZI3XDbYi+0cD5DjAGO+M816f9lUqdOc5zb5Yvp9qya66rXfR+QuY9ZrLsPEFrqPiLVtGgjmW40nyfPZ1ARvNQsu0g5PA5yB+NeB+I4n1HwvL4zstO+ybrrdDrWpaozX14/nYUxRx7Y42QIQV28KPl+7mvWfC3/JWfHn/AHD/AP0Q1GIymGGoTqSldpPTTSSlBPZu+kvJ90noCldnb0UUV88UFFFFABRRRQAUUUUAFFFFABRRRQAUUUUAFFFFABRRRQAUUUUAFFFFAHMaN/yPPij/AHrX/wBE10Vc7oH73xd4rnHRb2C3B/3baJj+sldFXHL4mdcfhQUUUVJQUUUUAFFFFABRRRQAUUUUAFFFFABRRRQAUUUUAFFFFABRRRQAUUUUAFFFFABRRRQAUUUUAFFFFABRRRQAUUUUAFFFFABRRRQAUUUUAFFFFABRRRQAUUUUAFFFFABRRRQAVW1Kxi1TSrvT7kZhu4XgkHqrKVP6GrNFAGR4N1CXUvCVi90QbuBTa3Q9JoiY5Pp8yk/QityuTH/FMeM3mPyaVrrDzG/hgvQAoJ9BKuBn+8g7tXWV1wldHLJWYUUUVZAVVtNL0+wuLiexsba2mum33EkMKo0zZJyxAyxyTyfU1aopqTSaT3AKKKKQBWXq3hrSdc1DTr3VLTz7jTJfOtH8x18t8qc4UgHlF656VqUVcKk6cuaDafkBzureAPC+ua2mr6ro8NzertzIzMA+3pvUEK/p8wOQADwMVeuPDWk3Xia18QT2m7VLSIww3HmONiEMMbQdp++3Ud/pWpRWv1rENKLm7JWWr2e69H2CyOPf4T+CHkuZG0CEG5zvCyyADLBvkAbCcj+HHGR0JFdHa6NYWWrX+p20Gy81Hy/tUm9j5nlrtTgnAwDjgD3q7RTqYvE1VapUk15tvt/kvuXYLIKKKK5gCiiigAooooAKKKKACiiigAooooAKKKKACiiigAooooAKKKKACkkdIo2kkYIigszMcAAd6WuW8XO2szQeFbNzm9w+pOh5htAfmBPYyEbB7Fz/AA1LdlcpK7sO8EBp/DzatICJNYuJNQwR0SQ/uh+EQjH4V0VNjjSKNY4lVEQBVVRgADoBTq4zrCiiigAooooAKKKKACiiigAooooAKKKKACiiigAooooAKKKKACiiigAooooAKKKKACiiigAooooAKKKKACiiigAooooAKKKKACiiigAooooAKKKKACiiigAooooAKKKKACiiigAooooAr39jbanp89lfwrPbToUkjbowP+etYOn6xceGpk0nxTMWtshLLWJD8kw6LHM3RJegyeH6jnIrpqjuLeG7t5Le6iSaGVSrxyKGVweoIPUVUZOL0JlFSWpZorkl8O6toAB8I6mDar00vUy0kIHpHIPnj+nzKOyinnxdqtm2zV/CGqIe0mnvHdxn8mV/zUV0KpFmDpyR1VFcv/wn1kOJNG8RI3p/Ylw36qhFH/Cfaf8A9AnxF/4Irr/43Vc0e5PLLsdRRXL/APCfaf8A9AnxF/4Irr/43R/wn2n/APQJ8Rf+CK6/+N0c0e4csux1FFcv/wAJ9p//AECfEX/giuv/AI3R/wAJ9p//AECfEX/giuv/AI3RzR7hyy7HUUVy/wDwn2n/APQJ8Rf+CK6/+N0f8J9p/wD0CfEX/giuv/jdHNHuHLLsdRRXL/8ACfaf/wBAnxF/4Irr/wCN0f8ACfaf/wBAnxF/4Irr/wCN0c0e4csux1FFcv8A8J9p/wD0CfEX/giuv/jdH/Cfaf8A9AnxF/4Irr/43RzR7hyy7HUUVy//AAn2n/8AQJ8Rf+CK6/8AjdH/AAn2n/8AQJ8Rf+CK6/8AjdHNHuHLLsdRRXL/APCfaf8A9AnxF/4Irr/43R/wn2n/APQJ8Rf+CK6/+N0c0e4csux1FFcv/wAJ9p//AECfEX/giuv/AI3R/wAJ9p//AECfEX/giuv/AI3RzR7hyy7HUUVy/wDwn2n/APQJ8Rf+CK6/+N0f8J9p/wD0CfEX/giuv/jdHNHuHLLsdRRXL/8ACfaf/wBAnxF/4Irr/wCN0f8ACfaf/wBAnxF/4Irr/wCN0c0e4csux1FFcv8A8J9p/wD0CfEX/giuv/jdH/Cfaf8A9AnxF/4Irr/43RzR7hyy7HUUVy//AAn2n/8AQJ8Rf+CK6/8AjdH/AAn2n/8AQJ8Rf+CK6/8AjdHNHuHLLsdRRXL/APCfaf8A9AnxF/4Irr/43R/wn1h20jxET6f2Hdf/ABFHNHuHLLsdRRXKnxrcTkJpvhPX7iRunm26W6fi0jjH5E0jWvivXTjULuHw/ZHrBp7+dcuPeZlCp/wFSf8AaqXUiilCTLut+JPslz/ZeiQrqOtOBttg2Etwf+WkzD7ifq3RQe0ug6KNHs386c3d9cv515duMNPIRjOOygABV6AACpdI0Ww0Ky+y6ZbiJGYu7FizyuerOxyWY+pJNX6wlNyNoxUQoooqCwooooAKKKKACiiigAooooAKKKKACiiigAooooAKKKKACiiigAooooAKKKKACiiigAooooAKKKKACiiigAooooAKKKKACiiigAooooAKKKKACiiigAooooAKKKKACiiigAooooAKKKKACiiigAooooAKKKKACiiigAooooAKKKKACiiigAooooAKKKKACiiigAooooAKKKKACiiigAooooAKKKKACiiigAooooAKKKKACiiigAooooAKKKKACiiigAooooAKKKKACiiigAooooAKKKKACiiigAooooAKKKKACiiigAooooAKKKKACiiigAooooAKKKKACiiigAooooAKKKKACiiigAooooAKKKKACiiigAooooAKKKKACiiigAooooAKKKKACiiigAooooAKKKKACiiigAooooAKKKKACiiigAooooAKKKKACiiigAooooAKKKKACiiigAooooAKKKKACiiigAooooAKKKKACiiigAooooAKKKKACiiigAooooAKKKKACiiigAooooAKKKKACiiigAooooAKKKKACiiigAooooAKKKKACiiigAooooAKKKKACiiigAooooAKKKKACiiigAooooAKKKKACiiigAooooAKKKKACiiigAooooAKKKKACiiigAooooAKKKKACiiigAooooAKKKKACiiigAooooAKKKKACiiigAooooAKKKKACiiigAooooAKKKKACiiigD//2Q==\"\n",
      "  }, \n",
      "  \"form\": {}, \n",
      "  \"headers\": {\n",
      "    \"Accept\": \"*/*\", \n",
      "    \"Accept-Encoding\": \"gzip, deflate\", \n",
      "    \"Content-Length\": \"40118\", \n",
      "    \"Content-Type\": \"multipart/form-data; boundary=076a6f02bbbb121d509e41e3e604559a\", \n",
      "    \"Host\": \"httpbin.org\", \n",
      "    \"User-Agent\": \"python-requests/2.23.0\", \n",
      "    \"X-Amzn-Trace-Id\": \"Root=1-5ee26e12-5ad2a1f9e0637202c20d5bf8\"\n",
      "  }, \n",
      "  \"json\": null, \n",
      "  \"origin\": \"207.172.128.151\", \n",
      "  \"url\": \"http://httpbin.org/post\"\n",
      "}\n",
      "\n"
     ]
    }
   ],
   "source": [
    "import requests\n",
    "\n",
    "url = 'http://httpbin.org/post'  \n",
    "file_list = [  \n",
    "    ('image', ('fi.png', open('images/json_diagram1.JPG', 'rb'), 'image/png')),\n",
    "    ('image', ('fi2.jpeg', open('images/logo.png', 'rb'), 'image/png'))\n",
    "]\n",
    "\n",
    "r = requests.post(url, files=file_list)  \n",
    "print(r.text)  "
   ]
  },
  {
   "cell_type": "markdown",
   "metadata": {},
   "source": [
    "![](quota.png)"
   ]
  },
  {
   "cell_type": "markdown",
   "metadata": {},
   "source": [
    "\n",
    "## Generating Access Tokens\n",
    "\n",
    "As discussed, in order to use many APIs, one needs to use OAuth which requires an access token. As such, our first step will be to generate this login information so that we can start making some requests.  \n",
    "\n",
    "With that, lets go grab an access token from an API site and make some API calls!\n",
    "Point your browser over to this [yelp page](https://www.yelp.com/developers/v3/manage_app) and start creating an app in order to obtain and api access token:"
   ]
  },
  {
   "cell_type": "markdown",
   "metadata": {},
   "source": [
    "\n",
    "![](./images/yelp_app.png)"
   ]
  },
  {
   "cell_type": "markdown",
   "metadata": {},
   "source": [
    "You can either sign in to an existing Yelp account, or create a new one, if needed.\n",
    "\n",
    "On the page you see above, simply fill out some sample information such as \"Flatiron Edu API Example\" for the app name, or whatever floats your boat. Afterwards, you should be presented with an API key that you can use to make requests!\n",
    "\n",
    "With that, it's time to start making some api calls!"
   ]
  },
  {
   "cell_type": "code",
   "execution_count": 54,
   "metadata": {},
   "outputs": [
    {
     "data": {
      "text/plain": [
       "['YELP']"
      ]
     },
     "execution_count": 54,
     "metadata": {},
     "output_type": "execute_result"
    }
   ],
   "source": [
    "import configparser\n",
    "config = configparser.ConfigParser()\n",
    "config.read('./secrets.cfg')\n",
    "config.sections()"
   ]
  },
  {
   "cell_type": "code",
   "execution_count": 55,
   "metadata": {},
   "outputs": [],
   "source": [
    "client_id = config['YELP']['ClientId']\n",
    "api_key = config['YELP']['ApiKey']"
   ]
  },
  {
   "cell_type": "markdown",
   "metadata": {},
   "source": [
    "## An Example Request with OAuth <a id=\"oauth_request\"></a>\n",
    "https://www.yelp.com/developers/documentation/v3/get_started\n",
    "\n",
    "In the next lesson, we'll further dissect how to read and translate online documentation like the link here. For now, let's simply look at an example request and dissect it into its consituent parts:"
   ]
  },
  {
   "cell_type": "code",
   "execution_count": 58,
   "metadata": {},
   "outputs": [
    {
     "name": "stdout",
     "output_type": "stream",
     "text": [
      "<Response [200]>\n",
      "{'businesses': [{'id': 'yvva7IYpD6J7OfKlCdQrkw', 'alias': 'mi-espiguita-taqueria-astoria', 'name': 'Mi Espiguita Taqueria', 'image_url': 'https://s3-media2.fl.yelpcdn.com/bphoto/R6xTyUnL-PAH0S8CLPkv8g/o.jpg', 'is_closed': False, 'url': 'https://www.yelp.com/biz/mi-espiguita-taqueria-astoria?adjust_creative=bVX1Jsfp4dkIOqw5HOVplg&utm_campaign=yelp_api_v3&utm_medium=api_v3_business_search&utm_source=bVX1Jsfp4dkIOqw5HOVplg', 'review_count': 114, 'categories': [{'alias': 'mexican', 'title': 'Mexican'}], 'rating': 4.5, 'coordinates': {'latitude': 40.7612033639422, 'longitude': -73.9261436462402}, 'transactions': ['pickup', 'delivery'], 'price': '$', 'location': {'address1': '32-44 31st St', 'address2': '', 'address3': '', 'city': 'Astoria', 'zip_code': '11106', 'country': 'US', 'state': 'NY', 'display_address': ['32-44 31st St', 'Astoria, NY 11106']}, 'phone': '+17187775648', 'display_phone': '(718) 777-5648', 'distance': 714.301080232381}, {'id': 'AUyKmFjpaVLwc3awfUnqgQ', 'alias': 'chela-and-garnacha-astoria', 'name': 'Chela & Garnacha', 'image_url': 'https://s3-media1.fl.yelpcdn.com/bphoto/ChVbA1_xqLHFXL4Iyh84NA/o.jpg', 'is_closed': False, 'url': 'https://www.yelp.com/biz/chela-and-garnacha-astoria?adjust_creative=bVX1Jsfp4dkIOqw5HOVplg&utm_campaign=yelp_api_v3&utm_medium=api_v3_business_search&utm_source=bVX1Jsfp4dkIOqw5HOVplg', 'review_count': 377, 'categories': [{'alias': 'mexican', 'title': 'Mexican'}, {'alias': 'wine_bars', 'title': 'Wine Bars'}, {'alias': 'breakfast_brunch', 'title': 'Breakfast & Brunch'}], 'rating': 4.5, 'coordinates': {'latitude': 40.7557171543477, 'longitude': -73.927811292412}, 'transactions': ['pickup', 'delivery'], 'price': '$$', 'location': {'address1': '33-09 36th Ave', 'address2': '', 'address3': '', 'city': 'Astoria', 'zip_code': '11106', 'country': 'US', 'state': 'NY', 'display_address': ['33-09 36th Ave', 'Astoria, NY 11106']}, 'phone': '+19178326876', 'display_phone': '(917) 832-6876', 'distance': 1318.3265473785546}, {'id': 'jzVv_21473lAMYXIhVbuTA', 'alias': 'de-mole-astoria-astoria', 'name': 'De Mole Astoria', 'image_url': 'https://s3-media4.fl.yelpcdn.com/bphoto/w56szEF0EMQ2s8DBGv4icg/o.jpg', 'is_closed': False, 'url': 'https://www.yelp.com/biz/de-mole-astoria-astoria?adjust_creative=bVX1Jsfp4dkIOqw5HOVplg&utm_campaign=yelp_api_v3&utm_medium=api_v3_business_search&utm_source=bVX1Jsfp4dkIOqw5HOVplg', 'review_count': 371, 'categories': [{'alias': 'mexican', 'title': 'Mexican'}], 'rating': 4.0, 'coordinates': {'latitude': 40.7625999, 'longitude': -73.9129028}, 'transactions': ['pickup', 'delivery'], 'price': '$$', 'location': {'address1': '4220 30th Ave', 'address2': '', 'address3': '', 'city': 'Astoria', 'zip_code': '11103', 'country': 'US', 'state': 'NY', 'display_address': ['4220 30th Ave', 'Astoria, NY 11103']}, 'phone': '+17187771655', 'display_phone': '(718) 777-1655', 'distance': 915.60744589032}, {'id': '6rM-N1SBbKPC7DWZNg5awQ', 'alias': 'los-portales-astoria-2', 'name': 'Los Portales', 'image_url': 'https://s3-media1.fl.yelpcdn.com/bphoto/w1OHgtRsf6gmODq79uekNA/o.jpg', 'is_closed': False, 'url': 'https://www.yelp.com/biz/los-portales-astoria-2?adjust_creative=bVX1Jsfp4dkIOqw5HOVplg&utm_campaign=yelp_api_v3&utm_medium=api_v3_business_search&utm_source=bVX1Jsfp4dkIOqw5HOVplg', 'review_count': 271, 'categories': [{'alias': 'mexican', 'title': 'Mexican'}], 'rating': 4.0, 'coordinates': {'latitude': 40.7631768211379, 'longitude': -73.9282260153443}, 'transactions': ['pickup', 'delivery'], 'price': '$', 'location': {'address1': '2508 Broadway', 'address2': '', 'address3': '', 'city': 'Astoria', 'zip_code': '11105', 'country': 'US', 'state': 'NY', 'display_address': ['2508 Broadway', 'Astoria, NY 11105']}, 'phone': '+17182046736', 'display_phone': '(718) 204-6736', 'distance': 654.4521994969878}, {'id': 'EHUNrnIgnhwTnpOm3gEESg', 'alias': 'tacuba-astoria', 'name': 'Tacuba', 'image_url': 'https://s3-media2.fl.yelpcdn.com/bphoto/ijC8aZ2qZN3ZupFELYvZ8Q/o.jpg', 'is_closed': False, 'url': 'https://www.yelp.com/biz/tacuba-astoria?adjust_creative=bVX1Jsfp4dkIOqw5HOVplg&utm_campaign=yelp_api_v3&utm_medium=api_v3_business_search&utm_source=bVX1Jsfp4dkIOqw5HOVplg', 'review_count': 657, 'categories': [{'alias': 'mexican', 'title': 'Mexican'}, {'alias': 'tapas', 'title': 'Tapas Bars'}, {'alias': 'latin', 'title': 'Latin American'}], 'rating': 4.0, 'coordinates': {'latitude': 40.75585, 'longitude': -73.92447}, 'transactions': ['pickup', 'delivery'], 'price': '$$', 'location': {'address1': '35-01 36th St', 'address2': '', 'address3': '', 'city': 'Astoria', 'zip_code': '11106', 'country': 'US', 'state': 'NY', 'display_address': ['35-01 36th St', 'Astoria, NY 11106']}, 'phone': '+17187862727', 'display_phone': '(718) 786-2727', 'distance': 1229.3517053099579}, {'id': 'jeWIYbgBho9vBDhc5S1xvg', 'alias': 'chanos-cantina-astoria', 'name': \"Chano's Cantina\", 'image_url': 'https://s3-media1.fl.yelpcdn.com/bphoto/B34FXjfQrAxMkWUpb3Pv5A/o.jpg', 'is_closed': False, 'url': 'https://www.yelp.com/biz/chanos-cantina-astoria?adjust_creative=bVX1Jsfp4dkIOqw5HOVplg&utm_campaign=yelp_api_v3&utm_medium=api_v3_business_search&utm_source=bVX1Jsfp4dkIOqw5HOVplg', 'review_count': 172, 'categories': [{'alias': 'mexican', 'title': 'Mexican'}], 'rating': 4.0, 'coordinates': {'latitude': 40.756621, 'longitude': -73.929336}, 'transactions': ['pickup', 'delivery'], 'price': '$$', 'location': {'address1': '35-55 31st St', 'address2': '', 'address3': '', 'city': 'Astoria', 'zip_code': '11106', 'country': 'US', 'state': 'NY', 'display_address': ['35-55 31st St', 'Astoria, NY 11106']}, 'phone': '+19178327261', 'display_phone': '(917) 832-7261', 'distance': 1290.4274875130448}, {'id': '6AJwsgXr7YwsqneGVAdgzw', 'alias': 'las-catrinas-mexican-bar-and-eatery-astoria', 'name': 'Las Catrinas Mexican Bar & Eatery', 'image_url': 'https://s3-media4.fl.yelpcdn.com/bphoto/xJzg6WXKJdc1EkJUvkr_qw/o.jpg', 'is_closed': False, 'url': 'https://www.yelp.com/biz/las-catrinas-mexican-bar-and-eatery-astoria?adjust_creative=bVX1Jsfp4dkIOqw5HOVplg&utm_campaign=yelp_api_v3&utm_medium=api_v3_business_search&utm_source=bVX1Jsfp4dkIOqw5HOVplg', 'review_count': 320, 'categories': [{'alias': 'cocktailbars', 'title': 'Cocktail Bars'}, {'alias': 'tacos', 'title': 'Tacos'}], 'rating': 4.0, 'coordinates': {'latitude': 40.7614214682633, 'longitude': -73.9246649456171}, 'transactions': ['pickup', 'delivery'], 'price': '$$', 'location': {'address1': '32-02 Broadway', 'address2': '', 'address3': None, 'city': 'Astoria', 'zip_code': '11106', 'country': 'US', 'state': 'NY', 'display_address': ['32-02 Broadway', 'Astoria, NY 11106']}, 'phone': '+19177450969', 'display_phone': '(917) 745-0969', 'distance': 642.5257707161409}, {'id': 'anBWvFPOce4nl3qLX-H6Rg', 'alias': 'el-mero-mero-long-island-city', 'name': 'El Mero Mero', 'image_url': 'https://s3-media2.fl.yelpcdn.com/bphoto/7tp30klraR5JTG73cKSt9A/o.jpg', 'is_closed': False, 'url': 'https://www.yelp.com/biz/el-mero-mero-long-island-city?adjust_creative=bVX1Jsfp4dkIOqw5HOVplg&utm_campaign=yelp_api_v3&utm_medium=api_v3_business_search&utm_source=bVX1Jsfp4dkIOqw5HOVplg', 'review_count': 91, 'categories': [{'alias': 'mexican', 'title': 'Mexican'}], 'rating': 4.5, 'coordinates': {'latitude': 40.753834323302, 'longitude': -73.923701159656}, 'transactions': ['pickup', 'delivery'], 'price': '$$', 'location': {'address1': '35-57 38th St', 'address2': '', 'address3': None, 'city': 'Long Island City', 'zip_code': '11101', 'country': 'US', 'state': 'NY', 'display_address': ['35-57 38th St', 'Long Island City, NY 11101']}, 'phone': '+17183922444', 'display_phone': '(718) 392-2444', 'distance': 1457.1140726924923}, {'id': 'yqU1-chsjix3T4EMY2MyxA', 'alias': 'athens-grill-and-sports-bar-astoria', 'name': 'Athens Grill & Sports Bar', 'image_url': 'https://s3-media4.fl.yelpcdn.com/bphoto/VWk0D3GU0kkFUd1d_yPNHg/o.jpg', 'is_closed': False, 'url': 'https://www.yelp.com/biz/athens-grill-and-sports-bar-astoria?adjust_creative=bVX1Jsfp4dkIOqw5HOVplg&utm_campaign=yelp_api_v3&utm_medium=api_v3_business_search&utm_source=bVX1Jsfp4dkIOqw5HOVplg', 'review_count': 196, 'categories': [{'alias': 'mexican', 'title': 'Mexican'}, {'alias': 'sportsbars', 'title': 'Sports Bars'}], 'rating': 4.0, 'coordinates': {'latitude': 40.76734, 'longitude': -73.92178}, 'transactions': [], 'price': '$', 'location': {'address1': '3011 30th Ave', 'address2': '', 'address3': '', 'city': 'Astoria', 'zip_code': '11102', 'country': 'US', 'state': 'NY', 'display_address': ['3011 30th Ave', 'Astoria, NY 11102']}, 'phone': '+17187775366', 'display_phone': '(718) 777-5366', 'distance': 56.655613880395165}, {'id': '7RgdHGMY9Xa2Ur5y7vSBZQ', 'alias': 'homemade-taqueria-long-island-city', 'name': 'Homemade Taqueria', 'image_url': 'https://s3-media2.fl.yelpcdn.com/bphoto/vRCMqoJ-Ng4KKCS4j_nung/o.jpg', 'is_closed': False, 'url': 'https://www.yelp.com/biz/homemade-taqueria-long-island-city?adjust_creative=bVX1Jsfp4dkIOqw5HOVplg&utm_campaign=yelp_api_v3&utm_medium=api_v3_business_search&utm_source=bVX1Jsfp4dkIOqw5HOVplg', 'review_count': 348, 'categories': [{'alias': 'tacos', 'title': 'Tacos'}], 'rating': 4.0, 'coordinates': {'latitude': 40.7546939084048, 'longitude': -73.9165629007979}, 'transactions': ['pickup', 'delivery'], 'price': '$', 'location': {'address1': '45-09 34th Ave', 'address2': '', 'address3': '', 'city': 'Long Island City', 'zip_code': '11101', 'country': 'US', 'state': 'NY', 'display_address': ['45-09 34th Ave', 'Long Island City, NY 11101']}, 'phone': '+17182551349', 'display_phone': '(718) 255-1349', 'distance': 1436.5909009267687}], 'total': 685, 'region': {'center': {'longitude': -73.92219543457031, 'latitude': 40.76688875374591}}}\n"
     ]
    },
    {
     "data": {
      "text/plain": [
       "{'businesses': [{'id': 'yvva7IYpD6J7OfKlCdQrkw',\n",
       "   'alias': 'mi-espiguita-taqueria-astoria',\n",
       "   'name': 'Mi Espiguita Taqueria',\n",
       "   'image_url': 'https://s3-media2.fl.yelpcdn.com/bphoto/R6xTyUnL-PAH0S8CLPkv8g/o.jpg',\n",
       "   'is_closed': False,\n",
       "   'url': 'https://www.yelp.com/biz/mi-espiguita-taqueria-astoria?adjust_creative=bVX1Jsfp4dkIOqw5HOVplg&utm_campaign=yelp_api_v3&utm_medium=api_v3_business_search&utm_source=bVX1Jsfp4dkIOqw5HOVplg',\n",
       "   'review_count': 114,\n",
       "   'categories': [{'alias': 'mexican', 'title': 'Mexican'}],\n",
       "   'rating': 4.5,\n",
       "   'coordinates': {'latitude': 40.7612033639422,\n",
       "    'longitude': -73.9261436462402},\n",
       "   'transactions': ['pickup', 'delivery'],\n",
       "   'price': '$',\n",
       "   'location': {'address1': '32-44 31st St',\n",
       "    'address2': '',\n",
       "    'address3': '',\n",
       "    'city': 'Astoria',\n",
       "    'zip_code': '11106',\n",
       "    'country': 'US',\n",
       "    'state': 'NY',\n",
       "    'display_address': ['32-44 31st St', 'Astoria, NY 11106']},\n",
       "   'phone': '+17187775648',\n",
       "   'display_phone': '(718) 777-5648',\n",
       "   'distance': 714.301080232381},\n",
       "  {'id': 'AUyKmFjpaVLwc3awfUnqgQ',\n",
       "   'alias': 'chela-and-garnacha-astoria',\n",
       "   'name': 'Chela & Garnacha',\n",
       "   'image_url': 'https://s3-media1.fl.yelpcdn.com/bphoto/ChVbA1_xqLHFXL4Iyh84NA/o.jpg',\n",
       "   'is_closed': False,\n",
       "   'url': 'https://www.yelp.com/biz/chela-and-garnacha-astoria?adjust_creative=bVX1Jsfp4dkIOqw5HOVplg&utm_campaign=yelp_api_v3&utm_medium=api_v3_business_search&utm_source=bVX1Jsfp4dkIOqw5HOVplg',\n",
       "   'review_count': 377,\n",
       "   'categories': [{'alias': 'mexican', 'title': 'Mexican'},\n",
       "    {'alias': 'wine_bars', 'title': 'Wine Bars'},\n",
       "    {'alias': 'breakfast_brunch', 'title': 'Breakfast & Brunch'}],\n",
       "   'rating': 4.5,\n",
       "   'coordinates': {'latitude': 40.7557171543477,\n",
       "    'longitude': -73.927811292412},\n",
       "   'transactions': ['pickup', 'delivery'],\n",
       "   'price': '$$',\n",
       "   'location': {'address1': '33-09 36th Ave',\n",
       "    'address2': '',\n",
       "    'address3': '',\n",
       "    'city': 'Astoria',\n",
       "    'zip_code': '11106',\n",
       "    'country': 'US',\n",
       "    'state': 'NY',\n",
       "    'display_address': ['33-09 36th Ave', 'Astoria, NY 11106']},\n",
       "   'phone': '+19178326876',\n",
       "   'display_phone': '(917) 832-6876',\n",
       "   'distance': 1318.3265473785546},\n",
       "  {'id': 'jzVv_21473lAMYXIhVbuTA',\n",
       "   'alias': 'de-mole-astoria-astoria',\n",
       "   'name': 'De Mole Astoria',\n",
       "   'image_url': 'https://s3-media4.fl.yelpcdn.com/bphoto/w56szEF0EMQ2s8DBGv4icg/o.jpg',\n",
       "   'is_closed': False,\n",
       "   'url': 'https://www.yelp.com/biz/de-mole-astoria-astoria?adjust_creative=bVX1Jsfp4dkIOqw5HOVplg&utm_campaign=yelp_api_v3&utm_medium=api_v3_business_search&utm_source=bVX1Jsfp4dkIOqw5HOVplg',\n",
       "   'review_count': 371,\n",
       "   'categories': [{'alias': 'mexican', 'title': 'Mexican'}],\n",
       "   'rating': 4.0,\n",
       "   'coordinates': {'latitude': 40.7625999, 'longitude': -73.9129028},\n",
       "   'transactions': ['pickup', 'delivery'],\n",
       "   'price': '$$',\n",
       "   'location': {'address1': '4220 30th Ave',\n",
       "    'address2': '',\n",
       "    'address3': '',\n",
       "    'city': 'Astoria',\n",
       "    'zip_code': '11103',\n",
       "    'country': 'US',\n",
       "    'state': 'NY',\n",
       "    'display_address': ['4220 30th Ave', 'Astoria, NY 11103']},\n",
       "   'phone': '+17187771655',\n",
       "   'display_phone': '(718) 777-1655',\n",
       "   'distance': 915.60744589032},\n",
       "  {'id': '6rM-N1SBbKPC7DWZNg5awQ',\n",
       "   'alias': 'los-portales-astoria-2',\n",
       "   'name': 'Los Portales',\n",
       "   'image_url': 'https://s3-media1.fl.yelpcdn.com/bphoto/w1OHgtRsf6gmODq79uekNA/o.jpg',\n",
       "   'is_closed': False,\n",
       "   'url': 'https://www.yelp.com/biz/los-portales-astoria-2?adjust_creative=bVX1Jsfp4dkIOqw5HOVplg&utm_campaign=yelp_api_v3&utm_medium=api_v3_business_search&utm_source=bVX1Jsfp4dkIOqw5HOVplg',\n",
       "   'review_count': 271,\n",
       "   'categories': [{'alias': 'mexican', 'title': 'Mexican'}],\n",
       "   'rating': 4.0,\n",
       "   'coordinates': {'latitude': 40.7631768211379,\n",
       "    'longitude': -73.9282260153443},\n",
       "   'transactions': ['pickup', 'delivery'],\n",
       "   'price': '$',\n",
       "   'location': {'address1': '2508 Broadway',\n",
       "    'address2': '',\n",
       "    'address3': '',\n",
       "    'city': 'Astoria',\n",
       "    'zip_code': '11105',\n",
       "    'country': 'US',\n",
       "    'state': 'NY',\n",
       "    'display_address': ['2508 Broadway', 'Astoria, NY 11105']},\n",
       "   'phone': '+17182046736',\n",
       "   'display_phone': '(718) 204-6736',\n",
       "   'distance': 654.4521994969878},\n",
       "  {'id': 'EHUNrnIgnhwTnpOm3gEESg',\n",
       "   'alias': 'tacuba-astoria',\n",
       "   'name': 'Tacuba',\n",
       "   'image_url': 'https://s3-media2.fl.yelpcdn.com/bphoto/ijC8aZ2qZN3ZupFELYvZ8Q/o.jpg',\n",
       "   'is_closed': False,\n",
       "   'url': 'https://www.yelp.com/biz/tacuba-astoria?adjust_creative=bVX1Jsfp4dkIOqw5HOVplg&utm_campaign=yelp_api_v3&utm_medium=api_v3_business_search&utm_source=bVX1Jsfp4dkIOqw5HOVplg',\n",
       "   'review_count': 657,\n",
       "   'categories': [{'alias': 'mexican', 'title': 'Mexican'},\n",
       "    {'alias': 'tapas', 'title': 'Tapas Bars'},\n",
       "    {'alias': 'latin', 'title': 'Latin American'}],\n",
       "   'rating': 4.0,\n",
       "   'coordinates': {'latitude': 40.75585, 'longitude': -73.92447},\n",
       "   'transactions': ['pickup', 'delivery'],\n",
       "   'price': '$$',\n",
       "   'location': {'address1': '35-01 36th St',\n",
       "    'address2': '',\n",
       "    'address3': '',\n",
       "    'city': 'Astoria',\n",
       "    'zip_code': '11106',\n",
       "    'country': 'US',\n",
       "    'state': 'NY',\n",
       "    'display_address': ['35-01 36th St', 'Astoria, NY 11106']},\n",
       "   'phone': '+17187862727',\n",
       "   'display_phone': '(718) 786-2727',\n",
       "   'distance': 1229.3517053099579},\n",
       "  {'id': 'jeWIYbgBho9vBDhc5S1xvg',\n",
       "   'alias': 'chanos-cantina-astoria',\n",
       "   'name': \"Chano's Cantina\",\n",
       "   'image_url': 'https://s3-media1.fl.yelpcdn.com/bphoto/B34FXjfQrAxMkWUpb3Pv5A/o.jpg',\n",
       "   'is_closed': False,\n",
       "   'url': 'https://www.yelp.com/biz/chanos-cantina-astoria?adjust_creative=bVX1Jsfp4dkIOqw5HOVplg&utm_campaign=yelp_api_v3&utm_medium=api_v3_business_search&utm_source=bVX1Jsfp4dkIOqw5HOVplg',\n",
       "   'review_count': 172,\n",
       "   'categories': [{'alias': 'mexican', 'title': 'Mexican'}],\n",
       "   'rating': 4.0,\n",
       "   'coordinates': {'latitude': 40.756621, 'longitude': -73.929336},\n",
       "   'transactions': ['pickup', 'delivery'],\n",
       "   'price': '$$',\n",
       "   'location': {'address1': '35-55 31st St',\n",
       "    'address2': '',\n",
       "    'address3': '',\n",
       "    'city': 'Astoria',\n",
       "    'zip_code': '11106',\n",
       "    'country': 'US',\n",
       "    'state': 'NY',\n",
       "    'display_address': ['35-55 31st St', 'Astoria, NY 11106']},\n",
       "   'phone': '+19178327261',\n",
       "   'display_phone': '(917) 832-7261',\n",
       "   'distance': 1290.4274875130448},\n",
       "  {'id': '6AJwsgXr7YwsqneGVAdgzw',\n",
       "   'alias': 'las-catrinas-mexican-bar-and-eatery-astoria',\n",
       "   'name': 'Las Catrinas Mexican Bar & Eatery',\n",
       "   'image_url': 'https://s3-media4.fl.yelpcdn.com/bphoto/xJzg6WXKJdc1EkJUvkr_qw/o.jpg',\n",
       "   'is_closed': False,\n",
       "   'url': 'https://www.yelp.com/biz/las-catrinas-mexican-bar-and-eatery-astoria?adjust_creative=bVX1Jsfp4dkIOqw5HOVplg&utm_campaign=yelp_api_v3&utm_medium=api_v3_business_search&utm_source=bVX1Jsfp4dkIOqw5HOVplg',\n",
       "   'review_count': 320,\n",
       "   'categories': [{'alias': 'cocktailbars', 'title': 'Cocktail Bars'},\n",
       "    {'alias': 'tacos', 'title': 'Tacos'}],\n",
       "   'rating': 4.0,\n",
       "   'coordinates': {'latitude': 40.7614214682633,\n",
       "    'longitude': -73.9246649456171},\n",
       "   'transactions': ['pickup', 'delivery'],\n",
       "   'price': '$$',\n",
       "   'location': {'address1': '32-02 Broadway',\n",
       "    'address2': '',\n",
       "    'address3': None,\n",
       "    'city': 'Astoria',\n",
       "    'zip_code': '11106',\n",
       "    'country': 'US',\n",
       "    'state': 'NY',\n",
       "    'display_address': ['32-02 Broadway', 'Astoria, NY 11106']},\n",
       "   'phone': '+19177450969',\n",
       "   'display_phone': '(917) 745-0969',\n",
       "   'distance': 642.5257707161409},\n",
       "  {'id': 'anBWvFPOce4nl3qLX-H6Rg',\n",
       "   'alias': 'el-mero-mero-long-island-city',\n",
       "   'name': 'El Mero Mero',\n",
       "   'image_url': 'https://s3-media2.fl.yelpcdn.com/bphoto/7tp30klraR5JTG73cKSt9A/o.jpg',\n",
       "   'is_closed': False,\n",
       "   'url': 'https://www.yelp.com/biz/el-mero-mero-long-island-city?adjust_creative=bVX1Jsfp4dkIOqw5HOVplg&utm_campaign=yelp_api_v3&utm_medium=api_v3_business_search&utm_source=bVX1Jsfp4dkIOqw5HOVplg',\n",
       "   'review_count': 91,\n",
       "   'categories': [{'alias': 'mexican', 'title': 'Mexican'}],\n",
       "   'rating': 4.5,\n",
       "   'coordinates': {'latitude': 40.753834323302, 'longitude': -73.923701159656},\n",
       "   'transactions': ['pickup', 'delivery'],\n",
       "   'price': '$$',\n",
       "   'location': {'address1': '35-57 38th St',\n",
       "    'address2': '',\n",
       "    'address3': None,\n",
       "    'city': 'Long Island City',\n",
       "    'zip_code': '11101',\n",
       "    'country': 'US',\n",
       "    'state': 'NY',\n",
       "    'display_address': ['35-57 38th St', 'Long Island City, NY 11101']},\n",
       "   'phone': '+17183922444',\n",
       "   'display_phone': '(718) 392-2444',\n",
       "   'distance': 1457.1140726924923},\n",
       "  {'id': 'yqU1-chsjix3T4EMY2MyxA',\n",
       "   'alias': 'athens-grill-and-sports-bar-astoria',\n",
       "   'name': 'Athens Grill & Sports Bar',\n",
       "   'image_url': 'https://s3-media4.fl.yelpcdn.com/bphoto/VWk0D3GU0kkFUd1d_yPNHg/o.jpg',\n",
       "   'is_closed': False,\n",
       "   'url': 'https://www.yelp.com/biz/athens-grill-and-sports-bar-astoria?adjust_creative=bVX1Jsfp4dkIOqw5HOVplg&utm_campaign=yelp_api_v3&utm_medium=api_v3_business_search&utm_source=bVX1Jsfp4dkIOqw5HOVplg',\n",
       "   'review_count': 196,\n",
       "   'categories': [{'alias': 'mexican', 'title': 'Mexican'},\n",
       "    {'alias': 'sportsbars', 'title': 'Sports Bars'}],\n",
       "   'rating': 4.0,\n",
       "   'coordinates': {'latitude': 40.76734, 'longitude': -73.92178},\n",
       "   'transactions': [],\n",
       "   'price': '$',\n",
       "   'location': {'address1': '3011 30th Ave',\n",
       "    'address2': '',\n",
       "    'address3': '',\n",
       "    'city': 'Astoria',\n",
       "    'zip_code': '11102',\n",
       "    'country': 'US',\n",
       "    'state': 'NY',\n",
       "    'display_address': ['3011 30th Ave', 'Astoria, NY 11102']},\n",
       "   'phone': '+17187775366',\n",
       "   'display_phone': '(718) 777-5366',\n",
       "   'distance': 56.655613880395165},\n",
       "  {'id': '7RgdHGMY9Xa2Ur5y7vSBZQ',\n",
       "   'alias': 'homemade-taqueria-long-island-city',\n",
       "   'name': 'Homemade Taqueria',\n",
       "   'image_url': 'https://s3-media2.fl.yelpcdn.com/bphoto/vRCMqoJ-Ng4KKCS4j_nung/o.jpg',\n",
       "   'is_closed': False,\n",
       "   'url': 'https://www.yelp.com/biz/homemade-taqueria-long-island-city?adjust_creative=bVX1Jsfp4dkIOqw5HOVplg&utm_campaign=yelp_api_v3&utm_medium=api_v3_business_search&utm_source=bVX1Jsfp4dkIOqw5HOVplg',\n",
       "   'review_count': 348,\n",
       "   'categories': [{'alias': 'tacos', 'title': 'Tacos'}],\n",
       "   'rating': 4.0,\n",
       "   'coordinates': {'latitude': 40.7546939084048,\n",
       "    'longitude': -73.9165629007979},\n",
       "   'transactions': ['pickup', 'delivery'],\n",
       "   'price': '$',\n",
       "   'location': {'address1': '45-09 34th Ave',\n",
       "    'address2': '',\n",
       "    'address3': '',\n",
       "    'city': 'Long Island City',\n",
       "    'zip_code': '11101',\n",
       "    'country': 'US',\n",
       "    'state': 'NY',\n",
       "    'display_address': ['45-09 34th Ave', 'Long Island City, NY 11101']},\n",
       "   'phone': '+17182551349',\n",
       "   'display_phone': '(718) 255-1349',\n",
       "   'distance': 1436.5909009267687}],\n",
       " 'total': 685,\n",
       " 'region': {'center': {'longitude': -73.92219543457031,\n",
       "   'latitude': 40.76688875374591}}}"
      ]
     },
     "execution_count": 58,
     "metadata": {},
     "output_type": "execute_result"
    }
   ],
   "source": [
    "term = 'Mexican'\n",
    "location = 'Astoria NY'\n",
    "SEARCH_LIMIT = 10\n",
    "\n",
    "url = 'https://api.yelp.com/v3/businesses/search'\n",
    "\n",
    "headers = {\n",
    "        'Authorization': 'Bearer {}'.format(api_key),\n",
    "    }\n",
    "\n",
    "url_params = {\n",
    "                'term': term.replace(' ', '+'),\n",
    "                'location': location.replace(' ', '+'),\n",
    "                'limit': SEARCH_LIMIT\n",
    "            }\n",
    "response = requests.get(url, headers=headers, params=url_params)\n",
    "print(response)\n",
    "print(response.json())\n",
    "response.json()"
   ]
  },
  {
   "cell_type": "markdown",
   "metadata": {},
   "source": [
    "## Breaking Down the Request\n",
    "\n",
    "As you can see, there are three main parts to our request.  \n",
    "  \n",
    "They are:\n",
    "* The url\n",
    "* The header\n",
    "* The parameters\n",
    "  \n",
    "The url is fairly straightforward and is simply the base url as described in the documentation (again more details in the upcoming lesson).\n",
    "\n",
    "The header is a dictionary of key-value pairs. In this case, we are using a fairly standard header used by many APIs. It has a strict form where 'Authorization' is the key and 'Bearer YourApiKey' is the value.\n",
    "\n",
    "The parameters are the filters which we wish to pass into the query. These will be embedded into the url when the request is made to the api. Similar to the header, they form key-value pairs. Valid key parameters by which to structure your queries, are described in the API documentation which we'll look at further shortly. A final important note however, is the need to replace spaces with \"+\". This is standard to many requests as URLs cannot contain spaces. (Note that the header itself isn't directly embedded into the url itself and as such, the space between 'Bearer' and YourApiKey is valid.)"
   ]
  },
  {
   "cell_type": "markdown",
   "metadata": {},
   "source": [
    "\n",
    "## The Response\n",
    "\n",
    "As before, our response object has both a status code, as well as the data itself. With that, let's start with a little data exploration!"
   ]
  },
  {
   "cell_type": "code",
   "execution_count": null,
   "metadata": {},
   "outputs": [],
   "source": [
    "response.json().keys()\n"
   ]
  },
  {
   "cell_type": "markdown",
   "metadata": {},
   "source": [
    "Now let's go a bit further and start to preview what's stored in each of the values for these keys.\n"
   ]
  },
  {
   "cell_type": "code",
   "execution_count": null,
   "metadata": {},
   "outputs": [],
   "source": [
    "for key in response.json().keys():\n",
    "    print(key)\n",
    "    value = response.json()[key] #Use standard dictionary formatting\n",
    "    print(type(value)) #What type is it?\n",
    "    print('\\n\\n') #Seperate out data"
   ]
  },
  {
   "cell_type": "markdown",
   "metadata": {},
   "source": [
    "Let's continue to preview these further to get a little better acquainted.\n"
   ]
  },
  {
   "cell_type": "code",
   "execution_count": null,
   "metadata": {
    "scrolled": true
   },
   "outputs": [],
   "source": [
    "yelp_data =response.json()\n",
    "yelp_data['businesses'][:2]\n",
    "\n"
   ]
  },
  {
   "cell_type": "markdown",
   "metadata": {},
   "source": [
    "As you can see, we're primarily interested in the 'bussinesses' entry. \n"
   ]
  },
  {
   "cell_type": "markdown",
   "metadata": {},
   "source": [
    "## Summary <a id=\"sum\"></a>\n",
    "\n",
    "Congratulations! We've covered a lot here! We took some of your previous knowledge with HTTP requests and OAuth in order to leverage an enterprise API! Then we made some requests to retrieve information that came back as a json format. We then transformed this data into a dataframe using the Pandas package. In the next lab, we'll break down how to read API documentation and then put it all together to make a nifty map!"
   ]
  }
 ],
 "metadata": {
  "kernelspec": {
   "display_name": "Python 3",
   "language": "python",
   "name": "python3"
  },
  "language_info": {
   "codemirror_mode": {
    "name": "ipython",
    "version": 3
   },
   "file_extension": ".py",
   "mimetype": "text/x-python",
   "name": "python",
   "nbconvert_exporter": "python",
   "pygments_lexer": "ipython3",
   "version": "3.7.6"
  },
  "toc": {
   "base_numbering": 1,
   "nav_menu": {},
   "number_sections": true,
   "sideBar": true,
   "skip_h1_title": false,
   "title_cell": "Table of Contents",
   "title_sidebar": "Contents",
   "toc_cell": false,
   "toc_position": {},
   "toc_section_display": true,
   "toc_window_display": false
  }
 },
 "nbformat": 4,
 "nbformat_minor": 2
}
