{
 "cells": [
  {
   "cell_type": "code",
   "execution_count": 3,
   "metadata": {},
   "outputs": [
    {
     "name": "stdout",
     "output_type": "stream",
     "text": [
      "./data/MedianHouseholdIncome2015.csv: text/plain; charset=iso-8859-1\r\n"
     ]
    }
   ],
   "source": [
    "!file -I ./data/MedianHouseholdIncome2015.csv"
   ]
  },
  {
   "cell_type": "code",
   "execution_count": 2,
   "metadata": {},
   "outputs": [
    {
     "data": {
      "text/plain": [
       "'/Users/michael/Documents/flatiron/dc-ds-060120/mod-1/week-2/day-1'"
      ]
     },
     "execution_count": 2,
     "metadata": {},
     "output_type": "execute_result"
    }
   ],
   "source": [
    "pwd"
   ]
  },
  {
   "cell_type": "code",
   "execution_count": 4,
   "metadata": {},
   "outputs": [],
   "source": [
    "import numpy as np"
   ]
  },
  {
   "cell_type": "code",
   "execution_count": 5,
   "metadata": {},
   "outputs": [],
   "source": [
    "import pandas as pd"
   ]
  },
  {
   "cell_type": "code",
   "execution_count": 7,
   "metadata": {},
   "outputs": [
    {
     "name": "stdout",
     "output_type": "stream",
     "text": [
      "MedianHouseholdIncome2015.csv         PoliceKillingsUS.csv\r\n",
      "PercentOver25CompletedHighSchool.csv  ShareRaceByCity.csv\r\n",
      "PercentagePeopleBelowPovertyLevel.csv\r\n"
     ]
    }
   ],
   "source": [
    "!ls data"
   ]
  },
  {
   "cell_type": "code",
   "execution_count": 13,
   "metadata": {},
   "outputs": [],
   "source": [
    "mediandf = pd.read_csv('data/MedianHouseholdIncome2015.csv',encoding='iso-8859-1')"
   ]
  },
  {
   "cell_type": "code",
   "execution_count": 16,
   "metadata": {},
   "outputs": [
    {
     "data": {
      "text/html": [
       "<div>\n",
       "<style scoped>\n",
       "    .dataframe tbody tr th:only-of-type {\n",
       "        vertical-align: middle;\n",
       "    }\n",
       "\n",
       "    .dataframe tbody tr th {\n",
       "        vertical-align: top;\n",
       "    }\n",
       "\n",
       "    .dataframe thead th {\n",
       "        text-align: right;\n",
       "    }\n",
       "</style>\n",
       "<table border=\"1\" class=\"dataframe\">\n",
       "  <thead>\n",
       "    <tr style=\"text-align: right;\">\n",
       "      <th></th>\n",
       "      <th>Geographic Area</th>\n",
       "      <th>City</th>\n",
       "      <th>Median Income</th>\n",
       "    </tr>\n",
       "  </thead>\n",
       "  <tbody>\n",
       "    <tr>\n",
       "      <th>0</th>\n",
       "      <td>AL</td>\n",
       "      <td>Abanda CDP</td>\n",
       "      <td>11207</td>\n",
       "    </tr>\n",
       "    <tr>\n",
       "      <th>1</th>\n",
       "      <td>AL</td>\n",
       "      <td>Abbeville city</td>\n",
       "      <td>25615</td>\n",
       "    </tr>\n",
       "    <tr>\n",
       "      <th>2</th>\n",
       "      <td>AL</td>\n",
       "      <td>Adamsville city</td>\n",
       "      <td>42575</td>\n",
       "    </tr>\n",
       "    <tr>\n",
       "      <th>3</th>\n",
       "      <td>AL</td>\n",
       "      <td>Addison town</td>\n",
       "      <td>37083</td>\n",
       "    </tr>\n",
       "    <tr>\n",
       "      <th>4</th>\n",
       "      <td>AL</td>\n",
       "      <td>Akron town</td>\n",
       "      <td>21667</td>\n",
       "    </tr>\n",
       "    <tr>\n",
       "      <th>5</th>\n",
       "      <td>AL</td>\n",
       "      <td>Alabaster city</td>\n",
       "      <td>71816</td>\n",
       "    </tr>\n",
       "    <tr>\n",
       "      <th>6</th>\n",
       "      <td>AL</td>\n",
       "      <td>Albertville city</td>\n",
       "      <td>32911</td>\n",
       "    </tr>\n",
       "    <tr>\n",
       "      <th>7</th>\n",
       "      <td>AL</td>\n",
       "      <td>Alexander City city</td>\n",
       "      <td>29874</td>\n",
       "    </tr>\n",
       "    <tr>\n",
       "      <th>8</th>\n",
       "      <td>AL</td>\n",
       "      <td>Alexandria CDP</td>\n",
       "      <td>56058</td>\n",
       "    </tr>\n",
       "    <tr>\n",
       "      <th>9</th>\n",
       "      <td>AL</td>\n",
       "      <td>Aliceville city</td>\n",
       "      <td>21131</td>\n",
       "    </tr>\n",
       "    <tr>\n",
       "      <th>10</th>\n",
       "      <td>AL</td>\n",
       "      <td>Allgood town</td>\n",
       "      <td>42009</td>\n",
       "    </tr>\n",
       "    <tr>\n",
       "      <th>11</th>\n",
       "      <td>AL</td>\n",
       "      <td>Altoona town</td>\n",
       "      <td>27566</td>\n",
       "    </tr>\n",
       "    <tr>\n",
       "      <th>12</th>\n",
       "      <td>AL</td>\n",
       "      <td>Andalusia city</td>\n",
       "      <td>31968</td>\n",
       "    </tr>\n",
       "    <tr>\n",
       "      <th>13</th>\n",
       "      <td>AL</td>\n",
       "      <td>Anderson town</td>\n",
       "      <td>34792</td>\n",
       "    </tr>\n",
       "    <tr>\n",
       "      <th>14</th>\n",
       "      <td>AL</td>\n",
       "      <td>Anniston city</td>\n",
       "      <td>29681</td>\n",
       "    </tr>\n",
       "    <tr>\n",
       "      <th>15</th>\n",
       "      <td>AL</td>\n",
       "      <td>Arab city</td>\n",
       "      <td>40292</td>\n",
       "    </tr>\n",
       "    <tr>\n",
       "      <th>16</th>\n",
       "      <td>AL</td>\n",
       "      <td>Ardmore town</td>\n",
       "      <td>35670</td>\n",
       "    </tr>\n",
       "    <tr>\n",
       "      <th>17</th>\n",
       "      <td>AL</td>\n",
       "      <td>Argo town</td>\n",
       "      <td>57212</td>\n",
       "    </tr>\n",
       "    <tr>\n",
       "      <th>18</th>\n",
       "      <td>AL</td>\n",
       "      <td>Ariton town</td>\n",
       "      <td>24286</td>\n",
       "    </tr>\n",
       "    <tr>\n",
       "      <th>19</th>\n",
       "      <td>AL</td>\n",
       "      <td>Arley town</td>\n",
       "      <td>28750</td>\n",
       "    </tr>\n",
       "    <tr>\n",
       "      <th>20</th>\n",
       "      <td>AL</td>\n",
       "      <td>Ashford town</td>\n",
       "      <td>42704</td>\n",
       "    </tr>\n",
       "    <tr>\n",
       "      <th>21</th>\n",
       "      <td>AL</td>\n",
       "      <td>Ashland town</td>\n",
       "      <td>31438</td>\n",
       "    </tr>\n",
       "    <tr>\n",
       "      <th>22</th>\n",
       "      <td>AL</td>\n",
       "      <td>Ashville city</td>\n",
       "      <td>40547</td>\n",
       "    </tr>\n",
       "    <tr>\n",
       "      <th>23</th>\n",
       "      <td>AL</td>\n",
       "      <td>Athens city</td>\n",
       "      <td>47542</td>\n",
       "    </tr>\n",
       "    <tr>\n",
       "      <th>24</th>\n",
       "      <td>AL</td>\n",
       "      <td>Atmore city</td>\n",
       "      <td>26775</td>\n",
       "    </tr>\n",
       "    <tr>\n",
       "      <th>25</th>\n",
       "      <td>AL</td>\n",
       "      <td>Attalla city</td>\n",
       "      <td>37191</td>\n",
       "    </tr>\n",
       "    <tr>\n",
       "      <th>26</th>\n",
       "      <td>AL</td>\n",
       "      <td>Auburn city</td>\n",
       "      <td>38342</td>\n",
       "    </tr>\n",
       "    <tr>\n",
       "      <th>27</th>\n",
       "      <td>AL</td>\n",
       "      <td>Autaugaville town</td>\n",
       "      <td>24833</td>\n",
       "    </tr>\n",
       "    <tr>\n",
       "      <th>28</th>\n",
       "      <td>AL</td>\n",
       "      <td>Avon town</td>\n",
       "      <td>40417</td>\n",
       "    </tr>\n",
       "    <tr>\n",
       "      <th>29</th>\n",
       "      <td>AL</td>\n",
       "      <td>Axis CDP</td>\n",
       "      <td>55750</td>\n",
       "    </tr>\n",
       "  </tbody>\n",
       "</table>\n",
       "</div>"
      ],
      "text/plain": [
       "   Geographic Area                 City Median Income\n",
       "0               AL           Abanda CDP         11207\n",
       "1               AL       Abbeville city         25615\n",
       "2               AL      Adamsville city         42575\n",
       "3               AL         Addison town         37083\n",
       "4               AL           Akron town         21667\n",
       "5               AL       Alabaster city         71816\n",
       "6               AL     Albertville city         32911\n",
       "7               AL  Alexander City city         29874\n",
       "8               AL       Alexandria CDP         56058\n",
       "9               AL      Aliceville city         21131\n",
       "10              AL         Allgood town         42009\n",
       "11              AL         Altoona town         27566\n",
       "12              AL       Andalusia city         31968\n",
       "13              AL        Anderson town         34792\n",
       "14              AL        Anniston city         29681\n",
       "15              AL            Arab city         40292\n",
       "16              AL         Ardmore town         35670\n",
       "17              AL            Argo town         57212\n",
       "18              AL          Ariton town         24286\n",
       "19              AL           Arley town         28750\n",
       "20              AL         Ashford town         42704\n",
       "21              AL         Ashland town         31438\n",
       "22              AL        Ashville city         40547\n",
       "23              AL          Athens city         47542\n",
       "24              AL          Atmore city         26775\n",
       "25              AL         Attalla city         37191\n",
       "26              AL          Auburn city         38342\n",
       "27              AL    Autaugaville town         24833\n",
       "28              AL            Avon town         40417\n",
       "29              AL             Axis CDP         55750"
      ]
     },
     "execution_count": 16,
     "metadata": {},
     "output_type": "execute_result"
    }
   ],
   "source": [
    "mediandf.head(30)"
   ]
  },
  {
   "cell_type": "code",
   "execution_count": 17,
   "metadata": {},
   "outputs": [
    {
     "name": "stdout",
     "output_type": "stream",
     "text": [
      "<class 'pandas.core.frame.DataFrame'>\n",
      "RangeIndex: 29322 entries, 0 to 29321\n",
      "Data columns (total 3 columns):\n",
      " #   Column           Non-Null Count  Dtype \n",
      "---  ------           --------------  ----- \n",
      " 0   Geographic Area  29322 non-null  object\n",
      " 1   City             29322 non-null  object\n",
      " 2   Median Income    29271 non-null  object\n",
      "dtypes: object(3)\n",
      "memory usage: 687.4+ KB\n"
     ]
    }
   ],
   "source": [
    "mediandf.info()"
   ]
  },
  {
   "cell_type": "code",
   "execution_count": null,
   "metadata": {},
   "outputs": [],
   "source": []
  }
 ],
 "metadata": {
  "kernelspec": {
   "display_name": "Python 3",
   "language": "python",
   "name": "python3"
  },
  "language_info": {
   "codemirror_mode": {
    "name": "ipython",
    "version": 3
   },
   "file_extension": ".py",
   "mimetype": "text/x-python",
   "name": "python",
   "nbconvert_exporter": "python",
   "pygments_lexer": "ipython3",
   "version": "3.7.6"
  }
 },
 "nbformat": 4,
 "nbformat_minor": 4
}
